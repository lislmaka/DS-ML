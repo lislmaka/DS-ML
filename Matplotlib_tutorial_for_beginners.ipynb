{
  "cells": [
    {
      "cell_type": "markdown",
      "metadata": {
        "id": "view-in-github",
        "colab_type": "text"
      },
      "source": [
        "<a href=\"https://colab.research.google.com/github/lislmaka/DS-ML/blob/main/Matplotlib_tutorial_for_beginners.ipynb\" target=\"_parent\"><img src=\"https://colab.research.google.com/assets/colab-badge.svg\" alt=\"Open In Colab\"/></a>"
      ]
    },
    {
      "metadata": {
        "id": "8sRdxT_jOw2O"
      },
      "cell_type": "markdown",
      "source": [
        "<a class=\"anchor\" id=\"0\"></a>\n",
        "\n",
        "# Matplotlib tutorial for beginners\n",
        "\n",
        "\n",
        "This project is all about Matplotlib, the basic data visualization tool of Python programming language. I have discussed Matplotlib object hierarchy, various plot types with Matplotlib and customization techniques associated with Matplotlib.\n",
        "\n",
        "\n",
        "This project is divided into various sections based on contents which are listed below:-\n"
      ]
    },
    {
      "metadata": {
        "id": "3mqTJJMwOw2R"
      },
      "cell_type": "markdown",
      "source": [
        "**I hope you find this kernel useful and your <font color=\"red\"><b>UPVOTES</b></font> would be highly appreciated**"
      ]
    },
    {
      "metadata": {
        "id": "fNGgjLYuOw2R"
      },
      "cell_type": "markdown",
      "source": [
        "## Table of Contents\n",
        "\n",
        "\n",
        "1.\tIntroduction\n",
        "\n",
        "2.\tOverview of Python Data Visualization Tools\n",
        "\n",
        "3.\tIntroduction to Matplotlib\n",
        "\n",
        "4.\tImport Matplotlib\n",
        "\n",
        "5.\tDisplaying Plots in Matplotlib\n",
        "\n",
        "6.\tMatplotlib Object Hierarchy\n",
        "\n",
        "7.\tMatplotlib interfaces\n",
        "\n",
        "8.\tPyplot API\n",
        "\n",
        "9.\tObject-Oriented API\n",
        "\n",
        "10.\tFigure and Subplots\n",
        "\n",
        "11.\tFirst plot with Matplotlib\n",
        "\n",
        "12.\tMultiline Plots\n",
        "\n",
        "13.\tParts of a Plot\n",
        "\n",
        "14.\tSaving the Plot\n",
        "\n",
        "15.\tLine Plot\n",
        "\n",
        "16.\tScatter Plot\n",
        "\n",
        "17.\tHistogram\n",
        "\n",
        "18.\tBar Chart\n",
        "\n",
        "19.\tHorizontal Bar Chart\n",
        "\n",
        "20.\tError Bar Chart\n",
        "\n",
        "21.\tStacked Bar Chart\n",
        "\n",
        "22.\tPie Chart\n",
        "\n",
        "23.\tBox Plot\n",
        "\n",
        "24.\tArea Chart\n",
        "\n",
        "25.\tContour Plot\n",
        "\n",
        "26.\tStyles with Matplotlib Plots\n",
        "\n",
        "27.\tAdding a grid\n",
        "\n",
        "28.\tHandling axes\n",
        "\n",
        "29.\tHandling X and Y ticks\n",
        "\n",
        "30.\tAdding labels\n",
        "\n",
        "31.\tAdding a title\n",
        "\n",
        "32.\tAdding a legend\n",
        "\n",
        "33.\tControl colours\n",
        "\n",
        "34.\tControl line styles\n",
        "\n",
        "35.\tSummary\n"
      ]
    },
    {
      "metadata": {
        "id": "YmaZfdc0Ow2S"
      },
      "cell_type": "markdown",
      "source": [
        "## 1. Introduction\n",
        "\n",
        "\n",
        "When we want to convey some information to others, there are several ways to do so. The process of conveying the information with the help of plots and graphics is called **Data Visualization**. The plots and graphics take numerical data as input and display output in the form of charts, figures and tables. It helps to analyze and visualize the data clearly and make concrete decisions. It makes complex data more accessible and understandable. The goal of data visualization is to communicate information in a clear and efficient manner.\n",
        "\n",
        "\n",
        "In this project, I shed some light on **Matplotlib**, which is the basic data visualization tool of Python programming language. Python has different data visualization tools available which are suitable for different purposes. First of all, I will list these data visualization tools and then I will discuss Matplotlib.\n"
      ]
    },
    {
      "metadata": {
        "id": "cIkiTNmwOw2S"
      },
      "cell_type": "markdown",
      "source": [
        "## 2. Overview of Python Visualization Tools\n",
        "\n",
        "\n",
        "\n",
        "Python is the preferred language of choice for data scientists. Python have multiple options for data visualization. It has several tools which can help us to visualize the data more effectively. These Python data visualization tools are as follows:-\n",
        "\n",
        "\n",
        "\n",
        "•\tMatplotlib\n",
        "\n",
        "•\tSeaborn\n",
        "\n",
        "•\tpandas\n",
        "\n",
        "•\tBokeh\n",
        "\n",
        "•\tPlotly\n",
        "\n",
        "•\tggplot\n",
        "\n",
        "•\tpygal\n",
        "\n",
        "\n",
        "\n",
        "In the following sections, I discuss Matplotlib as the data visualization tool.\n"
      ]
    },
    {
      "metadata": {
        "id": "ZThuQOAYOw2S"
      },
      "cell_type": "markdown",
      "source": [
        "## 3. Introduction to Matplotlib\n",
        "\n",
        "\n",
        "**Matplotlib** is the basic plotting library of Python programming language. It is the most prominent tool among Python visualization packages. Matplotlib is highly efficient in performing wide range of tasks. It can produce publication quality figures in a variety of formats.  It can export visualizations to all of the common formats like PDF, SVG, JPG, PNG, BMP and GIF. It can create popular visualization types – line plot, scatter plot, histogram, bar chart, error charts, pie chart, box plot, and many more types of plot. Matplotlib also supports 3D plotting. Many Python libraries are built on top of Matplotlib. For example, pandas and Seaborn are built on Matplotlib. They allow to access Matplotlib’s methods with less code.\n",
        "\n",
        "\n",
        "The project **Matplotlib** was started by John Hunter in 2002. Matplotlib was originally started to visualize Electrocorticography (ECoG) data of epilepsy patients during post-doctoral research in Neurobiology. The open-source tool Matplotlib emerged as the most widely used plotting library for the Python programming language. It was used for data visualization during landing of the Phoenix spacecraft in 2008.\n"
      ]
    },
    {
      "metadata": {
        "id": "ofI9aac2Ow2T"
      },
      "cell_type": "markdown",
      "source": [
        "\n",
        "## 4. Import Matplotlib\n",
        "\n",
        "Before, we need to actually start using Matplotlib, we need to import it. We can import Matplotlib as follows:-\n",
        "\n",
        "`import matplotlib`\n",
        "\n",
        "\n",
        "Most of the time, we have to work with **pyplot** interface of Matplotlib. So, I will import **pyplot** interface of Matplotlib as follows:-\n",
        "\n",
        "\n",
        "`import matplotlib.pyplot`\n",
        "\n",
        "\n",
        "To make things even simpler, we will use standard shorthand for Matplotlib imports as follows:-\n",
        "\n",
        "\n",
        "`import matplotlib.pyplot as plt`\n",
        "\n"
      ]
    },
    {
      "metadata": {
        "trusted": true,
        "id": "SnTi8gRfOw2T"
      },
      "cell_type": "code",
      "source": [
        "# Import dependencies\n",
        "\n",
        "import numpy as np\n",
        "import pandas as pd"
      ],
      "execution_count": null,
      "outputs": []
    },
    {
      "metadata": {
        "trusted": true,
        "id": "OsxxXNdZOw2U"
      },
      "cell_type": "code",
      "source": [
        "# Import Matplotlib\n",
        "\n",
        "import matplotlib.pyplot as plt"
      ],
      "execution_count": null,
      "outputs": []
    },
    {
      "metadata": {
        "id": "AMqfarg8Ow2V"
      },
      "cell_type": "markdown",
      "source": [
        "## 5. Displaying Plots in Matplotlib\n",
        "\n",
        "\n",
        "Viewing the Matplotlib plot is context based. The best usage of Matplotlib differs depending on how we are using it.\n",
        "There are three applicable contexts for viewing the plots. The three applicable contexts are using plotting from a script, plotting from an IPython shell or plotting from a Jupyter notebook.\n"
      ]
    },
    {
      "metadata": {
        "id": "4DTrQLWFOw2V"
      },
      "cell_type": "markdown",
      "source": [
        "### Plotting from a script\n",
        "\n",
        "\n",
        "\n",
        "If we are using Matplotlib from within a script, then the **plt.show()** command is of great use. It starts an event loop,\n",
        "looks for all currently active figure objects, and opens one or more interactive windows that display the figure or figures.\n",
        "\n",
        "\n",
        "The **plt.show()** command should be used only once per Python session. It should be used only at the end of the script. Multiple **plt.show()** commands can lead to unpredictable results and should mostly be avoided.\n"
      ]
    },
    {
      "metadata": {
        "id": "-sByqFxwOw2V"
      },
      "cell_type": "markdown",
      "source": [
        "### Plotting from an IPython shell\n",
        "\n",
        "\n",
        "We can use Matplotlib interactively within an IPython shell. IPython works well with Matplotlib if we specify Matplotlib mode. To enable this mode, we can use the **%matplotlib** magic command after starting ipython. Any plt plot command will cause a figure window to open and further commands can be run to update the plot.\n",
        "\n"
      ]
    },
    {
      "metadata": {
        "id": "AoLukwgXOw2W"
      },
      "cell_type": "markdown",
      "source": [
        "### Plotting from a Jupyter notebook\n",
        "\n",
        "\n",
        "The Jupyter Notebook (formerly known as the IPython Notebook) is a data analysis and visualization tool that provides multiple tools under one roof.  It provides code execution, graphical plots, rich text and media display, mathematics formula and much more facilities into a single executable document.\n",
        "\n",
        "\n",
        "Interactive plotting within a Jupyter Notebook can be done with the **%matplotlib** command. There are two possible options to work with graphics in Jupyter Notebook. These are as follows:-\n",
        "\n",
        "\n",
        "•\t**%matplotlib notebook** – This command will produce interactive plots embedded within the notebook.\n",
        "\n",
        "•\t**%matplotlib inline** – It will output static images of the plot embedded in the notebook.\n",
        "\n",
        "\n",
        "After this command (it needs to be done only once per kernel per session), any cell within the notebook that creates a plot will embed a PNG image of the graphic.\n"
      ]
    },
    {
      "metadata": {
        "trusted": true,
        "id": "Cp6X3Z3xOw2W"
      },
      "cell_type": "code",
      "source": [
        "%matplotlib inline\n",
        "\n",
        "\n",
        "x1 = np.linspace(0, 10, 100)\n",
        "\n",
        "\n",
        "# create a plot figure\n",
        "fig = plt.figure()\n",
        "\n",
        "plt.plot(x1, np.sin(x1), '-')\n",
        "plt.plot(x1, np.cos(x1), '--');"
      ],
      "execution_count": null,
      "outputs": []
    },
    {
      "metadata": {
        "id": "PCmm56sIOw2W"
      },
      "cell_type": "markdown",
      "source": [
        "## 6. Matplotlib Object Hierarchy\n",
        "\n",
        "\n",
        "There is an Object Hierarchy within Matplotlib. In Matplotlib, a plot is a hierarchy of nested Python objects.\n",
        "A**hierarch** means that there is a tree-like structure of Matplotlib objects underlying each plot.\n",
        "\n",
        "\n",
        "A **Figure** object is the outermost container for a Matplotlib plot. The **Figure** object contain multiple **Axes** objects. So, the **Figure** is the final graphic that may contain one or more **Axes**. The **Axes** represent an individual plot.\n",
        "\n",
        "\n",
        "So, we can think of the **Figure** object as a box-like container containing one or more **Axes**. The **Axes** object contain smaller objects such as tick marks, lines, legends, title and text-boxes.\n"
      ]
    },
    {
      "metadata": {
        "id": "6io_iWAVOw2W"
      },
      "cell_type": "markdown",
      "source": [
        "## 7.\tMatplotlib API Overview\n",
        "\n",
        "\n",
        "\n",
        "Matplotlib has two APIs to work with. A MATLAB-style state-based interface and a more powerful object-oriented (OO) interface.\n",
        "The former MATLAB-style state-based interface is called **pyplot interface** and the latter is called **Object-Oriented** interface.\n",
        "\n",
        "\n",
        "There is a third interface also called **pylab** interface. It merges pyplot (for plotting) and NumPy (for mathematical functions) together in an environment closer to MATLAB. This is considered bad practice nowadays. So, the use of **pylab** is strongly discouraged and hence, I will not discuss it any further.\n"
      ]
    },
    {
      "metadata": {
        "id": "o9aBNbOiOw2W"
      },
      "cell_type": "markdown",
      "source": [
        "## 8. Pyplot API\n",
        "\n",
        "\n",
        "**Matplotlib.pyplot** provides a MATLAB-style, procedural, state-machine interface to the underlying object-oriented library in Matplotlib. **Pyplot** is a collection of command style functions that make Matplotlib work like MATLAB. Each pyplot function makes some change to a figure - e.g., creates a figure, creates a plotting area in a figure etc.\n",
        "\n",
        "\n",
        "**Matplotlib.pyplot** is stateful because the underlying engine keeps track of the current figure and plotting area information and plotting functions change that information. To make it clearer, we did not use any object references during our plotting we just issued a pyplot command, and the changes appeared in the figure.\n",
        "\n",
        "\n",
        "We can get a reference to the current figure and axes using the following commands-\n",
        "\n",
        "\n",
        "`plt.gcf ( )`   # get current figure\n",
        "\n",
        "`plt.gca ( )`   # get current axes\n",
        "\n",
        "\n",
        "**Matplotlib.pyplot** is a collection of commands and functions that make Matplotlib behave like MATLAB (for plotting).\n",
        "The MATLAB-style tools are contained in the pyplot (plt) interface.\n",
        "\n",
        "This is really helpful for interactive plotting, because we can issue a command and see the result immediately. But, it is not suitable for more complicated cases. For these cases, we have another interface called **Object-Oriented** interface, described later.\n"
      ]
    },
    {
      "metadata": {
        "id": "xiQlmAYNOw2W"
      },
      "cell_type": "markdown",
      "source": [
        "The following code produces sine and cosine curves using Pyplot API."
      ]
    },
    {
      "metadata": {
        "trusted": true,
        "id": "RBEoBhWsOw2W"
      },
      "cell_type": "code",
      "source": [
        "# create a plot figure\n",
        "plt.figure()\n",
        "\n",
        "\n",
        "# create the first of two panels and set current axis\n",
        "plt.subplot(2, 1, 1)   # (rows, columns, panel number)\n",
        "plt.plot(x1, np.sin(x1))\n",
        "\n",
        "\n",
        "# create the second of two panels and set current axis\n",
        "plt.subplot(2, 1, 2)   # (rows, columns, panel number)\n",
        "plt.plot(x1, np.cos(x1));\n"
      ],
      "execution_count": null,
      "outputs": []
    },
    {
      "metadata": {
        "trusted": true,
        "id": "lEb--VP5Ow2X"
      },
      "cell_type": "code",
      "source": [
        "# get current figure information\n",
        "\n",
        "print(plt.gcf())"
      ],
      "execution_count": null,
      "outputs": []
    },
    {
      "metadata": {
        "trusted": true,
        "id": "LNLR7CQEOw2X"
      },
      "cell_type": "code",
      "source": [
        "# get current axis information\n",
        "\n",
        "print(plt.gca())"
      ],
      "execution_count": null,
      "outputs": []
    },
    {
      "metadata": {
        "id": "Ppk91MrtOw2X"
      },
      "cell_type": "markdown",
      "source": [
        "### Visualization with Pyplot\n",
        "\n",
        "\n",
        "Generating visualization with Pyplot is very easy. The x-axis values ranges from 0-3 and the y-axis from 1-4. If we provide a single list or array to the plot() command, matplotlib assumes it is a sequence of y values, and automatically generates the x values. Since python ranges start with 0, the default x vector has the same length as y but starts with 0. Hence the x data are [0,1,2,3] and y data are [1,2,3,4]."
      ]
    },
    {
      "metadata": {
        "trusted": true,
        "id": "2-FnLdnVOw2X"
      },
      "cell_type": "code",
      "source": [
        "plt.plot([1, 2, 3, 4])\n",
        "plt.ylabel('Numbers')\n",
        "plt.show()"
      ],
      "execution_count": null,
      "outputs": []
    },
    {
      "metadata": {
        "id": "pXCWYAuIOw2X"
      },
      "cell_type": "markdown",
      "source": [
        "### plot() - A versatile command\n",
        "\n",
        "\n",
        "**plot()** is a versatile command. It will take an arbitrary number of arguments. For example, to plot x versus y,\n",
        "we can issue the following command:-"
      ]
    },
    {
      "metadata": {
        "trusted": true,
        "id": "BCWUfYNpOw2X"
      },
      "cell_type": "code",
      "source": [
        "plt.plot([1, 2, 3, 4], [1, 4, 9, 16])\n",
        "plt.show()"
      ],
      "execution_count": null,
      "outputs": []
    },
    {
      "metadata": {
        "id": "gAT-aWboOw2X"
      },
      "cell_type": "markdown",
      "source": [
        "### State-machine interface\n",
        "\n",
        "Pyplot provides the state-machine interface to the underlying object-oriented plotting library. The state-machine implicitly and automatically creates figures and axes to achieve the desired plot. For example:"
      ]
    },
    {
      "metadata": {
        "trusted": true,
        "id": "j9MWVtwDOw2Y"
      },
      "cell_type": "code",
      "source": [
        "x = np.linspace(0, 2, 100)\n",
        "\n",
        "plt.plot(x, x, label='linear')\n",
        "plt.plot(x, x**2, label='quadratic')\n",
        "plt.plot(x, x**3, label='cubic')\n",
        "\n",
        "plt.xlabel('x label')\n",
        "plt.ylabel('y label')\n",
        "\n",
        "plt.title(\"Simple Plot\")\n",
        "\n",
        "plt.legend()\n",
        "\n",
        "plt.show()"
      ],
      "execution_count": null,
      "outputs": []
    },
    {
      "metadata": {
        "id": "Abz03qG2Ow2Y"
      },
      "cell_type": "markdown",
      "source": [
        "### Formatting the style of plot\n",
        "\n",
        "\n",
        "For every x, y pair of arguments, there is an optional third argument which is the format string that indicates the color and line type of the plot. The letters and symbols of the format string are from MATLAB. We can concatenate a color string with a line style string. The default format string is 'b-', which is a solid blue line. For example, to plot the above line with red circles, we would issue the following command:-"
      ]
    },
    {
      "metadata": {
        "trusted": true,
        "id": "XW0YobM6Ow2Y"
      },
      "cell_type": "code",
      "source": [
        "plt.plot([1, 2, 3, 4], [1, 4, 9, 16], 'ro')\n",
        "plt.axis([0, 6, 0, 20])\n",
        "plt.show()"
      ],
      "execution_count": null,
      "outputs": []
    },
    {
      "metadata": {
        "id": "ZwKi_6QOOw2Y"
      },
      "cell_type": "markdown",
      "source": [
        "The **axis()** command in the example above takes a list of [xmin, xmax, ymin, ymax] and specifies the viewport of the axes."
      ]
    },
    {
      "metadata": {
        "id": "fGNRTWfFOw2Y"
      },
      "cell_type": "markdown",
      "source": [
        "### Working with NumPy arrays\n",
        "\n",
        "\n",
        "Generally, we have to work with NumPy arrays. All sequences are converted to numpy arrays internally. The below example illustrates plotting several lines with different format styles in one command using arrays."
      ]
    },
    {
      "metadata": {
        "trusted": true,
        "id": "tXRxXs9zOw2Y"
      },
      "cell_type": "code",
      "source": [
        "# evenly sampled time at 200ms intervals\n",
        "t = np.arange(0., 5., 0.2)\n",
        "\n",
        "# red dashes, blue squares and green triangles\n",
        "plt.plot(t, t, 'r--', t, t**2, 'bs', t, t**3, 'g^')\n",
        "plt.show()"
      ],
      "execution_count": null,
      "outputs": []
    },
    {
      "metadata": {
        "id": "ZOhEEQL4Ow2Z"
      },
      "cell_type": "markdown",
      "source": [
        "## 9.\tObject-Oriented API\n",
        "\n",
        "\n",
        "The **Object-Oriented API** is available for more complex plotting situations. It allows us to exercise more control over the figure. In Pyplot API, we depend on some notion of an \"active\" figure or axes. But, in the **Object-Oriented API** the plotting functions are methods of explicit Figure and Axes objects.\n",
        "\n",
        "\n",
        "**Figure** is the top level container for all the plot elements. We can think of the **Figure** object as a box-like container containing one or more **Axes**.\n",
        "\n",
        "\n",
        "The **Axes** represent an individual plot. The **Axes** object contain smaller objects such as axis, tick marks, lines, legends, title and text-boxes.\n"
      ]
    },
    {
      "metadata": {
        "id": "0E2nBbRUOw2Z"
      },
      "cell_type": "markdown",
      "source": [
        "The following code produces sine and cosine curves using Object-Oriented API."
      ]
    },
    {
      "metadata": {
        "trusted": true,
        "id": "Wpn5eNYpOw2Z"
      },
      "cell_type": "code",
      "source": [
        "# First create a grid of plots\n",
        "# ax will be an array of two Axes objects\n",
        "fig, ax = plt.subplots(2)\n",
        "\n",
        "\n",
        "# Call plot() method on the appropriate object\n",
        "ax[0].plot(x1, np.sin(x1), 'b-')\n",
        "ax[1].plot(x1, np.cos(x1), 'b-');\n"
      ],
      "execution_count": null,
      "outputs": []
    },
    {
      "metadata": {
        "id": "Tp-_SNTvOw2Z"
      },
      "cell_type": "markdown",
      "source": [
        "### Objects and Reference\n",
        "\n",
        "\n",
        "The main idea with the **Object Oriented API** is to have objects that one can apply functions and actions on. The real advantage of this approach becomes apparent when more than one figure is created or when a figure contains more than one\n",
        "subplot.\n",
        "\n",
        "\n",
        "We create a reference to the figure instance in the **fig** variable. Then, we ceate a new axis instance **axes** using the\n",
        "**add_axes** method in the Figure class instance fig as follows:-\n",
        "\n"
      ]
    },
    {
      "metadata": {
        "trusted": true,
        "id": "nBP7irtsOw2Z"
      },
      "cell_type": "code",
      "source": [
        "fig = plt.figure()\n",
        "\n",
        "x2 = np.linspace(0, 5, 10)\n",
        "y2 = x2 ** 2\n",
        "\n",
        "axes = fig.add_axes([0.1, 0.1, 0.8, 0.8])\n",
        "\n",
        "axes.plot(x2, y2, 'r')\n",
        "\n",
        "axes.set_xlabel('x2')\n",
        "axes.set_ylabel('y2')\n",
        "axes.set_title('title');"
      ],
      "execution_count": null,
      "outputs": []
    },
    {
      "metadata": {
        "id": "d5F5UaPsOw2Z"
      },
      "cell_type": "markdown",
      "source": [
        "### Figure and Axes\n",
        "\n",
        "\n",
        "I start by creating a figure and an axes. A figure and axes can be created as follows:\n",
        "\n",
        "\n",
        "`fig = plt.figure()`\n",
        "\n",
        "`ax = plt.axes()`\n",
        "\n",
        "\n",
        "\n",
        "In Matplotlib, the **figure** (an instance of the class plt.Figure) is a single container that contains all the objects representing axes, graphics, text and labels. The **axes** (an instance of the class plt.Axes) is a bounding box with\n",
        "ticks and labels. It will contain the plot elements that make up the visualization. I have used the variable name fig\n",
        "to refer to a figure instance, and ax to refer to an axes instance or group of axes instances.\n"
      ]
    },
    {
      "metadata": {
        "trusted": true,
        "id": "MpNwxkLtOw2a"
      },
      "cell_type": "code",
      "source": [
        "fig = plt.figure()\n",
        "\n",
        "ax = plt.axes()"
      ],
      "execution_count": null,
      "outputs": []
    },
    {
      "metadata": {
        "id": "ocb8m-G-Ow2d"
      },
      "cell_type": "markdown",
      "source": [
        "## 10. Figure and Subplots\n",
        "\n",
        "\n",
        "\n",
        "Plots in Matplotlib reside within a Figure object. As described earlier, we can create a new figure with plt.figure()\n",
        "as follows:-\n",
        "\n",
        "\n",
        "`fig = plt.figure()`\n",
        "\n",
        "\n",
        "Now, I create one or more subplots using fig.add_subplot() as follows:-\n",
        "\n",
        "\n",
        "`ax1 = fig.add_subplot(2, 2, 1)`\n",
        "\n",
        "\n",
        "The above command means that there are four plots in total (2 * 2 = 4). I select the first of four subplots (numbered from 1).\n",
        "\n",
        "\n",
        "I create the next three subplots using the fig.add_subplot() commands as follows:-\n",
        "\n",
        "\n",
        "`ax2 = fig.add_subplot(2, 2, 2)`\n",
        "\n",
        "`ax3 = fig.add_subplot(2, 2, 3)`\n",
        "\n",
        "`ax4 = fig.add_subplot(2, 2, 4)`"
      ]
    },
    {
      "metadata": {
        "id": "o1NNvEp0Ow2d"
      },
      "cell_type": "markdown",
      "source": [
        "The above command result in creation of subplots. The diagrammatic representation of subplots are as follows:-\n",
        "\n",
        "\n",
        "![Subplots.png](attachment:Subplots.png)"
      ]
    },
    {
      "metadata": {
        "id": "ncQkVPbDOw2d"
      },
      "cell_type": "markdown",
      "source": [
        "## 11. First plot with Matplotlib\n",
        "\n",
        "\n",
        "Now, I will start producing plots. Here is the first example:-"
      ]
    },
    {
      "metadata": {
        "trusted": true,
        "id": "6c2MdcjjOw2e"
      },
      "cell_type": "code",
      "source": [
        "plt.plot([1, 3, 2, 4], 'b-')\n",
        "\n",
        "plt.show( )"
      ],
      "execution_count": null,
      "outputs": []
    },
    {
      "metadata": {
        "id": "XLa5V8dGOw2e"
      },
      "cell_type": "markdown",
      "source": [
        "`plt.plot([1, 3, 2, 4], 'b-')`\n",
        "\n",
        "This code line is the actual plotting command. Only a list of values has been plotted that represent the vertical coordinates of the points to be plotted. Matplotlib will use an implicit horizontal values list, from 0 (the first value) to N-1 (where N is the number of items in the list)."
      ]
    },
    {
      "metadata": {
        "id": "zNTHIqUOOw2e"
      },
      "cell_type": "markdown",
      "source": [
        "### Specify both Lists\n",
        "\n",
        "\n",
        "Also, we can explicitly specify both the lists as follows:-\n",
        "\n",
        "\n",
        "`x3 = range(6)`\n",
        "\n",
        "\n",
        "`plt.plot(x3, [xi**2 for xi in x3])`\n",
        "\n",
        "\n",
        "`plt.show()`\n"
      ]
    },
    {
      "metadata": {
        "trusted": true,
        "id": "4YEyX6aLOw2e"
      },
      "cell_type": "code",
      "source": [
        "x3 = np.arange(0.0, 6.0, 0.01)\n",
        "\n",
        "plt.plot(x3, [xi**2 for xi in x3], 'b-')\n",
        "\n",
        "plt.show()\n"
      ],
      "execution_count": null,
      "outputs": []
    },
    {
      "metadata": {
        "id": "jLWeSr-IOw2e"
      },
      "cell_type": "markdown",
      "source": [
        "## 12.\tMultiline Plots\n",
        "\n",
        "Multiline Plots mean plotting more than one plot on the same figure. We can plot more than one plot on the same figure.  \n",
        "It can be achieved by plotting all the lines before calling show(). It can be done as follows:-\n"
      ]
    },
    {
      "metadata": {
        "trusted": true,
        "id": "o8_k-U-gOw2e"
      },
      "cell_type": "code",
      "source": [
        "x4 = range(1, 5)\n",
        "\n",
        "plt.plot(x4, [xi*1.5 for xi in x4])\n",
        "\n",
        "plt.plot(x4, [xi*3 for xi in x4])\n",
        "\n",
        "plt.plot(x4, [xi/3.0 for xi in x4])\n",
        "\n",
        "plt.show()"
      ],
      "execution_count": null,
      "outputs": []
    },
    {
      "metadata": {
        "id": "X5YgvLGoOw2e"
      },
      "cell_type": "markdown",
      "source": [
        "## 13.\tParts of a Plot\n",
        "\n",
        "\n",
        "There are different parts of a plot. These are title, legend, grid, axis and labels etc. These are denoted in the following figure:-\n",
        "\n",
        "\n",
        "![Parts%20of%20a%20plot.png](attachment:Parts%20of%20a%20plot.png)"
      ]
    },
    {
      "metadata": {
        "id": "JwQP453uOw2e"
      },
      "cell_type": "markdown",
      "source": [
        "## 14.\tSaving the Plot\n",
        "\n",
        "\n",
        "We can save the figures in a wide variety of formats. We can save them using the **savefig()** command as follows:-\n",
        "\n",
        "\n",
        "`fig.savefig(‘fig1.png’)`\n",
        "\n",
        "\n",
        "\n",
        "We can explore the contents of the file using the IPython **Image** object.\n",
        "\n",
        "\n",
        "\n",
        "`from IPython.display import Image`\n",
        "\n",
        "\n",
        "`Image(‘fig1.png’)`\n",
        "\n",
        "\n",
        "In **savefig()** command, the file format is inferred from the extension of the given filename. Depending on the backend,\n",
        "many different file formats are available. The list of supported file types can be found by using the get_supported_filetypes() method of the figure canvas object as follows:-\n",
        "\n",
        "\n",
        "`fig.canvas.get_supported_filetypes()`\n"
      ]
    },
    {
      "metadata": {
        "trusted": true,
        "id": "vW29K8CBOw2f"
      },
      "cell_type": "code",
      "source": [
        "# Saving the figure\n",
        "\n",
        "fig.savefig('plot1.png')"
      ],
      "execution_count": null,
      "outputs": []
    },
    {
      "metadata": {
        "trusted": true,
        "id": "pwz6eBplOw2f"
      },
      "cell_type": "code",
      "source": [
        "# Explore the contents of figure\n",
        "\n",
        "from IPython.display import Image\n",
        "\n",
        "Image('plot1.png')\n"
      ],
      "execution_count": null,
      "outputs": []
    },
    {
      "metadata": {
        "trusted": true,
        "id": "s3UtWH_IOw2f"
      },
      "cell_type": "code",
      "source": [
        "# Explore supported file formats\n",
        "\n",
        "\n",
        "fig.canvas.get_supported_filetypes()"
      ],
      "execution_count": null,
      "outputs": []
    },
    {
      "metadata": {
        "id": "uuCB2uoyOw2f"
      },
      "cell_type": "markdown",
      "source": [
        "## 15.\tLine Plot\n",
        "\n",
        "\n",
        "We can use the following commands to draw the simple sinusoid line plot:-\n",
        "\n"
      ]
    },
    {
      "metadata": {
        "trusted": true,
        "id": "JTPt7S8VOw2f"
      },
      "cell_type": "code",
      "source": [
        "# Create figure and axes first\n",
        "fig = plt.figure()\n",
        "\n",
        "ax = plt.axes()\n",
        "\n",
        "# Declare a variable x5\n",
        "x5 = np.linspace(0, 10, 1000)\n",
        "\n",
        "\n",
        "# Plot the sinusoid function\n",
        "ax.plot(x5, np.sin(x5), 'b-');"
      ],
      "execution_count": null,
      "outputs": []
    },
    {
      "metadata": {
        "id": "PnyIl2PGOw2g"
      },
      "cell_type": "markdown",
      "source": [
        "## 16.\tScatter Plot\n",
        "\n",
        "Another commonly used plot type is the scatter plot. Here the points are represented individually with a dot or a circle.\n",
        "\n",
        "\n",
        "### Scatter Plot with plt.plot()\n",
        "\n",
        "We have used plt.plot/ax.plot to produce line plots. We can use the same functions to produce the scatter plots as follows:-\n",
        "\n"
      ]
    },
    {
      "metadata": {
        "trusted": true,
        "id": "R2CekA18Ow2g"
      },
      "cell_type": "code",
      "source": [
        "x7 = np.linspace(0, 10, 30)\n",
        "\n",
        "y7 = np.sin(x7)\n",
        "\n",
        "plt.plot(x7, y7, 'o', color = 'black');\n"
      ],
      "execution_count": null,
      "outputs": []
    },
    {
      "metadata": {
        "id": "2wgdfycMOw2g"
      },
      "cell_type": "markdown",
      "source": [
        "## 17.\tHistogram\n",
        "\n",
        "\n",
        "Histogram charts are a graphical display of frequencies. They are represented as bars. They show what portion of the\n",
        "dataset falls into each category, usually specified as non-overlapping intervals. These categories are called bins.\n",
        "\n",
        "The **plt.hist()** function can be used to plot a simple histogram as follows:-\n"
      ]
    },
    {
      "metadata": {
        "trusted": true,
        "id": "3BeCvCK7Ow2g"
      },
      "cell_type": "code",
      "source": [
        "data1 = np.random.randn(1000)\n",
        "\n",
        "plt.hist(data1);\n"
      ],
      "execution_count": null,
      "outputs": []
    },
    {
      "metadata": {
        "id": "hSRWcnzyOw2g"
      },
      "cell_type": "markdown",
      "source": [
        "## 18.\tBar Chart\n",
        "\n",
        "\n",
        "Bar charts display rectangular bars either in vertical or horizontal form. Their length is proportional to the values they represent. They are used to compare two or more values.\n",
        "\n",
        "\n",
        "We can plot a bar chart using plt.bar() function. We can plot a bar chart as follows:-\n"
      ]
    },
    {
      "metadata": {
        "trusted": true,
        "id": "IhfUQIciOw2g"
      },
      "cell_type": "code",
      "source": [
        "data2 = [5. , 25. , 50. , 20.]\n",
        "\n",
        "plt.bar(range(len(data2)), data2)\n",
        "\n",
        "plt.show()\n"
      ],
      "execution_count": null,
      "outputs": []
    },
    {
      "metadata": {
        "id": "icOwzobeOw2h"
      },
      "cell_type": "markdown",
      "source": [
        "## 19.\tHorizontal Bar Chart\n",
        "\n",
        "\n",
        "We can produce Horizontal Bar Chart using the plt.barh() function. It is the strict equivalent of plt.bar() function.\n",
        "\n"
      ]
    },
    {
      "metadata": {
        "trusted": true,
        "id": "5DtyQdlAOw2h"
      },
      "cell_type": "code",
      "source": [
        "data2 = [5. , 25. , 50. , 20.]\n",
        "\n",
        "plt.barh(range(len(data2)), data2)\n",
        "\n",
        "plt.show()\n"
      ],
      "execution_count": null,
      "outputs": []
    },
    {
      "metadata": {
        "id": "ruVr76ktOw2h"
      },
      "cell_type": "markdown",
      "source": [
        "## 20.\tError Bar Chart\n",
        "\n",
        "\n",
        "\n",
        "In experimental design, the measurements lack perfect precision. So, we have to repeat the measurements. It results in\n",
        "obtaining a set of values. The representation of the distribution of data values is done by plotting a single data point\n",
        "(known as mean value of dataset) and an error bar to represent the overall distribution of data.\n",
        "\n",
        "\n",
        "We can use Matplotlib's **errorbar()** function to represent the distribution of data values. It can be done as follows:-"
      ]
    },
    {
      "metadata": {
        "trusted": true,
        "id": "od18H7IqOw2h"
      },
      "cell_type": "code",
      "source": [
        "x9 = np.arange(0, 4, 0.2)\n",
        "\n",
        "y9 = np.exp(-x9)\n",
        "\n",
        "e1 = 0.1 * np.abs(np.random.randn(len(y9)))\n",
        "\n",
        "plt.errorbar(x9, y9, yerr = e1, fmt = '.-')\n",
        "\n",
        "plt.show();"
      ],
      "execution_count": null,
      "outputs": []
    },
    {
      "metadata": {
        "id": "cfpp8K4IOw2h"
      },
      "cell_type": "markdown",
      "source": [
        "## 21. Stacked Bar Chart\n",
        "\n",
        "\n",
        "We can draw stacked bar chart by using a special parameter called **bottom** from the plt.bar() function. It can be done as follows:-"
      ]
    },
    {
      "metadata": {
        "trusted": true,
        "id": "9O_IjMNbOw2h"
      },
      "cell_type": "code",
      "source": [
        "A = [15., 30., 45., 22.]\n",
        "\n",
        "B = [15., 25., 50., 20.]\n",
        "\n",
        "z2 = range(4)\n",
        "\n",
        "plt.bar(z2, A, color = 'b')\n",
        "plt.bar(z2, B, color = 'r', bottom = A)\n",
        "\n",
        "plt.show()"
      ],
      "execution_count": null,
      "outputs": []
    },
    {
      "metadata": {
        "id": "MU-Q5hnvOw2h"
      },
      "cell_type": "markdown",
      "source": [
        "The optional **bottom** parameter of the plt.bar() function allows us to specify a starting position for a bar. Instead of running from zero to a value, it will go from the bottom to value. The first call to plt.bar() plots the blue bars. The second call to plt.bar() plots the red bars, with the bottom of the red bars being at the top of the blue bars."
      ]
    },
    {
      "metadata": {
        "id": "FnWyVq4dOw2h"
      },
      "cell_type": "markdown",
      "source": [
        "## 22. Pie Chart\n",
        "\n",
        "\n",
        "Pie charts are circular representations, divided into sectors. The sectors are also called **wedges**. The arc length of each sector is proportional to the quantity we are describing. It is an effective way to represent information when we are interested mainly in comparing the wedge against the whole pie, instead of wedges against each other.\n",
        "\n",
        "Matplotlib provides the **pie()** function to plot pie charts from an array X. Wedges are created proportionally, so that each value x of array X generates a wedge proportional to x/sum(X)."
      ]
    },
    {
      "metadata": {
        "trusted": true,
        "id": "YJ3PmWxrOw2h"
      },
      "cell_type": "code",
      "source": [
        "plt.figure(figsize=(7,7))\n",
        "\n",
        "x10 = [35, 25, 20, 20]\n",
        "\n",
        "labels = ['Computer', 'Electronics', 'Mechanical', 'Chemical']\n",
        "\n",
        "plt.pie(x10, labels=labels);\n",
        "\n",
        "plt.show()"
      ],
      "execution_count": null,
      "outputs": []
    },
    {
      "metadata": {
        "id": "9xGh4munOw2h"
      },
      "cell_type": "markdown",
      "source": [
        "## 23. Boxplot\n",
        "\n",
        "\n",
        "Boxplot allows us to compare distributions of values by showing the median, quartiles, maximum and minimum of a set of values.\n",
        "\n",
        "We can plot a boxplot with the **boxplot()** function as follows:-"
      ]
    },
    {
      "metadata": {
        "trusted": true,
        "id": "qOccXANDOw2i"
      },
      "cell_type": "code",
      "source": [
        "data3 = np.random.randn(100)\n",
        "\n",
        "plt.boxplot(data3)\n",
        "\n",
        "plt.show();"
      ],
      "execution_count": null,
      "outputs": []
    },
    {
      "metadata": {
        "id": "WBQjyMEVOw2i"
      },
      "cell_type": "markdown",
      "source": [
        "The **boxplot()** function takes a set of values and computes the mean, median and other statistical quantities. The following points describe the preceeding boxplot:\n",
        "\n",
        "\n",
        "•\tThe red bar is the median of the distribution.\n",
        "\n",
        "•\tThe blue box includes 50 percent of the data from the lower quartile to the upper quartile. Thus, the box is centered on the median of the data.\n",
        "\n",
        "•\tThe lower whisker extends to the lowest value within 1.5 IQR from the lower quartile.\n",
        "\n",
        "•\tThe upper whisker extends to the highest value within 1.5 IQR from the upper quartile.\n",
        "\n",
        "•\tValues further from the whiskers are shown with a cross marker.\n",
        "\n"
      ]
    },
    {
      "metadata": {
        "id": "4evZ_vdZOw2i"
      },
      "cell_type": "markdown",
      "source": [
        "## 24. Area Chart\n",
        "\n",
        "\n",
        "An **Area Chart** is very similar to a **Line Chart**. The area between the x-axis and the line is filled in with color or shading. It represents the evolution of a numerical variable following another numerical variable.\n",
        "\n",
        "We can create an Area Chart as follows:-\n"
      ]
    },
    {
      "metadata": {
        "trusted": true,
        "id": "C7s_Tks_Ow2i"
      },
      "cell_type": "code",
      "source": [
        "# Create some data\n",
        "x12 = range(1, 6)\n",
        "y12 = [1, 4, 6, 8, 4]\n",
        "\n",
        "# Area plot\n",
        "plt.fill_between(x12, y12)\n",
        "plt.show()"
      ],
      "execution_count": null,
      "outputs": []
    },
    {
      "metadata": {
        "id": "3gnnNUY5Ow2i"
      },
      "cell_type": "markdown",
      "source": [
        "I have created a basic Area chart. I could also use the stackplot function to create the Area chart as follows:-\n",
        "\n",
        "`plt.stackplot(x12, y12)`\n",
        "\n",
        "The fill_between() function is more convenient for future customization.\n"
      ]
    },
    {
      "metadata": {
        "id": "qvfVejXhOw2i"
      },
      "cell_type": "markdown",
      "source": [
        "## 25. Contour Plot\n",
        "\n",
        "\n",
        "**Contour plots** are useful to display three-dimensional data in two dimensions using contours or color-coded regions.\n",
        "**Contour lines** are also known as **level lines** or **isolines**. **Contour lines** for a function of two variables are\n",
        "curves where the function has constant values. They have specific names beginning with iso- according to the nature of the variables being mapped.\n",
        "\n",
        "\n",
        "There are lot of applications of **Contour lines** in several fields such as meteorology(for temperature, pressure, rain, wind\n",
        "speed), geography, magnetism, engineering, social sciences and so on.\n",
        "\n",
        "\n",
        "The density of the lines indicates the **slope** of the function. The **gradient** of the function is always perpendicular to the contour lines. When the lines are close together, the length of the gradient is large and the variation is steep.\n",
        "\n",
        "\n",
        "A **Contour plot** can be created with the **plt.contour()** function as follows:-"
      ]
    },
    {
      "metadata": {
        "trusted": true,
        "id": "Y9SykekmOw2j"
      },
      "cell_type": "code",
      "source": [
        "# Create a matrix\n",
        "matrix1 = np.random.rand(10, 20)\n",
        "\n",
        "cp = plt.contour(matrix1)\n",
        "\n",
        "plt.show()"
      ],
      "execution_count": null,
      "outputs": []
    },
    {
      "metadata": {
        "id": "ey3oXW0LOw2j"
      },
      "cell_type": "markdown",
      "source": [
        "The **contour()** function draws contour lines. It takes a 2D array as input.Here, it is a matrix of 10 x 20 random elements.\n",
        "\n",
        "The number of level lines to draw is chosen automatically, but we can also specify it as an additional parameter, N.\n",
        "\n",
        "`plt.contour(matrix, N)`\n"
      ]
    },
    {
      "metadata": {
        "id": "X9s84XgPOw2j"
      },
      "cell_type": "markdown",
      "source": [
        "## 26. Styles with Matplotlib Plots\n",
        "\n",
        "\n",
        "The Matplotlib version 1.4 which was released in August 2014 added a very convenient `style` module. It includes a number of\n",
        "new default stylesheets, as well as the ability to create and package own styles.\n",
        "\n",
        "We can view the list of all available styles by the following command.\n",
        "\n",
        "\n",
        "`print(plt.style.availabe)`\n"
      ]
    },
    {
      "metadata": {
        "trusted": true,
        "id": "4zW6I_2sOw2k"
      },
      "cell_type": "code",
      "source": [
        "# View list of all available styles\n",
        "\n",
        "print(plt.style.available)"
      ],
      "execution_count": null,
      "outputs": []
    },
    {
      "metadata": {
        "id": "ps5L8ppCOw2k"
      },
      "cell_type": "markdown",
      "source": [
        "We can set the **Styles** for Matplotlib plots as follows:-\n",
        "\n",
        "\n",
        "`plt.style.use('seaborn-bright')`\n"
      ]
    },
    {
      "metadata": {
        "trusted": true,
        "id": "cwJVNSfFOw2k"
      },
      "cell_type": "code",
      "source": [
        "# Set styles for plots\n",
        "\n",
        "plt.style.use('seaborn-bright')"
      ],
      "execution_count": null,
      "outputs": []
    },
    {
      "metadata": {
        "id": "7RPgjGFUOw2k"
      },
      "cell_type": "markdown",
      "source": [
        "I have set the **seaborn-bright** style for plots. So, the plot uses the **seaborn-bright** Matplotlib style for plots.\n",
        "\n"
      ]
    },
    {
      "metadata": {
        "id": "muLFdKAPOw2k"
      },
      "cell_type": "markdown",
      "source": [
        "## 27. Adding a grid\n",
        "\n",
        "\n",
        "In some cases, the background of a plot was completely blank. We can get more information, if there is a reference system in the plot. The reference system would improve the comprehension of the plot. An example of the reference system is adding a **grid**.\n",
        "We can add a grid to the plot by calling the **grid()** function. It takes one parameter, a Boolean value, to enable(if True)\n",
        "or disable(if False) the grid."
      ]
    },
    {
      "metadata": {
        "trusted": true,
        "id": "4NWafw-MOw2k"
      },
      "cell_type": "code",
      "source": [
        "x15 = np.arange(1, 5)\n",
        "\n",
        "plt.plot(x15, x15*1.5, x15, x15*3.0, x15, x15/3.0)\n",
        "\n",
        "plt.grid(True)\n",
        "\n",
        "plt.show()"
      ],
      "execution_count": null,
      "outputs": []
    },
    {
      "metadata": {
        "id": "k-aJ3AnHOw2k"
      },
      "cell_type": "markdown",
      "source": [
        "## 28. Handling axes\n",
        "\n",
        "\n",
        "Matplotlib automatically sets the limits of the plot to precisely contain the plotted datasets. Sometimes, we want to set the\n",
        "axes limits ourself. We can set the axes limits with the **axis()** function as follows:-"
      ]
    },
    {
      "metadata": {
        "trusted": true,
        "id": "QK6CveT4Ow2k"
      },
      "cell_type": "code",
      "source": [
        "x15 = np.arange(1, 5)\n",
        "\n",
        "plt.plot(x15, x15*1.5, x15, x15*3.0, x15, x15/3.0)\n",
        "\n",
        "plt.axis()   # shows the current axis limits values\n",
        "\n",
        "plt.axis([0, 5, -1, 13])\n",
        "\n",
        "plt.show()"
      ],
      "execution_count": null,
      "outputs": []
    },
    {
      "metadata": {
        "id": "JHMwSJMdOw2l"
      },
      "cell_type": "markdown",
      "source": [
        "We can see that we now have more space around the lines."
      ]
    },
    {
      "metadata": {
        "id": "BWmp06UFOw2l"
      },
      "cell_type": "markdown",
      "source": [
        "If we execute **axis()** without parameters, it returns the actual axis limits.\n",
        "\n",
        "We can set parameters to **axis()** by a list of four values.\n",
        "\n",
        "The list of four values are the keyword arguments [xmin, xmax, ymin, ymax] allows the minimum and maximum limits for X and Y\n",
        "axis respectively.\n",
        ""
      ]
    },
    {
      "metadata": {
        "id": "H39WSAYSOw2l"
      },
      "cell_type": "markdown",
      "source": [
        "We can control the limits for each axis separately using the `xlim()` and `ylim()` functions. This can be done as follows:-"
      ]
    },
    {
      "metadata": {
        "scrolled": true,
        "trusted": true,
        "id": "2Vts_pQ2Ow2l"
      },
      "cell_type": "code",
      "source": [
        "x15 = np.arange(1, 5)\n",
        "\n",
        "plt.plot(x15, x15*1.5, x15, x15*3.0, x15, x15/3.0)\n",
        "\n",
        "plt.xlim([1.0, 4.0])\n",
        "\n",
        "plt.ylim([0.0, 12.0])\n"
      ],
      "execution_count": null,
      "outputs": []
    },
    {
      "metadata": {
        "id": "QjbdUb0sOw2l"
      },
      "cell_type": "markdown",
      "source": [
        "## 29. Handling X and Y ticks\n",
        "\n",
        "\n",
        "Vertical and horizontal ticks are those little segments on the axes, coupled with axes labels, used to give a reference system\n",
        "on the graph.So, they form the origin and the grid lines.\n",
        "\n",
        "Matplotlib provides two basic functions to manage them - **xticks()** and **yticks()**.\n",
        "\n",
        "Executing with no arguments, the tick function returns the current ticks' locations and the labels corresponding to each of them.\n",
        "\n",
        "We can pass arguments(in the form of lists) to the ticks functions. The arguments are:-\n",
        "\n",
        "1. Locations of the ticks\n",
        "\n",
        "2. Labels to draw at these locations.\n",
        "\n",
        "We can demonstrate the usage of the ticks functions in the code snippet below:-\n",
        "\n"
      ]
    },
    {
      "metadata": {
        "trusted": true,
        "id": "2OVStH2ROw2l"
      },
      "cell_type": "code",
      "source": [
        "u = [5, 4, 9, 7, 8, 9, 6, 5, 7, 8]\n",
        "\n",
        "plt.plot(u)\n",
        "\n",
        "plt.xticks([2, 4, 6, 8, 10])\n",
        "plt.yticks([2, 4, 6, 8, 10])\n",
        "\n",
        "plt.show()"
      ],
      "execution_count": null,
      "outputs": []
    },
    {
      "metadata": {
        "id": "q24qEVBtOw2l"
      },
      "cell_type": "markdown",
      "source": [
        "## 30. Adding labels\n",
        "\n",
        "\n",
        "Another important piece of information to add to a plot is the axes labels, since they specify the type of data we are plotting."
      ]
    },
    {
      "metadata": {
        "trusted": true,
        "id": "-ht5lcx6Ow2l"
      },
      "cell_type": "code",
      "source": [
        "plt.plot([1, 3, 2, 4])\n",
        "\n",
        "plt.xlabel('This is the X axis')\n",
        "\n",
        "plt.ylabel('This is the Y axis')\n",
        "\n",
        "plt.show()"
      ],
      "execution_count": null,
      "outputs": []
    },
    {
      "metadata": {
        "id": "gFY7pmkyOw2l"
      },
      "cell_type": "markdown",
      "source": [
        "## 31. Adding a title\n",
        "\n",
        "\n",
        "The title of a plot describes about the plot. Matplotlib provides a simple function **title()** to add a title to an image.  "
      ]
    },
    {
      "metadata": {
        "trusted": true,
        "id": "tMGdJALdOw2l"
      },
      "cell_type": "code",
      "source": [
        "plt.plot([1, 3, 2, 4])\n",
        "\n",
        "plt.title('First Plot')\n",
        "\n",
        "plt.show()"
      ],
      "execution_count": null,
      "outputs": []
    },
    {
      "metadata": {
        "id": "z415MFl-Ow2l"
      },
      "cell_type": "markdown",
      "source": [
        "The above plot displays the output of the previous code. The title `First Plot` is displayed on top of the plot."
      ]
    },
    {
      "metadata": {
        "id": "Flrx3y42Ow2m"
      },
      "cell_type": "markdown",
      "source": [
        "## 32. Adding a legend\n",
        "\n",
        "\n",
        "Legends are used to describe what each line or curve means in the plot.\n",
        "\n",
        "Legends for curves in a figure can be added in two ways. One method is to use the **legend** method of the axis object and\n",
        "pass a list/tuple of legend texts as follows:-"
      ]
    },
    {
      "metadata": {
        "trusted": true,
        "id": "Ki9SRIPsOw2m"
      },
      "cell_type": "code",
      "source": [
        "x15 = np.arange(1, 5)\n",
        "\n",
        "fig, ax = plt.subplots()\n",
        "\n",
        "ax.plot(x15, x15*1.5)\n",
        "ax.plot(x15, x15*3.0)\n",
        "ax.plot(x15, x15/3.0)\n",
        "\n",
        "ax.legend(['Normal','Fast','Slow']);\n"
      ],
      "execution_count": null,
      "outputs": []
    },
    {
      "metadata": {
        "id": "6vAfoPw-Ow2m"
      },
      "cell_type": "markdown",
      "source": [
        "The above method follows the MATLAB API. It is prone to errors and unflexible if curves are added to or removed from the plot.\n",
        "It resulted in a wrongly labelled curve."
      ]
    },
    {
      "metadata": {
        "id": "_QN5L1_3Ow2m"
      },
      "cell_type": "markdown",
      "source": [
        "A better method is to use the **label** keyword argument when plots are added to the figure. Then we use the **legend** method without arguments to add the legend to the figure.\n",
        "\n",
        "The advantage of this method is that if curves are added or removed from the figure, the legend is automatically updated\n",
        "accordingly. It can be achieved by executing the code below:-\n"
      ]
    },
    {
      "metadata": {
        "trusted": true,
        "id": "wjq5a5mqOw2m"
      },
      "cell_type": "code",
      "source": [
        "x15 = np.arange(1, 5)\n",
        "\n",
        "fig, ax = plt.subplots()\n",
        "\n",
        "ax.plot(x15, x15*1.5, label='Normal')\n",
        "ax.plot(x15, x15*3.0, label='Fast')\n",
        "ax.plot(x15, x15/3.0, label='Slow')\n",
        "\n",
        "ax.legend();\n",
        "\n"
      ],
      "execution_count": null,
      "outputs": []
    },
    {
      "metadata": {
        "id": "-A8Kf2hHOw2m"
      },
      "cell_type": "markdown",
      "source": [
        "The **legend** function takes an optional keyword argument **loc**. It specifies the location of the legend to be drawn.\n",
        "The **loc** takes numerical codes for the various places the legend can be drawn. The most common **loc** values are as follows:-"
      ]
    },
    {
      "metadata": {
        "id": "_CxoIKRdOw2n"
      },
      "cell_type": "markdown",
      "source": [
        "ax.legend(loc=0)  # let Matplotlib decide the optimal location\n",
        "\n",
        "ax.legend(loc=1)  # upper right corner\n",
        "\n",
        "ax.legend(loc=2)  # upper left corner\n",
        "\n",
        "ax.legend(loc=3)  # lower left corner\n",
        "\n",
        "ax.legend(loc=4)  # lower right corner\n",
        "\n",
        "ax.legend(loc=5)  # right\n",
        "\n",
        "ax.legend(loc=6)  # center left\n",
        "\n",
        "ax.legend(loc=7)  # center right\n",
        "\n",
        "ax.legend(loc=8)  # lower center\n",
        "\n",
        "ax.legend(loc=9)  # upper center\n",
        "\n",
        "ax.legend(loc=10) # center"
      ]
    },
    {
      "metadata": {
        "id": "jnQjdh6UOw2n"
      },
      "cell_type": "markdown",
      "source": [
        "## 33. Control colours\n",
        "\n",
        "\n",
        "We can draw different lines or curves in a plot with different colours. In the code below, we specify colour as the last argument to draw red, blue and green lines."
      ]
    },
    {
      "metadata": {
        "trusted": true,
        "id": "u63NvZYEOw2n"
      },
      "cell_type": "code",
      "source": [
        "x16 = np.arange(1, 5)\n",
        "\n",
        "plt.plot(x16, 'r')\n",
        "plt.plot(x16+1, 'g')\n",
        "plt.plot(x16+2, 'b')\n",
        "\n",
        "plt.show()"
      ],
      "execution_count": null,
      "outputs": []
    },
    {
      "metadata": {
        "id": "ypyiVH-7Ow2n"
      },
      "cell_type": "markdown",
      "source": [
        "The colour names and colour abbreviations are given in the following table:-\n",
        "\n",
        "\n",
        "**Colour abbreviation**      **Colour name**\n",
        "\n",
        "b                               blue\n",
        "\n",
        "c                               cyan\n",
        "\n",
        "g                               green\n",
        "\n",
        "k                               black\n",
        "\n",
        "m                               magenta\n",
        "\n",
        "r                               red\n",
        "\n",
        "w                               white\n",
        "\n",
        "y                               yellow"
      ]
    },
    {
      "metadata": {
        "id": "bB9ZyH2vOw2n"
      },
      "cell_type": "markdown",
      "source": [
        "There are several ways to specify colours, other than by colour abbreviations:\n",
        "    \n",
        "•\tThe full colour name, such as yellow\n",
        "\n",
        "•\tHexadecimal string such as ##FF00FF\n",
        "\n",
        "•\tRGB tuples, for example (1, 0, 1)\n",
        "\n",
        "•\tGrayscale intensity, in string format such as ‘0.7’.\n"
      ]
    },
    {
      "metadata": {
        "id": "LF-4_HLgOw2n"
      },
      "cell_type": "markdown",
      "source": [
        "## 34. Control line styles\n",
        "\n",
        "\n",
        "Matplotlib provides us different line style options to draw curves or plots. In the code below, I use different line styles\n",
        "to draw different plots.\n"
      ]
    },
    {
      "metadata": {
        "trusted": true,
        "id": "sbl3ZQtrOw2n"
      },
      "cell_type": "code",
      "source": [
        "x16 = np.arange(1, 5)\n",
        "\n",
        "plt.plot(x16, '--', x16+1, '-.', x16+2, ':')\n",
        "\n",
        "plt.show()"
      ],
      "execution_count": null,
      "outputs": []
    },
    {
      "metadata": {
        "id": "C460RYp3Ow2n"
      },
      "cell_type": "markdown",
      "source": [
        "The above code snippet generates a blue dashed line, a green dash-dotted line and a red dotted line."
      ]
    },
    {
      "metadata": {
        "id": "Ot7LSmzeOw2o"
      },
      "cell_type": "markdown",
      "source": [
        "All the available line styles are available in the following table:\n",
        "\n",
        "\n",
        "**Style abbreviation**  **Style**\n",
        "\n",
        "-                    solid line\n",
        "   \n",
        "--                   dashed line\n",
        "   \n",
        "-.                   dash-dot line\n",
        "   \n",
        ":                    dotted line\n",
        "   \n",
        "\n",
        "\n",
        "Now, we can see the default format string for a single line plot is 'b-'."
      ]
    },
    {
      "metadata": {
        "id": "xXMAlZQ0Ow2o"
      },
      "cell_type": "markdown",
      "source": [
        "## 35. Summary"
      ]
    },
    {
      "metadata": {
        "id": "P0K5ZZM6Ow2o"
      },
      "cell_type": "markdown",
      "source": [
        "In this project, I discuss Matplotlib (the basic plotting library in Python) and throw some light on various charts and customization techniques associated with it.\n",
        "\n",
        "\n",
        "In particular, I discuss Matplotlib object hierarchy, Matplotlib architecture, Pyplot and Object-Oriented architecture. I also discuss subplots which is very important tool to create graphics in Matplotlib.\n",
        "\n",
        "\n",
        "Then, I discuss various types of plots like line plot, scatter plot, histogram, bar chart, pie chart, box plot, area chart and contour plot.\n",
        "\n",
        "\n",
        "Finally, I discuss various customization techniques. I discuss how to customize the graphics with styles. I discuss how to add a grid and how to handle axes and ticks. I discuss how to add labels, title and legend. I discuss how to customize the charts with colours and line styles.\n"
      ]
    },
    {
      "metadata": {
        "id": "4QTS0GptOw2o"
      },
      "cell_type": "markdown",
      "source": [
        "[Go to Top](#0)"
      ]
    }
  ],
  "metadata": {
    "kernelspec": {
      "display_name": "Python 3",
      "language": "python",
      "name": "python3"
    },
    "language_info": {
      "codemirror_mode": {
        "name": "ipython",
        "version": 3
      },
      "file_extension": ".py",
      "mimetype": "text/x-python",
      "name": "python",
      "nbconvert_exporter": "python",
      "pygments_lexer": "ipython3",
      "version": "3.7.3"
    },
    "colab": {
      "name": "Matplotlib tutorial for beginners",
      "provenance": [],
      "include_colab_link": true
    }
  },
  "nbformat": 4,
  "nbformat_minor": 0
}