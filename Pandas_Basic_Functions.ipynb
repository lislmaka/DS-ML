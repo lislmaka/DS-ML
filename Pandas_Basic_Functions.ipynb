{
  "metadata": {
    "kernelspec": {
      "language": "python",
      "display_name": "Python 3",
      "name": "python3"
    },
    "language_info": {
      "name": "python",
      "version": "3.7.12",
      "mimetype": "text/x-python",
      "codemirror_mode": {
        "name": "ipython",
        "version": 3
      },
      "pygments_lexer": "ipython3",
      "nbconvert_exporter": "python",
      "file_extension": ".py"
    },
    "kaggle": {
      "accelerator": "none",
      "dataSources": [],
      "dockerImageVersionId": 30407,
      "isInternetEnabled": false,
      "language": "python",
      "sourceType": "notebook",
      "isGpuEnabled": false
    },
    "colab": {
      "name": "Pandas Basic Functions",
      "provenance": [],
      "include_colab_link": true
    }
  },
  "nbformat_minor": 0,
  "nbformat": 4,
  "cells": [
    {
      "cell_type": "markdown",
      "metadata": {
        "id": "view-in-github",
        "colab_type": "text"
      },
      "source": [
        "<a href=\"https://colab.research.google.com/github/lislmaka/DS-ML/blob/main/Pandas_Basic_Functions.ipynb\" target=\"_parent\"><img src=\"https://colab.research.google.com/assets/colab-badge.svg\" alt=\"Open In Colab\"/></a>"
      ]
    },
    {
      "cell_type": "code",
      "source": [
        "# import library\n",
        "\n",
        "import pandas as pd"
      ],
      "metadata": {
        "id": "iJ1MKH2X4Yhh",
        "execution": {
          "iopub.status.busy": "2025-07-26T17:38:43.226651Z",
          "iopub.execute_input": "2025-07-26T17:38:43.227128Z",
          "iopub.status.idle": "2025-07-26T17:38:43.267973Z",
          "shell.execute_reply.started": "2025-07-26T17:38:43.227078Z",
          "shell.execute_reply": "2025-07-26T17:38:43.265251Z"
        },
        "trusted": true
      },
      "outputs": [],
      "execution_count": 1
    },
    {
      "cell_type": "code",
      "source": [
        "# read data\n",
        "\n",
        "titanic = pd.read_csv('https://github.com/YBIFoundation/Dataset/raw/main/Titanic.csv')"
      ],
      "metadata": {
        "id": "FlmuZ-eY4Yhi",
        "execution": {
          "iopub.status.busy": "2025-07-26T17:40:08.823635Z",
          "iopub.execute_input": "2025-07-26T17:40:08.824258Z"
        },
        "trusted": true
      },
      "outputs": [],
      "execution_count": null
    },
    {
      "cell_type": "code",
      "source": [
        "# display first 5 rows\n",
        "\n",
        "titanic.head()"
      ],
      "metadata": {
        "id": "YYcnTmLi4Yhj",
        "execution": {
          "iopub.status.busy": "2023-04-19T11:11:56.188114Z",
          "iopub.execute_input": "2023-04-19T11:11:56.188458Z",
          "iopub.status.idle": "2023-04-19T11:11:56.219051Z",
          "shell.execute_reply.started": "2023-04-19T11:11:56.188426Z",
          "shell.execute_reply": "2023-04-19T11:11:56.217954Z"
        },
        "trusted": true
      },
      "outputs": [],
      "execution_count": null
    },
    {
      "cell_type": "code",
      "source": [
        "# display last 5 rows\n",
        "\n",
        "titanic.tail()"
      ],
      "metadata": {
        "id": "vjo3zTDN4oEu",
        "execution": {
          "iopub.status.busy": "2023-04-19T11:11:56.220433Z",
          "iopub.execute_input": "2023-04-19T11:11:56.220849Z",
          "iopub.status.idle": "2023-04-19T11:11:56.238671Z",
          "shell.execute_reply.started": "2023-04-19T11:11:56.220803Z",
          "shell.execute_reply": "2023-04-19T11:11:56.23777Z"
        },
        "trusted": true
      },
      "outputs": [],
      "execution_count": null
    },
    {
      "cell_type": "code",
      "source": [
        "# display info\n",
        "\n",
        "titanic.info()"
      ],
      "metadata": {
        "id": "uzZRAY5N4oIZ",
        "execution": {
          "iopub.status.busy": "2023-04-19T11:11:56.240877Z",
          "iopub.execute_input": "2023-04-19T11:11:56.241319Z",
          "iopub.status.idle": "2023-04-19T11:11:56.279558Z",
          "shell.execute_reply.started": "2023-04-19T11:11:56.241283Z",
          "shell.execute_reply": "2023-04-19T11:11:56.277876Z"
        },
        "trusted": true
      },
      "outputs": [],
      "execution_count": null
    },
    {
      "cell_type": "markdown",
      "source": [
        "info() function prints information about a DataFrame including the index dtype and columns, non-null values and memory usage."
      ],
      "metadata": {
        "id": "wFTbVDah42YQ"
      }
    },
    {
      "cell_type": "code",
      "source": [
        "# display summary statistics of numerical columns\n",
        "\n",
        "titanic.describe()"
      ],
      "metadata": {
        "id": "JQ_zYmDJ4oLu",
        "execution": {
          "iopub.status.busy": "2023-04-19T11:11:56.38659Z",
          "iopub.execute_input": "2023-04-19T11:11:56.387698Z",
          "iopub.status.idle": "2023-04-19T11:11:56.423149Z",
          "shell.execute_reply.started": "2023-04-19T11:11:56.387651Z",
          "shell.execute_reply": "2023-04-19T11:11:56.421954Z"
        },
        "trusted": true
      },
      "outputs": [],
      "execution_count": null
    },
    {
      "cell_type": "code",
      "source": [
        "# display summary statistics of all columns\n",
        "\n",
        "titanic.describe(include='all')"
      ],
      "metadata": {
        "id": "6fdaGpCi4oOy",
        "execution": {
          "iopub.status.busy": "2023-04-19T11:11:56.618762Z",
          "iopub.execute_input": "2023-04-19T11:11:56.619406Z",
          "iopub.status.idle": "2023-04-19T11:11:56.67166Z",
          "shell.execute_reply.started": "2023-04-19T11:11:56.619367Z",
          "shell.execute_reply": "2023-04-19T11:11:56.670463Z"
        },
        "trusted": true
      },
      "outputs": [],
      "execution_count": null
    },
    {
      "cell_type": "code",
      "source": [
        "# display shape\n",
        "\n",
        "titanic.shape"
      ],
      "metadata": {
        "id": "0j079MGC4oR3",
        "execution": {
          "iopub.status.busy": "2023-04-19T11:11:57.457227Z",
          "iopub.execute_input": "2023-04-19T11:11:57.458496Z",
          "iopub.status.idle": "2023-04-19T11:11:57.467623Z",
          "shell.execute_reply.started": "2023-04-19T11:11:57.458418Z",
          "shell.execute_reply": "2023-04-19T11:11:57.465544Z"
        },
        "trusted": true
      },
      "outputs": [],
      "execution_count": null
    },
    {
      "cell_type": "code",
      "source": [
        "# display column labels\n",
        "\n",
        "titanic.columns"
      ],
      "metadata": {
        "id": "MPV3lEov4oVF",
        "execution": {
          "iopub.status.busy": "2023-04-19T11:11:58.243847Z",
          "iopub.execute_input": "2023-04-19T11:11:58.244276Z",
          "iopub.status.idle": "2023-04-19T11:11:58.251483Z",
          "shell.execute_reply.started": "2023-04-19T11:11:58.244239Z",
          "shell.execute_reply": "2023-04-19T11:11:58.250285Z"
        },
        "trusted": true
      },
      "outputs": [],
      "execution_count": null
    },
    {
      "cell_type": "code",
      "source": [
        "# display row index, either row numbers or row names\n",
        "\n",
        "titanic.index"
      ],
      "metadata": {
        "execution": {
          "iopub.status.busy": "2023-04-19T11:11:59.035658Z",
          "iopub.execute_input": "2023-04-19T11:11:59.036117Z",
          "iopub.status.idle": "2023-04-19T11:11:59.043389Z",
          "shell.execute_reply.started": "2023-04-19T11:11:59.036073Z",
          "shell.execute_reply": "2023-04-19T11:11:59.042081Z"
        },
        "trusted": true,
        "id": "i-oRfKaY0l8e"
      },
      "outputs": [],
      "execution_count": null
    },
    {
      "cell_type": "code",
      "source": [
        "# select a column as a series\n",
        "\n",
        "titanic['sex']"
      ],
      "metadata": {
        "id": "aiCkW9-m5b2T",
        "execution": {
          "iopub.status.busy": "2023-03-07T16:47:35.980909Z",
          "iopub.execute_input": "2023-03-07T16:47:35.982357Z",
          "iopub.status.idle": "2023-03-07T16:47:35.992116Z",
          "shell.execute_reply.started": "2023-03-07T16:47:35.982311Z",
          "shell.execute_reply": "2023-03-07T16:47:35.991137Z"
        },
        "trusted": true
      },
      "outputs": [],
      "execution_count": null
    },
    {
      "cell_type": "code",
      "source": [
        "# shape of pandas series\n",
        "\n",
        "titanic['sex'].shape"
      ],
      "metadata": {
        "id": "TR_o_65v6POd",
        "execution": {
          "iopub.status.busy": "2023-03-07T16:47:35.993693Z",
          "iopub.execute_input": "2023-03-07T16:47:35.994489Z",
          "iopub.status.idle": "2023-03-07T16:47:36.007886Z",
          "shell.execute_reply.started": "2023-03-07T16:47:35.99445Z",
          "shell.execute_reply": "2023-03-07T16:47:36.006862Z"
        },
        "trusted": true
      },
      "outputs": [],
      "execution_count": null
    },
    {
      "cell_type": "code",
      "source": [
        "# select a column as a dataframe\n",
        "\n",
        "titanic[['sex']]"
      ],
      "metadata": {
        "id": "JsRmzjlS6LcQ",
        "execution": {
          "iopub.status.busy": "2023-03-07T16:47:36.009248Z",
          "iopub.execute_input": "2023-03-07T16:47:36.010152Z",
          "iopub.status.idle": "2023-03-07T16:47:36.028178Z",
          "shell.execute_reply.started": "2023-03-07T16:47:36.010113Z",
          "shell.execute_reply": "2023-03-07T16:47:36.026917Z"
        },
        "trusted": true
      },
      "outputs": [],
      "execution_count": null
    },
    {
      "cell_type": "code",
      "source": [
        "# shape of pandas dataframe\n",
        "\n",
        "titanic[['sex']].shape"
      ],
      "metadata": {
        "id": "VHUla3s86Sv5",
        "execution": {
          "iopub.status.busy": "2023-03-07T16:47:36.029651Z",
          "iopub.execute_input": "2023-03-07T16:47:36.030285Z",
          "iopub.status.idle": "2023-03-07T16:47:36.037661Z",
          "shell.execute_reply.started": "2023-03-07T16:47:36.030249Z",
          "shell.execute_reply": "2023-03-07T16:47:36.036515Z"
        },
        "trusted": true
      },
      "outputs": [],
      "execution_count": null
    },
    {
      "cell_type": "code",
      "source": [
        "# unique categories in a column\n",
        "\n",
        "titanic['sex'].unique()"
      ],
      "metadata": {
        "id": "HES3mWV25q1T",
        "execution": {
          "iopub.status.busy": "2023-03-07T16:47:36.039371Z",
          "iopub.execute_input": "2023-03-07T16:47:36.040025Z",
          "iopub.status.idle": "2023-03-07T16:47:36.048571Z",
          "shell.execute_reply.started": "2023-03-07T16:47:36.039987Z",
          "shell.execute_reply": "2023-03-07T16:47:36.047372Z"
        },
        "trusted": true
      },
      "outputs": [],
      "execution_count": null
    },
    {
      "cell_type": "code",
      "source": [
        "# number of unique categories in a column\n",
        "\n",
        "titanic['sex'].nunique()"
      ],
      "metadata": {
        "id": "MgBihKy45Ura",
        "execution": {
          "iopub.status.busy": "2023-03-07T16:47:36.050082Z",
          "iopub.execute_input": "2023-03-07T16:47:36.050761Z",
          "iopub.status.idle": "2023-03-07T16:47:36.060514Z",
          "shell.execute_reply.started": "2023-03-07T16:47:36.050709Z",
          "shell.execute_reply": "2023-03-07T16:47:36.059312Z"
        },
        "trusted": true
      },
      "outputs": [],
      "execution_count": null
    },
    {
      "cell_type": "code",
      "source": [
        "# categories wise number of observations in a column\n",
        "\n",
        "titanic['sex'].value_counts()"
      ],
      "metadata": {
        "id": "72690XDP5UuS",
        "execution": {
          "iopub.status.busy": "2023-03-07T16:47:36.062411Z",
          "iopub.execute_input": "2023-03-07T16:47:36.063108Z",
          "iopub.status.idle": "2023-03-07T16:47:36.07355Z",
          "shell.execute_reply.started": "2023-03-07T16:47:36.06307Z",
          "shell.execute_reply": "2023-03-07T16:47:36.07237Z"
        },
        "trusted": true
      },
      "outputs": [],
      "execution_count": null
    },
    {
      "cell_type": "code",
      "source": [
        "# count of missing values as na\n",
        "\n",
        "titanic.isna().sum()"
      ],
      "metadata": {
        "id": "BzHaSkbs5Uxc",
        "execution": {
          "iopub.status.busy": "2023-03-07T16:47:36.075705Z",
          "iopub.execute_input": "2023-03-07T16:47:36.076622Z",
          "iopub.status.idle": "2023-03-07T16:47:36.09362Z",
          "shell.execute_reply.started": "2023-03-07T16:47:36.076569Z",
          "shell.execute_reply": "2023-03-07T16:47:36.092583Z"
        },
        "trusted": true
      },
      "outputs": [],
      "execution_count": null
    },
    {
      "cell_type": "code",
      "source": [
        "# count of missing values as null\n",
        "\n",
        "titanic.isnull().sum()"
      ],
      "metadata": {
        "id": "YZNjN9Jg5U0c",
        "execution": {
          "iopub.status.busy": "2023-03-07T16:47:36.095604Z",
          "iopub.execute_input": "2023-03-07T16:47:36.096465Z",
          "iopub.status.idle": "2023-03-07T16:47:36.111177Z",
          "shell.execute_reply.started": "2023-03-07T16:47:36.096413Z",
          "shell.execute_reply": "2023-03-07T16:47:36.110051Z"
        },
        "trusted": true
      },
      "outputs": [],
      "execution_count": null
    },
    {
      "cell_type": "code",
      "source": [
        "# convert dataframe to array\n",
        "\n",
        "titanic.values"
      ],
      "metadata": {
        "execution": {
          "iopub.status.busy": "2023-04-19T11:13:26.212679Z",
          "iopub.execute_input": "2023-04-19T11:13:26.213257Z",
          "iopub.status.idle": "2023-04-19T11:13:26.222836Z",
          "shell.execute_reply.started": "2023-04-19T11:13:26.213203Z",
          "shell.execute_reply": "2023-04-19T11:13:26.221694Z"
        },
        "trusted": true,
        "id": "vLCxtBlu0l8g"
      },
      "outputs": [],
      "execution_count": null
    },
    {
      "cell_type": "code",
      "source": [
        "# convert a series to array\n",
        "\n",
        "titanic.sex.values"
      ],
      "metadata": {
        "execution": {
          "iopub.status.busy": "2023-04-19T11:13:49.499353Z",
          "iopub.execute_input": "2023-04-19T11:13:49.499811Z",
          "iopub.status.idle": "2023-04-19T11:13:49.50896Z",
          "shell.execute_reply.started": "2023-04-19T11:13:49.499766Z",
          "shell.execute_reply": "2023-04-19T11:13:49.507418Z"
        },
        "trusted": true,
        "id": "efgrbzbq0l8g"
      },
      "outputs": [],
      "execution_count": null
    }
  ]
}