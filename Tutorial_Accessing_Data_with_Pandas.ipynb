{
  "cells": [
    {
      "source": [
        "# IMPORTANT: RUN THIS CELL IN ORDER TO IMPORT YOUR KAGGLE DATA SOURCES,\n",
        "# THEN FEEL FREE TO DELETE THIS CELL.\n",
        "# NOTE: THIS NOTEBOOK ENVIRONMENT DIFFERS FROM KAGGLE'S PYTHON\n",
        "# ENVIRONMENT SO THERE MAY BE MISSING LIBRARIES USED BY YOUR\n",
        "# NOTEBOOK.\n",
        "import kagglehub\n",
        "nationalparkservice_park_biodiversity_path = kagglehub.dataset_download('nationalparkservice/park-biodiversity')\n",
        "\n",
        "print('Data source import complete.')\n"
      ],
      "metadata": {
        "id": "C9DBYx3-zAdt"
      },
      "cell_type": "code",
      "outputs": [],
      "execution_count": null
    },
    {
      "metadata": {
        "_cell_guid": "aaf805b9-fdd3-4573-9484-dc0321d10201",
        "_uuid": "ec80e19dc22ea802a11121cd593b0a3ca710f6f9",
        "id": "GnaOhY7HzAdu"
      },
      "cell_type": "markdown",
      "source": [
        "This tutorial will walk you through the essentials of how to index & filter data with Pandas. Think of it as a greatly condensed, opinionated, version of [the official indexing documentation.](http://pandas.pydata.org/pandas-docs/stable/indexing.html#).\n",
        "\n",
        "We'll start by loading Pandas and the data:"
      ]
    },
    {
      "metadata": {
        "collapsed": true,
        "_cell_guid": "6509b332-0915-4c3e-878d-d2316b2e8fd7",
        "_uuid": "f3e68c0b7e55ffcf5670e6165a82c88486b1e471",
        "trusted": true,
        "id": "u3UV_bmhzAdw"
      },
      "cell_type": "code",
      "source": [
        "import pandas as pd"
      ],
      "execution_count": null,
      "outputs": []
    },
    {
      "metadata": {
        "collapsed": true,
        "_cell_guid": "9c2a4122-0ca9-4af3-97c0-e3a08fa4e4b3",
        "scrolled": true,
        "_uuid": "c44c3b50b6868b5fac409c3ffd8a1ad7ccf1247e",
        "trusted": true,
        "id": "S1-b55QezAdw"
      },
      "cell_type": "code",
      "source": [
        "df = pd.read_csv('../input/parks.csv', index_col=['Park Code'])"
      ],
      "execution_count": null,
      "outputs": []
    },
    {
      "metadata": {
        "_cell_guid": "c935dd0c-6bc8-43fc-8b78-3d6b86c80245",
        "_uuid": "dcac25e7bc272da987753eebaaba831d0d267932",
        "trusted": true,
        "id": "nDxgGqKlzAdx",
        "outputId": "0ff768a8-f772-4d80-dbc3-48d777150415"
      },
      "cell_type": "code",
      "source": [
        "df.head(3)"
      ],
      "execution_count": null,
      "outputs": [
        {
          "output_type": "execute_result",
          "execution_count": 3,
          "data": {
            "text/plain": "                        Park Name State   Acres  Latitude  Longitude\nPark Code                                                           \nACAD         Acadia National Park    ME   47390     44.35     -68.21\nARCH         Arches National Park    UT   76519     38.68    -109.57\nBADL       Badlands National Park    SD  242756     43.75    -102.50",
            "text/html": "<div>\n<style>\n    .dataframe thead tr:only-child th {\n        text-align: right;\n    }\n\n    .dataframe thead th {\n        text-align: left;\n    }\n\n    .dataframe tbody tr th {\n        vertical-align: top;\n    }\n</style>\n<table border=\"1\" class=\"dataframe\">\n  <thead>\n    <tr style=\"text-align: right;\">\n      <th></th>\n      <th>Park Name</th>\n      <th>State</th>\n      <th>Acres</th>\n      <th>Latitude</th>\n      <th>Longitude</th>\n    </tr>\n    <tr>\n      <th>Park Code</th>\n      <th></th>\n      <th></th>\n      <th></th>\n      <th></th>\n      <th></th>\n    </tr>\n  </thead>\n  <tbody>\n    <tr>\n      <th>ACAD</th>\n      <td>Acadia National Park</td>\n      <td>ME</td>\n      <td>47390</td>\n      <td>44.35</td>\n      <td>-68.21</td>\n    </tr>\n    <tr>\n      <th>ARCH</th>\n      <td>Arches National Park</td>\n      <td>UT</td>\n      <td>76519</td>\n      <td>38.68</td>\n      <td>-109.57</td>\n    </tr>\n    <tr>\n      <th>BADL</th>\n      <td>Badlands National Park</td>\n      <td>SD</td>\n      <td>242756</td>\n      <td>43.75</td>\n      <td>-102.50</td>\n    </tr>\n  </tbody>\n</table>\n</div>"
          },
          "metadata": {}
        }
      ]
    },
    {
      "metadata": {
        "_cell_guid": "c17515e5-13ca-4771-b644-facf558e0b9c",
        "_uuid": "c9324546cdefc4b865acb018a7dfec42bde43f7c",
        "id": "TvhbjAJMzAdy"
      },
      "cell_type": "markdown",
      "source": [
        "### Indexing: Single Rows\n",
        "The simplest way to access a row is to pass the row number to the `.iloc` method. Note that first row is zero, just like list indexes."
      ]
    },
    {
      "metadata": {
        "_cell_guid": "b269c9c3-1aa6-4671-8a2c-dfbae9ebc459",
        "_uuid": "3c5c2e640bf4523639dd2b7de8a62740f5c22a45",
        "trusted": true,
        "id": "HA3Hj87OzAdy",
        "outputId": "86033eb7-f637-466f-b543-418db77da47e"
      },
      "cell_type": "code",
      "source": [
        "df.iloc[2]"
      ],
      "execution_count": null,
      "outputs": [
        {
          "output_type": "execute_result",
          "execution_count": 4,
          "data": {
            "text/plain": "Park Name    Badlands National Park\nState                            SD\nAcres                        242756\nLatitude                      43.75\nLongitude                    -102.5\nName: BADL, dtype: object"
          },
          "metadata": {}
        }
      ]
    },
    {
      "metadata": {
        "_cell_guid": "95813fb6-9db0-46a4-97dc-1983ef2035de",
        "_uuid": "d1012b10ee4c6ec7017c5c10d1fad37066df68fa",
        "id": "5oXHhrW5zAdz"
      },
      "cell_type": "markdown",
      "source": [
        "The other main approach is to pass a value from your dataframe's index to the `.loc` method:"
      ]
    },
    {
      "metadata": {
        "_cell_guid": "5f1c938c-57ff-4b88-8e43-b20449d2a7d5",
        "_uuid": "ab10e37a6d8d8ba0e4460c4ade632e9ecc56f042",
        "trusted": true,
        "id": "TidHEeJ1zAd0",
        "outputId": "32545898-7660-481b-b942-cb61d19d2e5a"
      },
      "cell_type": "code",
      "source": [
        "df.loc['BADL']"
      ],
      "execution_count": null,
      "outputs": [
        {
          "output_type": "execute_result",
          "execution_count": 5,
          "data": {
            "text/plain": "Park Name    Badlands National Park\nState                            SD\nAcres                        242756\nLatitude                      43.75\nLongitude                    -102.5\nName: BADL, dtype: object"
          },
          "metadata": {}
        }
      ]
    },
    {
      "metadata": {
        "_cell_guid": "c6cb4421-d06d-4f3d-b978-3aee2526b57c",
        "_uuid": "96abef4ba5bb2aee5b19b5c7468698cc87168f51",
        "id": "_-AqYLNIzAd0"
      },
      "cell_type": "markdown",
      "source": [
        "### Indexing: Multiple Rows\n",
        "If we need multiple rows, we can pass in multiple index values. Note that this changes the order of the results!"
      ]
    },
    {
      "metadata": {
        "_cell_guid": "bf1bcc3c-68f2-42ba-af2a-4ff7061dee3b",
        "_uuid": "3b380803c992aa3c167411c425c0707b46f4c752",
        "trusted": true,
        "id": "9CtUnuSkzAd1",
        "outputId": "7367d4a1-2f45-45d2-edcb-93037f72a0dd"
      },
      "cell_type": "code",
      "source": [
        "df.loc[['BADL', 'ARCH', 'ACAD']]"
      ],
      "execution_count": null,
      "outputs": [
        {
          "output_type": "execute_result",
          "execution_count": 6,
          "data": {
            "text/plain": "                        Park Name State   Acres  Latitude  Longitude\nPark Code                                                           \nBADL       Badlands National Park    SD  242756     43.75    -102.50\nARCH         Arches National Park    UT   76519     38.68    -109.57\nACAD         Acadia National Park    ME   47390     44.35     -68.21",
            "text/html": "<div>\n<style>\n    .dataframe thead tr:only-child th {\n        text-align: right;\n    }\n\n    .dataframe thead th {\n        text-align: left;\n    }\n\n    .dataframe tbody tr th {\n        vertical-align: top;\n    }\n</style>\n<table border=\"1\" class=\"dataframe\">\n  <thead>\n    <tr style=\"text-align: right;\">\n      <th></th>\n      <th>Park Name</th>\n      <th>State</th>\n      <th>Acres</th>\n      <th>Latitude</th>\n      <th>Longitude</th>\n    </tr>\n    <tr>\n      <th>Park Code</th>\n      <th></th>\n      <th></th>\n      <th></th>\n      <th></th>\n      <th></th>\n    </tr>\n  </thead>\n  <tbody>\n    <tr>\n      <th>BADL</th>\n      <td>Badlands National Park</td>\n      <td>SD</td>\n      <td>242756</td>\n      <td>43.75</td>\n      <td>-102.50</td>\n    </tr>\n    <tr>\n      <th>ARCH</th>\n      <td>Arches National Park</td>\n      <td>UT</td>\n      <td>76519</td>\n      <td>38.68</td>\n      <td>-109.57</td>\n    </tr>\n    <tr>\n      <th>ACAD</th>\n      <td>Acadia National Park</td>\n      <td>ME</td>\n      <td>47390</td>\n      <td>44.35</td>\n      <td>-68.21</td>\n    </tr>\n  </tbody>\n</table>\n</div>"
          },
          "metadata": {}
        }
      ]
    },
    {
      "metadata": {
        "_cell_guid": "48297d84-09a7-45f0-ad8c-ebc1c63cdc47",
        "_uuid": "da8760b72ad19abe066b4cc53cdb7197f333ce04",
        "trusted": true,
        "id": "-ml5ZoN1zAd1",
        "outputId": "f2ea78dd-5839-4d1c-801a-c53498aa3437"
      },
      "cell_type": "code",
      "source": [
        "df.iloc[[2, 1, 0]]"
      ],
      "execution_count": null,
      "outputs": [
        {
          "output_type": "execute_result",
          "execution_count": 7,
          "data": {
            "text/plain": "                        Park Name State   Acres  Latitude  Longitude\nPark Code                                                           \nBADL       Badlands National Park    SD  242756     43.75    -102.50\nARCH         Arches National Park    UT   76519     38.68    -109.57\nACAD         Acadia National Park    ME   47390     44.35     -68.21",
            "text/html": "<div>\n<style>\n    .dataframe thead tr:only-child th {\n        text-align: right;\n    }\n\n    .dataframe thead th {\n        text-align: left;\n    }\n\n    .dataframe tbody tr th {\n        vertical-align: top;\n    }\n</style>\n<table border=\"1\" class=\"dataframe\">\n  <thead>\n    <tr style=\"text-align: right;\">\n      <th></th>\n      <th>Park Name</th>\n      <th>State</th>\n      <th>Acres</th>\n      <th>Latitude</th>\n      <th>Longitude</th>\n    </tr>\n    <tr>\n      <th>Park Code</th>\n      <th></th>\n      <th></th>\n      <th></th>\n      <th></th>\n      <th></th>\n    </tr>\n  </thead>\n  <tbody>\n    <tr>\n      <th>BADL</th>\n      <td>Badlands National Park</td>\n      <td>SD</td>\n      <td>242756</td>\n      <td>43.75</td>\n      <td>-102.50</td>\n    </tr>\n    <tr>\n      <th>ARCH</th>\n      <td>Arches National Park</td>\n      <td>UT</td>\n      <td>76519</td>\n      <td>38.68</td>\n      <td>-109.57</td>\n    </tr>\n    <tr>\n      <th>ACAD</th>\n      <td>Acadia National Park</td>\n      <td>ME</td>\n      <td>47390</td>\n      <td>44.35</td>\n      <td>-68.21</td>\n    </tr>\n  </tbody>\n</table>\n</div>"
          },
          "metadata": {}
        }
      ]
    },
    {
      "metadata": {
        "_cell_guid": "e0a231a8-afd1-473c-8caf-44cb20caed49",
        "_uuid": "8c8fb5130ab3232f54bd88dc239375076fb2533a",
        "id": "6veWTEXJzAd2"
      },
      "cell_type": "markdown",
      "source": [
        "Slicing the dataframe just as if it were a list also works."
      ]
    },
    {
      "metadata": {
        "_cell_guid": "23d72a89-9562-4f3c-864f-d2b4a7135ab6",
        "_uuid": "aa5d5b67871da97c2fc848c11e5c26a12d42ab87",
        "trusted": true,
        "id": "lhw4q8APzAd2",
        "outputId": "92238a45-9504-44d2-fd4c-3ce992be6db4"
      },
      "cell_type": "code",
      "source": [
        "df[:3]"
      ],
      "execution_count": null,
      "outputs": [
        {
          "output_type": "execute_result",
          "execution_count": 8,
          "data": {
            "text/plain": "                        Park Name State   Acres  Latitude  Longitude\nPark Code                                                           \nACAD         Acadia National Park    ME   47390     44.35     -68.21\nARCH         Arches National Park    UT   76519     38.68    -109.57\nBADL       Badlands National Park    SD  242756     43.75    -102.50",
            "text/html": "<div>\n<style>\n    .dataframe thead tr:only-child th {\n        text-align: right;\n    }\n\n    .dataframe thead th {\n        text-align: left;\n    }\n\n    .dataframe tbody tr th {\n        vertical-align: top;\n    }\n</style>\n<table border=\"1\" class=\"dataframe\">\n  <thead>\n    <tr style=\"text-align: right;\">\n      <th></th>\n      <th>Park Name</th>\n      <th>State</th>\n      <th>Acres</th>\n      <th>Latitude</th>\n      <th>Longitude</th>\n    </tr>\n    <tr>\n      <th>Park Code</th>\n      <th></th>\n      <th></th>\n      <th></th>\n      <th></th>\n      <th></th>\n    </tr>\n  </thead>\n  <tbody>\n    <tr>\n      <th>ACAD</th>\n      <td>Acadia National Park</td>\n      <td>ME</td>\n      <td>47390</td>\n      <td>44.35</td>\n      <td>-68.21</td>\n    </tr>\n    <tr>\n      <th>ARCH</th>\n      <td>Arches National Park</td>\n      <td>UT</td>\n      <td>76519</td>\n      <td>38.68</td>\n      <td>-109.57</td>\n    </tr>\n    <tr>\n      <th>BADL</th>\n      <td>Badlands National Park</td>\n      <td>SD</td>\n      <td>242756</td>\n      <td>43.75</td>\n      <td>-102.50</td>\n    </tr>\n  </tbody>\n</table>\n</div>"
          },
          "metadata": {}
        }
      ]
    },
    {
      "metadata": {
        "_cell_guid": "99b65cad-1b6c-4610-b750-1ac8d9d64d7d",
        "_uuid": "6710592c1069f1a4c1170d1373237078e9bca438",
        "trusted": true,
        "id": "1nI5jubFzAd3",
        "outputId": "0d912209-aafd-4264-c463-d111a23da745"
      },
      "cell_type": "code",
      "source": [
        "df[3:6]"
      ],
      "execution_count": null,
      "outputs": [
        {
          "output_type": "execute_result",
          "execution_count": 9,
          "data": {
            "text/plain": "                                            Park Name State   Acres  Latitude  \\\nPark Code                                                                       \nBIBE                           Big Bend National Park    TX  801163     29.25   \nBISC                           Biscayne National Park    FL  172924     25.65   \nBLCA       Black Canyon of the Gunnison National Park    CO   32950     38.57   \n\n           Longitude  \nPark Code             \nBIBE         -103.25  \nBISC          -80.08  \nBLCA         -107.72  ",
            "text/html": "<div>\n<style>\n    .dataframe thead tr:only-child th {\n        text-align: right;\n    }\n\n    .dataframe thead th {\n        text-align: left;\n    }\n\n    .dataframe tbody tr th {\n        vertical-align: top;\n    }\n</style>\n<table border=\"1\" class=\"dataframe\">\n  <thead>\n    <tr style=\"text-align: right;\">\n      <th></th>\n      <th>Park Name</th>\n      <th>State</th>\n      <th>Acres</th>\n      <th>Latitude</th>\n      <th>Longitude</th>\n    </tr>\n    <tr>\n      <th>Park Code</th>\n      <th></th>\n      <th></th>\n      <th></th>\n      <th></th>\n      <th></th>\n    </tr>\n  </thead>\n  <tbody>\n    <tr>\n      <th>BIBE</th>\n      <td>Big Bend National Park</td>\n      <td>TX</td>\n      <td>801163</td>\n      <td>29.25</td>\n      <td>-103.25</td>\n    </tr>\n    <tr>\n      <th>BISC</th>\n      <td>Biscayne National Park</td>\n      <td>FL</td>\n      <td>172924</td>\n      <td>25.65</td>\n      <td>-80.08</td>\n    </tr>\n    <tr>\n      <th>BLCA</th>\n      <td>Black Canyon of the Gunnison National Park</td>\n      <td>CO</td>\n      <td>32950</td>\n      <td>38.57</td>\n      <td>-107.72</td>\n    </tr>\n  </tbody>\n</table>\n</div>"
          },
          "metadata": {}
        }
      ]
    },
    {
      "metadata": {
        "_cell_guid": "8eeb6f0d-e8bd-4324-9d93-fe7066162220",
        "_uuid": "f778c78d005a589b7e211e2c99a8f6671cd3eaae",
        "id": "J-d4TbR9zAd3"
      },
      "cell_type": "markdown",
      "source": [
        "### Indexing: Columns\n",
        "We can access a subset of the columns in a dataframe by placing the list of columns in brackets like so:"
      ]
    },
    {
      "metadata": {
        "_cell_guid": "401ffc4a-7414-400c-a71e-5ead5f95bd4c",
        "_uuid": "8bfef032a086b27eb2ece7dd19b500eb460c05a2",
        "trusted": true,
        "id": "0B76ZHlgzAd3",
        "outputId": "b1bc4521-6012-4e67-8de5-772268c0f772"
      },
      "cell_type": "code",
      "source": [
        "df['State'].head(3)"
      ],
      "execution_count": null,
      "outputs": [
        {
          "output_type": "execute_result",
          "execution_count": 10,
          "data": {
            "text/plain": "Park Code\nACAD    ME\nARCH    UT\nBADL    SD\nName: State, dtype: object"
          },
          "metadata": {}
        }
      ]
    },
    {
      "metadata": {
        "_cell_guid": "7e033701-36eb-4ad7-8112-78cf906c2ea1",
        "_uuid": "4723d3baf3783eb4d37d9dd65fdd482655b35f10",
        "id": "hz5BRpifzAd3"
      },
      "cell_type": "markdown",
      "source": [
        "You can also access a single column as if it were an attribute of the dataframe, but only if the name has no spaces, uses only basic characters, and doesn't share a name with a dataframe method. So, `df.State` works:"
      ]
    },
    {
      "metadata": {
        "_cell_guid": "778cda83-68ef-4a99-8398-60cb9150eee1",
        "_uuid": "1d59bd29803be85af09814e7c6040744de308950",
        "trusted": true,
        "id": "sGuialqAzAd3",
        "outputId": "5669ac3a-de1f-49ef-8171-4dbdcead2b49"
      },
      "cell_type": "code",
      "source": [
        "df.State.head(3)"
      ],
      "execution_count": null,
      "outputs": [
        {
          "output_type": "execute_result",
          "execution_count": 11,
          "data": {
            "text/plain": "Park Code\nACAD    ME\nARCH    UT\nBADL    SD\nName: State, dtype: object"
          },
          "metadata": {}
        }
      ]
    },
    {
      "metadata": {
        "_cell_guid": "753907e6-af2a-4a29-8ddf-80285b5fc50a",
        "_uuid": "f1dbdaaadd15f2e3ced8a30cead8ce20e4b8deaa",
        "id": "xdV3t8ZYzAd4"
      },
      "cell_type": "markdown",
      "source": [
        "but `df.Park Code` will fail as there's a space in the name:"
      ]
    },
    {
      "metadata": {
        "_cell_guid": "1f4477f6-de96-469c-a004-4b01e41014b8",
        "_uuid": "dca8065d074650d490b14b80ba61c37e8dc981e4",
        "trusted": true,
        "id": "hGBYohkbzAd4",
        "outputId": "84363adf-0410-447a-97e1-3909951cb271"
      },
      "cell_type": "code",
      "source": [
        "df.Park Code"
      ],
      "execution_count": null,
      "outputs": [
        {
          "output_type": "error",
          "ename": "SyntaxError",
          "evalue": "invalid syntax (<ipython-input-12-a282baf0d56f>, line 1)",
          "traceback": [
            "\u001b[0;36m  File \u001b[0;32m\"<ipython-input-12-a282baf0d56f>\"\u001b[0;36m, line \u001b[0;32m1\u001b[0m\n\u001b[0;31m    df.Park Code\u001b[0m\n\u001b[0m               ^\u001b[0m\n\u001b[0;31mSyntaxError\u001b[0m\u001b[0;31m:\u001b[0m invalid syntax\n"
          ]
        }
      ]
    },
    {
      "metadata": {
        "_cell_guid": "f8b25873-b400-430a-907b-2ea715d7407e",
        "_uuid": "2a227170ef8ec1177c2920bc481f8932bb6418cd",
        "id": "BR_RXwqDzAd4"
      },
      "cell_type": "markdown",
      "source": [
        "We can only access the 'Park Code' column by passing its name as a string in brackets, like `df['Park Code']`. I recommend either always using that approach or always converting your column names into a valid format as soon as you read in the data so that you don't have to mix the two methods. It's just a bit tidier.\n",
        "\n",
        "It's a good practice to clean your column names to prevent this sort of error. I'll use a very short cleaning function here since the names don't have any odd characters. By convention, the names should also be converted to lower case. Pandas is case sensitive, so future calls to all of the columns will need to be updated."
      ]
    },
    {
      "metadata": {
        "_cell_guid": "d9b9767b-f01d-4c6d-b396-184f3829a680",
        "_uuid": "4b4977f51f65b9075407f1246b2e3f8b3440cdee",
        "trusted": true,
        "id": "HsZMEZ07zAd4",
        "outputId": "3d4fa4e2-0ad0-43d8-fcaf-75c3635dacbb"
      },
      "cell_type": "code",
      "source": [
        "df.columns = [col.replace(' ', '_').lower() for col in df.columns]\n",
        "print(df.columns)"
      ],
      "execution_count": null,
      "outputs": [
        {
          "output_type": "stream",
          "text": "Index(['park_name', 'state', 'acres', 'latitude', 'longitude'], dtype='object')\n",
          "name": "stdout"
        }
      ]
    },
    {
      "metadata": {
        "_cell_guid": "48de9e74-8a63-4a0f-9cec-80cc6a0ce5e7",
        "_uuid": "466ece4db69be3abb140421fddc361b93db0e9ad",
        "id": "7Zg2wGzZzAd4"
      },
      "cell_type": "markdown",
      "source": [
        "### Indexing: Columns and Rows\n",
        "If we need to subset by both columns and rows, you can stack the commands we've already learned."
      ]
    },
    {
      "metadata": {
        "_cell_guid": "eb3fa3de-d494-4ddb-b8fb-b514c0e62115",
        "_uuid": "7cbf2679c3b7a11165e7c50893c2877f477e8615",
        "trusted": true,
        "id": "ngR0glHyzAd5",
        "outputId": "c07dbeec-2d55-411b-b1a0-c5d2a8dd78de"
      },
      "cell_type": "code",
      "source": [
        "df[['state', 'acres']][:3]"
      ],
      "execution_count": null,
      "outputs": [
        {
          "output_type": "execute_result",
          "execution_count": 16,
          "data": {
            "text/plain": "          state   acres\nPark Code              \nACAD         ME   47390\nARCH         UT   76519\nBADL         SD  242756",
            "text/html": "<div>\n<style>\n    .dataframe thead tr:only-child th {\n        text-align: right;\n    }\n\n    .dataframe thead th {\n        text-align: left;\n    }\n\n    .dataframe tbody tr th {\n        vertical-align: top;\n    }\n</style>\n<table border=\"1\" class=\"dataframe\">\n  <thead>\n    <tr style=\"text-align: right;\">\n      <th></th>\n      <th>state</th>\n      <th>acres</th>\n    </tr>\n    <tr>\n      <th>Park Code</th>\n      <th></th>\n      <th></th>\n    </tr>\n  </thead>\n  <tbody>\n    <tr>\n      <th>ACAD</th>\n      <td>ME</td>\n      <td>47390</td>\n    </tr>\n    <tr>\n      <th>ARCH</th>\n      <td>UT</td>\n      <td>76519</td>\n    </tr>\n    <tr>\n      <th>BADL</th>\n      <td>SD</td>\n      <td>242756</td>\n    </tr>\n  </tbody>\n</table>\n</div>"
          },
          "metadata": {}
        }
      ]
    },
    {
      "metadata": {
        "_cell_guid": "8d57d503-6f14-4945-ba26-3fa14aa4af2e",
        "_uuid": "06a5c1c524adaf082e55a04fa9387c68d6e9d8c0",
        "id": "W9HeD0amzAd5"
      },
      "cell_type": "markdown",
      "source": [
        "### Indexing: Scalar Values\n",
        "As you may have noticed, everything we've tried so far returns a small dataframe or series. If you need a single value, simply pass in a single column and index value."
      ]
    },
    {
      "metadata": {
        "_cell_guid": "5364c6bf-3c26-4690-be11-1d8822ab34f2",
        "_uuid": "56379205395b7929137d0823233f6576faf58252",
        "trusted": true,
        "id": "oQSIYFopzAd5",
        "outputId": "b13fa260-c9fd-422c-cc12-eadb8febd707"
      },
      "cell_type": "code",
      "source": [
        "df.state.iloc[2]"
      ],
      "execution_count": null,
      "outputs": [
        {
          "output_type": "execute_result",
          "execution_count": 17,
          "data": {
            "text/plain": "'SD'"
          },
          "metadata": {}
        }
      ]
    },
    {
      "metadata": {
        "_cell_guid": "0b2747af-226c-4cbd-98e6-8eeb29237ecd",
        "_uuid": "93b7956d972472d89762a2a1daf6520568cb85f9",
        "id": "9xsTw8uyzAd5"
      },
      "cell_type": "markdown",
      "source": [
        "Note that you will get a different return type if you pass a single value in a list."
      ]
    },
    {
      "metadata": {
        "_cell_guid": "1934a246-530c-4f87-9f4d-d7d0eb6f5652",
        "_uuid": "56c4cbe662b730c1bde2e62ac1a30db3d87de55f",
        "trusted": true,
        "id": "R-jTTqlrzAd6",
        "outputId": "5e31f5a1-2ea1-4894-9ab4-2f98a9fc875b"
      },
      "cell_type": "code",
      "source": [
        "df.state.iloc[[2]]"
      ],
      "execution_count": null,
      "outputs": [
        {
          "output_type": "execute_result",
          "execution_count": 18,
          "data": {
            "text/plain": "Park Code\nBADL    SD\nName: state, dtype: object"
          },
          "metadata": {}
        }
      ]
    },
    {
      "metadata": {
        "_cell_guid": "04bbfa38-a32c-4369-bbdb-04f22e4e3af1",
        "_uuid": "16ecd5a03fdb21bce28aa2d376e6ea9841cc5e02",
        "id": "FkslnWi6zAd6"
      },
      "cell_type": "markdown",
      "source": [
        "### Selecting a Subset of the Data"
      ]
    },
    {
      "metadata": {
        "_cell_guid": "fbc5aa04-dac1-4cc5-b6d3-fe708ae71fff",
        "_uuid": "884d54c635b20ee09ec54519878e50e8ea59ef5d",
        "id": "cfKlMxMXzAd6"
      },
      "cell_type": "markdown",
      "source": [
        "The main method for subsetting data in Pandas is called [boolean indexing](http://pandas.pydata.org/pandas-docs/stable/indexing.html#boolean-indexing). First, let's take a look at what pandas does when we ask it to evaluate a boolean:"
      ]
    },
    {
      "metadata": {
        "_cell_guid": "54ffff3f-67d0-4c06-bb74-baa2d25cd822",
        "_uuid": "b16fe3476ebd200bee5c5160a59f55f8ee65b2fd",
        "trusted": true,
        "id": "8j_yOgC9zAd6",
        "outputId": "d9ba9122-cee9-443c-c3b1-799796bdc8a5"
      },
      "cell_type": "code",
      "source": [
        "(df.state == 'UT').head(3)"
      ],
      "execution_count": null,
      "outputs": [
        {
          "output_type": "execute_result",
          "execution_count": 19,
          "data": {
            "text/plain": "Park Code\nACAD    False\nARCH     True\nBADL    False\nName: state, dtype: bool"
          },
          "metadata": {}
        }
      ]
    },
    {
      "metadata": {
        "_cell_guid": "be8ebce7-1c01-4c0b-b274-f8fd259e48b1",
        "_uuid": "30ab3185a692b22b7cbc208635b1202a3d3c9c09",
        "id": "sW1pnVG9zAd6"
      },
      "cell_type": "markdown",
      "source": [
        "We get a series of the results of the boolean. Passing that series into a dataframe gives us the subset of the dataframe where the boolean evaluates to `True`."
      ]
    },
    {
      "metadata": {
        "_cell_guid": "d6e46944-2de7-4e67-a123-c38da7edff38",
        "_uuid": "708bf6bc00d79050d7e6f1ab185e6df4cfb1c661",
        "trusted": true,
        "id": "T73Agh6szAd7",
        "outputId": "61a6329c-719f-40a3-c6ad-caf0288479b4"
      },
      "cell_type": "code",
      "source": [
        "df[df.state == 'UT']"
      ],
      "execution_count": null,
      "outputs": [
        {
          "output_type": "execute_result",
          "execution_count": 20,
          "data": {
            "text/plain": "                            park_name state   acres  latitude  longitude\nPark Code                                                               \nARCH             Arches National Park    UT   76519     38.68    -109.57\nBRCA       Bryce Canyon National Park    UT   35835     37.57    -112.18\nCANY        Canyonlands National Park    UT  337598     38.20    -109.93\nCARE       Capitol Reef National Park    UT  241904     38.20    -111.17\nZION               Zion National Park    UT  146598     37.30    -113.05",
            "text/html": "<div>\n<style>\n    .dataframe thead tr:only-child th {\n        text-align: right;\n    }\n\n    .dataframe thead th {\n        text-align: left;\n    }\n\n    .dataframe tbody tr th {\n        vertical-align: top;\n    }\n</style>\n<table border=\"1\" class=\"dataframe\">\n  <thead>\n    <tr style=\"text-align: right;\">\n      <th></th>\n      <th>park_name</th>\n      <th>state</th>\n      <th>acres</th>\n      <th>latitude</th>\n      <th>longitude</th>\n    </tr>\n    <tr>\n      <th>Park Code</th>\n      <th></th>\n      <th></th>\n      <th></th>\n      <th></th>\n      <th></th>\n    </tr>\n  </thead>\n  <tbody>\n    <tr>\n      <th>ARCH</th>\n      <td>Arches National Park</td>\n      <td>UT</td>\n      <td>76519</td>\n      <td>38.68</td>\n      <td>-109.57</td>\n    </tr>\n    <tr>\n      <th>BRCA</th>\n      <td>Bryce Canyon National Park</td>\n      <td>UT</td>\n      <td>35835</td>\n      <td>37.57</td>\n      <td>-112.18</td>\n    </tr>\n    <tr>\n      <th>CANY</th>\n      <td>Canyonlands National Park</td>\n      <td>UT</td>\n      <td>337598</td>\n      <td>38.20</td>\n      <td>-109.93</td>\n    </tr>\n    <tr>\n      <th>CARE</th>\n      <td>Capitol Reef National Park</td>\n      <td>UT</td>\n      <td>241904</td>\n      <td>38.20</td>\n      <td>-111.17</td>\n    </tr>\n    <tr>\n      <th>ZION</th>\n      <td>Zion National Park</td>\n      <td>UT</td>\n      <td>146598</td>\n      <td>37.30</td>\n      <td>-113.05</td>\n    </tr>\n  </tbody>\n</table>\n</div>"
          },
          "metadata": {}
        }
      ]
    },
    {
      "metadata": {
        "_cell_guid": "d6d95aa8-2f0e-40a5-b25e-ba835b103e9b",
        "_uuid": "82f422cd77925e2ff141d3334124a85693a7b693",
        "id": "jkklFR8vzAd7"
      },
      "cell_type": "markdown",
      "source": [
        "Some of the logical operators are different:\n",
        "- `~` replaces `not`\n",
        "- `|` replaces `or`\n",
        "- `&` replaces `and`\n",
        "\n",
        "If you have multiple arguments they'll need to be wrapped in parentheses. For example:"
      ]
    },
    {
      "metadata": {
        "_cell_guid": "08758ccb-2c2a-4c52-b972-96b1e1c2412f",
        "scrolled": false,
        "_uuid": "e996cf6954130df1c67b2e4d39f2bab2d1f352c5",
        "trusted": true,
        "id": "y-nL4DEOzAd7",
        "outputId": "5d30c687-1577-4a97-8c16-08058eb9f238"
      },
      "cell_type": "code",
      "source": [
        "df[(df.latitude > 60) | (df.acres > 10**6)].head(3)"
      ],
      "execution_count": null,
      "outputs": [
        {
          "output_type": "execute_result",
          "execution_count": 21,
          "data": {
            "text/plain": "                                   park_name   state    acres  latitude  \\\nPark Code                                                                 \nDENA       Denali National Park and Preserve      AK  3372402     63.33   \nDEVA              Death Valley National Park  CA, NV  4740912     36.24   \nEVER                Everglades National Park      FL  1508538     25.32   \n\n           longitude  \nPark Code             \nDENA         -150.50  \nDEVA         -116.82  \nEVER          -80.93  ",
            "text/html": "<div>\n<style>\n    .dataframe thead tr:only-child th {\n        text-align: right;\n    }\n\n    .dataframe thead th {\n        text-align: left;\n    }\n\n    .dataframe tbody tr th {\n        vertical-align: top;\n    }\n</style>\n<table border=\"1\" class=\"dataframe\">\n  <thead>\n    <tr style=\"text-align: right;\">\n      <th></th>\n      <th>park_name</th>\n      <th>state</th>\n      <th>acres</th>\n      <th>latitude</th>\n      <th>longitude</th>\n    </tr>\n    <tr>\n      <th>Park Code</th>\n      <th></th>\n      <th></th>\n      <th></th>\n      <th></th>\n      <th></th>\n    </tr>\n  </thead>\n  <tbody>\n    <tr>\n      <th>DENA</th>\n      <td>Denali National Park and Preserve</td>\n      <td>AK</td>\n      <td>3372402</td>\n      <td>63.33</td>\n      <td>-150.50</td>\n    </tr>\n    <tr>\n      <th>DEVA</th>\n      <td>Death Valley National Park</td>\n      <td>CA, NV</td>\n      <td>4740912</td>\n      <td>36.24</td>\n      <td>-116.82</td>\n    </tr>\n    <tr>\n      <th>EVER</th>\n      <td>Everglades National Park</td>\n      <td>FL</td>\n      <td>1508538</td>\n      <td>25.32</td>\n      <td>-80.93</td>\n    </tr>\n  </tbody>\n</table>\n</div>"
          },
          "metadata": {}
        }
      ]
    },
    {
      "metadata": {
        "_cell_guid": "02a2d3f9-5f7a-4dd3-9828-f37589317ba0",
        "_uuid": "2f1a5a2e86fbe369085998490f33e74ecb124d77",
        "id": "ow3GSzUZzAd7"
      },
      "cell_type": "markdown",
      "source": [
        "You can also use more complicated expressions, including lambdas."
      ]
    },
    {
      "metadata": {
        "_cell_guid": "3b2a5145-82fc-4fa3-af08-c3cee631690e",
        "_uuid": "ba049726a59d195e6b43bf48e7196aba14c16e21",
        "trusted": true,
        "id": "Aoz43VrDzAd8",
        "outputId": "8c1d35b4-fa05-499d-8c4b-9197fcd7b8b6"
      },
      "cell_type": "code",
      "source": [
        "df[df['park_name'].str.split().apply(lambda x: len(x) == 3)].head(3)"
      ],
      "execution_count": null,
      "outputs": [
        {
          "output_type": "execute_result",
          "execution_count": 22,
          "data": {
            "text/plain": "                        park_name state   acres  latitude  longitude\nPark Code                                                           \nACAD         Acadia National Park    ME   47390     44.35     -68.21\nARCH         Arches National Park    UT   76519     38.68    -109.57\nBADL       Badlands National Park    SD  242756     43.75    -102.50",
            "text/html": "<div>\n<style>\n    .dataframe thead tr:only-child th {\n        text-align: right;\n    }\n\n    .dataframe thead th {\n        text-align: left;\n    }\n\n    .dataframe tbody tr th {\n        vertical-align: top;\n    }\n</style>\n<table border=\"1\" class=\"dataframe\">\n  <thead>\n    <tr style=\"text-align: right;\">\n      <th></th>\n      <th>park_name</th>\n      <th>state</th>\n      <th>acres</th>\n      <th>latitude</th>\n      <th>longitude</th>\n    </tr>\n    <tr>\n      <th>Park Code</th>\n      <th></th>\n      <th></th>\n      <th></th>\n      <th></th>\n      <th></th>\n    </tr>\n  </thead>\n  <tbody>\n    <tr>\n      <th>ACAD</th>\n      <td>Acadia National Park</td>\n      <td>ME</td>\n      <td>47390</td>\n      <td>44.35</td>\n      <td>-68.21</td>\n    </tr>\n    <tr>\n      <th>ARCH</th>\n      <td>Arches National Park</td>\n      <td>UT</td>\n      <td>76519</td>\n      <td>38.68</td>\n      <td>-109.57</td>\n    </tr>\n    <tr>\n      <th>BADL</th>\n      <td>Badlands National Park</td>\n      <td>SD</td>\n      <td>242756</td>\n      <td>43.75</td>\n      <td>-102.50</td>\n    </tr>\n  </tbody>\n</table>\n</div>"
          },
          "metadata": {}
        }
      ]
    },
    {
      "metadata": {
        "_cell_guid": "2d8137c1-af04-4c50-974d-279c3c8264d0",
        "_uuid": "f199a5273560004c180ae6e1bae60797d5f50190",
        "id": "L2d2cMi0zAd8"
      },
      "cell_type": "markdown",
      "source": [
        "### Key Companion Methods: `isin` and `isnull`\n",
        "These methods make it much easier and faster to perform some very common tasks. Suppose we wanted to find all parks on the West coast. `isin` makes that simple:"
      ]
    },
    {
      "metadata": {
        "_cell_guid": "988a43e9-fdb8-49e2-a380-122570824550",
        "_uuid": "51f3b8cbfc62e7426bc36233d95095ae56887b9d",
        "trusted": true,
        "id": "xUbHdvs0zAeC",
        "outputId": "0a72d54a-e0f5-40c5-b0bb-b9a3df8df217"
      },
      "cell_type": "code",
      "source": [
        "df[df.state.isin(['WA', 'OR', 'CA'])].head()"
      ],
      "execution_count": null,
      "outputs": [
        {
          "output_type": "execute_result",
          "execution_count": 23,
          "data": {
            "text/plain": "                               park_name state   acres  latitude  longitude\nPark Code                                                                  \nCHIS       Channel Islands National Park    CA  249561     34.01    -119.42\nCRLA           Crater Lake National Park    OR  183224     42.94    -122.10\nJOTR           Joshua Tree National Park    CA  789745     33.79    -115.90\nLAVO       Lassen Volcanic National Park    CA  106372     40.49    -121.51\nMORA         Mount Rainier National Park    WA  235625     46.85    -121.75",
            "text/html": "<div>\n<style>\n    .dataframe thead tr:only-child th {\n        text-align: right;\n    }\n\n    .dataframe thead th {\n        text-align: left;\n    }\n\n    .dataframe tbody tr th {\n        vertical-align: top;\n    }\n</style>\n<table border=\"1\" class=\"dataframe\">\n  <thead>\n    <tr style=\"text-align: right;\">\n      <th></th>\n      <th>park_name</th>\n      <th>state</th>\n      <th>acres</th>\n      <th>latitude</th>\n      <th>longitude</th>\n    </tr>\n    <tr>\n      <th>Park Code</th>\n      <th></th>\n      <th></th>\n      <th></th>\n      <th></th>\n      <th></th>\n    </tr>\n  </thead>\n  <tbody>\n    <tr>\n      <th>CHIS</th>\n      <td>Channel Islands National Park</td>\n      <td>CA</td>\n      <td>249561</td>\n      <td>34.01</td>\n      <td>-119.42</td>\n    </tr>\n    <tr>\n      <th>CRLA</th>\n      <td>Crater Lake National Park</td>\n      <td>OR</td>\n      <td>183224</td>\n      <td>42.94</td>\n      <td>-122.10</td>\n    </tr>\n    <tr>\n      <th>JOTR</th>\n      <td>Joshua Tree National Park</td>\n      <td>CA</td>\n      <td>789745</td>\n      <td>33.79</td>\n      <td>-115.90</td>\n    </tr>\n    <tr>\n      <th>LAVO</th>\n      <td>Lassen Volcanic National Park</td>\n      <td>CA</td>\n      <td>106372</td>\n      <td>40.49</td>\n      <td>-121.51</td>\n    </tr>\n    <tr>\n      <th>MORA</th>\n      <td>Mount Rainier National Park</td>\n      <td>WA</td>\n      <td>235625</td>\n      <td>46.85</td>\n      <td>-121.75</td>\n    </tr>\n  </tbody>\n</table>\n</div>"
          },
          "metadata": {}
        }
      ]
    },
    {
      "metadata": {
        "_cell_guid": "ac23b412-e093-40af-88ba-3ac960c553a3",
        "_uuid": "38376945433dafef1d848af2ddc1f1482a5a883e",
        "id": "6CwHP7-KzAeD"
      },
      "cell_type": "markdown",
      "source": [
        "### Less Common Methods\n",
        "Pandas offers many more indexing methods. You should probably stick to a few of them for the sake of keeping your code readable, but it's worth knowing they exist in case you need to read other people's code or have an unusual use case:\n",
        "\n",
        "- There are other ways to slice data with brackets. For the sake of readability, please don't use of them.\n",
        "- `.at` and `.iat`: like `.loc` and `.iloc` but much faster in exchange for only working on a single column and only returning a single result.\n",
        "- `.eval`: fast evaluation of a limited set of simple operators. `.query` works by calling this.\n",
        "- `.ix`: deprecated method that tried to determine if an index should be evaluated with .loc or .iloc. This led to a lot of subtle bugs! If you see this, you're looking at old code that won't work any more.\n",
        "- `.get`: like `.loc`, but will return a default value if the key doesn't exist in the index. Only works on a single column/series.\n",
        "- `.lookup`: Not recommended. It's in the documentation, but it's unclear if this is actually still supported.\n",
        "- `.mask`: like boolean indexing, but returns a dataframe/series of the same size as the original and anywhere that the boolean evaluates to `True` is set to `nan`.\n",
        "- `.query`: similar to boolean indexing. Faster for large dataframes. Only supports a restricted set of operations; don't use if you need `isnull()` or other dataframe methods.\n",
        "- `.take`: equivalent to `.iloc`, but can operate on either rows or columns.\n",
        "- `.where`: like boolean indexing, but returns a dataframe/series of the same size as the original and anywhere that the boolean evaluates to `False` is set to `nan`.\n",
        "- [Multi-indexing](http://pandas.pydata.org/pandas-docs/stable/advanced.html): potentially useful for small to mid sized heirarchical datasets. Slow on larger datasets."
      ]
    },
    {
      "metadata": {
        "collapsed": true,
        "_cell_guid": "e167cd75-9c1d-4327-ac0c-11ca9e5d1ddb",
        "_uuid": "259f0bbe2718e237b41e162ff691a612d846075e",
        "trusted": true,
        "id": "xNtJ5Cq6zAeD"
      },
      "cell_type": "code",
      "source": [],
      "execution_count": null,
      "outputs": []
    }
  ],
  "metadata": {
    "kernelspec": {
      "display_name": "Python 3",
      "language": "python",
      "name": "python3"
    },
    "language_info": {
      "name": "python",
      "version": "3.6.4",
      "mimetype": "text/x-python",
      "codemirror_mode": {
        "name": "ipython",
        "version": 3
      },
      "pygments_lexer": "ipython3",
      "nbconvert_exporter": "python",
      "file_extension": ".py"
    },
    "colab": {
      "name": "Tutorial: Accessing Data with Pandas",
      "provenance": []
    }
  },
  "nbformat": 4,
  "nbformat_minor": 0
}