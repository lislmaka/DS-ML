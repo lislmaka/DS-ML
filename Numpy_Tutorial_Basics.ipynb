{
  "metadata": {
    "colab": {
      "provenance": [],
      "name": "Numpy Tutorial Basics",
      "include_colab_link": true
    },
    "kernelspec": {
      "name": "python3",
      "display_name": "Python 3"
    },
    "language_info": {
      "name": "python"
    },
    "kaggle": {
      "accelerator": "none",
      "dataSources": [],
      "isInternetEnabled": true,
      "language": "python",
      "sourceType": "notebook",
      "isGpuEnabled": false
    }
  },
  "nbformat_minor": 0,
  "nbformat": 4,
  "cells": [
    {
      "cell_type": "markdown",
      "metadata": {
        "id": "view-in-github",
        "colab_type": "text"
      },
      "source": [
        "<a href=\"https://colab.research.google.com/github/lislmaka/DS-ML/blob/main/Numpy_Tutorial_Basics.ipynb\" target=\"_parent\"><img src=\"https://colab.research.google.com/assets/colab-badge.svg\" alt=\"Open In Colab\"/></a>"
      ]
    },
    {
      "cell_type": "markdown",
      "source": [
        "# **Numpy**\n",
        "Numpy is a general-purpose array-processing package. It provides a high-performance multidimensional array object and tools for working with these arrays.\n",
        ">**NumPy is short for \"Numerical Python\".**\n",
        "\n",
        ">**It also has functions for working in domain of:**\n",
        "\n",
        "\n",
        ">>  1.   linear algebra\n",
        ">\n",
        ">>  2.   fourier transform\n",
        ">\n",
        ">>  3.   matrices\n",
        "\n"
      ],
      "metadata": {
        "id": "4KvJyJ9pgMUh"
      }
    },
    {
      "cell_type": "markdown",
      "source": [
        "#### The **array object** in NumPy is called **ndarray**, it provides a lot of supporting functions that make working with ndarray very easy."
      ],
      "metadata": {
        "id": "JADp7eUWjQjA"
      }
    },
    {
      "cell_type": "markdown",
      "source": [
        "# **Why is NumPy Faster Than Lists?**\n",
        ">**NumPy arrays** are **stored** at **one** continuous **place** in **memory** unlike **lists**, so processes can access and manipulate them very efficiently.\n",
        "\n",
        ">This **behavior** is called **locality** of **reference** in **computer science**.\n",
        "\n",
        ">Also **optimized** to **work** with **latest CPU architectures**."
      ],
      "metadata": {
        "id": "HkvU-LozjrC_"
      }
    },
    {
      "cell_type": "markdown",
      "source": [
        "### **Install Numpy**"
      ],
      "metadata": {
        "id": "0FTY0U36kP-C"
      }
    },
    {
      "cell_type": "code",
      "source": [
        "!pip install numpy"
      ],
      "metadata": {
        "id": "jtM6E1p4st_q"
      },
      "execution_count": null,
      "outputs": []
    },
    {
      "cell_type": "code",
      "source": [
        "import numpy"
      ],
      "metadata": {
        "id": "Vs0zTC4rkXeG"
      },
      "execution_count": null,
      "outputs": []
    },
    {
      "cell_type": "markdown",
      "source": [
        ">NumPy is **usually imported** under the **np alias**.\n",
        "\n",
        "**alias:** In Python **alias** are an **alternate name** for **referring to the same thing**."
      ],
      "metadata": {
        "id": "ut9UxHCzkjlz"
      }
    },
    {
      "cell_type": "code",
      "source": [
        "import numpy as np"
      ],
      "metadata": {
        "id": "SEniHMnElwjz"
      },
      "execution_count": 2,
      "outputs": []
    },
    {
      "cell_type": "markdown",
      "source": [
        "# **Checking NumPy Version**\n",
        "The **version string** is stored under **__version__ attribute**."
      ],
      "metadata": {
        "id": "FSdvWZgplCk2"
      }
    },
    {
      "cell_type": "code",
      "source": [
        "print(np.__version__)"
      ],
      "metadata": {
        "id": "Bft3KLwqk-qA",
        "outputId": "d3c4dc08-2165-46d2-cd60-b349520e978c",
        "colab": {
          "base_uri": "https://localhost:8080/"
        }
      },
      "execution_count": 3,
      "outputs": [
        {
          "output_type": "stream",
          "name": "stdout",
          "text": [
            "2.0.2\n"
          ]
        }
      ]
    },
    {
      "cell_type": "markdown",
      "source": [
        "# **NumPy Creating Arrays**\n",
        ">NumPy is used to work with arrays.\n",
        ">> The **array object** in NumPy is called **ndarray**.\n",
        "\n",
        ">We can create a **NumPy ndarray** object by using the **array() function**."
      ],
      "metadata": {
        "id": "seRqr5rrldyK"
      }
    },
    {
      "cell_type": "code",
      "source": [
        "arr = np.array([12,20,30,40,50,60])\n",
        "\n",
        "print(arr)\n",
        "\n",
        "print(type(arr))"
      ],
      "metadata": {
        "id": "N9dlJrRDlQrq",
        "outputId": "320ab0d2-bf84-408d-b66c-7f360de0fa5b",
        "colab": {
          "base_uri": "https://localhost:8080/"
        }
      },
      "execution_count": 4,
      "outputs": [
        {
          "output_type": "stream",
          "name": "stdout",
          "text": [
            "[12 20 30 40 50 60]\n",
            "<class 'numpy.ndarray'>\n"
          ]
        }
      ]
    },
    {
      "cell_type": "markdown",
      "source": [
        ">**type():** This **built-in Python function** tells us the type of the object passed to it.\n",
        "\n",
        "> Like in above code it shows that **arr** is **numpy.ndarray** type"
      ],
      "metadata": {
        "id": "gAsS7aSBmNxL"
      }
    },
    {
      "cell_type": "markdown",
      "source": [
        "# **To create an ndarray**\n",
        ">We can **pass** a **list**, **tuple** or any **array-like object** into the ```array()``` method, and it will be **converted into an ndarray**"
      ],
      "metadata": {
        "id": "uDMmsC-7mhmu"
      }
    },
    {
      "cell_type": "code",
      "source": [
        "arr =np.array((10,20,30,40,50,60))\n",
        "print(arr)"
      ],
      "metadata": {
        "id": "osqEyNx2mKDD",
        "outputId": "cbcc8df8-50c1-42c8-b0dd-752f0a942bc1",
        "colab": {
          "base_uri": "https://localhost:8080/"
        }
      },
      "execution_count": 5,
      "outputs": [
        {
          "output_type": "stream",
          "name": "stdout",
          "text": [
            "[10 20 30 40 50 60]\n"
          ]
        }
      ]
    },
    {
      "cell_type": "markdown",
      "source": [
        "## **Create an aray within specified range**\n",
        "```np.arange()``` method can be used to replace ```np.array(range())``` method"
      ],
      "metadata": {
        "id": "sQRWp1BjegCJ"
      }
    },
    {
      "cell_type": "code",
      "source": [
        "# np.arange(start, stop, step)\n",
        "arr = np.arange(0, 21, 3)\n",
        "print(arr)\n",
        "print(type(arr))"
      ],
      "metadata": {
        "id": "bANlY6aWekAg",
        "outputId": "8d600c4a-d011-4969-fd2a-b6eb7d9bb6e0",
        "colab": {
          "base_uri": "https://localhost:8080/"
        }
      },
      "execution_count": 6,
      "outputs": [
        {
          "output_type": "stream",
          "name": "stdout",
          "text": [
            "[ 0  3  6  9 12 15 18]\n",
            "<class 'numpy.ndarray'>\n"
          ]
        }
      ]
    },
    {
      "cell_type": "markdown",
      "source": [
        "## **Create an array of evenly spaced numbers within specified range**\n",
        "```np.linspace(start, stop, num_of_elements, endpoint=True, retstep=False)``` has 5 parameters:\n",
        "- ```start```: start number (inclusive)\n",
        "- ```stop```: end number (inclusive unless ```endpoint``` set to ```False```)\n",
        "- ```num_of_elements```: number of elements contained in the array\n",
        "- ```endpoint```: boolean value representing whether the ```stop``` number is inclusive or not\n",
        "- ```retstep```: boolean value representing whether to return the step size"
      ],
      "metadata": {
        "id": "2pWHP3wyep2h"
      }
    },
    {
      "cell_type": "code",
      "source": [
        "arr, step_size = np.linspace(0, 10, 2, endpoint=False, retstep=True)\n",
        "print(arr)\n",
        "print(arr.size)\n",
        "print('The step size is ' + str(step_size))"
      ],
      "metadata": {
        "id": "AAPCLkC6ezFf",
        "outputId": "4a0e5b86-6a37-4d05-8704-8c32bfbdc773",
        "colab": {
          "base_uri": "https://localhost:8080/"
        }
      },
      "execution_count": 9,
      "outputs": [
        {
          "output_type": "stream",
          "name": "stdout",
          "text": [
            "[0. 5.]\n",
            "2\n",
            "The step size is 5.0\n"
          ]
        }
      ]
    },
    {
      "cell_type": "markdown",
      "source": [
        "## **Create an array of random values of given shape**\n",
        "```np.random.rand()``` method returns values in the range [0,1)"
      ],
      "metadata": {
        "id": "Mx-9TGmgfK46"
      }
    },
    {
      "cell_type": "code",
      "source": [
        "arr = np.random.rand(3,4)\n",
        "print(arr)"
      ],
      "metadata": {
        "id": "cn4EMlU2fPS6",
        "outputId": "d561f7b4-655b-47e2-9f9f-6f91c7c777e6",
        "colab": {
          "base_uri": "https://localhost:8080/"
        }
      },
      "execution_count": 10,
      "outputs": [
        {
          "output_type": "stream",
          "name": "stdout",
          "text": [
            "[[0.50168217 0.24522846 0.2978546  0.85631885]\n",
            " [0.71924718 0.04543845 0.59072882 0.11894127]\n",
            " [0.11948026 0.78803165 0.54975998 0.59598246]]\n"
          ]
        }
      ]
    },
    {
      "cell_type": "markdown",
      "source": [
        "## **Create an array of zeros of given shape**\n",
        "- ```np.zeros()```: create array of all zeros in given shape\n",
        "- ```np.zeros_like()```: create array of all zeros with the same shape and data type as the given input array"
      ],
      "metadata": {
        "id": "0J8GPnMLfSG3"
      }
    },
    {
      "cell_type": "code",
      "source": [
        "zeros = np.zeros((2,3))\n",
        "print(zeros)"
      ],
      "metadata": {
        "id": "120-y0-ofXev"
      },
      "execution_count": null,
      "outputs": []
    },
    {
      "cell_type": "markdown",
      "source": [
        "## **Create an array of ones of given shape**\n",
        "- ```np.ones()```: create array of all ones in given shape\n",
        "- ```np.ones_like()```: create array of all ones with the same shape and data type as the given input array"
      ],
      "metadata": {
        "id": "jzzMBgpIjJeq"
      }
    },
    {
      "cell_type": "code",
      "source": [
        "ones = np.ones((3,2))\n",
        "print(ones)"
      ],
      "metadata": {
        "id": "m5wJGFZbjLeQ"
      },
      "execution_count": null,
      "outputs": []
    },
    {
      "cell_type": "code",
      "source": [
        "arr = [[1,2,3], [4,5,6]]\n",
        "ones = np.ones_like(arr)\n",
        "print(ones)\n",
        "print('Data Type: ' + str(ones.dtype))"
      ],
      "metadata": {
        "id": "0AAoC55ijSYD"
      },
      "execution_count": null,
      "outputs": []
    },
    {
      "cell_type": "markdown",
      "source": [
        "## **Create an empty array of given shape**\n",
        "- ```np.empty()```: create array of empty values in given shape\n",
        "- ```np.empty_like()```: create array of empty values with the same shape and data type as the given input array\n",
        "\n",
        "Notice that the initial values are not necessarily set to zeroes.\n",
        "\n",
        "They are just some garbage values in random memory addresses."
      ],
      "metadata": {
        "id": "VFqviWkVjaVF"
      }
    },
    {
      "cell_type": "code",
      "source": [
        "empty = np.empty((2,2))\n",
        "print(empty)\n",
        "print(empty.dtype)"
      ],
      "metadata": {
        "id": "WEwT03LPjgIK"
      },
      "execution_count": null,
      "outputs": []
    },
    {
      "cell_type": "code",
      "source": [
        "newarr = np.array([[10,20,30], [40,50,60]], dtype=np.int64)\n",
        "empty = np.empty_like(newarr)\n",
        "print(empty)\n",
        "print('Data Type: ' + str(empty.dtype))"
      ],
      "metadata": {
        "id": "7baNixS5jolI"
      },
      "execution_count": null,
      "outputs": []
    },
    {
      "cell_type": "markdown",
      "source": [
        "## **Create an array of constant values of given shape**  \n",
        "- ```np.full()```: create array of constant values in given shape\n",
        "- ```np.full_like()```: create array of constant values with the same shape and data type as the given input array"
      ],
      "metadata": {
        "id": "8EOIIdYAjy8t"
      }
    },
    {
      "cell_type": "code",
      "source": [
        "full = np.full((4,4), 4)\n",
        "print(full)"
      ],
      "metadata": {
        "id": "6SU_boPzkBkB"
      },
      "execution_count": null,
      "outputs": []
    },
    {
      "cell_type": "code",
      "source": [
        "arr = np.array([[1,2], [3,4]], dtype=np.float64)\n",
        "full = np.full_like(arr, 5)\n",
        "print(full)\n",
        "print('Data Type: ' + str(full.dtype))"
      ],
      "metadata": {
        "id": "GivlhatSkG19"
      },
      "execution_count": null,
      "outputs": []
    },
    {
      "cell_type": "markdown",
      "source": [
        "## **Create an array in a repetitive manner**\n",
        "- ```np.repeat(iterable, reps, axis=None)```: repeat each element by n times\n",
        "    - ```iterable```: input array\n",
        "    - ```reps```: number of repetitions\n",
        "    - ```axis```: which axis to repeat along, default is ```None``` which will flatten the input array and then repeat\n",
        "- ```np.tile(iterable ,reps)```: repeat the whole array by n times\n",
        "    - ```iterable```: input array\n",
        "    - ```reps```: number of repetitions, it can be a tuple to represent repetitions along x-axis and y-axis"
      ],
      "metadata": {
        "id": "tr46BoKEkN6l"
      }
    },
    {
      "cell_type": "code",
      "source": [
        "# No axis specified, then flatten the input array first and repeat\n",
        "# Data Augemnation\n",
        "\n",
        "arr = [[0, 1, 2], [3, 4, 5]]\n",
        "\n",
        "print(np.repeat(arr, 4))"
      ],
      "metadata": {
        "id": "PicrpgMLkYk_"
      },
      "execution_count": null,
      "outputs": []
    },
    {
      "cell_type": "code",
      "source": [
        "# An example of repeating along x-axis\n",
        "arr = [[0, 1, 2], [3, 4, 5]]\n",
        "print(np.repeat(arr, 3, axis=0)) # row"
      ],
      "metadata": {
        "id": "stQJGzHHkiOx"
      },
      "execution_count": null,
      "outputs": []
    },
    {
      "cell_type": "code",
      "source": [
        "# An example of repeating along y-axis\n",
        "arr = [[0, 1, 2], [3, 4, 5]]\n",
        "print(np.repeat(arr, 3, axis=1))"
      ],
      "metadata": {
        "id": "hS5hRBpkkk1x"
      },
      "execution_count": null,
      "outputs": []
    },
    {
      "cell_type": "code",
      "source": [
        "# Repeat along specified axes\n",
        "print(np.tile(arr, (2,2)))"
      ],
      "metadata": {
        "id": "j-y9dX_dk0gz"
      },
      "execution_count": null,
      "outputs": []
    },
    {
      "cell_type": "markdown",
      "source": [
        "## **Create an identity matrix of given size**\n",
        "- ```np.eye(size, k=0)```: create an identity matrix of given size\n",
        "    - ```size```: the size of the identity matrix\n",
        "    - ```k```: the diagonal offset\n",
        "- ```np.identity()```: same as ```np.eye()``` but does not carry parameters"
      ],
      "metadata": {
        "id": "-K7TxYfRlHpU"
      }
    },
    {
      "cell_type": "code",
      "source": [
        "identity_matrix = np.eye(4)\n",
        "print(identity_matrix)\n",
        "print(type(identity_matrix))"
      ],
      "metadata": {
        "id": "Mc93q__tlN5_"
      },
      "execution_count": null,
      "outputs": []
    },
    {
      "cell_type": "code",
      "source": [
        "# An example of diagonal offset\n",
        "identity_matrix = np.eye(5, k=1) # default k = 0\n",
        "print(identity_matrix)"
      ],
      "metadata": {
        "id": "NC24vSGElTQu"
      },
      "execution_count": null,
      "outputs": []
    },
    {
      "cell_type": "code",
      "source": [
        "identity_matrix = np.identity(5)\n",
        "print(identity_matrix)\n",
        "print(type(identity_matrix))"
      ],
      "metadata": {
        "id": "wYOO5Kq5lVWY"
      },
      "execution_count": null,
      "outputs": []
    },
    {
      "cell_type": "markdown",
      "source": [
        "## **Create an array with given values on the diagonal**"
      ],
      "metadata": {
        "id": "2zzjT9srmZM5"
      }
    },
    {
      "cell_type": "code",
      "source": [
        "arr = np.random.rand(5,5)\n",
        "print(arr)"
      ],
      "metadata": {
        "id": "EUMj1eXvmc0p"
      },
      "execution_count": null,
      "outputs": []
    },
    {
      "cell_type": "markdown",
      "source": [
        "### **Extract values on the diagonal**\n"
      ],
      "metadata": {
        "id": "H6WiqF3lm_g1"
      }
    },
    {
      "cell_type": "code",
      "source": [
        "print('Values on the diagonal: ' + str(np.diag(arr)))"
      ],
      "metadata": {
        "id": "sPWzJyh0nCph"
      },
      "execution_count": null,
      "outputs": []
    },
    {
      "cell_type": "markdown",
      "source": [
        "### **Not necessarily to be a square matrix**"
      ],
      "metadata": {
        "id": "mHAoUjm1m3yQ"
      }
    },
    {
      "cell_type": "code",
      "source": [
        "arr = np.random.rand(5,3)\n",
        "print(arr)\n",
        "# Extract values on the diagonal\n",
        "print('Values on the diagonal: ' + str(np.diag(arr)))"
      ],
      "metadata": {
        "id": "fbHlmSrtmnBu"
      },
      "execution_count": null,
      "outputs": []
    },
    {
      "cell_type": "markdown",
      "source": [
        "### **Create a matrix given values on the diagonal**\n",
        "> All non-diagonal values set to zeros"
      ],
      "metadata": {
        "id": "iPG4Sx7pmv5J"
      }
    },
    {
      "cell_type": "code",
      "source": [
        "\n",
        "arr = np.diag([1,2,3,4,5,6])\n",
        "print(arr)"
      ],
      "metadata": {
        "id": "rw-w_odkmuZ9"
      },
      "execution_count": null,
      "outputs": []
    },
    {
      "cell_type": "markdown",
      "source": [
        "# **Dimensions in Arrays**\n",
        "A **dimension** in arrays is **one level** of **array depth** (nested arrays).\n",
        "\n",
        "**Nested array:** are arrays that **have arrays as their elements.**"
      ],
      "metadata": {
        "id": "kmKF58Y8m6UV"
      }
    },
    {
      "cell_type": "markdown",
      "source": [
        "# **0-D Arrays**\n",
        ">**0-D arrays**, **,or Scalars**: are the **elements** in an array.\n",
        ">>**Each value in an array is a 0-D array.**"
      ],
      "metadata": {
        "id": "P7TKyt-knJLt"
      }
    },
    {
      "cell_type": "code",
      "source": [
        "#create 0-D array with value '10'\n",
        "\n",
        "arr=np.array('10')\n",
        "print(arr)"
      ],
      "metadata": {
        "id": "L5FOCJSvm3tc"
      },
      "execution_count": null,
      "outputs": []
    },
    {
      "cell_type": "markdown",
      "source": [
        "# **1-D Arrays**\n",
        ">An **array** that has **0-D arrays** as its **elements** is called **uni-dimensional** or **1-D array**.\n",
        "\n",
        ">>These are the **most common** and **basic** arrays."
      ],
      "metadata": {
        "id": "WR8nYGwmnulk"
      }
    },
    {
      "cell_type": "code",
      "source": [
        "arr = np.array([1, 2, 3, 4, 5])\n",
        "\n",
        "print(arr)"
      ],
      "metadata": {
        "id": "Yompr9xUnmsX"
      },
      "execution_count": null,
      "outputs": []
    },
    {
      "cell_type": "markdown",
      "source": [
        "# **2-D Arrays**\n",
        ">An **array** that has **1-D arrays** as its **elements** is called a **2-D array**.\n",
        "\n",
        ">>These are often **used** to **represent matrix** or **2nd order tensors**.\n",
        "\n",
        "## **NumPy** has a whole **sub module** dedicated towards **matrix operations** called numpy.mat"
      ],
      "metadata": {
        "id": "DUwZ7zXPoD5a"
      }
    },
    {
      "cell_type": "code",
      "source": [
        "arr= np.array([[10,20,30],[40,50,60]])\n",
        "print(arr)"
      ],
      "metadata": {
        "id": "AZFnswKPn__R"
      },
      "execution_count": null,
      "outputs": []
    },
    {
      "cell_type": "markdown",
      "source": [
        "# **3-D arrays**\n",
        ">An **array** that has **2-D arrays** (**matrices**) as its **elements** is called **3-D array.**\n",
        "\n",
        ">>These are often used to **represent** a **3rd order tensor.**"
      ],
      "metadata": {
        "id": "OOtM_MWloxqW"
      }
    },
    {
      "cell_type": "code",
      "source": [
        "arr =np.array([[[10,20,30],[40,50,60]],[[10,20,30],[40,50,60]]])\n",
        "print(arr)"
      ],
      "metadata": {
        "id": "wYEDkWZKoqtg"
      },
      "execution_count": null,
      "outputs": []
    },
    {
      "cell_type": "markdown",
      "source": [
        "# **Check Number of Dimensions?**\n",
        "NumPy Arrays provides the **ndim** **attribute** that **returns** an **integer** that tells us how many **dimensions** the array have."
      ],
      "metadata": {
        "id": "gR0j-RXcpf8k"
      }
    },
    {
      "cell_type": "code",
      "source": [
        "a = np.array(42)\n",
        "b = np.array([1, 2, 3, 4, 5])\n",
        "c = np.array([[1, 2, 3], [4, 5, 6]])\n",
        "d = np.array([[[1, 2, 3], [4, 5, 6]], [[1, 2, 3], [4, 5, 6]]])\n",
        "\n",
        "print(f\"Number of dimensions in Array is :\" ,a.ndim)\n",
        "print(f\"Number of dimensions in Array is :\" ,b.ndim)\n",
        "print(f\"Number of dimensions in Array is :\" ,c.ndim)\n",
        "print(f\"Number of dimensions in Array is :\" ,d.ndim)"
      ],
      "metadata": {
        "id": "jgYFZoIepUGp"
      },
      "execution_count": null,
      "outputs": []
    },
    {
      "cell_type": "markdown",
      "source": [
        "# **Higher Dimensional Arrays**\n",
        "An **array** can have **any number of dimensions**.\n",
        "\n",
        ">When the array is created, **you can define** the **number** of **dimensions** by using the **ndmin** argument."
      ],
      "metadata": {
        "id": "HryoElZ-qCAW"
      }
    },
    {
      "cell_type": "code",
      "source": [
        "arr = np.array([10,20,30,40,50], ndmin=5)\n",
        "\n",
        "print(arr)\n",
        "\n",
        "print(f\"Number of dimensions in Array is :\", arr.ndim)"
      ],
      "metadata": {
        "id": "NQbKMCZgpqny"
      },
      "execution_count": null,
      "outputs": []
    },
    {
      "cell_type": "markdown",
      "source": [
        "# **Inspect general information of an array**"
      ],
      "metadata": {
        "id": "vNZ3hn4knx_c"
      }
    },
    {
      "cell_type": "code",
      "source": [
        "print(np.info(arr))"
      ],
      "metadata": {
        "id": "DDlBvYY6n2sX"
      },
      "execution_count": null,
      "outputs": []
    },
    {
      "cell_type": "markdown",
      "source": [
        "# **Data Types in NumPy**\n",
        "**NumPy** has some **extra data types**, and **refer** to **data types** with **one** **character**, like **i** for **integers**, **u** for **unsigned integers** etc.\n",
        "\n",
        "\n",
        "\n",
        "*   **i** - integer\n",
        "*   **b** - boolean\n",
        "\n",
        "*   **u** - unsigned integer\n",
        "*   **f** - float\n",
        "\n",
        "*   **c** - complex float\n",
        "*   **m** - timedelta\n",
        "\n",
        "*   **M** - datetime\n",
        "*   **O** - object\n",
        "\n",
        "*   **S** - string\n",
        "*   **U** - unicode string\n",
        "*   **V** - fixed chunk of memory for other type ( void )\n",
        "\n",
        "\n"
      ],
      "metadata": {
        "id": "9bDPc-hCrPQD"
      }
    },
    {
      "cell_type": "markdown",
      "source": [
        "# **Checking the Data Type of an Array**\n",
        "\n",
        "The **NumPy array object** has a property called **dtype** that **returns** the **data** **type** of the array"
      ],
      "metadata": {
        "id": "sbVu84F3sLN9"
      }
    },
    {
      "cell_type": "code",
      "source": [
        "arr = np.array([1, 2, 3, 4])\n",
        "\n",
        "print(arr.dtype)"
      ],
      "metadata": {
        "id": "FSE10QBFqXiw"
      },
      "execution_count": null,
      "outputs": []
    },
    {
      "cell_type": "code",
      "source": [
        "arr = np.array(['apple', 'banana', 'cherry'])\n",
        "\n",
        "print(arr.dtype)"
      ],
      "metadata": {
        "id": "PuFW3tzzsO3s"
      },
      "execution_count": null,
      "outputs": []
    },
    {
      "cell_type": "markdown",
      "source": [
        "# **Creating Arrays With a Defined Data Type**\n",
        "**array()** function **can** **take** an **optional argument** ,**(dtype)** that allows us to **define** the **expected** **data type** of the array **elements**"
      ],
      "metadata": {
        "id": "Dr_CCFi-sjWy"
      }
    },
    {
      "cell_type": "code",
      "source": [
        "arr = np.array([1, 2, 3, 4], dtype='S')\n",
        "\n",
        "print(arr)\n",
        "print(arr.dtype)  #the data will be converted to string"
      ],
      "metadata": {
        "id": "SAx08gwvsWSx"
      },
      "execution_count": null,
      "outputs": []
    },
    {
      "cell_type": "markdown",
      "source": [
        "For **i** , **u** , **f**, **S** and **U** we can **define** **size** as well.\n",
        "\n",
        ">>Create an array with data type **4 bytes integer**"
      ],
      "metadata": {
        "id": "IY7yFnZ1tVZO"
      }
    },
    {
      "cell_type": "code",
      "source": [
        "arr = np.array([1, 2, 3, 4], dtype='i4')\n",
        "\n",
        "print(arr)\n",
        "print(arr.dtype)"
      ],
      "metadata": {
        "id": "oCArKHuks6fo"
      },
      "execution_count": null,
      "outputs": []
    },
    {
      "cell_type": "markdown",
      "source": [
        ">>Create an array with data type **complex64**\n"
      ],
      "metadata": {
        "id": "oLm--4Difoy7"
      }
    },
    {
      "cell_type": "code",
      "source": [
        "arr = np.array([[1,2], [3,4],[5,6]], dtype=np.complex64)\n",
        "print(arr)\n",
        "print()"
      ],
      "metadata": {
        "id": "OOLBOrvhfpCz"
      },
      "execution_count": null,
      "outputs": []
    },
    {
      "cell_type": "markdown",
      "source": [
        "# **What if a Value Can Not Be Converted?**\n",
        "If a type is given in which **elements** **can't be casted** then NumPy **will raise a ValueError.**\n",
        "\n",
        "## **ValueError**: In Python ValueError is raised when the **type of passed argument** to a **function** is **unexpected/incorrect.**"
      ],
      "metadata": {
        "id": "JPiA_TxwtybT"
      }
    },
    {
      "cell_type": "code",
      "source": [
        "#arr = np.array(['a', '2', '3'], dtype='i') #we have a string so we sill get error"
      ],
      "metadata": {
        "id": "ywxlNjzxti9q"
      },
      "execution_count": null,
      "outputs": []
    },
    {
      "cell_type": "markdown",
      "source": [
        "# **Converting Data Type on Existing Arrays**\n",
        "\n",
        "### The best way to **change the data type** of an **existing array**, is to make a **copy of the array** with the **astype()** method.\n",
        "\n",
        "The **astype()** function **creates a copy of the array** and allows you to **specify** the **data type** as a **parameter**.\n",
        "\n",
        ">The **data type** can be **specified using** a **string**, like **'f' for float**, **'i' for integer** etc.\n",
        ">> Or you can **use** the **data type** **directly** like **float** for **float** and **int** for **integer**."
      ],
      "metadata": {
        "id": "6MHoh8dfuXEZ"
      }
    },
    {
      "cell_type": "code",
      "source": [
        "arr=np.array((1.2,20.2 ,30.3))\n",
        "print(arr)\n",
        "print(arr.dtype)\n",
        "\n",
        "\n",
        "\n",
        "arr2=arr.astype(\"i\")\n",
        "print(arr2)\n",
        "print(arr2.dtype)"
      ],
      "metadata": {
        "id": "TgM65qL1uNFf"
      },
      "execution_count": null,
      "outputs": []
    },
    {
      "cell_type": "code",
      "source": [
        "arr=np.array((1.2,20.2 ,30.3))\n",
        "print(arr)\n",
        "print(arr.dtype)\n",
        "\n",
        "\n",
        "\n",
        "arr2=arr.astype(int)\n",
        "print(arr2)\n",
        "print(arr2.dtype)"
      ],
      "metadata": {
        "id": "uJdQ_OVqvSeS"
      },
      "execution_count": null,
      "outputs": []
    },
    {
      "cell_type": "code",
      "source": [
        "arr=np.array((1.2,20.2 ,0.0))\n",
        "print(arr)\n",
        "print(arr.dtype)\n",
        "\n",
        "\n",
        "\n",
        "arr2=arr.astype(\"bool\")\n",
        "print(arr2)\n",
        "print(arr2.dtype)"
      ],
      "metadata": {
        "id": "_cUxgwuCvaB9"
      },
      "execution_count": null,
      "outputs": []
    },
    {
      "cell_type": "markdown",
      "source": [
        "#  **NumPy Array Indexing**\n",
        "## **Access Array Elements:**\n",
        "\n",
        ">Array indexing is the same as accessing an array element.\n",
        "\n",
        ">You can access an array element by referring to its index number.\n",
        "\n",
        ">The indexes in NumPy arrays **start with 0**, meaning that the **first element **has index **0**, and the **second** has index **1** etc."
      ],
      "metadata": {
        "id": "pdmg085NUFrK"
      }
    },
    {
      "cell_type": "code",
      "source": [
        "#Access first element\n",
        "\n",
        "arr= np.array([10,20,30,40,50,60,70,80,90,100])\n",
        "\n",
        "print(arr[0])"
      ],
      "metadata": {
        "id": "T4YHum-cve2C"
      },
      "execution_count": null,
      "outputs": []
    },
    {
      "cell_type": "code",
      "source": [
        "#Access second element\n",
        "\n",
        "arr= np.array([10,20,30,40,50,60,70,80,90,100])\n",
        "\n",
        "print(arr[1])"
      ],
      "metadata": {
        "id": "49jiwYjlUf3b"
      },
      "execution_count": null,
      "outputs": []
    },
    {
      "cell_type": "code",
      "source": [
        "#Get third and fourth elements from the following array and add them.\n",
        "\n",
        "arr= np.array([10,20,30,40,50,60,70,80,90,100])\n",
        "\n",
        "print(arr[2]+arr[3])"
      ],
      "metadata": {
        "id": "AFhg0D75U0tq"
      },
      "execution_count": null,
      "outputs": []
    },
    {
      "cell_type": "markdown",
      "source": [
        "## **Access 2-D Arrays**\n",
        "To access elements from 2-D arrays we can use **comma separated integers** representing **the dimension** and the **index of the element.**\n",
        "\n",
        ">**dimension index also starts from 0**"
      ],
      "metadata": {
        "id": "DdgqS-P4U_E1"
      }
    },
    {
      "cell_type": "code",
      "source": [
        "arr = np.array([[10,20,30,40,50],[60,70,80,90,100]])\n",
        "\n",
        "print(f\"First element from first Dimension {arr[0,0]}\")"
      ],
      "metadata": {
        "id": "R50R1vedU8bY"
      },
      "execution_count": null,
      "outputs": []
    },
    {
      "cell_type": "code",
      "source": [
        "arr = np.array([[10,20,30,40,50],[60,70,80,90,100]])\n",
        "\n",
        "print(f\"First element from second Dimension {arr[1,0]}\")"
      ],
      "metadata": {
        "id": "ZgnPuR40VcYj"
      },
      "execution_count": null,
      "outputs": []
    },
    {
      "cell_type": "markdown",
      "source": [
        "## **Access 3-D Arrays**\n",
        "To access elements from 3-D arrays we can use **comma separated integers **representing the **dimensions** and the **index of the element.**"
      ],
      "metadata": {
        "id": "Mggvppt3V5OY"
      }
    },
    {
      "cell_type": "code",
      "source": [
        "arr = np.array([[[10,20,30],[40,50,60]],[[70,80,90],[100,200,300]]])\n",
        "\n",
        "print(arr)"
      ],
      "metadata": {
        "id": "qIQmxeB_V2Vz"
      },
      "execution_count": null,
      "outputs": []
    },
    {
      "cell_type": "code",
      "source": [
        "#Access the third element of the second array of the first array:\n",
        "print(arr[0,1,2])"
      ],
      "metadata": {
        "id": "3MuCwCrNWYg3"
      },
      "execution_count": null,
      "outputs": []
    },
    {
      "cell_type": "markdown",
      "source": [
        "## **Explanation**\n",
        "**The first number represents the first dimension, which contains two arrays:**\n",
        "\n",
        "     [ [ 10,20,30 ] , [ 40,50,60] ]\n",
        "\n",
        "**and:**\n",
        "\n",
        "    [ [ 70,80,90 ] , [ 100,200,300 ] ]\n",
        "\n",
        "**Since we selected 0, we are left with the first array:**\n",
        "\n",
        "    [ [ 10,20,30 ] , [ 40,50,60] ]\n",
        "\n",
        "\n",
        "**The second number represents the second dimension, which also contains two arrays:**\n",
        "\n",
        "\n",
        "    [ 10,20,30 ]\n",
        "\n",
        "**and:**\n",
        "\n",
        "    [ 40,50,60]\n",
        "\n",
        "**Since we selected 1, we are left with the second array:**\n",
        "\n",
        "    [ 40,50,60]\n",
        "\n",
        "**The third number represents the third dimension (element) , which contains three values:**\n",
        "\n",
        "    40\n",
        "\n",
        "    50\n",
        "\n",
        "    60\n",
        "\n",
        "**Since we selected 2, we end up with the third value:**\n",
        "\n",
        "    60"
      ],
      "metadata": {
        "id": "Rc4UsnbPWwl8"
      }
    },
    {
      "cell_type": "markdown",
      "source": [
        "## **Negative Indexing**\n",
        "\n",
        ">Use negative indexing to access an array from the end."
      ],
      "metadata": {
        "id": "FJdB13YiYOvU"
      }
    },
    {
      "cell_type": "code",
      "source": [
        "arr = np.array([[10,20,30,40,50],[60,70,80,90,100]])\n",
        "\n",
        "print(f\"Last element from first Dimension {arr[0,-1]}\")"
      ],
      "metadata": {
        "id": "So_7sxvcWe3Z"
      },
      "execution_count": null,
      "outputs": []
    },
    {
      "cell_type": "markdown",
      "source": [
        "# **NumPy Array Slicing**\n",
        "\n",
        "**Slicing in python means taking elements from one given index to another given index.**\n",
        "\n",
        "We pass slice instead of index like this:\n",
        "\n",
        "    [start:end]\n",
        "\n",
        "We can also define the step, like this:\n",
        "\n",
        "    [start:end:step]\n",
        "\n",
        "If we **don't** pass **start** its considered **0**\n",
        "\n",
        "If we **don't** pass **end** its considered **length** of array **in that dimension**\n",
        "\n",
        "If we **don't** pass **step** its considered **1**"
      ],
      "metadata": {
        "id": "QKYD7GLCYgc7"
      }
    },
    {
      "cell_type": "code",
      "source": [
        "#Slice elements from index 1 to index 5 from the following array\n",
        "\n",
        "arr = np.array([1, 2, 3, 4, 5, 6, 7])\n",
        "\n",
        "print(arr[1:5:1])"
      ],
      "metadata": {
        "id": "-0iH6P9BYady"
      },
      "execution_count": null,
      "outputs": []
    },
    {
      "cell_type": "markdown",
      "source": [
        "> **Note:** The result **includes** the **start** index, but **excludes** the **end** index."
      ],
      "metadata": {
        "id": "gQNdkVgMZUjj"
      }
    },
    {
      "cell_type": "code",
      "source": [
        "#Slice elements from index 4 to the end of the array:\n",
        "\n",
        "arr = np.array([1, 2, 3, 4, 5, 6, 7])\n",
        "\n",
        "print(arr[4::1])"
      ],
      "metadata": {
        "id": "2HCkeaBcZOZK"
      },
      "execution_count": null,
      "outputs": []
    },
    {
      "cell_type": "code",
      "source": [
        "#Slice elements from the beginning to index 4 (not included):\n",
        "\n",
        "arr = np.array([1, 2, 3, 4, 5, 6, 7])\n",
        "\n",
        "print(arr[:4:1])"
      ],
      "metadata": {
        "id": "vZRgiZq1Zg_i"
      },
      "execution_count": null,
      "outputs": []
    },
    {
      "cell_type": "markdown",
      "source": [
        "# **Negative Slicing**\n",
        "**Use the minus operator to refer to an index from the end**"
      ],
      "metadata": {
        "id": "J9DeO2VBZsiE"
      }
    },
    {
      "cell_type": "code",
      "source": [
        "#Slice from the index 3 from the end to index 1 from the end\n",
        "\n",
        "arr = np.array([1, 2, 3, 4, 5, 6, 7])\n",
        "\n",
        "print(arr[-3:-1])"
      ],
      "metadata": {
        "id": "ikFgPBRoZpxH"
      },
      "execution_count": null,
      "outputs": []
    },
    {
      "cell_type": "markdown",
      "source": [
        "# **Slicing 2-D Arrays**\n"
      ],
      "metadata": {
        "id": "8C7h8wvXaAFJ"
      }
    },
    {
      "cell_type": "code",
      "source": [
        "#From the second element, slice elements from index 1 to index 4 (not included)\n",
        "\n",
        "arr = np.array([[10,20,30,40,50],[60,70,80,90,100]])\n",
        "\n",
        "print(arr[1,1:4])"
      ],
      "metadata": {
        "id": "_GC_K3bMaJpO"
      },
      "execution_count": null,
      "outputs": []
    },
    {
      "cell_type": "code",
      "source": [
        "#From both elements, return index 2:\n",
        "\n",
        "arr = np.array([[10,20,30,40,50],[60,70,80,90,100]])\n",
        "\n",
        "print(arr[0:2,2])"
      ],
      "metadata": {
        "id": "IjeDXufWawKq"
      },
      "execution_count": null,
      "outputs": []
    },
    {
      "cell_type": "code",
      "source": [
        "#From both elements, slice index 1 to index 4 (not included), this will return a 2-D array\n",
        "\n",
        "arr = np.array([[10,20,30,40,50],[60,70,80,90,100]])\n",
        "\n",
        "print(arr[0:2,1:4])"
      ],
      "metadata": {
        "id": "6InyU78ea8FR"
      },
      "execution_count": null,
      "outputs": []
    },
    {
      "cell_type": "markdown",
      "source": [
        "# **NumPy Array Copy vs View**\n",
        "\n",
        "## **The Difference Between Copy and View**\n",
        "\n",
        "**The main difference** between a copy and a view of an array is that the **copy is a new array**, and the **view is just a view of the original array.**\n",
        "\n",
        ">The **copy owns the data** and **any changes made to the copy** will **not affect original array**, and **any changes made to the original** array will **not affect the copy.**\n",
        "\n",
        ">The **view does not own the data** and **any changes made to the view** will **affect the original array**, and **any changes made to the original** array will **affect the view**."
      ],
      "metadata": {
        "id": "Wnfo4iyTc8I3"
      }
    },
    {
      "cell_type": "markdown",
      "source": [
        "## **Copy**\n",
        "Make a copy, change the original array, and display both arrays"
      ],
      "metadata": {
        "id": "-62xdfAWdinj"
      }
    },
    {
      "cell_type": "code",
      "source": [
        "arr = np.array([1, 2, 3, 4, 5])\n",
        "print(f\"Arr Original Before{arr}\")\n",
        "\n",
        "x = arr.copy()\n",
        "print(f\"X Copy Before {x}\")\n",
        "\n",
        "arr[0] = 42\n",
        "print(f\"Arr Original After{arr}\")\n",
        "\n",
        "print(f\"X Copy After {x}\")   #The copy SHOULD NOT be affected by the changes made to the original array."
      ],
      "metadata": {
        "id": "7o0Ly49abNI6"
      },
      "execution_count": null,
      "outputs": []
    },
    {
      "cell_type": "markdown",
      "source": [
        "## **View**\n",
        "\n",
        "Make a view, change the original array, and display both arrays"
      ],
      "metadata": {
        "id": "V7LmvuZAeP2k"
      }
    },
    {
      "cell_type": "code",
      "source": [
        "arr = np.array([1, 2, 3, 4, 5])\n",
        "print(f\"Arr Original Before{arr}\")\n",
        "\n",
        "x = arr.view()\n",
        "print(f\"X View Before {x}\")\n",
        "\n",
        "arr[0] = 42\n",
        "print(f\"Arr Original After{arr}\")\n",
        "\n",
        "print(f\"X View After {x}\")    #The view SHOULD be affected by the changes made to the original array."
      ],
      "metadata": {
        "id": "gsEPw8V5eAtO"
      },
      "execution_count": null,
      "outputs": []
    },
    {
      "cell_type": "code",
      "source": [
        "arr = np.array([1, 2, 3, 4, 5])\n",
        "print(f\"Arr Original Before{arr}\")\n",
        "\n",
        "x = arr.view()\n",
        "print(f\"X View Before {x}\")\n",
        "\n",
        "x[0] = 42\n",
        "print(f\"X View After{arr}\")\n",
        "\n",
        "print(f\"Arr Original After {x}\")    #The original array SHOULD be affected by the changes made to the view."
      ],
      "metadata": {
        "id": "0Sf0gC5zeaJf"
      },
      "execution_count": null,
      "outputs": []
    },
    {
      "cell_type": "markdown",
      "source": [
        "# **Check if Array Owns its Data**\n",
        "\n",
        "* **Copies owns the data**\n",
        "* **Views does not own the data**\n",
        "\n",
        "Every NumPy array has the attribute **base** that returns **None** if the array **owns the data.**\n",
        "\n",
        "Otherwise, the **base**  attribute **refers to the original object**."
      ],
      "metadata": {
        "id": "KsMT2QpJfLtU"
      }
    },
    {
      "cell_type": "code",
      "source": [
        "#Print the value of the base attribute to check if an array owns it's data or not:\n",
        "\n",
        "\n",
        "arr = np.array([1, 2, 3, 4, 5])\n",
        "\n",
        "x = arr.copy()\n",
        "y = arr.view()\n",
        "\n",
        "print(f\"base attribute for Copy is :{x.base}\")\n",
        "print(f\"base attribute for View is :{y.base}\")"
      ],
      "metadata": {
        "id": "NKTuSnx3e3IV"
      },
      "execution_count": null,
      "outputs": []
    },
    {
      "cell_type": "markdown",
      "source": [
        "# **NumPy Array Shape**\n",
        "The shape of an array is the number of elements in each dimension.\n",
        "\n",
        "NumPy arrays have an **attribute** called **shape** that **returns** a **tuple** with **each index** having the **number** of **corresponding** **elements**."
      ],
      "metadata": {
        "id": "Nuqv_4H2h0dv"
      }
    },
    {
      "cell_type": "code",
      "source": [
        "#Print the shape of a 2-D array\n",
        "\n",
        "arr = np.array([[1, 2, 3, 4], [5, 6, 7, 8]])\n",
        "\n",
        "print(arr.shape)  #OUTPUT 2 >>> Two elements in first dimension , 4 >>> Four elements in second dimension"
      ],
      "metadata": {
        "id": "y12iXm4iftk7"
      },
      "execution_count": null,
      "outputs": []
    },
    {
      "cell_type": "code",
      "source": [
        "# Create an array with 5 dimensions using ndmin using a vector with values 1,2,3,4 and verify that last dimension has value 4:\n",
        "\n",
        "arr = np.array([1,2,3,4] , ndmin=5)\n",
        "\n",
        "\n",
        "print('shape of array :', arr.shape)  #arr has 5 dimensions, in each dimension there is only one element except for the last dimension has 4 elements ([1, 2, 3, 4])."
      ],
      "metadata": {
        "id": "xX6lpyHZiG6W"
      },
      "execution_count": null,
      "outputs": []
    },
    {
      "cell_type": "markdown",
      "source": [
        "# **NumPy Array Reshaping**\n",
        "\n",
        "> By reshaping we can **add** or **remove** **dimensions** or **change** **number** of elements in **each** **dimension**.\n",
        "\n",
        "## **Reshape From 1-D to 2-D**\n",
        "the outermost dimension will have 2 arrays, each with 6 elements:"
      ],
      "metadata": {
        "id": "72tqFxoclXJ4"
      }
    },
    {
      "cell_type": "code",
      "source": [
        "#Convert the following 1-D array with 12 elements into a 2-D array\n",
        "arr = np.array([1, 2, 3, 4, 5, 6, 7, 8, 9, 10, 11, 12])\n",
        "\n",
        "newarr = arr.reshape(2, 6)\n",
        "\n",
        "print(newarr)"
      ],
      "metadata": {
        "id": "40qbGjNnm_Yd"
      },
      "execution_count": null,
      "outputs": []
    },
    {
      "cell_type": "markdown",
      "source": [
        "## **Reshape From 1-D to 3-D**\n",
        "The outermost dimension will have 2 arrays that contains 2 arrays, each with 3 elements:"
      ],
      "metadata": {
        "id": "RfksPtW5nqdT"
      }
    },
    {
      "cell_type": "code",
      "source": [
        "#Convert the following 1-D array with 12 elements into a 3-D array\n",
        "\n",
        "arr = np.array([1, 2, 3, 4, 5, 6, 7, 8, 9, 10, 11, 12])\n",
        "\n",
        "newarr = arr.reshape(2,2,3)\n",
        "\n",
        "print(newarr)"
      ],
      "metadata": {
        "id": "PmX5Zt6lnOgT"
      },
      "execution_count": null,
      "outputs": []
    },
    {
      "cell_type": "markdown",
      "source": [
        "# **Can We Reshape Into any Shape?**\n",
        ">Yes, as long as the elements required for reshaping are equal in both shapes.\n",
        "\n",
        "We can reshape an **8 elements 1D array** into **4 elements in 2 rows 2D array **but we **cannot reshape it into a 3 elements 3 rows 2D array** as that **would require 3x3 = 9 elements.**"
      ],
      "metadata": {
        "id": "z6jdeiEXoK9c"
      }
    },
    {
      "cell_type": "markdown",
      "source": [
        "## **Check if the returned array is a copy or a view**"
      ],
      "metadata": {
        "id": "4CQFo-ynqNgf"
      }
    },
    {
      "cell_type": "code",
      "source": [
        "arr = np.array([1, 2, 3, 4, 5, 6, 7, 8])\n",
        "\n",
        "print(arr.reshape(2, 4).base)   #The example returns the original array, so it is a view"
      ],
      "metadata": {
        "id": "OTOzyH_3oBO6"
      },
      "execution_count": null,
      "outputs": []
    },
    {
      "cell_type": "markdown",
      "source": [
        "# **Unknown Dimension**\n",
        "**You are allowed to have one \"unknown\" dimension.**\n",
        "\n",
        "Meaning that **you do not have to specify an exact number for one of the dimensions** in the reshape method.\n",
        "\n",
        "**Pass -1 as the value**, and NumPy will **calculate** this number for you."
      ],
      "metadata": {
        "id": "Y9OG5A68qWYj"
      }
    },
    {
      "cell_type": "code",
      "source": [
        "#Convert 1D array with 8 elements to 3D array\n",
        "\n",
        "arr = np.array([1, 2, 3, 4, 5, 6, 7, 8])\n",
        "\n",
        "newarr=arr.reshape(2,2,-1)\n",
        "\n",
        "print(newarr)"
      ],
      "metadata": {
        "id": "OqZ_AUreqKOh"
      },
      "execution_count": null,
      "outputs": []
    },
    {
      "cell_type": "code",
      "source": [
        "\n",
        "arr = np.array([1, 2, 3, 4, 5, 6, 7, 8])\n",
        "\n",
        "newarr=arr.reshape(-1,2,2)\n",
        "\n",
        "print(newarr)"
      ],
      "metadata": {
        "id": "3LrEu3qBq2fv"
      },
      "execution_count": null,
      "outputs": []
    },
    {
      "cell_type": "code",
      "source": [
        "\n",
        "arr = np.array([1, 2, 3, 4, 5, 6, 7, 8])\n",
        "\n",
        "newarr=arr.reshape(2,-1,2)\n",
        "\n",
        "print(newarr)"
      ],
      "metadata": {
        "id": "K7gbjhPeq8pi"
      },
      "execution_count": null,
      "outputs": []
    },
    {
      "cell_type": "markdown",
      "source": [
        "# **Flattening the arrays**\n",
        "\n",
        "## **Flattening array means converting a multidimensional array into a 1D array.**\n",
        "\n",
        "We can use **reshape(-1)** to do this."
      ],
      "metadata": {
        "id": "-DqkZgr7rEzv"
      }
    },
    {
      "cell_type": "code",
      "source": [
        "arr = np.array([[[10,20,30],[40,50,60]],[[70,80,90],[100,200,300]]])\n",
        "print(arr)\n",
        "\n",
        "\n",
        "newarr = arr.reshape(-1)\n",
        "print(newarr)"
      ],
      "metadata": {
        "id": "5KsMDW-CrBuw"
      },
      "execution_count": null,
      "outputs": []
    }
  ]
}