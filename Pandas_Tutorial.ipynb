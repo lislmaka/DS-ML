{
  "metadata": {
    "kernelspec": {
      "language": "python",
      "display_name": "Python 3",
      "name": "python3"
    },
    "language_info": {
      "pygments_lexer": "ipython3",
      "nbconvert_exporter": "python",
      "version": "3.6.4",
      "file_extension": ".py",
      "codemirror_mode": {
        "name": "ipython",
        "version": 3
      },
      "name": "python",
      "mimetype": "text/x-python"
    },
    "colab": {
      "name": "Pandas Tutorial",
      "provenance": []
    }
  },
  "nbformat_minor": 0,
  "nbformat": 4,
  "cells": [
    {
      "source": [
        "# IMPORTANT: RUN THIS CELL IN ORDER TO IMPORT YOUR KAGGLE DATA SOURCES,\n",
        "# THEN FEEL FREE TO DELETE THIS CELL.\n",
        "# NOTE: THIS NOTEBOOK ENVIRONMENT DIFFERS FROM KAGGLE'S PYTHON\n",
        "# ENVIRONMENT SO THERE MAY BE MISSING LIBRARIES USED BY YOUR\n",
        "# NOTEBOOK.\n",
        "import kagglehub\n",
        "whenamancodes_play_store_apps_path = kagglehub.dataset_download('whenamancodes/play-store-apps')\n",
        "\n",
        "print('Data source import complete.')\n"
      ],
      "metadata": {
        "id": "6ow7jtORBYXb"
      },
      "cell_type": "code",
      "outputs": [],
      "execution_count": null
    },
    {
      "cell_type": "markdown",
      "source": [
        "In this notebook, we will learn:\n",
        "* How to import Pandas\n",
        "* How to create Pandas Series and DataFrames using various methods\n",
        "* How to access and change elements in Series and DataFrames\n",
        "* How to deal with missing values\n",
        "* How to load data into a DataFrame and extract, filter and transform data\n",
        "* How to calculate statistics and create visualizations\n",
        "* Different methods and attributes which helps in data manipulation and analysis\n",
        "\n",
        "<br>\n",
        "<img src = \"https://files.realpython.com/media/Intro-to-Exploratory-Data-Analysis-With-Pandas_Watermarked.81a7d7df468f.jpg\" width = \"600\"/>\n",
        "<br>\n",
        "<center><str><a target=\"_blank\" href=\"https://files.realpython.com/media/Intro-to-Exploratory-Data-Analysis-With-Pandas_Watermarked.81a7d7df468f.jpg\">Image Source</a></str></center>\n"
      ],
      "metadata": {
        "id": "wpmNwXVPBYXf"
      }
    },
    {
      "cell_type": "markdown",
      "source": [
        "<a id = \"1.\"></a>\n",
        "# 1. Introduction\n",
        "\n",
        "<div class=\"alert alert-block alert-success\">\n",
        "Pandas is a package for the manipulation and analysis of data in Python. It is built on top of numpy. The name pandas is derived from the econometrics term Panel Data. It is fast, powerful, flexible, open source and easy to use. Pandas incorporates two additional data structures into Python, namely Pandas Series and Pandas DataFrame. We can load data of different formats into DataFrames.</div>\n"
      ],
      "metadata": {
        "id": "RTFw41_aBYXh"
      }
    },
    {
      "cell_type": "markdown",
      "source": [
        "<div class=\"alert alert-block alert-info\">\n",
        "Importing necessary libraries:</div>"
      ],
      "metadata": {
        "id": "JCc64jX2BYXi"
      }
    },
    {
      "cell_type": "code",
      "source": [
        "import pandas as pd\n",
        "import numpy as np"
      ],
      "metadata": {
        "execution": {
          "iopub.status.busy": "2022-11-21T08:29:54.810134Z",
          "iopub.execute_input": "2022-11-21T08:29:54.810588Z",
          "iopub.status.idle": "2022-11-21T08:29:54.85061Z",
          "shell.execute_reply.started": "2022-11-21T08:29:54.810491Z",
          "shell.execute_reply": "2022-11-21T08:29:54.849515Z"
        },
        "trusted": true,
        "id": "2dowsZroBYXi"
      },
      "execution_count": null,
      "outputs": []
    },
    {
      "cell_type": "markdown",
      "source": [
        "<a id = \"2.\"></a>\n",
        "# 2. Series\n",
        "\n",
        "<div class=\"alert alert-block alert-info\">\n",
        "A pandas series is a one-dimentional data structure which can store data such as strings, integers, floats and other python objects. <b>pandas.Series()</b> method is used to create pandas series. In sereis, indices are are stored in first column and data in the second column.\n",
        "</div>\n",
        "\n",
        "\n",
        "Let's see some examples:"
      ],
      "metadata": {
        "id": "0sYxcNDZBYXj"
      }
    },
    {
      "cell_type": "markdown",
      "source": [
        "<div class=\"alert alert-block alert-warning\">\n",
        "    If we don't specify the 'index' argument in <b>pd.Series</b> then the indices will be integers starting from 0.\n",
        "</div>"
      ],
      "metadata": {
        "id": "TwlUxGvwBYXj"
      }
    },
    {
      "cell_type": "code",
      "source": [
        "my_list = [\"Yes\", \"No\", 12, 10]\n",
        "\n",
        "my_series = pd.Series(data = my_list)\n",
        "\n",
        "print(type(my_series))\n",
        "my_series"
      ],
      "metadata": {
        "execution": {
          "iopub.status.busy": "2022-11-21T08:29:54.852647Z",
          "iopub.execute_input": "2022-11-21T08:29:54.853055Z",
          "iopub.status.idle": "2022-11-21T08:29:54.870312Z",
          "shell.execute_reply.started": "2022-11-21T08:29:54.853019Z",
          "shell.execute_reply": "2022-11-21T08:29:54.868936Z"
        },
        "trusted": true,
        "id": "8sIKC54dBYXk"
      },
      "execution_count": null,
      "outputs": []
    },
    {
      "cell_type": "markdown",
      "source": [
        "<div class=\"alert alert-block alert-warning\">\n",
        "    We can add indices of our own choice by specifying the 'index' argument in <b>pd.Series</b>.\n",
        "</div>"
      ],
      "metadata": {
        "id": "UVC_PjzcBYXk"
      }
    },
    {
      "cell_type": "code",
      "source": [
        "my_list = [\"Yes\", \"No\", 100, 10]\n",
        "indices = ['milk', 'bread', 'apples', 'eggs']\n",
        "\n",
        "groceries = pd.Series(data = my_list, index = indices)\n",
        "groceries"
      ],
      "metadata": {
        "execution": {
          "iopub.status.busy": "2022-11-21T08:29:54.871743Z",
          "iopub.execute_input": "2022-11-21T08:29:54.872614Z",
          "iopub.status.idle": "2022-11-21T08:29:54.886144Z",
          "shell.execute_reply.started": "2022-11-21T08:29:54.872579Z",
          "shell.execute_reply": "2022-11-21T08:29:54.885031Z"
        },
        "trusted": true,
        "id": "C61T2amNBYXl"
      },
      "execution_count": null,
      "outputs": []
    },
    {
      "cell_type": "markdown",
      "source": [
        "<div class=\"alert alert-block alert-warning\">\n",
        " We can also get the shape, number of dimensions and size of pandas Sereis by using <b>Series.attribute_name</b>.\n",
        "</div>"
      ],
      "metadata": {
        "id": "c7oWss1bBYXl"
      }
    },
    {
      "cell_type": "code",
      "source": [
        "print(\"groceries.shape: \", groceries.shape)\n",
        "print(\"grocereis.ndim: \", groceries.ndim) # number of dimensions\n",
        "print(\"groceries.size: \", groceries.size)"
      ],
      "metadata": {
        "execution": {
          "iopub.status.busy": "2022-11-21T08:29:54.888625Z",
          "iopub.execute_input": "2022-11-21T08:29:54.88964Z",
          "iopub.status.idle": "2022-11-21T08:29:54.896597Z",
          "shell.execute_reply.started": "2022-11-21T08:29:54.889591Z",
          "shell.execute_reply": "2022-11-21T08:29:54.895224Z"
        },
        "trusted": true,
        "id": "azLrX_D9BYXl"
      },
      "execution_count": null,
      "outputs": []
    },
    {
      "cell_type": "markdown",
      "source": [
        "<div class=\"alert alert-block alert-warning\">\n",
        "We can also get the values and indexes of a series:\n",
        "</div>"
      ],
      "metadata": {
        "id": "UB2bD6kgBYXl"
      }
    },
    {
      "cell_type": "code",
      "source": [
        "print(\"groceries.values: \", groceries.values)\n",
        "print()\n",
        "print(\"groceries.index: \", groceries.index)"
      ],
      "metadata": {
        "execution": {
          "iopub.status.busy": "2022-11-21T08:29:54.897824Z",
          "iopub.execute_input": "2022-11-21T08:29:54.898379Z",
          "iopub.status.idle": "2022-11-21T08:29:54.911955Z",
          "shell.execute_reply.started": "2022-11-21T08:29:54.898345Z",
          "shell.execute_reply": "2022-11-21T08:29:54.910638Z"
        },
        "trusted": true,
        "id": "p-0exGnJBYXm"
      },
      "execution_count": null,
      "outputs": []
    },
    {
      "cell_type": "markdown",
      "source": [
        "<div class=\"alert alert-block alert-warning\">\n",
        "We can also check if an index is availabe in the given Series\n",
        "</div>"
      ],
      "metadata": {
        "id": "WEpsEwWpBYXm"
      }
    },
    {
      "cell_type": "code",
      "source": [
        "print(\"bananas\" in groceries)\n",
        "print(\"milk\" in groceries)"
      ],
      "metadata": {
        "execution": {
          "iopub.status.busy": "2022-11-21T08:29:54.914053Z",
          "iopub.execute_input": "2022-11-21T08:29:54.914523Z",
          "iopub.status.idle": "2022-11-21T08:29:54.923105Z",
          "shell.execute_reply.started": "2022-11-21T08:29:54.914488Z",
          "shell.execute_reply": "2022-11-21T08:29:54.922076Z"
        },
        "trusted": true,
        "id": "k9PpAFsaBYXm"
      },
      "execution_count": null,
      "outputs": []
    },
    {
      "cell_type": "markdown",
      "source": [
        "## Accessing and Deleting Elements in Series\n",
        "\n",
        "<div class=\"alert alert-block alert-info\">\n",
        "We can access elements in a dataframe using index labels or numerical indices inside square brackets [ ]. Negative indices can be used to access elements from the end of the Series. Pandas has also provided the two methods <b>loc</b> and <b>iloc</b> to aceess elements with label index and numerical index, respectively.\n",
        "</div>\n",
        "\n",
        "Let's see some examples:\n",
        "\n",
        "### Access elements using index labels"
      ],
      "metadata": {
        "id": "Hfu1KKuBBYXm"
      }
    },
    {
      "cell_type": "code",
      "source": [
        "print(groceries)\n",
        "print()\n",
        "\n",
        "# We access elements in Groceries using index labels:\n",
        "\n",
        "# We use a single index label\n",
        "print(\"groceries['eggs']:\\n\", groceries['eggs'])\n",
        "print()\n",
        "\n",
        "# we can access multiple index labels\n",
        "print(\"groceries[['milk', 'bread']]:\\n\", groceries[['milk', 'bread']])\n",
        "print()\n",
        "\n",
        "# we use loc to access multiple index labels\n",
        "print(\"groceries.loc['eggs', 'apples']:\\n\", groceries.loc[['eggs', 'apples']])\n",
        "print()\n",
        "\n",
        "# We access elements in Groceries using numerical indices:\n",
        "\n",
        "# we use multiple numerical indices\n",
        "print(\"groceries.[[0, 1]]:\\n\", groceries[[0, 1]])\n",
        "print()\n",
        "\n",
        "# We use a negative numerical index\n",
        "print(\"groceries[[-1]]:\\n\", groceries[[-1]])\n",
        "print()\n",
        "\n",
        "# We use a single numerical index\n",
        "print(\"groceries[0]:\\n\", groceries[0])\n",
        "print()\n",
        "\n",
        "# we use iloc to access multiple numerical indices\n",
        "print(\"groceries.iloc[[2, 3]]:\\n\", groceries.iloc[[2, 3]])"
      ],
      "metadata": {
        "execution": {
          "iopub.status.busy": "2022-11-21T08:29:54.924798Z",
          "iopub.execute_input": "2022-11-21T08:29:54.925977Z",
          "iopub.status.idle": "2022-11-21T08:29:54.951427Z",
          "shell.execute_reply.started": "2022-11-21T08:29:54.925885Z",
          "shell.execute_reply": "2022-11-21T08:29:54.949919Z"
        },
        "trusted": true,
        "id": "NVQvGh5NBYXm"
      },
      "execution_count": null,
      "outputs": []
    },
    {
      "cell_type": "markdown",
      "source": [
        "### Changing elements of a Series\n",
        "\n",
        "<div class=\"alert alert-block alert-info\">\n",
        "Pandas Series is mutable and we can change its elements.\n",
        "</div>\n",
        "\n",
        "Let's see an example:"
      ],
      "metadata": {
        "id": "uiPscKCfBYXn"
      }
    },
    {
      "cell_type": "code",
      "source": [
        "print(\"Before changing:\\n\")\n",
        "print(groceries)\n",
        "print()\n",
        "\n",
        "groceries['apples'] = 12\n",
        "\n",
        "print(\"After changing:\\n\")\n",
        "print(groceries)"
      ],
      "metadata": {
        "execution": {
          "iopub.status.busy": "2022-11-21T08:29:54.952951Z",
          "iopub.execute_input": "2022-11-21T08:29:54.954029Z",
          "iopub.status.idle": "2022-11-21T08:29:54.962341Z",
          "shell.execute_reply.started": "2022-11-21T08:29:54.953991Z",
          "shell.execute_reply": "2022-11-21T08:29:54.961223Z"
        },
        "trusted": true,
        "id": "lHj-jWl9BYXn"
      },
      "execution_count": null,
      "outputs": []
    },
    {
      "cell_type": "markdown",
      "source": [
        "### Deleting element of  a Series\n",
        "\n",
        "<div class=\"alert alert-block alert-info\">\n",
        "    We can delete an element from a Series using <b>drop()</b> method.\n",
        "</div>\n",
        "\n",
        "Let's see an example:"
      ],
      "metadata": {
        "id": "-w28bIqKBYXn"
      }
    },
    {
      "cell_type": "markdown",
      "source": [
        "<div class=\"alert alert-block alert-warning\">\n",
        "In Pandas Series, using <b>drop()</b> method will not remove an element from the original Series. For this, we will use an argument 'inplace = True'. This will delete an element from the original Series.\n",
        "</div>"
      ],
      "metadata": {
        "id": "UUa4ibu-BYXo"
      }
    },
    {
      "cell_type": "code",
      "source": [
        "print(\"Before deleting:\\n\")\n",
        "print(groceries)\n",
        "print()\n",
        "\n",
        "groceries.drop('eggs', inplace = True)\n",
        "\n",
        "print(\"After deleting:\\n\")\n",
        "print(groceries)"
      ],
      "metadata": {
        "execution": {
          "iopub.status.busy": "2022-11-21T08:29:54.964179Z",
          "iopub.execute_input": "2022-11-21T08:29:54.964716Z",
          "iopub.status.idle": "2022-11-21T08:29:54.976573Z",
          "shell.execute_reply.started": "2022-11-21T08:29:54.964655Z",
          "shell.execute_reply": "2022-11-21T08:29:54.975151Z"
        },
        "trusted": true,
        "id": "oxmrjroVBYXo"
      },
      "execution_count": null,
      "outputs": []
    },
    {
      "cell_type": "markdown",
      "source": [
        "### Arithmetic Operations on Pandas Series\n",
        "\n",
        "<div class=\"alert alert-block alert-info\">\n",
        "We can do arithmetic operations between Pandas Series and single numbers. We can also apply mathematical functions from Numpy and perform arithmetic operations on selected elements.\n",
        "</div>\n",
        "\n",
        "Let's see some examples:"
      ],
      "metadata": {
        "id": "JYXo2SrrBYXo"
      }
    },
    {
      "cell_type": "code",
      "source": [
        "veggies = pd.Series(data = [6, 18, 33], index = [\"Tomatoes\", \"Carrots\", \"Potatoes\"])\n",
        "print(veggies)\n",
        "print()\n",
        "\n",
        "print(\"veggies + 2:\\n\", veggies + 2)\n",
        "print()\n",
        "\n",
        "print(\"veggies - 2:\\n\", veggies - 2)\n",
        "print()\n",
        "\n",
        "print(\"veggies * 2:\\n\", veggies * 2)\n",
        "print()\n",
        "\n",
        "print(\"veggies / 2:\\n\", veggies / 2)"
      ],
      "metadata": {
        "execution": {
          "iopub.status.busy": "2022-11-21T08:29:54.979935Z",
          "iopub.execute_input": "2022-11-21T08:29:54.980369Z",
          "iopub.status.idle": "2022-11-21T08:29:54.999814Z",
          "shell.execute_reply.started": "2022-11-21T08:29:54.980333Z",
          "shell.execute_reply": "2022-11-21T08:29:54.99845Z"
        },
        "trusted": true,
        "id": "MoLfprLHBYXo"
      },
      "execution_count": null,
      "outputs": []
    },
    {
      "cell_type": "code",
      "source": [
        "print(veggies)\n",
        "print()\n",
        "\n",
        "print(\"np.exp(veggies):\\n\", np.exp(veggies))\n",
        "print()\n",
        "\n",
        "print(\"np.power(veggies, 2):\\n\", np.power(veggies, 2))\n",
        "print()\n",
        "\n",
        "print(\"np.sqrt(veggies):\\n\", np.sqrt(veggies))"
      ],
      "metadata": {
        "execution": {
          "iopub.status.busy": "2022-11-21T08:29:55.001512Z",
          "iopub.execute_input": "2022-11-21T08:29:55.001911Z",
          "iopub.status.idle": "2022-11-21T08:29:55.019405Z",
          "shell.execute_reply.started": "2022-11-21T08:29:55.001873Z",
          "shell.execute_reply": "2022-11-21T08:29:55.018435Z"
        },
        "trusted": true,
        "id": "37Yt_2JqBYXo"
      },
      "execution_count": null,
      "outputs": []
    },
    {
      "cell_type": "code",
      "source": [
        "print(veggies)\n",
        "print()\n",
        "\n",
        "print(\"veggies['Tomatoes'] + 10: \", veggies['Tomatoes'] + 10)\n",
        "print()\n",
        "\n",
        "print(\"veggies.iloc[2] - 5: \", veggies.iloc[2] - 5)\n",
        "print()\n",
        "\n",
        "print(\"veggies[['Carrots', 'Potatoes']] * 2: \", veggies[['Carrots', 'Potatoes']] * 2)\n",
        "print()\n",
        "\n",
        "print(\"veggies.loc[['Carrots', 'Potatoes']] / 2:\\n\", veggies[['Carrots', 'Potatoes']] * 2)"
      ],
      "metadata": {
        "execution": {
          "iopub.status.busy": "2022-11-21T08:29:55.021142Z",
          "iopub.execute_input": "2022-11-21T08:29:55.021484Z",
          "iopub.status.idle": "2022-11-21T08:29:55.033389Z",
          "shell.execute_reply.started": "2022-11-21T08:29:55.021454Z",
          "shell.execute_reply": "2022-11-21T08:29:55.032379Z"
        },
        "trusted": true,
        "id": "9iAD9VGDBYXp"
      },
      "execution_count": null,
      "outputs": []
    },
    {
      "cell_type": "markdown",
      "source": [
        "<div class=\"alert alert-block alert-info\">\n",
        " We can also do arithmetic operations on Pandas Series of mixed data types provided that the arithmetic opeeration is defined for all data types in the Series, otherwise we will get an error.\n",
        "</div>"
      ],
      "metadata": {
        "id": "NaW-hA7VBYXp"
      }
    },
    {
      "cell_type": "code",
      "source": [
        "my_list = [\"Yes\", \"No\", 100, 10]\n",
        "indices = ['milk', 'bread', 'apples', 'eggs']\n",
        "\n",
        "groceries = pd.Series(data = my_list, index = indices)\n",
        "print(groceries)\n",
        "print()\n",
        "\n",
        "print(\"groceries * 2:\\n\", groceries * 2)"
      ],
      "metadata": {
        "execution": {
          "iopub.status.busy": "2022-11-21T08:29:55.035024Z",
          "iopub.execute_input": "2022-11-21T08:29:55.035364Z",
          "iopub.status.idle": "2022-11-21T08:29:55.045176Z",
          "shell.execute_reply.started": "2022-11-21T08:29:55.035333Z",
          "shell.execute_reply": "2022-11-21T08:29:55.044275Z"
        },
        "trusted": true,
        "id": "pCQGm3pHBYXp"
      },
      "execution_count": null,
      "outputs": []
    },
    {
      "cell_type": "markdown",
      "source": [
        "<a id = '3.'></a>\n",
        "# 3. DataFrames\n",
        "\n",
        "<div class=\"alert alert-block alert-info\">\n",
        "Pandas DataFrame is a two-dimentional data structure with labeled rows and columns, that can hold many data types. It is made up of many Pandas Series. A DataFrame is similar to an excel spredsheet. A Pandas DataFrame can be created manually or can be loaded from a file.\n",
        "<br>  \n",
        "<br>\n",
        "<b>pandas.DataFrame()</b> method is used to create a DataFrame manually. We will first create a dictionary and then pass it to the <b>pandas.DataFrame()</b> as an attribute.\n",
        "</div>\n",
        "\n",
        "<br>\n",
        "<img src = \"https://files.realpython.com/media/A-Guide-to-Pandas-Dataframes_Watermarked.7330c8fd51bb.jpg\" width = \"600\"/>\n",
        "<br>\n",
        "<center><str><a target=\"_blank\" href=\"https://files.realpython.com/media/A-Guide-to-Pandas-Dataframes_Watermarked.7330c8fd51bb.jpg\">Image Source</a></str></center>\n",
        "\n",
        "\n",
        "Let's see an example:"
      ],
      "metadata": {
        "id": "EgDHGsbhBYXp"
      }
    },
    {
      "cell_type": "code",
      "source": [
        "items = {\n",
        "    \"Ali\" : pd.Series(data = [101, 34, 78], index = ['cars', 'bikes', 'pants']),\n",
        "    \"Bilal\" : pd.Series(data = [87, 11, 7, 55], index = ['books', 'pencils', 'apples', 'peanuts'])\n",
        "}\n",
        "\n",
        "df = pd.DataFrame(items)\n",
        "print(type(df))\n",
        "df"
      ],
      "metadata": {
        "execution": {
          "iopub.status.busy": "2022-11-21T08:29:55.046608Z",
          "iopub.execute_input": "2022-11-21T08:29:55.047193Z",
          "iopub.status.idle": "2022-11-21T08:29:55.073939Z",
          "shell.execute_reply.started": "2022-11-21T08:29:55.04716Z",
          "shell.execute_reply": "2022-11-21T08:29:55.072779Z"
        },
        "trusted": true,
        "id": "fRBec14oBYXp"
      },
      "execution_count": null,
      "outputs": []
    },
    {
      "cell_type": "markdown",
      "source": [
        "<div class=\"alert alert-block alert-info\">\n",
        "In above example, we see that the row labels of 'df' DataFrame are ordered alphabetically not in the order we gave in the dictionary. You can also see that there are some <b>NaN</b> values. But what are they?\n",
        "<br>\n",
        "    <b>NaN</b> stands for <i>Not a Number</i>, and is Pandas way of indicating the missing values.\n",
        "\n",
        "We can also pass lists as keys insted of Pandas Series:\n",
        "</div>"
      ],
      "metadata": {
        "id": "nq42y1RjBYXq"
      }
    },
    {
      "cell_type": "code",
      "source": [
        "data = {\"Apples\" : [11, 22, 33, 101, 302],\n",
        "       \"Mangoes\" : [99, 77, 44, 45, 100]}\n",
        "\n",
        "fruits_data = pd.DataFrame(data)\n",
        "\n",
        "fruits_data"
      ],
      "metadata": {
        "execution": {
          "iopub.status.busy": "2022-11-21T08:29:55.075342Z",
          "iopub.execute_input": "2022-11-21T08:29:55.075789Z",
          "iopub.status.idle": "2022-11-21T08:29:55.087501Z",
          "shell.execute_reply.started": "2022-11-21T08:29:55.075757Z",
          "shell.execute_reply": "2022-11-21T08:29:55.086355Z"
        },
        "trusted": true,
        "id": "CMXS1fmzBYXq"
      },
      "execution_count": null,
      "outputs": []
    },
    {
      "cell_type": "markdown",
      "source": [
        "### Creating a DataFrame using a dictionary of lists, and custom row-indexes (labels)"
      ],
      "metadata": {
        "id": "On31Q2WRBYXq"
      }
    },
    {
      "cell_type": "code",
      "source": [
        "data = {\"Integers\" : [1, 2, 3],\n",
        "       \"Floats\" : [3.4, 0.1, 5.6],\n",
        "       \"Strings\" : [\"A\", \"B\", \"C\"]}\n",
        "\n",
        "df = pd.DataFrame(data, index = [\"DataType 1\", \"DataType 2\", \"Datatype 3\"])\n",
        "\n",
        "df"
      ],
      "metadata": {
        "execution": {
          "iopub.status.busy": "2022-11-21T08:29:55.089043Z",
          "iopub.execute_input": "2022-11-21T08:29:55.089451Z",
          "iopub.status.idle": "2022-11-21T08:29:55.107614Z",
          "shell.execute_reply.started": "2022-11-21T08:29:55.089418Z",
          "shell.execute_reply": "2022-11-21T08:29:55.106243Z"
        },
        "trusted": true,
        "id": "cEymSZsQBYXq"
      },
      "execution_count": null,
      "outputs": []
    },
    {
      "cell_type": "markdown",
      "source": [
        "### Creating a DataFrame using a list of dictionaries"
      ],
      "metadata": {
        "id": "hhDbqh99BYXr"
      }
    },
    {
      "cell_type": "code",
      "source": [
        "items = [{'socks' : 10, 'shoes' : 5, 'watches' : 12},\n",
        "        {'bikes' : 2, 'cycles' : 5, 'cars' : 3, 'trains' : 8}]\n",
        "\n",
        "data = pd.DataFrame(items, index = [\"collection 1\", \"collection 2\"])\n",
        "data"
      ],
      "metadata": {
        "execution": {
          "iopub.status.busy": "2022-11-21T08:29:55.109315Z",
          "iopub.execute_input": "2022-11-21T08:29:55.110649Z",
          "iopub.status.idle": "2022-11-21T08:29:55.135351Z",
          "shell.execute_reply.started": "2022-11-21T08:29:55.110526Z",
          "shell.execute_reply": "2022-11-21T08:29:55.134397Z"
        },
        "trusted": true,
        "id": "hDTzfzivBYXr"
      },
      "execution_count": null,
      "outputs": []
    },
    {
      "cell_type": "markdown",
      "source": [
        "## Attributes of a DataFrame\n",
        "\n",
        "Let's see some attributes of a DataFrame and print some information about fruits_data:"
      ],
      "metadata": {
        "id": "CZWRNIScBYXr"
      }
    },
    {
      "cell_type": "code",
      "source": [
        "print(\"fruits_data.shape: \", fruits_data.shape)\n",
        "print(\"fruits_data.ndim: \", fruits_data.ndim)\n",
        "print(\"fruits_data.size: \", fruits_data.size)\n",
        "print()\n",
        "print(\"fruits_data.values:\\n\", fruits_data.values)\n",
        "print()\n",
        "print(\"fruits_data.index: \", fruits_data.index)\n",
        "print(\"fruits_data.columns: \", fruits_data.columns)"
      ],
      "metadata": {
        "execution": {
          "iopub.status.busy": "2022-11-21T08:29:55.137024Z",
          "iopub.execute_input": "2022-11-21T08:29:55.137683Z",
          "iopub.status.idle": "2022-11-21T08:29:55.150662Z",
          "shell.execute_reply.started": "2022-11-21T08:29:55.137647Z",
          "shell.execute_reply": "2022-11-21T08:29:55.149582Z"
        },
        "trusted": true,
        "id": "yKLA85gcBYXr"
      },
      "execution_count": null,
      "outputs": []
    },
    {
      "cell_type": "markdown",
      "source": [
        "<div class=\"alert alert-block alert-info\">\n",
        "We can also create a DataFrame of rows and columns of our own choice:\n",
        "</div>"
      ],
      "metadata": {
        "id": "YcajjzcvBYXx"
      }
    },
    {
      "cell_type": "code",
      "source": [
        "items = {\n",
        "    \"Ali\" : pd.Series(data = [101, 34, 78], index = ['cars', 'bikes', 'pants']),\n",
        "    \"Bilal\" : pd.Series(data = [87, 11, 7, 55], index = ['books', 'pencils', 'apples', 'peanuts'])\n",
        "}\n",
        "\n",
        "df = pd.DataFrame(items, columns = [\"Bilal\"], index = ['apples', 'bikes', 'books'])\n",
        "df"
      ],
      "metadata": {
        "execution": {
          "iopub.status.busy": "2022-11-21T08:29:55.152601Z",
          "iopub.execute_input": "2022-11-21T08:29:55.15344Z",
          "iopub.status.idle": "2022-11-21T08:29:55.173542Z",
          "shell.execute_reply.started": "2022-11-21T08:29:55.153394Z",
          "shell.execute_reply": "2022-11-21T08:29:55.172351Z"
        },
        "trusted": true,
        "id": "ZwHiGtXqBYXy"
      },
      "execution_count": null,
      "outputs": []
    },
    {
      "cell_type": "markdown",
      "source": [
        "## Accessing and Adding elements in DataFrame\n",
        "\n",
        "<div class=\"alert alert-block alert-info\">\n",
        "Like Pandas Series, we can also access elements in a DataFrame by using index labels and column names. <b>loc[ ]</b> and <b>iloc[ ]</b> are also used for accessing elements\n",
        "</div>\n",
        "\n",
        "Let's have some examples:"
      ],
      "metadata": {
        "id": "kgGGmjKtBYXy"
      }
    },
    {
      "cell_type": "code",
      "source": [
        "items = [{'socks' : 10, 'shoes' : 5, 'watches' : 12},\n",
        "        {'bikes' : 2, 'cycles' : 5, 'cars' : 3, 'trains' : 8}]\n",
        "\n",
        "data = pd.DataFrame(items, index = [\"collection 1\", \"collection 2\"])\n",
        "data"
      ],
      "metadata": {
        "execution": {
          "iopub.status.busy": "2022-11-21T08:29:55.179183Z",
          "iopub.execute_input": "2022-11-21T08:29:55.179927Z",
          "iopub.status.idle": "2022-11-21T08:29:55.196657Z",
          "shell.execute_reply.started": "2022-11-21T08:29:55.179879Z",
          "shell.execute_reply": "2022-11-21T08:29:55.195733Z"
        },
        "trusted": true,
        "id": "scVwOpwKBYXy"
      },
      "execution_count": null,
      "outputs": []
    },
    {
      "cell_type": "code",
      "source": [
        "data[['bikes']]"
      ],
      "metadata": {
        "execution": {
          "iopub.status.busy": "2022-11-21T08:29:55.197677Z",
          "iopub.execute_input": "2022-11-21T08:29:55.198212Z",
          "iopub.status.idle": "2022-11-21T08:29:55.216575Z",
          "shell.execute_reply.started": "2022-11-21T08:29:55.19818Z",
          "shell.execute_reply": "2022-11-21T08:29:55.215364Z"
        },
        "trusted": true,
        "id": "yWQaA9UWBYXy"
      },
      "execution_count": null,
      "outputs": []
    },
    {
      "cell_type": "code",
      "source": [
        "data[['bikes', 'socks', 'cycles']]"
      ],
      "metadata": {
        "execution": {
          "iopub.status.busy": "2022-11-21T08:29:55.217985Z",
          "iopub.execute_input": "2022-11-21T08:29:55.218994Z",
          "iopub.status.idle": "2022-11-21T08:29:55.234466Z",
          "shell.execute_reply.started": "2022-11-21T08:29:55.218945Z",
          "shell.execute_reply": "2022-11-21T08:29:55.233336Z"
        },
        "trusted": true,
        "id": "R9gQYQkKBYXz"
      },
      "execution_count": null,
      "outputs": []
    },
    {
      "cell_type": "code",
      "source": [
        "data.loc[['collection 1']]"
      ],
      "metadata": {
        "execution": {
          "iopub.status.busy": "2022-11-21T08:29:55.236265Z",
          "iopub.execute_input": "2022-11-21T08:29:55.236649Z",
          "iopub.status.idle": "2022-11-21T08:29:55.256511Z",
          "shell.execute_reply.started": "2022-11-21T08:29:55.236615Z",
          "shell.execute_reply": "2022-11-21T08:29:55.25529Z"
        },
        "trusted": true,
        "id": "JG0-pgjDBYXz"
      },
      "execution_count": null,
      "outputs": []
    },
    {
      "cell_type": "markdown",
      "source": [
        "<div class=\"alert alert-block alert-warning\">\n",
        "If we want to access individual elements in a DataFrame, the labels should always be provided with the column label first.\n",
        "</div>"
      ],
      "metadata": {
        "id": "79SNTZZnBYXz"
      }
    },
    {
      "cell_type": "code",
      "source": [
        "data['cars']['collection 2']"
      ],
      "metadata": {
        "execution": {
          "iopub.status.busy": "2022-11-21T08:29:55.258377Z",
          "iopub.execute_input": "2022-11-21T08:29:55.258967Z",
          "iopub.status.idle": "2022-11-21T08:29:55.27037Z",
          "shell.execute_reply.started": "2022-11-21T08:29:55.258931Z",
          "shell.execute_reply": "2022-11-21T08:29:55.26902Z"
        },
        "trusted": true,
        "id": "JSafL1z-BYXz"
      },
      "execution_count": null,
      "outputs": []
    },
    {
      "cell_type": "markdown",
      "source": [
        "## Adding a column to an existing DataFrame"
      ],
      "metadata": {
        "id": "4z3z6KBzBYXz"
      }
    },
    {
      "cell_type": "code",
      "source": [
        "data['jets'] = [9, 4]\n",
        "\n",
        "data"
      ],
      "metadata": {
        "execution": {
          "iopub.status.busy": "2022-11-21T08:29:55.271677Z",
          "iopub.execute_input": "2022-11-21T08:29:55.272046Z",
          "iopub.status.idle": "2022-11-21T08:29:55.29329Z",
          "shell.execute_reply.started": "2022-11-21T08:29:55.272014Z",
          "shell.execute_reply": "2022-11-21T08:29:55.292145Z"
        },
        "trusted": true,
        "id": "o4i-gKNUBYXz"
      },
      "execution_count": null,
      "outputs": []
    },
    {
      "cell_type": "markdown",
      "source": [
        "### Add a new column based on the arithmetic operation between existing columns of a DataFrame\n",
        "\n",
        "<div class=\"alert alert-block alert-info\">\n",
        "We can also add new columns to our DataFrame by using arithmetic operations between other columns in our DataFrame.\n",
        "</div>\n",
        "\n",
        "Let's see an example:"
      ],
      "metadata": {
        "id": "k5c0FDtjBYX0"
      }
    },
    {
      "cell_type": "code",
      "source": [
        "data[\"foot wear\"] = data[\"socks\"] + data[\"shoes\"]\n",
        "data"
      ],
      "metadata": {
        "scrolled": true,
        "execution": {
          "iopub.status.busy": "2022-11-21T08:29:55.378875Z",
          "iopub.execute_input": "2022-11-21T08:29:55.379274Z",
          "iopub.status.idle": "2022-11-21T08:29:55.400117Z",
          "shell.execute_reply.started": "2022-11-21T08:29:55.379243Z",
          "shell.execute_reply": "2022-11-21T08:29:55.398823Z"
        },
        "trusted": true,
        "id": "ZTUv8HnmBYX0"
      },
      "execution_count": null,
      "outputs": []
    },
    {
      "cell_type": "markdown",
      "source": [
        "### Adding new column at a specific location\n",
        "\n",
        "<div class=\"alert alert-block alert-info\">\n",
        "We can also add a new column anywhere we want by using <b>DataFrame.insert(loc, label, data)</b> method.\n",
        "</div>\n",
        "\n",
        "For example:"
      ],
      "metadata": {
        "id": "E5sYu5dKBYX0"
      }
    },
    {
      "cell_type": "code",
      "source": [
        "data.insert(2, 'drinks', [3, 4])\n",
        "data"
      ],
      "metadata": {
        "execution": {
          "iopub.status.busy": "2022-11-21T08:29:55.402874Z",
          "iopub.execute_input": "2022-11-21T08:29:55.403747Z",
          "iopub.status.idle": "2022-11-21T08:29:55.419978Z",
          "shell.execute_reply.started": "2022-11-21T08:29:55.403708Z",
          "shell.execute_reply": "2022-11-21T08:29:55.419124Z"
        },
        "trusted": true,
        "id": "Q1XMu71RBYX0"
      },
      "execution_count": null,
      "outputs": []
    },
    {
      "cell_type": "markdown",
      "source": [
        "## Deleting column from a DataFrame\n",
        "\n",
        "<div class=\"alert alert-block alert-danger\">\n",
        "    We can delete columns with <b>DataFrame.pop()</b> and <b>DataFrame.drop()</b> method.\n",
        "</div>\n",
        "\n",
        "For example:"
      ],
      "metadata": {
        "id": "xJVcF5zGBYX1"
      }
    },
    {
      "cell_type": "code",
      "source": [
        "data.pop(\"cars\")\n",
        "data"
      ],
      "metadata": {
        "execution": {
          "iopub.status.busy": "2022-11-21T08:29:55.421016Z",
          "iopub.execute_input": "2022-11-21T08:29:55.421741Z",
          "iopub.status.idle": "2022-11-21T08:29:55.436267Z",
          "shell.execute_reply.started": "2022-11-21T08:29:55.421709Z",
          "shell.execute_reply": "2022-11-21T08:29:55.435456Z"
        },
        "trusted": true,
        "id": "0hgBaDwdBYX1"
      },
      "execution_count": null,
      "outputs": []
    },
    {
      "cell_type": "markdown",
      "source": [
        "### Deleting multiple columns from a DataFrame\n",
        "\n",
        "<div class=\"alert alert-block alert-danger\">\n",
        "    With <b>DataFrame.drop()</b> method, we can delete multiple columns from a DataFrame. Here we will specify <i>aixs = 1</i> in order to delete columns.\n",
        "</div>"
      ],
      "metadata": {
        "id": "ULwmXHC0BYX1"
      }
    },
    {
      "cell_type": "code",
      "source": [
        "data = data.drop(['socks', 'bikes'], axis = 1)\n",
        "data"
      ],
      "metadata": {
        "execution": {
          "iopub.status.busy": "2022-11-21T08:29:55.437572Z",
          "iopub.execute_input": "2022-11-21T08:29:55.43798Z",
          "iopub.status.idle": "2022-11-21T08:29:55.454559Z",
          "shell.execute_reply.started": "2022-11-21T08:29:55.437947Z",
          "shell.execute_reply": "2022-11-21T08:29:55.453777Z"
        },
        "trusted": true,
        "id": "q6lBSMkgBYX1"
      },
      "execution_count": null,
      "outputs": []
    },
    {
      "cell_type": "markdown",
      "source": [
        "### Deleting rows from a DataFrame\n",
        "\n",
        "<div class=\"alert alert-block alert-danger\">\n",
        "    We can also delete rows from a DataFrame with the help of <b>DataFrame.drop()</b>. Here we will specify <i>aixs = 0</i> in order to delete rows.\n",
        "</div>"
      ],
      "metadata": {
        "id": "BgsJZ_sNBYX1"
      }
    },
    {
      "cell_type": "code",
      "source": [
        "data = data.drop([\"collection 2\"], axis = 0)\n",
        "data"
      ],
      "metadata": {
        "execution": {
          "iopub.status.busy": "2022-11-21T08:29:55.456965Z",
          "iopub.execute_input": "2022-11-21T08:29:55.457525Z",
          "iopub.status.idle": "2022-11-21T08:29:55.482615Z",
          "shell.execute_reply.started": "2022-11-21T08:29:55.45749Z",
          "shell.execute_reply": "2022-11-21T08:29:55.480149Z"
        },
        "trusted": true,
        "id": "fpOj_YDVBYX1"
      },
      "execution_count": null,
      "outputs": []
    },
    {
      "cell_type": "markdown",
      "source": [
        "### Renaming the column name in a DataFrame\n",
        "\n",
        "<div class=\"alert alert-block alert-info\">\n",
        "    We can change the name of columns with <b>rename()</b> method by giving <i>columns</i> argument in <b>rename()</b> method.\n",
        "</div>"
      ],
      "metadata": {
        "id": "lf_5e1pqBYX2"
      }
    },
    {
      "cell_type": "code",
      "source": [
        "data = data.rename(columns = {\"jets\" : \"planes\"})\n",
        "data"
      ],
      "metadata": {
        "execution": {
          "iopub.status.busy": "2022-11-21T08:29:55.485008Z",
          "iopub.execute_input": "2022-11-21T08:29:55.485577Z",
          "iopub.status.idle": "2022-11-21T08:29:55.5057Z",
          "shell.execute_reply.started": "2022-11-21T08:29:55.485527Z",
          "shell.execute_reply": "2022-11-21T08:29:55.5044Z"
        },
        "trusted": true,
        "id": "bkLhL-X-BYX2"
      },
      "execution_count": null,
      "outputs": []
    },
    {
      "cell_type": "markdown",
      "source": [
        "### Renaming row label in a DataFrame\n",
        "\n",
        "<div class=\"alert alert-block alert-info\">\n",
        "    We can also rename a row label by using <b>rename()</b> method and giving <i>index</i> as an argument.\n",
        "</div>"
      ],
      "metadata": {
        "id": "r79taeoUBYX2"
      }
    },
    {
      "cell_type": "code",
      "source": [
        "data = data.rename(index = {\"collection 1\" : \"row 1\"})\n",
        "data"
      ],
      "metadata": {
        "execution": {
          "iopub.status.busy": "2022-11-21T08:29:55.507674Z",
          "iopub.execute_input": "2022-11-21T08:29:55.508404Z",
          "iopub.status.idle": "2022-11-21T08:29:55.529095Z",
          "shell.execute_reply.started": "2022-11-21T08:29:55.508358Z",
          "shell.execute_reply": "2022-11-21T08:29:55.527141Z"
        },
        "trusted": true,
        "id": "qrI5zWyQBYX2"
      },
      "execution_count": null,
      "outputs": []
    },
    {
      "cell_type": "markdown",
      "source": [
        "### Setting column values as row index\n",
        "\n",
        "<div class=\"alert alert-block alert-info\">\n",
        "    We can also set a specific column to the row index by using <b>set_index()</b> method.\n",
        "</div>"
      ],
      "metadata": {
        "id": "9DGy_7VJBYX2"
      }
    },
    {
      "cell_type": "code",
      "source": [
        "data = data.set_index(\"shoes\")\n",
        "data"
      ],
      "metadata": {
        "scrolled": true,
        "execution": {
          "iopub.status.busy": "2022-11-21T08:29:55.531046Z",
          "iopub.execute_input": "2022-11-21T08:29:55.532234Z",
          "iopub.status.idle": "2022-11-21T08:29:55.550284Z",
          "shell.execute_reply.started": "2022-11-21T08:29:55.532151Z",
          "shell.execute_reply": "2022-11-21T08:29:55.549096Z"
        },
        "trusted": true,
        "id": "PiudiYGMBYX3"
      },
      "execution_count": null,
      "outputs": []
    },
    {
      "cell_type": "markdown",
      "source": [
        "<a id = '4.'></a>\n",
        "# 4. Dealing with NaN\n",
        "\n",
        "### Counting NaN down the column\n",
        "\n",
        "<div class=\"alert alert-block alert-info\">\n",
        "    Pandas provides some methods and attributes to count NaN values. <b>DataFrame.isnull()</b> method will return True if a value in DataFrame has NaN value other wise False. <b>DataFrame.isnull().sum()</b> will return the number of NaN in each column & <b>DataFrame.isnull().sum().sum()</b> will return the number of all NaN values in that DataFrame.\n",
        "</div>\n",
        "\n",
        "Let's have an example:"
      ],
      "metadata": {
        "id": "u4zI7nDIBYX3"
      }
    },
    {
      "cell_type": "code",
      "source": [
        "data = [{'bikes': 20, 'pants': 30, 'watches': 35, 'shirts': 15, 'shoes':8, 'suits':45},\n",
        "{'watches': 10, 'glasses': 50, 'bikes': 15, 'pants':5, 'shirts': 2, 'shoes':5, 'suits':7},\n",
        "{'bikes': 20, 'pants': 30, 'watches': 35, 'glasses': 4, 'shoes':10}]\n",
        "\n",
        "df = pd.DataFrame(data, index = [\"shop 1\", \"shop 2\", \"shop 3\"])\n",
        "df"
      ],
      "metadata": {
        "execution": {
          "iopub.status.busy": "2022-11-21T08:29:55.551937Z",
          "iopub.execute_input": "2022-11-21T08:29:55.553226Z",
          "iopub.status.idle": "2022-11-21T08:29:55.580327Z",
          "shell.execute_reply.started": "2022-11-21T08:29:55.553178Z",
          "shell.execute_reply": "2022-11-21T08:29:55.579103Z"
        },
        "trusted": true,
        "id": "O1ThoBNuBYX3"
      },
      "execution_count": null,
      "outputs": []
    },
    {
      "cell_type": "code",
      "source": [
        "df.isnull()"
      ],
      "metadata": {
        "execution": {
          "iopub.status.busy": "2022-11-21T08:29:55.581945Z",
          "iopub.execute_input": "2022-11-21T08:29:55.582952Z",
          "iopub.status.idle": "2022-11-21T08:29:55.596196Z",
          "shell.execute_reply.started": "2022-11-21T08:29:55.582917Z",
          "shell.execute_reply": "2022-11-21T08:29:55.595179Z"
        },
        "trusted": true,
        "id": "_XnxTwHBBYX3"
      },
      "execution_count": null,
      "outputs": []
    },
    {
      "cell_type": "code",
      "source": [
        "df.isnull().sum()"
      ],
      "metadata": {
        "execution": {
          "iopub.status.busy": "2022-11-21T08:29:55.597809Z",
          "iopub.execute_input": "2022-11-21T08:29:55.598627Z",
          "iopub.status.idle": "2022-11-21T08:29:55.612518Z",
          "shell.execute_reply.started": "2022-11-21T08:29:55.598576Z",
          "shell.execute_reply": "2022-11-21T08:29:55.610919Z"
        },
        "trusted": true,
        "id": "NEevgCprBYX3"
      },
      "execution_count": null,
      "outputs": []
    },
    {
      "cell_type": "code",
      "source": [
        "print(\"Total number of NaN values = \", df.isnull().sum().sum())"
      ],
      "metadata": {
        "execution": {
          "iopub.status.busy": "2022-11-21T08:29:55.61443Z",
          "iopub.execute_input": "2022-11-21T08:29:55.615715Z",
          "iopub.status.idle": "2022-11-21T08:29:55.626468Z",
          "shell.execute_reply.started": "2022-11-21T08:29:55.61566Z",
          "shell.execute_reply": "2022-11-21T08:29:55.625229Z"
        },
        "trusted": true,
        "id": "wzjbp8YqBYX4"
      },
      "execution_count": null,
      "outputs": []
    },
    {
      "cell_type": "markdown",
      "source": [
        "<div class=\"alert alert-block alert-warning\">\n",
        "    We can also count the number of Non-NaN values in a DataFrame using <b>DataFrame.count()</b> method.\n",
        "</div>"
      ],
      "metadata": {
        "id": "8ln6wWkzBYX4"
      }
    },
    {
      "cell_type": "code",
      "source": [
        "df.count()"
      ],
      "metadata": {
        "execution": {
          "iopub.status.busy": "2022-11-21T08:29:55.627982Z",
          "iopub.execute_input": "2022-11-21T08:29:55.628932Z",
          "iopub.status.idle": "2022-11-21T08:29:55.64352Z",
          "shell.execute_reply.started": "2022-11-21T08:29:55.628885Z",
          "shell.execute_reply": "2022-11-21T08:29:55.642232Z"
        },
        "trusted": true,
        "id": "2DC-X6LiBYX4"
      },
      "execution_count": null,
      "outputs": []
    },
    {
      "cell_type": "code",
      "source": [
        "print(\"Total number of Non-NaN values = \", df.count().sum())"
      ],
      "metadata": {
        "execution": {
          "iopub.status.busy": "2022-11-21T08:29:55.649438Z",
          "iopub.execute_input": "2022-11-21T08:29:55.649881Z",
          "iopub.status.idle": "2022-11-21T08:29:55.658978Z",
          "shell.execute_reply.started": "2022-11-21T08:29:55.649822Z",
          "shell.execute_reply": "2022-11-21T08:29:55.657544Z"
        },
        "trusted": true,
        "id": "FXoeR9A0BYX4"
      },
      "execution_count": null,
      "outputs": []
    },
    {
      "cell_type": "markdown",
      "source": [
        "## Eliminating NaN Values\n",
        "\n",
        "<div class=\"alert alert-block alert-warning\">\n",
        "As we've counted the number of NaN values, now we can either drop or replace them.\n",
        "</div>\n",
        "\n",
        "### Droping rows having NaN values\n",
        "\n",
        "<div class=\"alert alert-block alert-info\">\n",
        "    We can remove NaN values with the help of <b>dropna()</b> method. In <b>dropna()</b> method, when <i>axis = 0</i>, it will remove rows having NaN values & when <i>axis = 1</i>, it will remove columns having NaN values. And <i>inplace = True</i> will remove rows form original DataFrame.\n",
        "</div>"
      ],
      "metadata": {
        "id": "ZxtNTZplBYX4"
      }
    },
    {
      "cell_type": "code",
      "source": [
        "# Drop rows having NaN values\n",
        "df.dropna(axis = 0, inplace = True)\n",
        "df"
      ],
      "metadata": {
        "execution": {
          "iopub.status.busy": "2022-11-21T08:29:55.660562Z",
          "iopub.execute_input": "2022-11-21T08:29:55.660934Z",
          "iopub.status.idle": "2022-11-21T08:29:55.682524Z",
          "shell.execute_reply.started": "2022-11-21T08:29:55.660899Z",
          "shell.execute_reply": "2022-11-21T08:29:55.681202Z"
        },
        "trusted": true,
        "id": "wh6Hxm7YBYX5"
      },
      "execution_count": null,
      "outputs": []
    },
    {
      "cell_type": "code",
      "source": [
        "data = [{'bikes': 20, 'pants': 30, 'watches': 35, 'shirts': 15, 'shoes':8, 'suits':45},\n",
        "{'watches': 10, 'glasses': 50, 'bikes': 15, 'pants':5, 'shirts': 2, 'shoes':5, 'suits':7},\n",
        "{'bikes': 20, 'pants': 30, 'watches': 35, 'glasses': 4, 'shoes':10}]\n",
        "\n",
        "df = pd.DataFrame(data, index = [\"shop 1\", \"shop 2\", \"shop 3\"])\n",
        "df"
      ],
      "metadata": {
        "execution": {
          "iopub.status.busy": "2022-11-21T08:29:55.684568Z",
          "iopub.execute_input": "2022-11-21T08:29:55.685133Z",
          "iopub.status.idle": "2022-11-21T08:29:55.705454Z",
          "shell.execute_reply.started": "2022-11-21T08:29:55.68508Z",
          "shell.execute_reply": "2022-11-21T08:29:55.704229Z"
        },
        "trusted": true,
        "id": "vrGW1blyBYX5"
      },
      "execution_count": null,
      "outputs": []
    },
    {
      "cell_type": "code",
      "source": [
        "# Drop columns having NaN values\n",
        "dummy_df = df.dropna(axis = 1)\n",
        "dummy_df"
      ],
      "metadata": {
        "execution": {
          "iopub.status.busy": "2022-11-21T08:29:55.706914Z",
          "iopub.execute_input": "2022-11-21T08:29:55.707517Z",
          "iopub.status.idle": "2022-11-21T08:29:55.730366Z",
          "shell.execute_reply.started": "2022-11-21T08:29:55.707485Z",
          "shell.execute_reply": "2022-11-21T08:29:55.729486Z"
        },
        "trusted": true,
        "id": "WJaqQPsIBYX5"
      },
      "execution_count": null,
      "outputs": []
    },
    {
      "cell_type": "markdown",
      "source": [
        "## Replacing NaN values\n",
        "\n",
        "<div class=\"alert alert-block alert-info\">\n",
        "We can also replace NaN values with any value we want with the help of <b>fillna()</b> method.\n",
        "</div>"
      ],
      "metadata": {
        "id": "UVnsmQM7BYX5"
      }
    },
    {
      "cell_type": "code",
      "source": [
        "# Replacing all NaN values with 0\n",
        "dummy_df = df.fillna(0)\n",
        "dummy_df"
      ],
      "metadata": {
        "execution": {
          "iopub.status.busy": "2022-11-21T08:29:55.731663Z",
          "iopub.execute_input": "2022-11-21T08:29:55.732544Z",
          "iopub.status.idle": "2022-11-21T08:29:55.751124Z",
          "shell.execute_reply.started": "2022-11-21T08:29:55.732507Z",
          "shell.execute_reply": "2022-11-21T08:29:55.750047Z"
        },
        "trusted": true,
        "id": "J5_DCrSFBYX5"
      },
      "execution_count": null,
      "outputs": []
    },
    {
      "cell_type": "markdown",
      "source": [
        "<div class=\"alert alert-block alert-info\">\n",
        "We can also replace NaN values with the previous values in the DataFrame. This is called forward filling. In this case, we will pass <i>method = 'ffill'</i> & <i>aixs</i> as an argument in <b>fillna()</b> method.</div>"
      ],
      "metadata": {
        "id": "i21KKTnLBYX6"
      }
    },
    {
      "cell_type": "code",
      "source": [
        "# forward filling down axis = 0\n",
        "dummy_df = df.fillna(method = 'ffill', axis = 0)\n",
        "dummy_df"
      ],
      "metadata": {
        "execution": {
          "iopub.status.busy": "2022-11-21T08:29:55.752593Z",
          "iopub.execute_input": "2022-11-21T08:29:55.753054Z",
          "iopub.status.idle": "2022-11-21T08:29:55.771818Z",
          "shell.execute_reply.started": "2022-11-21T08:29:55.753021Z",
          "shell.execute_reply": "2022-11-21T08:29:55.770315Z"
        },
        "trusted": true,
        "id": "7uM3qvTxBYX6"
      },
      "execution_count": null,
      "outputs": []
    },
    {
      "cell_type": "markdown",
      "source": [
        "<div class=\"alert alert-block alert-warning\">\n",
        "    Notice that the NaN value in <i>shop 1</i> did not get replaced with the previous value because there is no previous value in <i>glasses</i> column.\n",
        "</div>"
      ],
      "metadata": {
        "id": "ckULRSPeBYX6"
      }
    },
    {
      "cell_type": "code",
      "source": [
        "# forward filling arcoss axis = 1\n",
        "dummy_df = df.fillna(method = 'ffill', axis = 1)\n",
        "dummy_df"
      ],
      "metadata": {
        "execution": {
          "iopub.status.busy": "2022-11-21T08:29:55.773608Z",
          "iopub.execute_input": "2022-11-21T08:29:55.774801Z",
          "iopub.status.idle": "2022-11-21T08:29:55.793884Z",
          "shell.execute_reply.started": "2022-11-21T08:29:55.774752Z",
          "shell.execute_reply": "2022-11-21T08:29:55.793023Z"
        },
        "trusted": true,
        "id": "rB0MGaYBBYX6"
      },
      "execution_count": null,
      "outputs": []
    },
    {
      "cell_type": "markdown",
      "source": [
        "<div class=\"alert alert-block alert-warning\">\n",
        " Here all the NaN values have been replaced with the previous row values.\n",
        "</div>"
      ],
      "metadata": {
        "id": "3M0sOcy8BYX6"
      }
    },
    {
      "cell_type": "markdown",
      "source": [
        "<div class=\"alert alert-block alert-info\">\n",
        "    We can also do backward filling by using <i>method = 'backfill'</i> in <b>fillna()</b> method.\n",
        "</div>"
      ],
      "metadata": {
        "id": "7FQD5oq0BYX7"
      }
    },
    {
      "cell_type": "code",
      "source": [
        "# backward filling down axis = 0\n",
        "dummy_df = df.fillna(method = 'backfill', axis = 0)\n",
        "dummy_df"
      ],
      "metadata": {
        "execution": {
          "iopub.status.busy": "2022-11-21T08:29:55.795085Z",
          "iopub.execute_input": "2022-11-21T08:29:55.796055Z",
          "iopub.status.idle": "2022-11-21T08:29:55.81375Z",
          "shell.execute_reply.started": "2022-11-21T08:29:55.796019Z",
          "shell.execute_reply": "2022-11-21T08:29:55.811956Z"
        },
        "trusted": true,
        "id": "puDKufPsBYX7"
      },
      "execution_count": null,
      "outputs": []
    },
    {
      "cell_type": "markdown",
      "source": [
        "<div class=\"alert alert-block alert-warning\">\n",
        "Here all NaN values have been replaced with their previous values in their columns except two columns in <i>shop 3</i> because they have no previous values in their columns.\n",
        "</div>"
      ],
      "metadata": {
        "id": "0la3f862BYX7"
      }
    },
    {
      "cell_type": "code",
      "source": [
        "# backward filling across axis = 1\n",
        "dummy_df = df.fillna(method = 'backfill', axis = 1)\n",
        "dummy_df"
      ],
      "metadata": {
        "execution": {
          "iopub.status.busy": "2022-11-21T08:29:55.815524Z",
          "iopub.execute_input": "2022-11-21T08:29:55.816242Z",
          "iopub.status.idle": "2022-11-21T08:29:55.840098Z",
          "shell.execute_reply.started": "2022-11-21T08:29:55.816206Z",
          "shell.execute_reply": "2022-11-21T08:29:55.838953Z"
        },
        "trusted": true,
        "id": "82TevP21BYX7"
      },
      "execution_count": null,
      "outputs": []
    },
    {
      "cell_type": "markdown",
      "source": [
        "<a id = '5.'></a>\n",
        "# 5. Loading Data into DataFrame\n",
        "\n",
        "Now we will load data from a csv file into Pandas DataFrame using **Pandas.read_csv()**. In this notebook we will be using [Google Play Store](https://www.kaggle.com/datasets/whenamancodes/play-store-apps) dataset."
      ],
      "metadata": {
        "id": "x1w_CODsBYX7"
      }
    },
    {
      "cell_type": "code",
      "source": [
        "data = pd.read_csv(\"/kaggle/input/play-store-apps/googleplaystore.csv\")\n",
        "data"
      ],
      "metadata": {
        "execution": {
          "iopub.status.busy": "2022-11-21T08:29:55.841887Z",
          "iopub.execute_input": "2022-11-21T08:29:55.842636Z",
          "iopub.status.idle": "2022-11-21T08:29:55.942633Z",
          "shell.execute_reply.started": "2022-11-21T08:29:55.84259Z",
          "shell.execute_reply": "2022-11-21T08:29:55.941153Z"
        },
        "trusted": true,
        "id": "aCO1vZTQBYX8"
      },
      "execution_count": null,
      "outputs": []
    },
    {
      "cell_type": "markdown",
      "source": [
        "<div class=\"alert alert-block alert-info\">\n",
        "    We can print the first and last 5 rows of a dataset by using <b>DataFrame.head()</b> and <b>DataFrame.tail()</b> mehtods, respectively. We can also optionally use <b>DataFrame.head(N)</b> or <b>DataFrame.tail(N)</b> to display first and last <i>N</i> rows of a data, respectively.\n",
        "</div>"
      ],
      "metadata": {
        "id": "rGYoxqg9BYX8"
      }
    },
    {
      "cell_type": "code",
      "source": [
        "data.head()"
      ],
      "metadata": {
        "execution": {
          "iopub.status.busy": "2022-11-21T08:29:55.944286Z",
          "iopub.execute_input": "2022-11-21T08:29:55.944632Z",
          "iopub.status.idle": "2022-11-21T08:29:55.963775Z",
          "shell.execute_reply.started": "2022-11-21T08:29:55.944601Z",
          "shell.execute_reply": "2022-11-21T08:29:55.962728Z"
        },
        "trusted": true,
        "id": "QNbaq4iSBYX8"
      },
      "execution_count": null,
      "outputs": []
    },
    {
      "cell_type": "code",
      "source": [
        "data.tail()"
      ],
      "metadata": {
        "execution": {
          "iopub.status.busy": "2022-11-21T08:29:55.964944Z",
          "iopub.execute_input": "2022-11-21T08:29:55.966083Z",
          "iopub.status.idle": "2022-11-21T08:29:55.990079Z",
          "shell.execute_reply.started": "2022-11-21T08:29:55.966044Z",
          "shell.execute_reply": "2022-11-21T08:29:55.98874Z"
        },
        "trusted": true,
        "id": "A9mULqi0BYX8"
      },
      "execution_count": null,
      "outputs": []
    },
    {
      "cell_type": "code",
      "source": [
        "data.head(10)"
      ],
      "metadata": {
        "scrolled": true,
        "execution": {
          "iopub.status.busy": "2022-11-21T08:29:55.991364Z",
          "iopub.execute_input": "2022-11-21T08:29:55.991693Z",
          "iopub.status.idle": "2022-11-21T08:29:56.014091Z",
          "shell.execute_reply.started": "2022-11-21T08:29:55.991664Z",
          "shell.execute_reply": "2022-11-21T08:29:56.012739Z"
        },
        "trusted": true,
        "id": "VItwWVo0BYX8"
      },
      "execution_count": null,
      "outputs": []
    },
    {
      "cell_type": "markdown",
      "source": [
        "<div class=\"alert alert-block alert-info\">\n",
        "    We can also get the shape of data by using <b>shape</b> attribute. This will return a tuple where value at index 0 will be number of rows and value at index 1 will be number of columns.</div>"
      ],
      "metadata": {
        "id": "jojlzkrNBYX8"
      }
    },
    {
      "cell_type": "code",
      "source": [
        "data.shape"
      ],
      "metadata": {
        "execution": {
          "iopub.status.busy": "2022-11-21T08:29:56.015742Z",
          "iopub.execute_input": "2022-11-21T08:29:56.016212Z",
          "iopub.status.idle": "2022-11-21T08:29:56.027102Z",
          "shell.execute_reply.started": "2022-11-21T08:29:56.016172Z",
          "shell.execute_reply": "2022-11-21T08:29:56.025716Z"
        },
        "trusted": true,
        "id": "q5NyA3J_BYX9"
      },
      "execution_count": null,
      "outputs": []
    },
    {
      "cell_type": "code",
      "source": [
        "print(\"Rows: \", data.shape[0])\n",
        "print(\"Columns: \", data.shape[1])"
      ],
      "metadata": {
        "execution": {
          "iopub.status.busy": "2022-11-21T08:29:56.02849Z",
          "iopub.execute_input": "2022-11-21T08:29:56.028828Z",
          "iopub.status.idle": "2022-11-21T08:29:56.039492Z",
          "shell.execute_reply.started": "2022-11-21T08:29:56.028798Z",
          "shell.execute_reply": "2022-11-21T08:29:56.038344Z"
        },
        "trusted": true,
        "id": "YugaqPGqBYX9"
      },
      "execution_count": null,
      "outputs": []
    },
    {
      "cell_type": "markdown",
      "source": [
        "### Dealing with NaN values\n",
        "\n",
        "<div class=\"alert alert-block alert-info\">\n",
        "Let's do a quick check to see whether we have any NaN values in our dataset. For this we will be using <b>DataFrame.isnull()</b> method followed by <b>any()</b> mehtod. This will return a boolean for each column label.</div>"
      ],
      "metadata": {
        "id": "9QbMZ7N-BYX9"
      }
    },
    {
      "cell_type": "code",
      "source": [
        "data.isnull().any()"
      ],
      "metadata": {
        "execution": {
          "iopub.status.busy": "2022-11-21T08:29:56.041194Z",
          "iopub.execute_input": "2022-11-21T08:29:56.041559Z",
          "iopub.status.idle": "2022-11-21T08:29:56.063215Z",
          "shell.execute_reply.started": "2022-11-21T08:29:56.041527Z",
          "shell.execute_reply": "2022-11-21T08:29:56.062031Z"
        },
        "trusted": true,
        "id": "U86M97aCBYX9"
      },
      "execution_count": null,
      "outputs": []
    },
    {
      "cell_type": "markdown",
      "source": [
        "<div class=\"alert alert-block alert-warning\">\n",
        "As our dataset contains NaN values, so we will be removing rows having NaN.</div>"
      ],
      "metadata": {
        "id": "S7H7R3mcBYX9"
      }
    },
    {
      "cell_type": "code",
      "source": [
        "data.dropna(axis = 0, inplace = True)\n",
        "data.head()"
      ],
      "metadata": {
        "execution": {
          "iopub.status.busy": "2022-11-21T08:29:56.064973Z",
          "iopub.execute_input": "2022-11-21T08:29:56.065323Z",
          "iopub.status.idle": "2022-11-21T08:29:56.102646Z",
          "shell.execute_reply.started": "2022-11-21T08:29:56.065291Z",
          "shell.execute_reply": "2022-11-21T08:29:56.101323Z"
        },
        "trusted": true,
        "id": "QzAqwRJMBYX9"
      },
      "execution_count": null,
      "outputs": []
    },
    {
      "cell_type": "code",
      "source": [
        "data['Current Ver'].value_counts()"
      ],
      "metadata": {
        "scrolled": true,
        "execution": {
          "iopub.status.busy": "2022-11-21T08:29:56.104241Z",
          "iopub.execute_input": "2022-11-21T08:29:56.105175Z",
          "iopub.status.idle": "2022-11-21T08:29:56.120021Z",
          "shell.execute_reply.started": "2022-11-21T08:29:56.105137Z",
          "shell.execute_reply": "2022-11-21T08:29:56.118567Z"
        },
        "trusted": true,
        "id": "UEYrw_WBBYX-"
      },
      "execution_count": null,
      "outputs": []
    },
    {
      "cell_type": "code",
      "source": [
        "data.isnull().any()"
      ],
      "metadata": {
        "execution": {
          "iopub.status.busy": "2022-11-21T08:29:56.121347Z",
          "iopub.execute_input": "2022-11-21T08:29:56.122292Z",
          "iopub.status.idle": "2022-11-21T08:29:56.137058Z",
          "shell.execute_reply.started": "2022-11-21T08:29:56.122068Z",
          "shell.execute_reply": "2022-11-21T08:29:56.136095Z"
        },
        "trusted": true,
        "id": "Cv2NrF5-BYX-"
      },
      "execution_count": null,
      "outputs": []
    },
    {
      "cell_type": "markdown",
      "source": [
        "### Descriptive Statistics of the DataFrame\n",
        "\n",
        "<div class=\"alert alert-block alert-info\">\n",
        "    We can also get the descriptive statistics of the DataFrame using <b>DataFrame.describe()</b> method.\n",
        "</div>"
      ],
      "metadata": {
        "id": "uSNhtOV3BYX-"
      }
    },
    {
      "cell_type": "code",
      "source": [
        "data.describe()"
      ],
      "metadata": {
        "execution": {
          "iopub.status.busy": "2022-11-21T08:29:56.138555Z",
          "iopub.execute_input": "2022-11-21T08:29:56.139121Z",
          "iopub.status.idle": "2022-11-21T08:29:56.15748Z",
          "shell.execute_reply.started": "2022-11-21T08:29:56.139085Z",
          "shell.execute_reply": "2022-11-21T08:29:56.155891Z"
        },
        "trusted": true,
        "id": "Ppv_FSKSBYX-"
      },
      "execution_count": null,
      "outputs": []
    },
    {
      "cell_type": "markdown",
      "source": [
        "<div class=\"alert alert-block alert-info\">\n",
        "    We can apply <b>describe()</b> method on a single column as well.</div>"
      ],
      "metadata": {
        "id": "XjXvUe9qBYX_"
      }
    },
    {
      "cell_type": "code",
      "source": [
        "data[\"Rating\"].describe()"
      ],
      "metadata": {
        "execution": {
          "iopub.status.busy": "2022-11-21T08:29:56.159773Z",
          "iopub.execute_input": "2022-11-21T08:29:56.16043Z",
          "iopub.status.idle": "2022-11-21T08:29:56.173086Z",
          "shell.execute_reply.started": "2022-11-21T08:29:56.160367Z",
          "shell.execute_reply": "2022-11-21T08:29:56.171918Z"
        },
        "trusted": true,
        "id": "xBX7p-7pBYX_"
      },
      "execution_count": null,
      "outputs": []
    },
    {
      "cell_type": "markdown",
      "source": [
        "<div class=\"alert alert-block alert-info\">\n",
        "We can also look at one of many statistical functions that Pandas provides.\n",
        "</div>\n",
        "\n",
        "Let's see some examples:"
      ],
      "metadata": {
        "id": "Tl33rzycBYX_"
      }
    },
    {
      "cell_type": "code",
      "source": [
        "data[\"Rating\"].min()"
      ],
      "metadata": {
        "execution": {
          "iopub.status.busy": "2022-11-21T08:29:56.174333Z",
          "iopub.execute_input": "2022-11-21T08:29:56.175031Z",
          "iopub.status.idle": "2022-11-21T08:29:56.183178Z",
          "shell.execute_reply.started": "2022-11-21T08:29:56.174996Z",
          "shell.execute_reply": "2022-11-21T08:29:56.182187Z"
        },
        "trusted": true,
        "id": "W0oGa9yLBYX_"
      },
      "execution_count": null,
      "outputs": []
    },
    {
      "cell_type": "code",
      "source": [
        "data[\"Rating\"].max()"
      ],
      "metadata": {
        "execution": {
          "iopub.status.busy": "2022-11-21T08:29:56.184583Z",
          "iopub.execute_input": "2022-11-21T08:29:56.185782Z",
          "iopub.status.idle": "2022-11-21T08:29:56.196722Z",
          "shell.execute_reply.started": "2022-11-21T08:29:56.185742Z",
          "shell.execute_reply": "2022-11-21T08:29:56.195411Z"
        },
        "trusted": true,
        "id": "bOCCJIZTBYX_"
      },
      "execution_count": null,
      "outputs": []
    },
    {
      "cell_type": "code",
      "source": [
        "data[\"Rating\"].mean()"
      ],
      "metadata": {
        "execution": {
          "iopub.status.busy": "2022-11-21T08:29:56.198597Z",
          "iopub.execute_input": "2022-11-21T08:29:56.199122Z",
          "iopub.status.idle": "2022-11-21T08:29:56.209047Z",
          "shell.execute_reply.started": "2022-11-21T08:29:56.199073Z",
          "shell.execute_reply": "2022-11-21T08:29:56.20797Z"
        },
        "trusted": true,
        "id": "m-QDIo3hBYX_"
      },
      "execution_count": null,
      "outputs": []
    },
    {
      "cell_type": "markdown",
      "source": [
        "<div class=\"alert alert-block alert-info\">\n",
        "    We can also get the information about the DataFrame using <b>info()</b> method.</div>"
      ],
      "metadata": {
        "id": "eNo_I5gtBYYA"
      }
    },
    {
      "cell_type": "code",
      "source": [
        "data.info()"
      ],
      "metadata": {
        "execution": {
          "iopub.status.busy": "2022-11-21T08:29:56.210516Z",
          "iopub.execute_input": "2022-11-21T08:29:56.211236Z",
          "iopub.status.idle": "2022-11-21T08:29:56.239414Z",
          "shell.execute_reply.started": "2022-11-21T08:29:56.211201Z",
          "shell.execute_reply": "2022-11-21T08:29:56.23823Z"
        },
        "trusted": true,
        "id": "GXpnQyy-BYYA"
      },
      "execution_count": null,
      "outputs": []
    },
    {
      "cell_type": "markdown",
      "source": [
        "## Sorting rows of the DataFrame\n",
        "\n",
        "<div class=\"alert alert-block alert-info\">\n",
        "    We can sort the rows of a DataFrame using <b>sort_values()</b> method. In some cases where we have the same value (this is common if we sort on a categorical variable), we may wish to break the ties by sorting on another column. We can sort on multiple columns in this way by passing a list of multiple column names. <b>sort_values()</b> method sort values in ascending order by default but we can sort values in descending order by passing argument <i>ascesding = False</i>.\n",
        "</div>\n",
        "\n",
        "Let's see some examples:"
      ],
      "metadata": {
        "id": "3HcswdiHBYYA"
      }
    },
    {
      "cell_type": "code",
      "source": [
        "# sorting in ascending order\n",
        "data_by_content =  data.sort_values(\"Content Rating\")\n",
        "data_by_content.head()"
      ],
      "metadata": {
        "execution": {
          "iopub.status.busy": "2022-11-21T08:29:56.241052Z",
          "iopub.execute_input": "2022-11-21T08:29:56.242061Z",
          "iopub.status.idle": "2022-11-21T08:29:56.273734Z",
          "shell.execute_reply.started": "2022-11-21T08:29:56.242012Z",
          "shell.execute_reply": "2022-11-21T08:29:56.27273Z"
        },
        "trusted": true,
        "id": "_fzRCInLBYYA"
      },
      "execution_count": null,
      "outputs": []
    },
    {
      "cell_type": "code",
      "source": [
        "# sorting in descending order\n",
        "data_by_content =  data.sort_values(\"Content Rating\", ascending = False)\n",
        "data_by_content.head()"
      ],
      "metadata": {
        "execution": {
          "iopub.status.busy": "2022-11-21T08:29:56.275346Z",
          "iopub.execute_input": "2022-11-21T08:29:56.275681Z",
          "iopub.status.idle": "2022-11-21T08:29:56.305878Z",
          "shell.execute_reply.started": "2022-11-21T08:29:56.275651Z",
          "shell.execute_reply": "2022-11-21T08:29:56.304942Z"
        },
        "trusted": true,
        "id": "6hMdqBWHBYYA"
      },
      "execution_count": null,
      "outputs": []
    },
    {
      "cell_type": "code",
      "source": [
        "# sorting by multiple columns\n",
        "sorted_data = data.sort_values([\"Content Rating\", \"Genres\"])\n",
        "sorted_data.head()"
      ],
      "metadata": {
        "execution": {
          "iopub.status.busy": "2022-11-21T08:29:56.313478Z",
          "iopub.execute_input": "2022-11-21T08:29:56.31413Z",
          "iopub.status.idle": "2022-11-21T08:29:56.344318Z",
          "shell.execute_reply.started": "2022-11-21T08:29:56.314082Z",
          "shell.execute_reply": "2022-11-21T08:29:56.342963Z"
        },
        "trusted": true,
        "id": "KLRu3k1FBYYA"
      },
      "execution_count": null,
      "outputs": []
    },
    {
      "cell_type": "markdown",
      "source": [
        "### Subsetting Columns of the DataFame\n",
        "\n",
        "<div class=\"alert alert-block alert-info\">\n",
        "We can subset a single or multiple columns by using square brackets \"[ ]\".\n",
        "</div>\n",
        "\n",
        "Let's have some examples:"
      ],
      "metadata": {
        "id": "HaMt38nbBYYB"
      }
    },
    {
      "cell_type": "code",
      "source": [
        "sub_data = data[['Category']]\n",
        "sub_data.head()"
      ],
      "metadata": {
        "execution": {
          "iopub.status.busy": "2022-11-21T08:29:56.34579Z",
          "iopub.execute_input": "2022-11-21T08:29:56.346224Z",
          "iopub.status.idle": "2022-11-21T08:29:56.359368Z",
          "shell.execute_reply.started": "2022-11-21T08:29:56.346187Z",
          "shell.execute_reply": "2022-11-21T08:29:56.357796Z"
        },
        "trusted": true,
        "id": "-ZZTgI_VBYYB"
      },
      "execution_count": null,
      "outputs": []
    },
    {
      "cell_type": "code",
      "source": [
        "# Creating a DataFrame that only contains 'Current Ver' & 'Android Ver'\n",
        "ver_data = data[[\"Current Ver\", \"Android Ver\"]]\n",
        "ver_data.head()"
      ],
      "metadata": {
        "execution": {
          "iopub.status.busy": "2022-11-21T08:29:56.361412Z",
          "iopub.execute_input": "2022-11-21T08:29:56.361845Z",
          "iopub.status.idle": "2022-11-21T08:29:56.377845Z",
          "shell.execute_reply.started": "2022-11-21T08:29:56.36181Z",
          "shell.execute_reply": "2022-11-21T08:29:56.376381Z"
        },
        "trusted": true,
        "id": "jrpsrFEuBYYB"
      },
      "execution_count": null,
      "outputs": []
    },
    {
      "cell_type": "markdown",
      "source": [
        "### Subsetting or filtering rows of the DataFrame\n",
        "\n",
        "<div class=\"alert alert-block alert-info\">\n",
        "We can also filter rows of the DataFrame that match some criteria. There are many ways to subset a DataFrame, perhaps the most common is to use relational operators to return True or False for each row, then pass that inside square brackets. We can also filter for multiple conditions at once by using the & operator.\n",
        "</div>\n",
        "\n",
        "Let's have some examples:"
      ],
      "metadata": {
        "id": "ViK8mOKrBYYB"
      }
    },
    {
      "cell_type": "code",
      "source": [
        "# filtering rows have 4.0 or above Rating\n",
        "rating_data = data[data[\"Rating\"] >= 4.0]\n",
        "rating_data.head()"
      ],
      "metadata": {
        "scrolled": true,
        "execution": {
          "iopub.status.busy": "2022-11-21T08:29:56.379457Z",
          "iopub.execute_input": "2022-11-21T08:29:56.37995Z",
          "iopub.status.idle": "2022-11-21T08:29:56.405474Z",
          "shell.execute_reply.started": "2022-11-21T08:29:56.379901Z",
          "shell.execute_reply": "2022-11-21T08:29:56.404079Z"
        },
        "trusted": true,
        "id": "9axhB4tnBYYB"
      },
      "execution_count": null,
      "outputs": []
    },
    {
      "cell_type": "code",
      "source": [
        "rating_type_data = data[(data[\"Rating\"] >= 4.5) & (data[\"Type\"] == \"Paid\")]\n",
        "rating_type_data.head()"
      ],
      "metadata": {
        "execution": {
          "iopub.status.busy": "2022-11-21T08:29:56.406754Z",
          "iopub.execute_input": "2022-11-21T08:29:56.407128Z",
          "iopub.status.idle": "2022-11-21T08:29:56.429677Z",
          "shell.execute_reply.started": "2022-11-21T08:29:56.407088Z",
          "shell.execute_reply": "2022-11-21T08:29:56.428065Z"
        },
        "trusted": true,
        "id": "mdOAvboHBYYC"
      },
      "execution_count": null,
      "outputs": []
    },
    {
      "cell_type": "markdown",
      "source": [
        "<div class=\"alert alert-block alert-info\">\n",
        "    Similarly, we can subset data based on categorical variables with <b>isin()</b> mehtod. Although, this can also be done with <i>or</i> operator '|' but this can get tedious. Instead of writing every condition separately with '|', <b>isin()</b> method does the same job with one line of code.\n",
        "</div>"
      ],
      "metadata": {
        "id": "dN3cMEBLBYYC"
      }
    },
    {
      "cell_type": "code",
      "source": [
        "categories_list = [\"BEAUTY\", \"EVENTS\", \"FAMILY\", \"COMICS\"]\n",
        "condition = data[\"Category\"].isin(categories_list)\n",
        "data_by_categories = data[condition]\n",
        "data_by_categories.head()"
      ],
      "metadata": {
        "execution": {
          "iopub.status.busy": "2022-11-21T08:29:56.431112Z",
          "iopub.execute_input": "2022-11-21T08:29:56.431437Z",
          "iopub.status.idle": "2022-11-21T08:29:56.460826Z",
          "shell.execute_reply.started": "2022-11-21T08:29:56.431408Z",
          "shell.execute_reply": "2022-11-21T08:29:56.459471Z"
        },
        "trusted": true,
        "id": "7ho05zRsBYYC"
      },
      "execution_count": null,
      "outputs": []
    },
    {
      "cell_type": "markdown",
      "source": [
        "### Dropping Duplicates\n",
        "\n",
        "<div class=\"alert alert-block alert-info\">\n",
        "Dropping duplicates is an important part of our analysis because we don't want to count the same thing multiple times. This can be done by using <b>drop_duplicates()</b> method. We can also drop duplicates from multiple columns by passing an argument <i>subset</i> with the list of columns.</div>"
      ],
      "metadata": {
        "id": "u7OXgSycBYYC"
      }
    },
    {
      "cell_type": "code",
      "source": [
        "non_dup_app = data.drop_duplicates(subset = [\"App\"])\n",
        "non_dup_app"
      ],
      "metadata": {
        "execution": {
          "iopub.status.busy": "2022-11-21T08:29:56.462594Z",
          "iopub.execute_input": "2022-11-21T08:29:56.463063Z",
          "iopub.status.idle": "2022-11-21T08:29:56.496946Z",
          "shell.execute_reply.started": "2022-11-21T08:29:56.463025Z",
          "shell.execute_reply": "2022-11-21T08:29:56.495954Z"
        },
        "trusted": true,
        "id": "cZpYIVCzBYYC"
      },
      "execution_count": null,
      "outputs": []
    },
    {
      "cell_type": "code",
      "source": [
        "print(\"Rows before dropping duplicates: \", data.shape[0])\n",
        "print(\"Rows after dropping duplicates: \", non_dup_app.shape[0])"
      ],
      "metadata": {
        "execution": {
          "iopub.status.busy": "2022-11-21T08:29:56.498427Z",
          "iopub.execute_input": "2022-11-21T08:29:56.499032Z",
          "iopub.status.idle": "2022-11-21T08:29:56.504607Z",
          "shell.execute_reply.started": "2022-11-21T08:29:56.498997Z",
          "shell.execute_reply": "2022-11-21T08:29:56.503599Z"
        },
        "trusted": true,
        "id": "h0ODSnnfBYYD"
      },
      "execution_count": null,
      "outputs": []
    },
    {
      "cell_type": "markdown",
      "source": [
        "### Counting Categorical Variables\n",
        "\n",
        "<div class=\"alert alert-block alert-info\">\n",
        "    We can count the categorical variables in a dataset. This can be done with <b>value_counts()</b> mehtod. We can also get the proportion of each category in dataset by passing <i>normalize = True</i> argument. We can also sort the results by passing <i>sort = True</i> argument.\n",
        "</div>"
      ],
      "metadata": {
        "id": "xf0NPg5jBYYD"
      }
    },
    {
      "cell_type": "code",
      "source": [
        "app_counts = non_dup_app[\"Category\"].value_counts(sort = True)\n",
        "app_counts"
      ],
      "metadata": {
        "scrolled": true,
        "execution": {
          "iopub.status.busy": "2022-11-21T08:29:56.506157Z",
          "iopub.execute_input": "2022-11-21T08:29:56.506771Z",
          "iopub.status.idle": "2022-11-21T08:29:56.523927Z",
          "shell.execute_reply.started": "2022-11-21T08:29:56.506735Z",
          "shell.execute_reply": "2022-11-21T08:29:56.522753Z"
        },
        "trusted": true,
        "id": "Q0EzphofBYYD"
      },
      "execution_count": null,
      "outputs": []
    },
    {
      "cell_type": "code",
      "source": [
        "app_counts = non_dup_app[\"Category\"].value_counts(normalize = True, sort = True)\n",
        "app_counts"
      ],
      "metadata": {
        "execution": {
          "iopub.status.busy": "2022-11-21T08:29:56.525457Z",
          "iopub.execute_input": "2022-11-21T08:29:56.525837Z",
          "iopub.status.idle": "2022-11-21T08:29:56.539893Z",
          "shell.execute_reply.started": "2022-11-21T08:29:56.525805Z",
          "shell.execute_reply": "2022-11-21T08:29:56.538952Z"
        },
        "trusted": true,
        "id": "nrAK3t19BYYD"
      },
      "execution_count": null,
      "outputs": []
    },
    {
      "cell_type": "markdown",
      "source": [
        "### Splitting data into Groups\n",
        "\n",
        "<div class=\"alert alert-block alert-info\">\n",
        "We can also split data into groups and apply some functions on these groups. This can be done with <b>groupby()</b> mehthod.\n",
        "</div>\n",
        "\n",
        "Let's see some examples:"
      ],
      "metadata": {
        "id": "LruS5p8CBYYD"
      }
    },
    {
      "cell_type": "code",
      "source": [
        "# grouping data by \"Type\" and then calculating mean for each Type\n",
        "grouped_type  = data.groupby(\"Type\")[\"Rating\"].mean()\n",
        "grouped_type"
      ],
      "metadata": {
        "execution": {
          "iopub.status.busy": "2022-11-21T08:29:56.541346Z",
          "iopub.execute_input": "2022-11-21T08:29:56.54194Z",
          "iopub.status.idle": "2022-11-21T08:29:56.559798Z",
          "shell.execute_reply.started": "2022-11-21T08:29:56.541903Z",
          "shell.execute_reply": "2022-11-21T08:29:56.558169Z"
        },
        "trusted": true,
        "id": "A3y-WMJqBYYD"
      },
      "execution_count": null,
      "outputs": []
    },
    {
      "cell_type": "code",
      "source": [
        "grouped_category = data.groupby(\"Category\")[\"Rating\"].mean()\n",
        "grouped_category"
      ],
      "metadata": {
        "execution": {
          "iopub.status.busy": "2022-11-21T08:29:56.561742Z",
          "iopub.execute_input": "2022-11-21T08:29:56.562161Z",
          "iopub.status.idle": "2022-11-21T08:29:56.574221Z",
          "shell.execute_reply.started": "2022-11-21T08:29:56.562124Z",
          "shell.execute_reply": "2022-11-21T08:29:56.572911Z"
        },
        "trusted": true,
        "id": "Wu5K_jjvBYYD"
      },
      "execution_count": null,
      "outputs": []
    },
    {
      "cell_type": "markdown",
      "source": [
        "### Multiple Grouped Summaries\n",
        "\n",
        "<div class=\"alert alert-block alert-info\">\n",
        "    We can also calculate multiple grouped summaries statistics using <b>agg()</b> method. <b>agg()</b> method apply a function or a list of functions on a Series or a column of a DataFrame.</div>"
      ],
      "metadata": {
        "id": "0UhldehRBYYE"
      }
    },
    {
      "cell_type": "code",
      "source": [
        "grouped_category = data.groupby(\"Category\")[\"Rating\"].agg([np.mean, np.median, np.min, np.max])\n",
        "grouped_category"
      ],
      "metadata": {
        "execution": {
          "iopub.status.busy": "2022-11-21T08:29:56.575745Z",
          "iopub.execute_input": "2022-11-21T08:29:56.577285Z",
          "iopub.status.idle": "2022-11-21T08:29:56.608362Z",
          "shell.execute_reply.started": "2022-11-21T08:29:56.577246Z",
          "shell.execute_reply": "2022-11-21T08:29:56.60711Z"
        },
        "trusted": true,
        "id": "yCa1RMShBYYE"
      },
      "execution_count": null,
      "outputs": []
    },
    {
      "cell_type": "markdown",
      "source": [
        "### Setting and Removing index\n",
        "\n",
        "<div class=\"alert alert-block alert-info\">\n",
        "As discussed earlier, we can set and remove any column as an index of a dataframe.\n",
        "</div>\n",
        "\n",
        "Let's see an example:"
      ],
      "metadata": {
        "id": "ZqvRQcvYBYYE"
      }
    },
    {
      "cell_type": "code",
      "source": [
        "dummy_data = data.set_index(\"App\")\n",
        "dummy_data.head()"
      ],
      "metadata": {
        "execution": {
          "iopub.status.busy": "2022-11-21T08:29:56.609688Z",
          "iopub.execute_input": "2022-11-21T08:29:56.610047Z",
          "iopub.status.idle": "2022-11-21T08:29:56.631008Z",
          "shell.execute_reply.started": "2022-11-21T08:29:56.610016Z",
          "shell.execute_reply": "2022-11-21T08:29:56.630055Z"
        },
        "trusted": true,
        "id": "6kK-Q-ESBYYE"
      },
      "execution_count": null,
      "outputs": []
    },
    {
      "cell_type": "code",
      "source": [
        "reset_data = dummy_data.reset_index()\n",
        "reset_data.head()"
      ],
      "metadata": {
        "execution": {
          "iopub.status.busy": "2022-11-21T08:29:56.632248Z",
          "iopub.execute_input": "2022-11-21T08:29:56.632753Z",
          "iopub.status.idle": "2022-11-21T08:29:56.662766Z",
          "shell.execute_reply.started": "2022-11-21T08:29:56.632721Z",
          "shell.execute_reply": "2022-11-21T08:29:56.661846Z"
        },
        "trusted": true,
        "id": "_G_eeMYRBYYE"
      },
      "execution_count": null,
      "outputs": []
    },
    {
      "cell_type": "markdown",
      "source": [
        "<div class=\"alert alert-block alert-warning\">\n",
        "We can also reset the index and drop its contents.</div>"
      ],
      "metadata": {
        "id": "txrJ46_7BYYF"
      }
    },
    {
      "cell_type": "code",
      "source": [
        "# this will reset the index and reomve the App column\n",
        "dummy_data_drop = dummy_data.reset_index(drop = True)\n",
        "dummy_data_drop"
      ],
      "metadata": {
        "execution": {
          "iopub.status.busy": "2022-11-21T08:29:56.664554Z",
          "iopub.execute_input": "2022-11-21T08:29:56.66493Z",
          "iopub.status.idle": "2022-11-21T08:29:56.696807Z",
          "shell.execute_reply.started": "2022-11-21T08:29:56.66489Z",
          "shell.execute_reply": "2022-11-21T08:29:56.695425Z"
        },
        "trusted": true,
        "id": "ehEsjYyDBYYF"
      },
      "execution_count": null,
      "outputs": []
    },
    {
      "cell_type": "markdown",
      "source": [
        "## Slicing and Indexing\n",
        "\n",
        "<div class=\"alert alert-block alert-info\">\n",
        "    Now let's see subsetting with <b>loc[ ]</b> and <b>iloc[ ]</b> on our dataset.\n",
        "</div>"
      ],
      "metadata": {
        "id": "DTsjPsErBYYF"
      }
    },
    {
      "cell_type": "code",
      "source": [
        "dummy_data.loc[\"Google Play Games\", \"Type\"]"
      ],
      "metadata": {
        "scrolled": true,
        "execution": {
          "iopub.status.busy": "2022-11-21T08:29:56.698279Z",
          "iopub.execute_input": "2022-11-21T08:29:56.698622Z",
          "iopub.status.idle": "2022-11-21T08:29:56.716562Z",
          "shell.execute_reply.started": "2022-11-21T08:29:56.698591Z",
          "shell.execute_reply": "2022-11-21T08:29:56.713079Z"
        },
        "trusted": true,
        "id": "DMHfeTQuBYYF"
      },
      "execution_count": null,
      "outputs": []
    },
    {
      "cell_type": "code",
      "source": [
        "dummy_data.loc[\"Sketch - Draw & Paint\" : \"Infinite Painter\", \"Installs\" : \"Current Ver\"]"
      ],
      "metadata": {
        "execution": {
          "iopub.status.busy": "2022-11-21T08:29:56.718939Z",
          "iopub.execute_input": "2022-11-21T08:29:56.719308Z",
          "iopub.status.idle": "2022-11-21T08:29:56.741159Z",
          "shell.execute_reply.started": "2022-11-21T08:29:56.719275Z",
          "shell.execute_reply": "2022-11-21T08:29:56.739758Z"
        },
        "trusted": true,
        "id": "gk1zmBqbBYYF"
      },
      "execution_count": null,
      "outputs": []
    },
    {
      "cell_type": "code",
      "source": [
        "dummy_data.iloc[3:8, 4:11]"
      ],
      "metadata": {
        "execution": {
          "iopub.status.busy": "2022-11-21T08:29:56.742623Z",
          "iopub.execute_input": "2022-11-21T08:29:56.744725Z",
          "iopub.status.idle": "2022-11-21T08:29:56.761327Z",
          "shell.execute_reply.started": "2022-11-21T08:29:56.74468Z",
          "shell.execute_reply": "2022-11-21T08:29:56.759946Z"
        },
        "trusted": true,
        "id": "7UjvX_w0BYYG"
      },
      "execution_count": null,
      "outputs": []
    },
    {
      "cell_type": "code",
      "source": [
        "dummy_data.iloc[3:8, 4:]"
      ],
      "metadata": {
        "execution": {
          "iopub.status.busy": "2022-11-21T08:29:56.762636Z",
          "iopub.execute_input": "2022-11-21T08:29:56.762988Z",
          "iopub.status.idle": "2022-11-21T08:29:56.782359Z",
          "shell.execute_reply.started": "2022-11-21T08:29:56.762958Z",
          "shell.execute_reply": "2022-11-21T08:29:56.781403Z"
        },
        "trusted": true,
        "id": "-dC7Z7hpBYYG"
      },
      "execution_count": null,
      "outputs": []
    },
    {
      "cell_type": "markdown",
      "source": [
        "<a id = '6.'></a>\n",
        "# 6. Visualizing DataFrames\n",
        "\n",
        "<div class=\"alert alert-block alert-info\">\n",
        "We can also visualize the content of dataframes using different methods. We can create plots with <b>plot()</b> method, then we will specify the kind of plot by passing <i>kind</i> argument.</div>\n",
        "\n",
        "Let's see some examples:"
      ],
      "metadata": {
        "id": "csoW3KaDBYYG"
      }
    },
    {
      "cell_type": "markdown",
      "source": [
        "Let's first convert:\n",
        "   * _Everyone_ to **0**\n",
        "   * _Mature 17+_ to **1**\n",
        "   * _Teen_ to **2**\n",
        "   *  _Everyone_ 10+ to **3**\n",
        "   * _Adults only_ 18+ to **4**\n",
        "   * _Unrated_ to **5**\n",
        "   \n",
        "in \"Content Rating\" column."
      ],
      "metadata": {
        "id": "PkgCDrGZBYYG"
      }
    },
    {
      "cell_type": "code",
      "source": [
        "dummy_data['Content Rating']=dummy_data['Content Rating'].replace('Everyone',0)\n",
        "dummy_data['Content Rating']=dummy_data['Content Rating'].replace('Mature 17+',1)\n",
        "dummy_data['Content Rating']=dummy_data['Content Rating'].replace('Teen',2)\n",
        "dummy_data['Content Rating']=dummy_data['Content Rating'].replace('Everyone 10+',3)\n",
        "dummy_data['Content Rating']=dummy_data['Content Rating'].replace('Adults only 18+',4)\n",
        "dummy_data['Content Rating']=dummy_data['Content Rating'].replace('Unrated',5)"
      ],
      "metadata": {
        "execution": {
          "iopub.status.busy": "2022-11-21T08:29:56.7836Z",
          "iopub.execute_input": "2022-11-21T08:29:56.783923Z",
          "iopub.status.idle": "2022-11-21T08:29:56.801319Z",
          "shell.execute_reply.started": "2022-11-21T08:29:56.783894Z",
          "shell.execute_reply": "2022-11-21T08:29:56.800312Z"
        },
        "trusted": true,
        "id": "WrmRDHP8BYYG"
      },
      "execution_count": null,
      "outputs": []
    },
    {
      "cell_type": "code",
      "source": [
        "dummy_data.plot(x = \"Content Rating\", y = \"Rating\", kind = \"scatter\");"
      ],
      "metadata": {
        "execution": {
          "iopub.status.busy": "2022-11-21T08:29:56.802681Z",
          "iopub.execute_input": "2022-11-21T08:29:56.803099Z",
          "iopub.status.idle": "2022-11-21T08:29:57.136162Z",
          "shell.execute_reply.started": "2022-11-21T08:29:56.803064Z",
          "shell.execute_reply": "2022-11-21T08:29:57.134928Z"
        },
        "trusted": true,
        "id": "QL96JrOYBYYH"
      },
      "execution_count": null,
      "outputs": []
    },
    {
      "cell_type": "code",
      "source": [
        "data[\"Content Rating\"].value_counts().plot(kind = \"bar\");"
      ],
      "metadata": {
        "execution": {
          "iopub.status.busy": "2022-11-21T08:32:18.859185Z",
          "iopub.execute_input": "2022-11-21T08:32:18.859655Z",
          "iopub.status.idle": "2022-11-21T08:32:19.096168Z",
          "shell.execute_reply.started": "2022-11-21T08:32:18.859611Z",
          "shell.execute_reply": "2022-11-21T08:32:19.094942Z"
        },
        "trusted": true,
        "id": "kob4mdlbBYYH"
      },
      "execution_count": null,
      "outputs": []
    },
    {
      "cell_type": "code",
      "source": [
        "category_list = [\"Everyone\", \"Teen\", \"Adults only 18+\"]\n",
        "condition = data[\"Content Rating\"].isin(category_list)\n",
        "new_data = data[condition]\n",
        "new_data.head()"
      ],
      "metadata": {
        "execution": {
          "iopub.status.busy": "2022-11-21T08:43:05.218357Z",
          "iopub.execute_input": "2022-11-21T08:43:05.218751Z",
          "iopub.status.idle": "2022-11-21T08:43:05.245996Z",
          "shell.execute_reply.started": "2022-11-21T08:43:05.21872Z",
          "shell.execute_reply": "2022-11-21T08:43:05.24485Z"
        },
        "trusted": true,
        "id": "ELfBGAG-BYYH"
      },
      "execution_count": null,
      "outputs": []
    },
    {
      "cell_type": "code",
      "source": [
        "new_data.groupby(\"Content Rating\")['Rating'].mean().plot(kind = \"bar\");"
      ],
      "metadata": {
        "execution": {
          "iopub.status.busy": "2022-11-21T08:43:18.803438Z",
          "iopub.execute_input": "2022-11-21T08:43:18.803848Z",
          "iopub.status.idle": "2022-11-21T08:43:18.997026Z",
          "shell.execute_reply.started": "2022-11-21T08:43:18.803817Z",
          "shell.execute_reply": "2022-11-21T08:43:18.996147Z"
        },
        "trusted": true,
        "id": "jjndZUHZBYYI"
      },
      "execution_count": null,
      "outputs": []
    },
    {
      "cell_type": "code",
      "source": [
        "category_list = [\"Action\", \"Racing\", \"Sports\", \"Events\"]\n",
        "condition = data[\"Genres\"].isin(category_list)\n",
        "new_data = data[condition]\n",
        "new_data.head()"
      ],
      "metadata": {
        "execution": {
          "iopub.status.busy": "2022-11-21T08:43:32.797334Z",
          "iopub.execute_input": "2022-11-21T08:43:32.797836Z",
          "iopub.status.idle": "2022-11-21T08:43:32.825287Z",
          "shell.execute_reply.started": "2022-11-21T08:43:32.797791Z",
          "shell.execute_reply": "2022-11-21T08:43:32.824163Z"
        },
        "trusted": true,
        "id": "CsuamUqIBYYI"
      },
      "execution_count": null,
      "outputs": []
    },
    {
      "cell_type": "code",
      "source": [
        "new_data.groupby(\"Genres\")['Rating'].mean().plot(kind = \"bar\");"
      ],
      "metadata": {
        "execution": {
          "iopub.status.busy": "2022-11-21T08:43:45.068782Z",
          "iopub.execute_input": "2022-11-21T08:43:45.069186Z",
          "iopub.status.idle": "2022-11-21T08:43:45.265392Z",
          "shell.execute_reply.started": "2022-11-21T08:43:45.069152Z",
          "shell.execute_reply": "2022-11-21T08:43:45.264354Z"
        },
        "trusted": true,
        "id": "u0dpV-AoBYYI"
      },
      "execution_count": null,
      "outputs": []
    },
    {
      "cell_type": "markdown",
      "source": [
        "<div class=\"alert alert-block alert-success\">\n",
        "Alright! That's the end of this tutorial. If you like it then please upvote this notebook.\n",
        "</div>"
      ],
      "metadata": {
        "id": "2liBILCkBYYI"
      }
    }
  ]
}