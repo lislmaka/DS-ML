{
  "metadata": {
    "kernelspec": {
      "language": "python",
      "display_name": "Python 3",
      "name": "python3"
    },
    "language_info": {
      "name": "python",
      "version": "3.7.12",
      "mimetype": "text/x-python",
      "codemirror_mode": {
        "name": "ipython",
        "version": 3
      },
      "pygments_lexer": "ipython3",
      "nbconvert_exporter": "python",
      "file_extension": ".py"
    },
    "kaggle": {
      "accelerator": "none",
      "dataSources": [
        {
          "sourceId": 4211520,
          "sourceType": "datasetVersion",
          "datasetId": 2482841
        }
      ],
      "dockerImageVersionId": 30301,
      "isInternetEnabled": false,
      "language": "python",
      "sourceType": "notebook",
      "isGpuEnabled": false
    },
    "colab": {
      "name": "Pandas Tutorial",
      "provenance": []
    }
  },
  "nbformat_minor": 0,
  "nbformat": 4,
  "cells": [
    {
      "source": [
        "# IMPORTANT: RUN THIS CELL IN ORDER TO IMPORT YOUR KAGGLE DATA SOURCES,\n",
        "# THEN FEEL FREE TO DELETE THIS CELL.\n",
        "# NOTE: THIS NOTEBOOK ENVIRONMENT DIFFERS FROM KAGGLE'S PYTHON\n",
        "# ENVIRONMENT SO THERE MAY BE MISSING LIBRARIES USED BY YOUR\n",
        "# NOTEBOOK.\n",
        "import kagglehub\n",
        "whenamancodes_play_store_apps_path = kagglehub.dataset_download('whenamancodes/play-store-apps')\n",
        "\n",
        "print('Data source import complete.')\n"
      ],
      "metadata": {
        "id": "h-rSOX7cXe9W"
      },
      "cell_type": "code",
      "outputs": [],
      "execution_count": null
    },
    {
      "cell_type": "markdown",
      "source": [
        "In this notebook, we will learn:\n",
        "* How to import Pandas\n",
        "* How to create Pandas Series and DataFrames using various methods\n",
        "* How to access and change elements in Series and DataFrames\n",
        "* How to deal with missing values\n",
        "* How to load data into a DataFrame and extract, filter and transform data\n",
        "* How to calculate statistics and create visualizations\n",
        "* Different methods and attributes which helps in data manipulation and analysis\n",
        "\n",
        "<br>\n",
        "<img src = \"https://files.realpython.com/media/Intro-to-Exploratory-Data-Analysis-With-Pandas_Watermarked.81a7d7df468f.jpg\" width = \"600\"/>\n",
        "<br>\n",
        "<center><str><a target=\"_blank\" href=\"https://files.realpython.com/media/Intro-to-Exploratory-Data-Analysis-With-Pandas_Watermarked.81a7d7df468f.jpg\">Image Source</a></str></center>\n"
      ],
      "metadata": {
        "id": "BzZBn0iaXe9b"
      }
    },
    {
      "cell_type": "markdown",
      "source": [
        "<a id = \"1.\"></a>\n",
        "# 1. Introduction\n",
        "\n",
        "<div class=\"alert alert-block alert-success\">\n",
        "Pandas is a package for the manipulation and analysis of data in Python. It is built on top of numpy. The name pandas is derived from the econometrics term Panel Data. It is fast, powerful, flexible, open source and easy to use. Pandas incorporates two additional data structures into Python, namely Pandas Series and Pandas DataFrame. We can load data of different formats into DataFrames.</div>\n"
      ],
      "metadata": {
        "id": "y2axQv0UXe9c"
      }
    },
    {
      "cell_type": "markdown",
      "source": [
        "<div class=\"alert alert-block alert-info\">\n",
        "Importing necessary libraries:</div>"
      ],
      "metadata": {
        "id": "V33WmhjpXe9d"
      }
    },
    {
      "cell_type": "code",
      "source": [
        "import pandas as pd\n",
        "import numpy as np"
      ],
      "metadata": {
        "trusted": true,
        "id": "ceSj7fe3Xe9e"
      },
      "outputs": [],
      "execution_count": null
    },
    {
      "cell_type": "markdown",
      "source": [
        "<a id = \"2.\"></a>\n",
        "# 2. Series\n",
        "\n",
        "<div class=\"alert alert-block alert-info\">\n",
        "A pandas series is a one-dimentional data structure which can store data such as strings, integers, floats and other python objects. <b>pandas.Series()</b> method is used to create pandas series. In sereis, indices are are stored in first column and data in the second column.\n",
        "</div>\n",
        "\n",
        "\n",
        "Let's see some examples:"
      ],
      "metadata": {
        "id": "hOxm2-slXe9e"
      }
    },
    {
      "cell_type": "markdown",
      "source": [
        "<div class=\"alert alert-block alert-warning\">\n",
        "    If we don't specify the 'index' argument in <b>pd.Series</b> then the indices will be integers starting from 0.\n",
        "</div>"
      ],
      "metadata": {
        "id": "ykr4TcZlXe9f"
      }
    },
    {
      "cell_type": "code",
      "source": [
        "my_list = [\"Yes\", \"No\", 12, 10]\n",
        "\n",
        "my_series = pd.Series(data = my_list)\n",
        "\n",
        "print(type(my_series))\n",
        "my_series"
      ],
      "metadata": {
        "trusted": true,
        "id": "MGdGzOhkXe9f"
      },
      "outputs": [],
      "execution_count": null
    },
    {
      "cell_type": "markdown",
      "source": [
        "<div class=\"alert alert-block alert-warning\">\n",
        "    We can add indices of our own choice by specifying the 'index' argument in <b>pd.Series</b>.\n",
        "</div>"
      ],
      "metadata": {
        "id": "iATqV5Q5Xe9g"
      }
    },
    {
      "cell_type": "code",
      "source": [
        "my_list = [\"Yes\", \"No\", 100, 10]\n",
        "indices = ['milk', 'bread', 'apples', 'eggs']\n",
        "\n",
        "groceries = pd.Series(data = my_list, index = indices)\n",
        "groceries"
      ],
      "metadata": {
        "trusted": true,
        "id": "7QtAQbqgXe9g"
      },
      "outputs": [],
      "execution_count": null
    },
    {
      "cell_type": "markdown",
      "source": [
        "<div class=\"alert alert-block alert-warning\">\n",
        " We can also get the shape, number of dimensions and size of pandas Sereis by using <b>Series.attribute_name</b>.\n",
        "</div>"
      ],
      "metadata": {
        "id": "uCFlbvWEXe9h"
      }
    },
    {
      "cell_type": "code",
      "source": [
        "print(\"groceries.shape: \", groceries.shape)\n",
        "print(\"grocereis.ndim: \", groceries.ndim) # number of dimensions\n",
        "print(\"groceries.size: \", groceries.size)"
      ],
      "metadata": {
        "trusted": true,
        "id": "n05B1KK0Xe9h"
      },
      "outputs": [],
      "execution_count": null
    },
    {
      "cell_type": "markdown",
      "source": [
        "<div class=\"alert alert-block alert-warning\">\n",
        "We can also get the values and indexes of a series:\n",
        "</div>"
      ],
      "metadata": {
        "id": "oG62TLbGXe9h"
      }
    },
    {
      "cell_type": "code",
      "source": [
        "print(\"groceries.values: \", groceries.values)\n",
        "print()\n",
        "print(\"groceries.index: \", groceries.index)"
      ],
      "metadata": {
        "trusted": true,
        "id": "UzJdYE8eXe9h"
      },
      "outputs": [],
      "execution_count": null
    },
    {
      "cell_type": "markdown",
      "source": [
        "<div class=\"alert alert-block alert-warning\">\n",
        "We can also check if an index is availabe in the given Series\n",
        "</div>"
      ],
      "metadata": {
        "id": "ZTx53PN4Xe9i"
      }
    },
    {
      "cell_type": "code",
      "source": [
        "print(\"bananas\" in groceries)\n",
        "print(\"milk\" in groceries)"
      ],
      "metadata": {
        "trusted": true,
        "id": "R4la-aiRXe9i"
      },
      "outputs": [],
      "execution_count": null
    },
    {
      "cell_type": "markdown",
      "source": [
        "## Accessing and Deleting Elements in Series\n",
        "\n",
        "<div class=\"alert alert-block alert-info\">\n",
        "We can access elements in a dataframe using index labels or numerical indices inside square brackets [ ]. Negative indices can be used to access elements from the end of the Series. Pandas has also provided the two methods <b>loc</b> and <b>iloc</b> to aceess elements with label index and numerical index, respectively.\n",
        "</div>\n",
        "\n",
        "Let's see some examples:\n",
        "\n",
        "### Access elements using index labels"
      ],
      "metadata": {
        "id": "kufZliWAXe9i"
      }
    },
    {
      "cell_type": "code",
      "source": [
        "print(groceries)\n",
        "print()\n",
        "\n",
        "# We access elements in Groceries using index labels:\n",
        "\n",
        "# We use a single index label\n",
        "print(\"groceries['eggs']:\\n\", groceries['eggs'])\n",
        "print()\n",
        "\n",
        "# we can access multiple index labels\n",
        "print(\"groceries[['milk', 'bread']]:\\n\", groceries[['milk', 'bread']])\n",
        "print()\n",
        "\n",
        "# we use loc to access multiple index labels\n",
        "print(\"groceries.loc['eggs', 'apples']:\\n\", groceries.loc[['eggs', 'apples']])\n",
        "print()\n",
        "\n",
        "# We access elements in Groceries using numerical indices:\n",
        "\n",
        "# we use multiple numerical indices\n",
        "print(\"groceries.[[0, 1]]:\\n\", groceries[[0, 1]])\n",
        "print()\n",
        "\n",
        "# We use a negative numerical index\n",
        "print(\"groceries[[-1]]:\\n\", groceries[[-1]])\n",
        "print()\n",
        "\n",
        "# We use a single numerical index\n",
        "print(\"groceries[0]:\\n\", groceries[0])\n",
        "print()\n",
        "\n",
        "# we use iloc to access multiple numerical indices\n",
        "print(\"groceries.iloc[[2, 3]]:\\n\", groceries.iloc[[2, 3]])"
      ],
      "metadata": {
        "trusted": true,
        "id": "DspVwjfZXe9i"
      },
      "outputs": [],
      "execution_count": null
    },
    {
      "cell_type": "markdown",
      "source": [
        "### Changing elements of a Series\n",
        "\n",
        "<div class=\"alert alert-block alert-info\">\n",
        "Pandas Series is mutable and we can change its elements.\n",
        "</div>\n",
        "\n",
        "Let's see an example:"
      ],
      "metadata": {
        "id": "3oDMyZBhXe9j"
      }
    },
    {
      "cell_type": "code",
      "source": [
        "print(\"Before changing:\\n\")\n",
        "print(groceries)\n",
        "print()\n",
        "\n",
        "groceries['apples'] = 12\n",
        "\n",
        "print(\"After changing:\\n\")\n",
        "print(groceries)"
      ],
      "metadata": {
        "trusted": true,
        "id": "mGex_Gq_Xe9j"
      },
      "outputs": [],
      "execution_count": null
    },
    {
      "cell_type": "markdown",
      "source": [
        "### Deleting element of  a Series\n",
        "\n",
        "<div class=\"alert alert-block alert-info\">\n",
        "    We can delete an element from a Series using <b>drop()</b> method.\n",
        "</div>\n",
        "\n",
        "Let's see an example:"
      ],
      "metadata": {
        "id": "YW8_W5KMXe9j"
      }
    },
    {
      "cell_type": "markdown",
      "source": [
        "<div class=\"alert alert-block alert-warning\">\n",
        "In Pandas Series, using <b>drop()</b> method will not remove an element from the original Series. For this, we will use an argument 'inplace = True'. This will delete an element from the original Series.\n",
        "</div>"
      ],
      "metadata": {
        "id": "p56psEq3Xe9j"
      }
    },
    {
      "cell_type": "code",
      "source": [
        "print(\"Before deleting:\\n\")\n",
        "print(groceries)\n",
        "print()\n",
        "\n",
        "groceries.drop('eggs', inplace = True)\n",
        "\n",
        "print(\"After deleting:\\n\")\n",
        "print(groceries)"
      ],
      "metadata": {
        "trusted": true,
        "id": "J6spiPkWXe9k"
      },
      "outputs": [],
      "execution_count": null
    },
    {
      "cell_type": "markdown",
      "source": [
        "### Arithmetic Operations on Pandas Series\n",
        "\n",
        "<div class=\"alert alert-block alert-info\">\n",
        "We can do arithmetic operations between Pandas Series and single numbers. We can also apply mathematical functions from Numpy and perform arithmetic operations on selected elements.\n",
        "</div>\n",
        "\n",
        "Let's see some examples:"
      ],
      "metadata": {
        "id": "bf8gDE2_Xe9k"
      }
    },
    {
      "cell_type": "code",
      "source": [
        "veggies = pd.Series(data = [6, 18, 33], index = [\"Tomatoes\", \"Carrots\", \"Potatoes\"])\n",
        "print(veggies)\n",
        "print()\n",
        "\n",
        "print(\"veggies + 2:\\n\", veggies + 2)\n",
        "print()\n",
        "\n",
        "print(\"veggies - 2:\\n\", veggies - 2)\n",
        "print()\n",
        "\n",
        "print(\"veggies * 2:\\n\", veggies * 2)\n",
        "print()\n",
        "\n",
        "print(\"veggies / 2:\\n\", veggies / 2)"
      ],
      "metadata": {
        "trusted": true,
        "id": "54TKU99OXe9k"
      },
      "outputs": [],
      "execution_count": null
    },
    {
      "cell_type": "code",
      "source": [
        "print(veggies)\n",
        "print()\n",
        "\n",
        "print(\"np.exp(veggies):\\n\", np.exp(veggies))\n",
        "print()\n",
        "\n",
        "print(\"np.power(veggies, 2):\\n\", np.power(veggies, 2))\n",
        "print()\n",
        "\n",
        "print(\"np.sqrt(veggies):\\n\", np.sqrt(veggies))"
      ],
      "metadata": {
        "trusted": true,
        "id": "riUgdAgyXe9k"
      },
      "outputs": [],
      "execution_count": null
    },
    {
      "cell_type": "code",
      "source": [
        "print(veggies)\n",
        "print()\n",
        "\n",
        "print(\"veggies['Tomatoes'] + 10: \", veggies['Tomatoes'] + 10)\n",
        "print()\n",
        "\n",
        "print(\"veggies.iloc[2] - 5: \", veggies.iloc[2] - 5)\n",
        "print()\n",
        "\n",
        "print(\"veggies[['Carrots', 'Potatoes']] * 2: \", veggies[['Carrots', 'Potatoes']] * 2)\n",
        "print()\n",
        "\n",
        "print(\"veggies.loc[['Carrots', 'Potatoes']] / 2:\\n\", veggies[['Carrots', 'Potatoes']] * 2)"
      ],
      "metadata": {
        "trusted": true,
        "id": "33-qZTgDXe9l"
      },
      "outputs": [],
      "execution_count": null
    },
    {
      "cell_type": "markdown",
      "source": [
        "<div class=\"alert alert-block alert-info\">\n",
        " We can also do arithmetic operations on Pandas Series of mixed data types provided that the arithmetic opeeration is defined for all data types in the Series, otherwise we will get an error.\n",
        "</div>"
      ],
      "metadata": {
        "id": "uOJuY8vXXe9l"
      }
    },
    {
      "cell_type": "code",
      "source": [
        "my_list = [\"Yes\", \"No\", 100, 10]\n",
        "indices = ['milk', 'bread', 'apples', 'eggs']\n",
        "\n",
        "groceries = pd.Series(data = my_list, index = indices)\n",
        "print(groceries)\n",
        "print()\n",
        "\n",
        "print(\"groceries * 2:\\n\", groceries * 2)"
      ],
      "metadata": {
        "trusted": true,
        "id": "GNHHSUKcXe9l"
      },
      "outputs": [],
      "execution_count": null
    },
    {
      "cell_type": "markdown",
      "source": [
        "<a id = '3.'></a>\n",
        "# 3. DataFrames\n",
        "\n",
        "<div class=\"alert alert-block alert-info\">\n",
        "Pandas DataFrame is a two-dimentional data structure with labeled rows and columns, that can hold many data types. It is made up of many Pandas Series. A DataFrame is similar to an excel spredsheet. A Pandas DataFrame can be created manually or can be loaded from a file.\n",
        "<br>  \n",
        "<br>\n",
        "<b>pandas.DataFrame()</b> method is used to create a DataFrame manually. We will first create a dictionary and then pass it to the <b>pandas.DataFrame()</b> as an attribute.\n",
        "</div>\n",
        "\n",
        "<br>\n",
        "<img src = \"https://files.realpython.com/media/A-Guide-to-Pandas-Dataframes_Watermarked.7330c8fd51bb.jpg\" width = \"600\"/>\n",
        "<br>\n",
        "<center><str><a target=\"_blank\" href=\"https://files.realpython.com/media/A-Guide-to-Pandas-Dataframes_Watermarked.7330c8fd51bb.jpg\">Image Source</a></str></center>\n",
        "\n",
        "\n",
        "Let's see an example:"
      ],
      "metadata": {
        "id": "GHVoR8F9Xe9l"
      }
    },
    {
      "cell_type": "code",
      "source": [
        "items = {\n",
        "    \"Ali\" : pd.Series(data = [101, 34, 78], index = ['cars', 'bikes', 'pants']),\n",
        "    \"Bilal\" : pd.Series(data = [87, 11, 7, 55], index = ['books', 'pencils', 'apples', 'peanuts'])\n",
        "}\n",
        "\n",
        "df = pd.DataFrame(items)\n",
        "print(type(df))\n",
        "df"
      ],
      "metadata": {
        "trusted": true,
        "id": "nsc5EmiRXe9l"
      },
      "outputs": [],
      "execution_count": null
    },
    {
      "cell_type": "markdown",
      "source": [
        "<div class=\"alert alert-block alert-info\">\n",
        "In above example, we see that the row labels of 'df' DataFrame are ordered alphabetically not in the order we gave in the dictionary. You can also see that there are some <b>NaN</b> values. But what are they?\n",
        "<br>\n",
        "    <b>NaN</b> stands for <i>Not a Number</i>, and is Pandas way of indicating the missing values.\n",
        "\n",
        "We can also pass lists as keys insted of Pandas Series:\n",
        "</div>"
      ],
      "metadata": {
        "id": "6yibY-loXe9m"
      }
    },
    {
      "cell_type": "code",
      "source": [
        "data = {\"Apples\" : [11, 22, 33, 101, 302],\n",
        "       \"Mangoes\" : [99, 77, 44, 45, 100]}\n",
        "\n",
        "fruits_data = pd.DataFrame(data)\n",
        "\n",
        "fruits_data"
      ],
      "metadata": {
        "trusted": true,
        "id": "q4EEOfc4Xe9m"
      },
      "outputs": [],
      "execution_count": null
    },
    {
      "cell_type": "markdown",
      "source": [
        "### Creating a DataFrame using a dictionary of lists, and custom row-indexes (labels)"
      ],
      "metadata": {
        "id": "-a7_WtgcXe9m"
      }
    },
    {
      "cell_type": "code",
      "source": [
        "data = {\"Integers\" : [1, 2, 3],\n",
        "       \"Floats\" : [3.4, 0.1, 5.6],\n",
        "       \"Strings\" : [\"A\", \"B\", \"C\"]}\n",
        "\n",
        "df = pd.DataFrame(data, index = [\"DataType 1\", \"DataType 2\", \"Datatype 3\"])\n",
        "\n",
        "df"
      ],
      "metadata": {
        "trusted": true,
        "id": "Q_ls28xtXe9n"
      },
      "outputs": [],
      "execution_count": null
    },
    {
      "cell_type": "markdown",
      "source": [
        "### Creating a DataFrame using a list of dictionaries"
      ],
      "metadata": {
        "id": "-M4ydxkNXe9n"
      }
    },
    {
      "cell_type": "code",
      "source": [
        "items = [{'socks' : 10, 'shoes' : 5, 'watches' : 12},\n",
        "        {'bikes' : 2, 'cycles' : 5, 'cars' : 3, 'trains' : 8}]\n",
        "\n",
        "data = pd.DataFrame(items, index = [\"collection 1\", \"collection 2\"])\n",
        "data"
      ],
      "metadata": {
        "trusted": true,
        "id": "xNbg-oztXe9n"
      },
      "outputs": [],
      "execution_count": null
    },
    {
      "cell_type": "markdown",
      "source": [
        "## Attributes of a DataFrame\n",
        "\n",
        "Let's see some attributes of a DataFrame and print some information about fruits_data:"
      ],
      "metadata": {
        "id": "QqlkgoKTXe9n"
      }
    },
    {
      "cell_type": "code",
      "source": [
        "print(\"fruits_data.shape: \", fruits_data.shape)\n",
        "print(\"fruits_data.ndim: \", fruits_data.ndim)\n",
        "print(\"fruits_data.size: \", fruits_data.size)\n",
        "print()\n",
        "print(\"fruits_data.values:\\n\", fruits_data.values)\n",
        "print()\n",
        "print(\"fruits_data.index: \", fruits_data.index)\n",
        "print(\"fruits_data.columns: \", fruits_data.columns)"
      ],
      "metadata": {
        "trusted": true,
        "id": "yRBJNr_CXe9n"
      },
      "outputs": [],
      "execution_count": null
    },
    {
      "cell_type": "markdown",
      "source": [
        "<div class=\"alert alert-block alert-info\">\n",
        "We can also create a DataFrame of rows and columns of our own choice:\n",
        "</div>"
      ],
      "metadata": {
        "id": "BeKaUpL6Xe9u"
      }
    },
    {
      "cell_type": "code",
      "source": [
        "items = {\n",
        "    \"Ali\" : pd.Series(data = [101, 34, 78], index = ['cars', 'bikes', 'pants']),\n",
        "    \"Bilal\" : pd.Series(data = [87, 11, 7, 55], index = ['books', 'pencils', 'apples', 'peanuts'])\n",
        "}\n",
        "\n",
        "df = pd.DataFrame(items, columns = [\"Bilal\"], index = ['apples', 'bikes', 'books'])\n",
        "df"
      ],
      "metadata": {
        "trusted": true,
        "id": "j5gHyo9ZXe9v"
      },
      "outputs": [],
      "execution_count": null
    },
    {
      "cell_type": "markdown",
      "source": [
        "## Accessing and Adding elements in DataFrame\n",
        "\n",
        "<div class=\"alert alert-block alert-info\">\n",
        "Like Pandas Series, we can also access elements in a DataFrame by using index labels and column names. <b>loc[ ]</b> and <b>iloc[ ]</b> are also used for accessing elements\n",
        "</div>\n",
        "\n",
        "Let's have some examples:"
      ],
      "metadata": {
        "id": "Oq0NbJfQXe9v"
      }
    },
    {
      "cell_type": "code",
      "source": [
        "items = [{'socks' : 10, 'shoes' : 5, 'watches' : 12},\n",
        "        {'bikes' : 2, 'cycles' : 5, 'cars' : 3, 'trains' : 8}]\n",
        "\n",
        "data = pd.DataFrame(items, index = [\"collection 1\", \"collection 2\"])\n",
        "data"
      ],
      "metadata": {
        "trusted": true,
        "id": "bIItQa2WXe9v"
      },
      "outputs": [],
      "execution_count": null
    },
    {
      "cell_type": "code",
      "source": [
        "data[['bikes']]"
      ],
      "metadata": {
        "trusted": true,
        "id": "WQjszCHJXe9v"
      },
      "outputs": [],
      "execution_count": null
    },
    {
      "cell_type": "code",
      "source": [
        "data[['bikes', 'socks', 'cycles']]"
      ],
      "metadata": {
        "trusted": true,
        "id": "y3JVrCB7Xe9w"
      },
      "outputs": [],
      "execution_count": null
    },
    {
      "cell_type": "code",
      "source": [
        "data.loc[['collection 1']]"
      ],
      "metadata": {
        "trusted": true,
        "id": "xAP75IljXe9w"
      },
      "outputs": [],
      "execution_count": null
    },
    {
      "cell_type": "markdown",
      "source": [
        "<div class=\"alert alert-block alert-warning\">\n",
        "If we want to access individual elements in a DataFrame, the labels should always be provided with the column label first.\n",
        "</div>"
      ],
      "metadata": {
        "id": "lAiwAI0HXe9w"
      }
    },
    {
      "cell_type": "code",
      "source": [
        "data['cars']['collection 2']"
      ],
      "metadata": {
        "trusted": true,
        "id": "p5jUqQFkXe9w"
      },
      "outputs": [],
      "execution_count": null
    },
    {
      "cell_type": "markdown",
      "source": [
        "## Adding a column to an existing DataFrame"
      ],
      "metadata": {
        "id": "ymnIx1pJXe9w"
      }
    },
    {
      "cell_type": "code",
      "source": [
        "data['jets'] = [9, 4]\n",
        "\n",
        "data"
      ],
      "metadata": {
        "trusted": true,
        "id": "WBCgdU1tXe9x"
      },
      "outputs": [],
      "execution_count": null
    },
    {
      "cell_type": "markdown",
      "source": [
        "### Add a new column based on the arithmetic operation between existing columns of a DataFrame\n",
        "\n",
        "<div class=\"alert alert-block alert-info\">\n",
        "We can also add new columns to our DataFrame by using arithmetic operations between other columns in our DataFrame.\n",
        "</div>\n",
        "\n",
        "Let's see an example:"
      ],
      "metadata": {
        "id": "IADGJCf7Xe9x"
      }
    },
    {
      "cell_type": "code",
      "source": [
        "data[\"foot wear\"] = data[\"socks\"] + data[\"shoes\"]\n",
        "data"
      ],
      "metadata": {
        "scrolled": true,
        "trusted": true,
        "id": "SBJum9gfXe9x"
      },
      "outputs": [],
      "execution_count": null
    },
    {
      "cell_type": "markdown",
      "source": [
        "### Adding new column at a specific location\n",
        "\n",
        "<div class=\"alert alert-block alert-info\">\n",
        "We can also add a new column anywhere we want by using <b>DataFrame.insert(loc, label, data)</b> method.\n",
        "</div>\n",
        "\n",
        "For example:"
      ],
      "metadata": {
        "id": "f2UHoi1KXe9x"
      }
    },
    {
      "cell_type": "code",
      "source": [
        "data.insert(2, 'drinks', [3, 4])\n",
        "data"
      ],
      "metadata": {
        "trusted": true,
        "id": "YBKVk4qEXe9x"
      },
      "outputs": [],
      "execution_count": null
    },
    {
      "cell_type": "markdown",
      "source": [
        "## Deleting column from a DataFrame\n",
        "\n",
        "<div class=\"alert alert-block alert-danger\">\n",
        "    We can delete columns with <b>DataFrame.pop()</b> and <b>DataFrame.drop()</b> method.\n",
        "</div>\n",
        "\n",
        "For example:"
      ],
      "metadata": {
        "id": "shw1PSQfXe9y"
      }
    },
    {
      "cell_type": "code",
      "source": [
        "data.pop(\"cars\")\n",
        "data"
      ],
      "metadata": {
        "trusted": true,
        "id": "W4ffxZc-Xe9y"
      },
      "outputs": [],
      "execution_count": null
    },
    {
      "cell_type": "markdown",
      "source": [
        "### Deleting multiple columns from a DataFrame\n",
        "\n",
        "<div class=\"alert alert-block alert-danger\">\n",
        "    With <b>DataFrame.drop()</b> method, we can delete multiple columns from a DataFrame. Here we will specify <i>aixs = 1</i> in order to delete columns.\n",
        "</div>"
      ],
      "metadata": {
        "id": "u7-cDqCxXe9y"
      }
    },
    {
      "cell_type": "code",
      "source": [
        "data = data.drop(['socks', 'bikes'], axis = 1)\n",
        "data"
      ],
      "metadata": {
        "trusted": true,
        "id": "iXil9aOBXe9y"
      },
      "outputs": [],
      "execution_count": null
    },
    {
      "cell_type": "markdown",
      "source": [
        "### Deleting rows from a DataFrame\n",
        "\n",
        "<div class=\"alert alert-block alert-danger\">\n",
        "    We can also delete rows from a DataFrame with the help of <b>DataFrame.drop()</b>. Here we will specify <i>aixs = 0</i> in order to delete rows.\n",
        "</div>"
      ],
      "metadata": {
        "id": "XQ_flGd9Xe9z"
      }
    },
    {
      "cell_type": "code",
      "source": [
        "data = data.drop([\"collection 2\"], axis = 0)\n",
        "data"
      ],
      "metadata": {
        "trusted": true,
        "id": "X9uUXlQ6Xe9z"
      },
      "outputs": [],
      "execution_count": null
    },
    {
      "cell_type": "markdown",
      "source": [
        "### Renaming the column name in a DataFrame\n",
        "\n",
        "<div class=\"alert alert-block alert-info\">\n",
        "    We can change the name of columns with <b>rename()</b> method by giving <i>columns</i> argument in <b>rename()</b> method.\n",
        "</div>"
      ],
      "metadata": {
        "id": "cJ7cIooJXe9z"
      }
    },
    {
      "cell_type": "code",
      "source": [
        "data = data.rename(columns = {\"jets\" : \"planes\"})\n",
        "data"
      ],
      "metadata": {
        "trusted": true,
        "id": "tDlmuh6XXe9z"
      },
      "outputs": [],
      "execution_count": null
    },
    {
      "cell_type": "markdown",
      "source": [
        "### Renaming row label in a DataFrame\n",
        "\n",
        "<div class=\"alert alert-block alert-info\">\n",
        "    We can also rename a row label by using <b>rename()</b> method and giving <i>index</i> as an argument.\n",
        "</div>"
      ],
      "metadata": {
        "id": "2PxD188EXe9z"
      }
    },
    {
      "cell_type": "code",
      "source": [
        "data = data.rename(index = {\"collection 1\" : \"row 1\"})\n",
        "data"
      ],
      "metadata": {
        "trusted": true,
        "id": "tfANDh4GXe90"
      },
      "outputs": [],
      "execution_count": null
    },
    {
      "cell_type": "markdown",
      "source": [
        "### Setting column values as row index\n",
        "\n",
        "<div class=\"alert alert-block alert-info\">\n",
        "    We can also set a specific column to the row index by using <b>set_index()</b> method.\n",
        "</div>"
      ],
      "metadata": {
        "id": "MYgVkJHxXe90"
      }
    },
    {
      "cell_type": "code",
      "source": [
        "data = data.set_index(\"shoes\")\n",
        "data"
      ],
      "metadata": {
        "scrolled": true,
        "trusted": true,
        "id": "6f0Kh-dNXe90"
      },
      "outputs": [],
      "execution_count": null
    },
    {
      "cell_type": "markdown",
      "source": [
        "<a id = '4.'></a>\n",
        "# 4. Dealing with NaN\n",
        "\n",
        "### Counting NaN down the column\n",
        "\n",
        "<div class=\"alert alert-block alert-info\">\n",
        "    Pandas provides some methods and attributes to count NaN values. <b>DataFrame.isnull()</b> method will return True if a value in DataFrame has NaN value other wise False. <b>DataFrame.isnull().sum()</b> will return the number of NaN in each column & <b>DataFrame.isnull().sum().sum()</b> will return the number of all NaN values in that DataFrame.\n",
        "</div>\n",
        "\n",
        "Let's have an example:"
      ],
      "metadata": {
        "id": "2vj0JipZXe90"
      }
    },
    {
      "cell_type": "code",
      "source": [
        "data = [{'bikes': 20, 'pants': 30, 'watches': 35, 'shirts': 15, 'shoes':8, 'suits':45},\n",
        "{'watches': 10, 'glasses': 50, 'bikes': 15, 'pants':5, 'shirts': 2, 'shoes':5, 'suits':7},\n",
        "{'bikes': 20, 'pants': 30, 'watches': 35, 'glasses': 4, 'shoes':10}]\n",
        "\n",
        "df = pd.DataFrame(data, index = [\"shop 1\", \"shop 2\", \"shop 3\"])\n",
        "df"
      ],
      "metadata": {
        "trusted": true,
        "id": "zlM7xZlwXe90"
      },
      "outputs": [],
      "execution_count": null
    },
    {
      "cell_type": "code",
      "source": [
        "df.isnull()"
      ],
      "metadata": {
        "trusted": true,
        "id": "gnfuIwMzXe91"
      },
      "outputs": [],
      "execution_count": null
    },
    {
      "cell_type": "code",
      "source": [
        "df.isnull().sum()"
      ],
      "metadata": {
        "trusted": true,
        "id": "C-6EIk47Xe91"
      },
      "outputs": [],
      "execution_count": null
    },
    {
      "cell_type": "code",
      "source": [
        "print(\"Total number of NaN values = \", df.isnull().sum().sum())"
      ],
      "metadata": {
        "trusted": true,
        "id": "Kfg7B95aXe91"
      },
      "outputs": [],
      "execution_count": null
    },
    {
      "cell_type": "markdown",
      "source": [
        "<div class=\"alert alert-block alert-warning\">\n",
        "    We can also count the number of Non-NaN values in a DataFrame using <b>DataFrame.count()</b> method.\n",
        "</div>"
      ],
      "metadata": {
        "id": "d45UyWTZXe91"
      }
    },
    {
      "cell_type": "code",
      "source": [
        "df.count()"
      ],
      "metadata": {
        "trusted": true,
        "id": "-1HulvqKXe91"
      },
      "outputs": [],
      "execution_count": null
    },
    {
      "cell_type": "code",
      "source": [
        "print(\"Total number of Non-NaN values = \", df.count().sum())"
      ],
      "metadata": {
        "trusted": true,
        "id": "I-qkBpJOXe92"
      },
      "outputs": [],
      "execution_count": null
    },
    {
      "cell_type": "markdown",
      "source": [
        "## Eliminating NaN Values\n",
        "\n",
        "<div class=\"alert alert-block alert-warning\">\n",
        "As we've counted the number of NaN values, now we can either drop or replace them.\n",
        "</div>\n",
        "\n",
        "### Droping rows having NaN values\n",
        "\n",
        "<div class=\"alert alert-block alert-info\">\n",
        "    We can remove NaN values with the help of <b>dropna()</b> method. In <b>dropna()</b> method, when <i>axis = 0</i>, it will remove rows having NaN values & when <i>axis = 1</i>, it will remove columns having NaN values. And <i>inplace = True</i> will remove rows form original DataFrame.\n",
        "</div>"
      ],
      "metadata": {
        "id": "5yNgsizeXe92"
      }
    },
    {
      "cell_type": "code",
      "source": [
        "# Drop rows having NaN values\n",
        "df.dropna(axis = 0, inplace = True)\n",
        "df"
      ],
      "metadata": {
        "trusted": true,
        "id": "DxbDeTCZXe92"
      },
      "outputs": [],
      "execution_count": null
    },
    {
      "cell_type": "code",
      "source": [
        "data = [{'bikes': 20, 'pants': 30, 'watches': 35, 'shirts': 15, 'shoes':8, 'suits':45},\n",
        "{'watches': 10, 'glasses': 50, 'bikes': 15, 'pants':5, 'shirts': 2, 'shoes':5, 'suits':7},\n",
        "{'bikes': 20, 'pants': 30, 'watches': 35, 'glasses': 4, 'shoes':10}]\n",
        "\n",
        "df = pd.DataFrame(data, index = [\"shop 1\", \"shop 2\", \"shop 3\"])\n",
        "df"
      ],
      "metadata": {
        "trusted": true,
        "id": "U4zQYN0wXe92"
      },
      "outputs": [],
      "execution_count": null
    },
    {
      "cell_type": "code",
      "source": [
        "# Drop columns having NaN values\n",
        "dummy_df = df.dropna(axis = 1)\n",
        "dummy_df"
      ],
      "metadata": {
        "trusted": true,
        "id": "SEYlpPc7Xe93"
      },
      "outputs": [],
      "execution_count": null
    },
    {
      "cell_type": "markdown",
      "source": [
        "## Replacing NaN values\n",
        "\n",
        "<div class=\"alert alert-block alert-info\">\n",
        "We can also replace NaN values with any value we want with the help of <b>fillna()</b> method.\n",
        "</div>"
      ],
      "metadata": {
        "id": "yaLtryN-Xe93"
      }
    },
    {
      "cell_type": "code",
      "source": [
        "# Replacing all NaN values with 0\n",
        "dummy_df = df.fillna(0)\n",
        "dummy_df"
      ],
      "metadata": {
        "trusted": true,
        "id": "zWZD9TsUXe93"
      },
      "outputs": [],
      "execution_count": null
    },
    {
      "cell_type": "markdown",
      "source": [
        "<div class=\"alert alert-block alert-info\">\n",
        "We can also replace NaN values with the previous values in the DataFrame. This is called forward filling. In this case, we will pass <i>method = 'ffill'</i> & <i>aixs</i> as an argument in <b>fillna()</b> method.</div>"
      ],
      "metadata": {
        "id": "x9dppDRYXe93"
      }
    },
    {
      "cell_type": "code",
      "source": [
        "# forward filling down axis = 0\n",
        "dummy_df = df.fillna(method = 'ffill', axis = 0)\n",
        "dummy_df"
      ],
      "metadata": {
        "trusted": true,
        "id": "8_o1WlvuXe93"
      },
      "outputs": [],
      "execution_count": null
    },
    {
      "cell_type": "markdown",
      "source": [
        "<div class=\"alert alert-block alert-warning\">\n",
        "    Notice that the NaN value in <i>shop 1</i> did not get replaced with the previous value because there is no previous value in <i>glasses</i> column.\n",
        "</div>"
      ],
      "metadata": {
        "id": "uO8hVP3lXe94"
      }
    },
    {
      "cell_type": "code",
      "source": [
        "# forward filling arcoss axis = 1\n",
        "dummy_df = df.fillna(method = 'ffill', axis = 1)\n",
        "dummy_df"
      ],
      "metadata": {
        "trusted": true,
        "id": "TFhO96XjXe94"
      },
      "outputs": [],
      "execution_count": null
    },
    {
      "cell_type": "markdown",
      "source": [
        "<div class=\"alert alert-block alert-warning\">\n",
        " Here all the NaN values have been replaced with the previous row values.\n",
        "</div>"
      ],
      "metadata": {
        "id": "7doDzUz9Xe94"
      }
    },
    {
      "cell_type": "markdown",
      "source": [
        "<div class=\"alert alert-block alert-info\">\n",
        "    We can also do backward filling by using <i>method = 'backfill'</i> in <b>fillna()</b> method.\n",
        "</div>"
      ],
      "metadata": {
        "id": "AHt4sV2qXe94"
      }
    },
    {
      "cell_type": "code",
      "source": [
        "# backward filling down axis = 0\n",
        "dummy_df = df.fillna(method = 'backfill', axis = 0)\n",
        "dummy_df"
      ],
      "metadata": {
        "trusted": true,
        "id": "eAZdItKjXe95"
      },
      "outputs": [],
      "execution_count": null
    },
    {
      "cell_type": "markdown",
      "source": [
        "<div class=\"alert alert-block alert-warning\">\n",
        "Here all NaN values have been replaced with their previous values in their columns except two columns in <i>shop 3</i> because they have no previous values in their columns.\n",
        "</div>"
      ],
      "metadata": {
        "id": "kw9c3VO7Xe95"
      }
    },
    {
      "cell_type": "code",
      "source": [
        "# backward filling across axis = 1\n",
        "dummy_df = df.fillna(method = 'backfill', axis = 1)\n",
        "dummy_df"
      ],
      "metadata": {
        "trusted": true,
        "id": "a1sZGPNWXe96"
      },
      "outputs": [],
      "execution_count": null
    },
    {
      "cell_type": "markdown",
      "source": [
        "<a id = '5.'></a>\n",
        "# 5. Loading Data into DataFrame\n",
        "\n",
        "Now we will load data from a csv file into Pandas DataFrame using **Pandas.read_csv()**. In this notebook we will be using [Google Play Store](https://www.kaggle.com/datasets/whenamancodes/play-store-apps) dataset."
      ],
      "metadata": {
        "id": "gcQduaSHXe96"
      }
    },
    {
      "cell_type": "code",
      "source": [
        "data = pd.read_csv(\"/kaggle/input/play-store-apps/googleplaystore.csv\")\n",
        "data"
      ],
      "metadata": {
        "trusted": true,
        "id": "f4KyRDmVXe96"
      },
      "outputs": [],
      "execution_count": null
    },
    {
      "cell_type": "markdown",
      "source": [
        "<div class=\"alert alert-block alert-info\">\n",
        "    We can print the first and last 5 rows of a dataset by using <b>DataFrame.head()</b> and <b>DataFrame.tail()</b> mehtods, respectively. We can also optionally use <b>DataFrame.head(N)</b> or <b>DataFrame.tail(N)</b> to display first and last <i>N</i> rows of a data, respectively.\n",
        "</div>"
      ],
      "metadata": {
        "id": "-vvfuJaSXe96"
      }
    },
    {
      "cell_type": "code",
      "source": [
        "data.head()"
      ],
      "metadata": {
        "trusted": true,
        "id": "HNLzfjJxXe96"
      },
      "outputs": [],
      "execution_count": null
    },
    {
      "cell_type": "code",
      "source": [
        "data.tail()"
      ],
      "metadata": {
        "trusted": true,
        "id": "AxkZPmIEXe96"
      },
      "outputs": [],
      "execution_count": null
    },
    {
      "cell_type": "code",
      "source": [
        "data.head(10)"
      ],
      "metadata": {
        "scrolled": true,
        "trusted": true,
        "id": "xDVmEM79Xe97"
      },
      "outputs": [],
      "execution_count": null
    },
    {
      "cell_type": "markdown",
      "source": [
        "<div class=\"alert alert-block alert-info\">\n",
        "    We can also get the shape of data by using <b>shape</b> attribute. This will return a tuple where value at index 0 will be number of rows and value at index 1 will be number of columns.</div>"
      ],
      "metadata": {
        "id": "PnLZMYK8Xe97"
      }
    },
    {
      "cell_type": "code",
      "source": [
        "data.shape"
      ],
      "metadata": {
        "trusted": true,
        "id": "zov4I2uOXe97"
      },
      "outputs": [],
      "execution_count": null
    },
    {
      "cell_type": "code",
      "source": [
        "print(\"Rows: \", data.shape[0])\n",
        "print(\"Columns: \", data.shape[1])"
      ],
      "metadata": {
        "trusted": true,
        "id": "V3w7X9HfXe97"
      },
      "outputs": [],
      "execution_count": null
    },
    {
      "cell_type": "markdown",
      "source": [
        "### Dealing with NaN values\n",
        "\n",
        "<div class=\"alert alert-block alert-info\">\n",
        "Let's do a quick check to see whether we have any NaN values in our dataset. For this we will be using <b>DataFrame.isnull()</b> method followed by <b>any()</b> mehtod. This will return a boolean for each column label.</div>"
      ],
      "metadata": {
        "id": "9ykdhg-BXe98"
      }
    },
    {
      "cell_type": "code",
      "source": [
        "data.isnull().any()"
      ],
      "metadata": {
        "trusted": true,
        "id": "ZO11gN3WXe98"
      },
      "outputs": [],
      "execution_count": null
    },
    {
      "cell_type": "markdown",
      "source": [
        "<div class=\"alert alert-block alert-warning\">\n",
        "As our dataset contains NaN values, so we will be removing rows having NaN.</div>"
      ],
      "metadata": {
        "id": "dBkKWuKOXe98"
      }
    },
    {
      "cell_type": "code",
      "source": [
        "data.dropna(axis = 0, inplace = True)\n",
        "data.head()"
      ],
      "metadata": {
        "trusted": true,
        "id": "6LmDFtaeXe98"
      },
      "outputs": [],
      "execution_count": null
    },
    {
      "cell_type": "code",
      "source": [
        "data['Current Ver'].value_counts()"
      ],
      "metadata": {
        "scrolled": true,
        "trusted": true,
        "id": "NOUTfQSsXe98"
      },
      "outputs": [],
      "execution_count": null
    },
    {
      "cell_type": "code",
      "source": [
        "data.isnull().any()"
      ],
      "metadata": {
        "trusted": true,
        "id": "eyPK0IMkXe99"
      },
      "outputs": [],
      "execution_count": null
    },
    {
      "cell_type": "markdown",
      "source": [
        "### Descriptive Statistics of the DataFrame\n",
        "\n",
        "<div class=\"alert alert-block alert-info\">\n",
        "    We can also get the descriptive statistics of the DataFrame using <b>DataFrame.describe()</b> method.\n",
        "</div>"
      ],
      "metadata": {
        "id": "D4N85qoeXe99"
      }
    },
    {
      "cell_type": "code",
      "source": [
        "data.describe()"
      ],
      "metadata": {
        "trusted": true,
        "id": "uarELP_7Xe99"
      },
      "outputs": [],
      "execution_count": null
    },
    {
      "cell_type": "markdown",
      "source": [
        "<div class=\"alert alert-block alert-info\">\n",
        "    We can apply <b>describe()</b> method on a single column as well.</div>"
      ],
      "metadata": {
        "id": "ZYR1m9KqXe99"
      }
    },
    {
      "cell_type": "code",
      "source": [
        "data[\"Rating\"].describe()"
      ],
      "metadata": {
        "trusted": true,
        "id": "VhO-KiaYXe9-"
      },
      "outputs": [],
      "execution_count": null
    },
    {
      "cell_type": "markdown",
      "source": [
        "<div class=\"alert alert-block alert-info\">\n",
        "We can also look at one of many statistical functions that Pandas provides.\n",
        "</div>\n",
        "\n",
        "Let's see some examples:"
      ],
      "metadata": {
        "id": "9b8IWJqsXe9-"
      }
    },
    {
      "cell_type": "code",
      "source": [
        "data[\"Rating\"].min()"
      ],
      "metadata": {
        "trusted": true,
        "id": "lBPzBN4pXe9-"
      },
      "outputs": [],
      "execution_count": null
    },
    {
      "cell_type": "code",
      "source": [
        "data[\"Rating\"].max()"
      ],
      "metadata": {
        "trusted": true,
        "id": "g4rfngJGXe9-"
      },
      "outputs": [],
      "execution_count": null
    },
    {
      "cell_type": "code",
      "source": [
        "data[\"Rating\"].mean()"
      ],
      "metadata": {
        "trusted": true,
        "id": "mWRgbuSbXe9-"
      },
      "outputs": [],
      "execution_count": null
    },
    {
      "cell_type": "markdown",
      "source": [
        "<div class=\"alert alert-block alert-info\">\n",
        "    We can also get the information about the DataFrame using <b>info()</b> method.</div>"
      ],
      "metadata": {
        "id": "J3PsU-Z9Xe9-"
      }
    },
    {
      "cell_type": "code",
      "source": [
        "data.info()"
      ],
      "metadata": {
        "trusted": true,
        "id": "hjW6FlPvXe9_"
      },
      "outputs": [],
      "execution_count": null
    },
    {
      "cell_type": "markdown",
      "source": [
        "## Sorting rows of the DataFrame\n",
        "\n",
        "<div class=\"alert alert-block alert-info\">\n",
        "    We can sort the rows of a DataFrame using <b>sort_values()</b> method. In some cases where we have the same value (this is common if we sort on a categorical variable), we may wish to break the ties by sorting on another column. We can sort on multiple columns in this way by passing a list of multiple column names. <b>sort_values()</b> method sort values in ascending order by default but we can sort values in descending order by passing argument <i>ascesding = False</i>.\n",
        "</div>\n",
        "\n",
        "Let's see some examples:"
      ],
      "metadata": {
        "id": "nKEuQdexXe9_"
      }
    },
    {
      "cell_type": "code",
      "source": [
        "# sorting in ascending order\n",
        "data_by_content =  data.sort_values(\"Content Rating\")\n",
        "data_by_content.head()"
      ],
      "metadata": {
        "trusted": true,
        "id": "1dFyT2jfXe9_"
      },
      "outputs": [],
      "execution_count": null
    },
    {
      "cell_type": "code",
      "source": [
        "# sorting in descending order\n",
        "data_by_content =  data.sort_values(\"Content Rating\", ascending = False)\n",
        "data_by_content.head()"
      ],
      "metadata": {
        "trusted": true,
        "id": "ec6DlGibXe9_"
      },
      "outputs": [],
      "execution_count": null
    },
    {
      "cell_type": "code",
      "source": [
        "# sorting by multiple columns\n",
        "sorted_data = data.sort_values([\"Content Rating\", \"Genres\"])\n",
        "sorted_data.head()"
      ],
      "metadata": {
        "trusted": true,
        "id": "cgiS8lLpXe9_"
      },
      "outputs": [],
      "execution_count": null
    },
    {
      "cell_type": "markdown",
      "source": [
        "### Subsetting Columns of the DataFame\n",
        "\n",
        "<div class=\"alert alert-block alert-info\">\n",
        "We can subset a single or multiple columns by using square brackets \"[ ]\".\n",
        "</div>\n",
        "\n",
        "Let's have some examples:"
      ],
      "metadata": {
        "id": "PXyruZnBXe-A"
      }
    },
    {
      "cell_type": "code",
      "source": [
        "sub_data = data[['Category']]\n",
        "sub_data.head()"
      ],
      "metadata": {
        "trusted": true,
        "id": "ruc92rpaXe-A"
      },
      "outputs": [],
      "execution_count": null
    },
    {
      "cell_type": "code",
      "source": [
        "# Creating a DataFrame that only contains 'Current Ver' & 'Android Ver'\n",
        "ver_data = data[[\"Current Ver\", \"Android Ver\"]]\n",
        "ver_data.head()"
      ],
      "metadata": {
        "trusted": true,
        "id": "UXDXwL5GXe-A"
      },
      "outputs": [],
      "execution_count": null
    },
    {
      "cell_type": "markdown",
      "source": [
        "### Subsetting or filtering rows of the DataFrame\n",
        "\n",
        "<div class=\"alert alert-block alert-info\">\n",
        "We can also filter rows of the DataFrame that match some criteria. There are many ways to subset a DataFrame, perhaps the most common is to use relational operators to return True or False for each row, then pass that inside square brackets. We can also filter for multiple conditions at once by using the & operator.\n",
        "</div>\n",
        "\n",
        "Let's have some examples:"
      ],
      "metadata": {
        "id": "fbTZIBuJXe-A"
      }
    },
    {
      "cell_type": "code",
      "source": [
        "# filtering rows have 4.0 or above Rating\n",
        "rating_data = data[data[\"Rating\"] >= 4.0]\n",
        "rating_data.head()"
      ],
      "metadata": {
        "scrolled": true,
        "trusted": true,
        "id": "MSnmtqmKXe-A"
      },
      "outputs": [],
      "execution_count": null
    },
    {
      "cell_type": "code",
      "source": [
        "rating_type_data = data[(data[\"Rating\"] >= 4.5) & (data[\"Type\"] == \"Paid\")]\n",
        "rating_type_data.head()"
      ],
      "metadata": {
        "trusted": true,
        "id": "u7ciPjUxXe-B"
      },
      "outputs": [],
      "execution_count": null
    },
    {
      "cell_type": "markdown",
      "source": [
        "<div class=\"alert alert-block alert-info\">\n",
        "    Similarly, we can subset data based on categorical variables with <b>isin()</b> mehtod. Although, this can also be done with <i>or</i> operator '|' but this can get tedious. Instead of writing every condition separately with '|', <b>isin()</b> method does the same job with one line of code.\n",
        "</div>"
      ],
      "metadata": {
        "id": "DTx_CdtqXe-B"
      }
    },
    {
      "cell_type": "code",
      "source": [
        "categories_list = [\"BEAUTY\", \"EVENTS\", \"FAMILY\", \"COMICS\"]\n",
        "condition = data[\"Category\"].isin(categories_list)\n",
        "data_by_categories = data[condition]\n",
        "data_by_categories.head()"
      ],
      "metadata": {
        "trusted": true,
        "id": "tcL7OWh6Xe-B"
      },
      "outputs": [],
      "execution_count": null
    },
    {
      "cell_type": "markdown",
      "source": [
        "### Dropping Duplicates\n",
        "\n",
        "<div class=\"alert alert-block alert-info\">\n",
        "Dropping duplicates is an important part of our analysis because we don't want to count the same thing multiple times. This can be done by using <b>drop_duplicates()</b> method. We can also drop duplicates from multiple columns by passing an argument <i>subset</i> with the list of columns.</div>"
      ],
      "metadata": {
        "id": "Q2P8hbt1Xe-B"
      }
    },
    {
      "cell_type": "code",
      "source": [
        "non_dup_app = data.drop_duplicates(subset = [\"App\"])\n",
        "non_dup_app"
      ],
      "metadata": {
        "trusted": true,
        "id": "vB_49XrRXe-C"
      },
      "outputs": [],
      "execution_count": null
    },
    {
      "cell_type": "code",
      "source": [
        "print(\"Rows before dropping duplicates: \", data.shape[0])\n",
        "print(\"Rows after dropping duplicates: \", non_dup_app.shape[0])"
      ],
      "metadata": {
        "trusted": true,
        "id": "PvhPSXv2Xe-C"
      },
      "outputs": [],
      "execution_count": null
    },
    {
      "cell_type": "markdown",
      "source": [
        "### Counting Categorical Variables\n",
        "\n",
        "<div class=\"alert alert-block alert-info\">\n",
        "    We can count the categorical variables in a dataset. This can be done with <b>value_counts()</b> mehtod. We can also get the proportion of each category in dataset by passing <i>normalize = True</i> argument. We can also sort the results by passing <i>sort = True</i> argument.\n",
        "</div>"
      ],
      "metadata": {
        "id": "Ax5qGaQRXe-C"
      }
    },
    {
      "cell_type": "code",
      "source": [
        "app_counts = non_dup_app[\"Category\"].value_counts(sort = True)\n",
        "app_counts"
      ],
      "metadata": {
        "scrolled": true,
        "trusted": true,
        "id": "YjfYFMQDXe-C"
      },
      "outputs": [],
      "execution_count": null
    },
    {
      "cell_type": "code",
      "source": [
        "app_counts = non_dup_app[\"Category\"].value_counts(normalize = True, sort = True)\n",
        "app_counts"
      ],
      "metadata": {
        "trusted": true,
        "id": "7Jf8U7OcXe-C"
      },
      "outputs": [],
      "execution_count": null
    },
    {
      "cell_type": "markdown",
      "source": [
        "### Splitting data into Groups\n",
        "\n",
        "<div class=\"alert alert-block alert-info\">\n",
        "We can also split data into groups and apply some functions on these groups. This can be done with <b>groupby()</b> mehthod.\n",
        "</div>\n",
        "\n",
        "Let's see some examples:"
      ],
      "metadata": {
        "id": "GRtj5NrOXe-D"
      }
    },
    {
      "cell_type": "code",
      "source": [
        "# grouping data by \"Type\" and then calculating mean for each Type\n",
        "grouped_type  = data.groupby(\"Type\")[\"Rating\"].mean()\n",
        "grouped_type"
      ],
      "metadata": {
        "trusted": true,
        "id": "yg8blsU3Xe-D"
      },
      "outputs": [],
      "execution_count": null
    },
    {
      "cell_type": "code",
      "source": [
        "grouped_category = data.groupby(\"Category\")[\"Rating\"].mean()\n",
        "grouped_category"
      ],
      "metadata": {
        "trusted": true,
        "id": "coU3PNsXXe-D"
      },
      "outputs": [],
      "execution_count": null
    },
    {
      "cell_type": "markdown",
      "source": [
        "### Multiple Grouped Summaries\n",
        "\n",
        "<div class=\"alert alert-block alert-info\">\n",
        "    We can also calculate multiple grouped summaries statistics using <b>agg()</b> method. <b>agg()</b> method apply a function or a list of functions on a Series or a column of a DataFrame.</div>"
      ],
      "metadata": {
        "id": "HHy5XsSyXe-D"
      }
    },
    {
      "cell_type": "code",
      "source": [
        "grouped_category = data.groupby(\"Category\")[\"Rating\"].agg([np.mean, np.median, np.min, np.max])\n",
        "grouped_category"
      ],
      "metadata": {
        "trusted": true,
        "id": "hHsKYbB3Xe-D"
      },
      "outputs": [],
      "execution_count": null
    },
    {
      "cell_type": "markdown",
      "source": [
        "### Setting and Removing index\n",
        "\n",
        "<div class=\"alert alert-block alert-info\">\n",
        "As discussed earlier, we can set and remove any column as an index of a dataframe.\n",
        "</div>\n",
        "\n",
        "Let's see an example:"
      ],
      "metadata": {
        "id": "oSG17xVuXe-E"
      }
    },
    {
      "cell_type": "code",
      "source": [
        "dummy_data = data.set_index(\"App\")\n",
        "dummy_data.head()"
      ],
      "metadata": {
        "trusted": true,
        "id": "sWoFSLWXXe-E"
      },
      "outputs": [],
      "execution_count": null
    },
    {
      "cell_type": "code",
      "source": [
        "reset_data = dummy_data.reset_index()\n",
        "reset_data.head()"
      ],
      "metadata": {
        "trusted": true,
        "id": "66gzJteiXe-E"
      },
      "outputs": [],
      "execution_count": null
    },
    {
      "cell_type": "markdown",
      "source": [
        "<div class=\"alert alert-block alert-warning\">\n",
        "We can also reset the index and drop its contents.</div>"
      ],
      "metadata": {
        "id": "YdjrJ30fXe-E"
      }
    },
    {
      "cell_type": "code",
      "source": [
        "# this will reset the index and reomve the App column\n",
        "dummy_data_drop = dummy_data.reset_index(drop = True)\n",
        "dummy_data_drop"
      ],
      "metadata": {
        "trusted": true,
        "id": "_qSVJWLzXe-E"
      },
      "outputs": [],
      "execution_count": null
    },
    {
      "cell_type": "markdown",
      "source": [
        "## Slicing and Indexing\n",
        "\n",
        "<div class=\"alert alert-block alert-info\">\n",
        "    Now let's see subsetting with <b>loc[ ]</b> and <b>iloc[ ]</b> on our dataset.\n",
        "</div>"
      ],
      "metadata": {
        "id": "kNWahBQxXe-F"
      }
    },
    {
      "cell_type": "code",
      "source": [
        "dummy_data.loc[\"Google Play Games\", \"Type\"]"
      ],
      "metadata": {
        "scrolled": true,
        "trusted": true,
        "id": "60_8OWyqXe-F"
      },
      "outputs": [],
      "execution_count": null
    },
    {
      "cell_type": "code",
      "source": [
        "dummy_data.loc[\"Sketch - Draw & Paint\" : \"Infinite Painter\", \"Installs\" : \"Current Ver\"]"
      ],
      "metadata": {
        "trusted": true,
        "id": "23WdPQVKXe-F"
      },
      "outputs": [],
      "execution_count": null
    },
    {
      "cell_type": "code",
      "source": [
        "dummy_data.iloc[3:8, 4:11]"
      ],
      "metadata": {
        "trusted": true,
        "id": "5QaCecj7Xe-F"
      },
      "outputs": [],
      "execution_count": null
    },
    {
      "cell_type": "code",
      "source": [
        "dummy_data.iloc[3:8, 4:]"
      ],
      "metadata": {
        "trusted": true,
        "id": "HS-F2IKaXe-F"
      },
      "outputs": [],
      "execution_count": null
    },
    {
      "cell_type": "markdown",
      "source": [
        "<a id = '6.'></a>\n",
        "# 6. Visualizing DataFrames\n",
        "\n",
        "<div class=\"alert alert-block alert-info\">\n",
        "We can also visualize the content of dataframes using different methods. We can create plots with <b>plot()</b> method, then we will specify the kind of plot by passing <i>kind</i> argument.</div>\n",
        "\n",
        "Let's see some examples:"
      ],
      "metadata": {
        "id": "SiulH9jWXe-F"
      }
    },
    {
      "cell_type": "markdown",
      "source": [
        "Let's first convert:\n",
        "   * _Everyone_ to **0**\n",
        "   * _Mature 17+_ to **1**\n",
        "   * _Teen_ to **2**\n",
        "   *  _Everyone_ 10+ to **3**\n",
        "   * _Adults only_ 18+ to **4**\n",
        "   * _Unrated_ to **5**\n",
        "   \n",
        "in \"Content Rating\" column."
      ],
      "metadata": {
        "id": "TjbfbGKiXe-G"
      }
    },
    {
      "cell_type": "code",
      "source": [
        "dummy_data['Content Rating']=dummy_data['Content Rating'].replace('Everyone',0)\n",
        "dummy_data['Content Rating']=dummy_data['Content Rating'].replace('Mature 17+',1)\n",
        "dummy_data['Content Rating']=dummy_data['Content Rating'].replace('Teen',2)\n",
        "dummy_data['Content Rating']=dummy_data['Content Rating'].replace('Everyone 10+',3)\n",
        "dummy_data['Content Rating']=dummy_data['Content Rating'].replace('Adults only 18+',4)\n",
        "dummy_data['Content Rating']=dummy_data['Content Rating'].replace('Unrated',5)"
      ],
      "metadata": {
        "trusted": true,
        "id": "p8xvuz0iXe-G"
      },
      "outputs": [],
      "execution_count": null
    },
    {
      "cell_type": "code",
      "source": [
        "dummy_data.plot(x = \"Content Rating\", y = \"Rating\", kind = \"scatter\");"
      ],
      "metadata": {
        "trusted": true,
        "id": "uouR7r4KXe-G"
      },
      "outputs": [],
      "execution_count": null
    },
    {
      "cell_type": "code",
      "source": [
        "data[\"Content Rating\"].value_counts().plot(kind = \"bar\");"
      ],
      "metadata": {
        "trusted": true,
        "id": "Bxi8DT9MXe-G"
      },
      "outputs": [],
      "execution_count": null
    },
    {
      "cell_type": "code",
      "source": [
        "category_list = [\"Everyone\", \"Teen\", \"Adults only 18+\"]\n",
        "condition = data[\"Content Rating\"].isin(category_list)\n",
        "new_data = data[condition]\n",
        "new_data.head()"
      ],
      "metadata": {
        "trusted": true,
        "id": "QLpu7tE8Xe-H"
      },
      "outputs": [],
      "execution_count": null
    },
    {
      "cell_type": "code",
      "source": [
        "new_data.groupby(\"Content Rating\")['Rating'].mean().plot(kind = \"bar\");"
      ],
      "metadata": {
        "trusted": true,
        "id": "9BIoEIsWXe-H"
      },
      "outputs": [],
      "execution_count": null
    },
    {
      "cell_type": "code",
      "source": [
        "category_list = [\"Action\", \"Racing\", \"Sports\", \"Events\"]\n",
        "condition = data[\"Genres\"].isin(category_list)\n",
        "new_data = data[condition]\n",
        "new_data.head()"
      ],
      "metadata": {
        "trusted": true,
        "id": "VD_2qB6BXe-H"
      },
      "outputs": [],
      "execution_count": null
    },
    {
      "cell_type": "code",
      "source": [
        "new_data.groupby(\"Genres\")['Rating'].mean().plot(kind = \"bar\");"
      ],
      "metadata": {
        "trusted": true,
        "id": "DJo74lcWXe-H"
      },
      "outputs": [],
      "execution_count": null
    },
    {
      "cell_type": "markdown",
      "source": [
        "<div class=\"alert alert-block alert-success\">\n",
        "Alright! That's the end of this tutorial. If you like it then please upvote this notebook.\n",
        "</div>"
      ],
      "metadata": {
        "id": "iCCWmRr-Xe-I"
      }
    }
  ]
}