{
  "cells": [
    {
      "cell_type": "markdown",
      "metadata": {
        "id": "view-in-github",
        "colab_type": "text"
      },
      "source": [
        "<a href=\"https://colab.research.google.com/github/lislmaka/DS-ML/blob/main/Simple_Matplotlib_%26_Visualization_Tips_%F0%9F%92%A1.ipynb\" target=\"_parent\"><img src=\"https://colab.research.google.com/assets/colab-badge.svg\" alt=\"Open In Colab\"/></a>"
      ]
    },
    {
      "source": [
        "# IMPORTANT: SOME KAGGLE DATA SOURCES ARE PRIVATE\n",
        "# RUN THIS CELL IN ORDER TO IMPORT YOUR KAGGLE DATA SOURCES.\n",
        "import kagglehub\n",
        "kagglehub.login()\n"
      ],
      "metadata": {
        "id": "j0zx8PaQ3I25"
      },
      "cell_type": "code",
      "outputs": [],
      "execution_count": null
    },
    {
      "source": [
        "# IMPORTANT: RUN THIS CELL IN ORDER TO IMPORT YOUR KAGGLE DATA SOURCES,\n",
        "# THEN FEEL FREE TO DELETE THIS CELL.\n",
        "# NOTE: THIS NOTEBOOK ENVIRONMENT DIFFERS FROM KAGGLE'S PYTHON\n",
        "# ENVIRONMENT SO THERE MAY BE MISSING LIBRARIES USED BY YOUR\n",
        "# NOTEBOOK.\n",
        "\n",
        "titanic_path = kagglehub.competition_download('titanic')\n",
        "spscientist_students_performance_in_exams_path = kagglehub.dataset_download('spscientist/students-performance-in-exams')\n",
        "shivamb_netflix_shows_path = kagglehub.dataset_download('shivamb/netflix-shows')\n",
        "\n",
        "print('Data source import complete.')\n"
      ],
      "metadata": {
        "id": "8Z790yxT3I29"
      },
      "cell_type": "code",
      "outputs": [],
      "execution_count": null
    },
    {
      "metadata": {
        "_kg_hide-input": true,
        "trusted": true,
        "id": "Uhhq1HEG3I2-"
      },
      "cell_type": "code",
      "source": [
        "import numpy as np\n",
        "import matplotlib.pyplot as plt\n",
        "from matplotlib.text import Text\n",
        "from matplotlib.lines import Line2D\n",
        "from mpl_toolkits.mplot3d import Axes3D\n",
        "from matplotlib.patches import Rectangle, Polygon\n",
        "\n",
        "plt.rcParams['figure.dpi'] = 100\n",
        "\n",
        "def clip_path(ax):\n",
        "    T1 = [(0,0),(0,1),(1,1)]\n",
        "    T2 = [(0,0),(1,0),(1,1)]\n",
        "    clip1 = Polygon(T1, closed=True, transform=ax.transAxes,\n",
        "                   edgecolor='None', facecolor='None')\n",
        "    clip2 = Polygon(T2, closed=True, transform=ax.transAxes,\n",
        "                   edgecolor='None', facecolor='None')\n",
        "\n",
        "    line = Line2D([0, 1], [0, 1], transform=ax.transAxes, linewidth=0.5,\n",
        "                  color=\"black\", clip_on=False, zorder=50)\n",
        "    ax.add_artist(line)\n",
        "\n",
        "    return clip1, clip2\n",
        "\n",
        "\n",
        "def scatter(ax):\n",
        "    np.random.seed(123)\n",
        "    n = 500\n",
        "    X = np.random.normal(0, 0.5, n)\n",
        "    Y = np.random.normal(0, 0.5, n)\n",
        "    S = 25\n",
        "\n",
        "    clip1, clip2 = clip_path(ax)\n",
        "\n",
        "    ax.scatter(X, Y, S, clip_path=clip1,\n",
        "               linewidth=0.75, facecolor=\"None\",  edgecolor=\".25\")\n",
        "    ax.scatter(X, Y, S, clip_path=clip1,\n",
        "               linewidth=0.00, facecolor=\"white\", edgecolor=\"None\")\n",
        "    ax.scatter(X, Y, S/2, clip_path=clip1,\n",
        "               linewidth=0.00, facecolor=\"black\", edgecolor=\"None\", alpha=0.5)\n",
        "\n",
        "    ax.scatter(X, Y, S, clip_path=clip2,\n",
        "               linewidth=0.75, facecolor=\"None\",  edgecolor=\".25\")\n",
        "    ax.scatter(X, Y, S, clip_path=clip2,\n",
        "               linewidth=0.00, facecolor=\"white\", edgecolor=\"None\")\n",
        "    ax.scatter(X, Y, S/2, clip_path=clip2,\n",
        "               linewidth=0.00, facecolor=\"red\", edgecolor=\"None\", alpha=0.5)\n",
        "\n",
        "    ax.set_xlabel(\"Scatter plot\")\n",
        "\n",
        "\n",
        "def lineplot(ax):\n",
        "    ax.set_xlabel(\"Line plot\")\n",
        "\n",
        "    clip1, clip2 = clip_path(ax)\n",
        "\n",
        "    X = np.linspace(-1,1,100)\n",
        "    Y = 0.25*np.cos(1+np.pi*X)\n",
        "    ax.plot(X, Y, color=\"black\", linewidth=2, clip_path=clip1)\n",
        "    ax.fill_between(X, Y+0.25, Y-0.25, clip_path=clip1,\n",
        "                    facecolor=\"black\", edgecolor=\"None\", alpha=0.15)\n",
        "\n",
        "    X = np.linspace(-1,1,100)\n",
        "    Y = 0.25*np.cos(1+np.pi*X)\n",
        "    ax.plot(X, Y, color=\"red\", linewidth=2, clip_path=clip2)\n",
        "    ax.fill_between(X, Y+0.25, Y-0.25, clip_path=clip2,\n",
        "                    facecolor=\"red\", edgecolor=\"None\", alpha=0.15)\n",
        "\n",
        "\n",
        "def quiverplot(ax):\n",
        "    clip1, clip2 = clip_path(ax)\n",
        "\n",
        "    n = 10\n",
        "    X,Y = np.mgrid[0:n, 0:n]\n",
        "    X,Y = 2*X/(n-1)-1, 2*Y/(n-1)-1\n",
        "    T = np.arctan2(Y, X)\n",
        "    U, V = np.cos(T), np.sin(T)\n",
        "    ax.quiver(X, Y, 0.1*U, 0.1*V, scale=1, width=0.015, clip_path=clip1,\n",
        "              edgecolor='black', facecolor='.9', linewidth=.5)\n",
        "\n",
        "    ax.quiver(X, Y, 0.1*U, 0.1*V, T-1, scale=1, width=0.015, clip_path=clip2,\n",
        "              edgecolor='black', linewidth=.5, cmap=\"hot\")\n",
        "\n",
        "    ax.set_xlabel(\"Quiver plot\")\n",
        "\n",
        "def contourplot(ax):\n",
        "\n",
        "    clip1, clip2 = clip_path(ax)\n",
        "\n",
        "    def f(x,y): return (1-x/2+x**5+y**3)*np.exp(-x**2-y**2)\n",
        "    n = 100\n",
        "    x = np.linspace(-3,3,n)\n",
        "    y = np.linspace(-3,3,n)\n",
        "    X,Y = np.meshgrid(x,y)\n",
        "    Z = f(X,Y)\n",
        "\n",
        "    CF = ax.contourf(Z, 10, extent=[-1,+1,-1,+1], alpha=.5,\n",
        "                     origin=\"upper\", cmap=\"gray\", zorder=-10)\n",
        "    for collection in CF.collections:\n",
        "        collection.set_clip_path(clip1)\n",
        "\n",
        "    CS = ax.contour(Z, 10, extent=[-1,+1,-1,+1],\n",
        "                    colors=\"black\", linewidths=.5, origin=\"upper\")\n",
        "    for collection in CS.collections:\n",
        "        collection.set_clip_path(clip1)\n",
        "\n",
        "    CF = ax.contourf(Z, 10, extent=[-1,+1,-1,+1], alpha=.75,\n",
        "                     origin=\"upper\", cmap=\"viridis\", zorder=-10)\n",
        "    for collection in CF.collections:\n",
        "        collection.set_clip_path(clip2)\n",
        "\n",
        "    CS = ax.contour(Z, 10, extent=[-1,+1,-1,+1],\n",
        "                    colors=\"white\", linewidths=.5, origin=\"upper\")\n",
        "    for collection in CS.collections:\n",
        "        collection.set_clip_path(clip2)\n",
        "\n",
        "    ax.set_xlabel(\"Contour plot\")\n",
        "\n",
        "def imageplot(ax):\n",
        "    def f(x,y): return (1-x/2+x**5+y**3)*np.exp(-x**2-y**2)\n",
        "    n = 32\n",
        "    x = np.linspace(-3,3,n)\n",
        "    y = np.linspace(-3,3,n)\n",
        "    X,Y = np.meshgrid(x,y)\n",
        "    Z = f(X,Y)\n",
        "\n",
        "    clip1, clip2 = clip_path(ax)\n",
        "    ax.imshow(Z, extent=[-1,+1,-1,+1], origin=\"upper\", zorder=50,\n",
        "              cmap=\"gray\", interpolation=\"nearest\", clip_path=clip1)\n",
        "    ax.imshow(Z, extent=[-1,+1,-1,+1], origin=\"upper\",\n",
        "              cmap=\"hot\", interpolation=\"bicubic\", clip_path=clip2)\n",
        "\n",
        "\n",
        "    ax.set_xlabel(\"Image plot\")\n",
        "\n",
        "def pieplot(ax):\n",
        "    clip1, clip2 = clip_path(ax)\n",
        "\n",
        "    size = 0.3\n",
        "    vals = np.array([[60., 32.], [37., 40.], [29., 10.]])\n",
        "\n",
        "    cmap = plt.get_cmap(\"gray\")\n",
        "    outer_colors = cmap(.1+np.arange(3)/4)\n",
        "    inner_colors = cmap(np.array([1, 2, 5, 6, 9, 10])/12)\n",
        "\n",
        "    patches, _ = ax.pie(vals.sum(axis=1), radius=1, colors=outer_colors,\n",
        "                        wedgeprops=dict(width=size, edgecolor='w'))\n",
        "    for patch in patches:\n",
        "        patch.set_clip_on(True)\n",
        "        patch.set_clip_path(clip1)\n",
        "    patches, _ = ax.pie(vals.flatten(), radius=1-size, colors=inner_colors,\n",
        "                        wedgeprops=dict(width=size, edgecolor='w'))\n",
        "    for patch in patches:\n",
        "        patch.set_clip_on(True)\n",
        "        patch.set_clip_path (clip1)\n",
        "\n",
        "    cmap = plt.get_cmap(\"tab20c\")\n",
        "    outer_colors = cmap(+np.arange(3))\n",
        "    inner_colors = cmap(np.array([1, 2, 5, 6, 9, 10]))\n",
        "    patches, _ = ax.pie(vals.sum(axis=1), radius=1, colors=outer_colors,\n",
        "                        wedgeprops=dict(width=size, edgecolor='w'))\n",
        "    for patch in patches:\n",
        "        patch.set_clip_on(True)\n",
        "        patch.set_clip_path(clip2)\n",
        "    patches, _ = ax.pie(vals.flatten(), radius=1-size, colors=inner_colors,\n",
        "                        wedgeprops=dict(width=size, edgecolor='w'))\n",
        "    for patch in patches:\n",
        "        patch.set_clip_on(True)\n",
        "        patch.set_clip_path (clip2)\n",
        "\n",
        "    rect = Rectangle((0,0), 1, 1, transform=ax.transAxes, linewidth=0.75,\n",
        "                     edgecolor=\"black\", facecolor=\"None\", clip_on=False)\n",
        "    ax.add_artist(rect)\n",
        "\n",
        "    ax.set_xlabel(\"Pie plot\")\n",
        "\n",
        "def threedplot(ax):\n",
        "\n",
        "    T1 = [(0,0),(0,1),(1,1)]\n",
        "    T2 = [(0,0),(1,0),(1,1)]\n",
        "    clip1 = Polygon(T1, closed=True, transform=ax.transAxes,\n",
        "                   edgecolor='None', facecolor='None')\n",
        "    clip2 = Polygon(T2, closed=True, transform=ax.transAxes,\n",
        "                   edgecolor='None', facecolor='None')\n",
        "\n",
        "    ax.set_axis_off()\n",
        "    ax.set_xlim(-1, 1), ax.set_ylim(-1, 1), ax.set_zlim(-2, 2)\n",
        "    X,Y= np.meshgrid(np.linspace(-1, 1, 25),\n",
        "                     np.linspace(-1, 1, 25))\n",
        "    Z = np.sin(5*np.sqrt(X**2+Y**2))\n",
        "\n",
        "    ax.plot_surface(X, Y, Z, rstride=1, cstride=1, cmap=\"gray\", clip_path=clip1,\n",
        "                    linewidth=.25, edgecolor=\"black\", vmin=-1.5, vmax=1)\n",
        "    ax.plot_surface(X, Y, Z, rstride=1, cstride=1, cmap=\"magma\", clip_path=clip2,\n",
        "                    linewidth=0, edgecolor=\"black\", vmin=-1.5, vmax=1)\n",
        "\n",
        "    line = Line2D([0, 1], [0, 1], transform=ax.transAxes, linewidth=0.5,\n",
        "                  color=\"black\", clip_on=False, zorder=10)\n",
        "    ax.add_artist(line)\n",
        "\n",
        "    rect = Rectangle((0,0), 1, 1, transform=ax.transAxes, linewidth=0.75,\n",
        "                     edgecolor=\"black\", facecolor=\"None\", clip_on=False)\n",
        "    ax.add_artist(rect)\n",
        "    text = Text(0.5, -0.025, \"3D plot\", clip_on=False,\n",
        "                ha=\"center\", va=\"top\", transform=ax.transAxes)\n",
        "    ax.add_artist(text)\n",
        "\n",
        "\n",
        "def barplot(ax):\n",
        "    clip1, clip2 = clip_path(ax)\n",
        "\n",
        "    n = 16\n",
        "    X = np.arange(n)\n",
        "    Y1 = (1-0.25*X/n) * np.random.uniform(0.25, 0.75, n)\n",
        "    Y2 = (1-0.25*X/n) * np.random.uniform(0.25, 0.75, n)\n",
        "    ax.bar(X, +Y1, 1, facecolor='#cccccc', edgecolor='white', clip_path=clip1)\n",
        "    ax.bar(X, -Y2, 1, facecolor='#999999', edgecolor='white', clip_path=clip1)\n",
        "    ax.bar(X, +Y1, 1, facecolor='#ffaaaa', edgecolor='white', clip_path=clip2)\n",
        "    ax.bar(X, -Y2, 1, facecolor='#ff7777', edgecolor='white', clip_path=clip2)\n",
        "    ax.set_xlim(-1,n)\n",
        "    ax.set_xlabel(\"Bar plot\")\n",
        "\n",
        "def boxplot(ax):\n",
        "    clip1, clip2 = clip_path(ax)\n",
        "\n",
        "    n = 5\n",
        "    data = np.random.normal(0, .25, (100,n))\n",
        "\n",
        "    bplots = ax.boxplot(data, patch_artist=True)\n",
        "    for patch in bplots['boxes']:\n",
        "        patch.set_facecolor(\"0.9\")\n",
        "    for line in bplots['medians']:\n",
        "        line.set_color(\"black\")\n",
        "    for element in [\"boxes\",\"medians\",\"whiskers\", \"caps\", \"fliers\",\"means\"]:\n",
        "        for item in bplots[element]:\n",
        "            item.set_clip_path(clip1)\n",
        "\n",
        "    bplots = ax.boxplot(data, patch_artist=True)\n",
        "\n",
        "    for patch in bplots['boxes']:\n",
        "        patch.set_facecolor(\"0.9\")\n",
        "    for line in bplots['medians']:\n",
        "        line.set_color(\"black\")\n",
        "    for element in [\"boxes\",\"medians\",\"whiskers\", \"caps\", \"fliers\",\"means\"]:\n",
        "        for item in bplots[element]:\n",
        "            item.set_color(\"red\")\n",
        "            try:\n",
        "                item.set_markerfacecolor (\"red\")\n",
        "                item.set_markeredgecolor (\"red\")\n",
        "            except:\n",
        "                pass\n",
        "            item.set_clip_path(clip2)\n",
        "\n",
        "\n",
        "    ax.set_xlim(0,n+1), ax.set_xticks([])\n",
        "    ax.set_xlabel(\"Box plot\")\n",
        "\n",
        "\n",
        "fig, axes = plt.subplots(3, 3, figsize=(8, 8))\n",
        "for ax in axes.ravel():\n",
        "    ax.set(xticks=[], yticks=[], xlim=[-1,1], ylim=[-1,1])\n",
        "axes[2,2] = plt.subplot(339, projection=\"3d\")\n",
        "\n",
        "lineplot(axes[0,0])\n",
        "scatter(axes[0,1])\n",
        "barplot(axes[0,2])\n",
        "\n",
        "imageplot(axes[1,0])\n",
        "contourplot(axes[1,1])\n",
        "boxplot(axes[1,2])\n",
        "\n",
        "quiverplot(axes[2,0])\n",
        "pieplot(axes[2,1])\n",
        "threedplot(axes[2,2])\n",
        "\n",
        "plt.savefig(\"catalogue.pdf\")\n",
        "plt.show()"
      ],
      "execution_count": null,
      "outputs": []
    },
    {
      "metadata": {
        "id": "mcUJweae3I3A"
      },
      "cell_type": "markdown",
      "source": [
        "> many reference & image from [matplotlib cheatsheet](https://github.com/rougier/matplotlib-cheatsheet)\n",
        "\n",
        "***This is a notebook which organizes various tips and contents of matplotlib which we browse every day.***\n",
        "\n",
        "I am a developer who loves visualization.\n",
        "\n",
        "So far I've built a kernel to share the tips I've gained from doing a lot of visualizations.\n",
        "\n",
        "**matplotlib** is the most basic visualization tool, and even if you use it well, sometimes you don't need to use the rest of the visualization tools.\n",
        "\n",
        "### Table of Contents\n",
        "\n",
        "\n",
        "0. **Setting**\n",
        "    - dpi\n",
        "    - figsize\n",
        "    - title\n",
        "1. **Alignments**\n",
        "    - subplots, tight_layout\n",
        "    - subplot2grid\n",
        "    - add_axes\n",
        "    - add_gridspec\n",
        "2. **Colormap**\n",
        "    - diverging\n",
        "    - qualitative\n",
        "    - sequential\n",
        "    - scientific\n",
        "3. **Text & Annotate & Patch**\n",
        "    - parameter\n",
        "    - text example\n",
        "    - patches example\n",
        "4. **Details & Example**\n",
        "    - font weight, color, size, etc\n",
        "    - Horizontal and Vertical (barplot)\n",
        "    - Border(edge) color and thickness\n",
        "    - Main Color & Sub Color\n",
        "    - Transparency\n",
        "    - Span\n",
        "5. **MEME**\n",
        "    - xkcd style"
      ]
    },
    {
      "metadata": {
        "_uuid": "8f2839f25d086af736a60e9eeb907d3b93b6e0e5",
        "_cell_guid": "b1076dfc-b9ad-4769-8c92-a6c4dae69d19",
        "trusted": true,
        "id": "1vHtBh-V3I3C"
      },
      "cell_type": "code",
      "source": [
        "import numpy as np\n",
        "import matplotlib as mpl\n",
        "import matplotlib.pyplot as plt\n",
        "import matplotlib.gridspec as gridspec # Alignments\n",
        "\n",
        "import seaborn as sns # theme & dataset\n",
        "print(f\"Matplotlib Version : {mpl.__version__}\")\n",
        "print(f\"Seaborn Version : {sns.__version__}\")\n",
        "\n",
        "# for visualization samples\n",
        "import pandas as pd\n",
        "\n",
        "netflix_titles = pd.read_csv(\"../input/netflix-shows/netflix_titles.csv\")"
      ],
      "execution_count": null,
      "outputs": []
    },
    {
      "metadata": {
        "id": "lTO9CrTi3I3D"
      },
      "cell_type": "markdown",
      "source": [
        "## 0. Setting\n",
        "\n",
        "Set the resolution through the **dpi** (Dots per Inch) setting of the figure.\n",
        "matplotlib has a low default resolution itself, so setting this up is a bit more professional.\n",
        "\n",
        "`plt.rcParams['figure.dpi'] = 200` or `dpi=200`\n",
        "\n",
        "And for every plot set **figsize**.\n",
        "The graph gives a very different feeling depending on the ratio. (I think it's best to try this heuristic multiple times.)\n",
        "\n",
        "There are many places in matplotlib where you can write **titles** based on objects such as `plt.title ()`, `ax.set_title ()`, `fig.suptitle()`. If you add a title that takes into account font size and font family, fontweight, position, etc., it will be more readable."
      ]
    },
    {
      "metadata": {
        "id": "qcXBRzUW3I3E"
      },
      "cell_type": "markdown",
      "source": [
        "## 1. Alignments\n",
        "\n",
        "> The first nine graph plots (3 by 3) are a combination of matplotlib layout and design.\n",
        "\n",
        "- `subplots`\n",
        "- `subplot2grid`\n",
        "- `add_axes`\n",
        "- `gridspec`, `add_subplot`\n",
        "- `inset_axes`\n",
        "- `make_axes_locatable`\n",
        "\n",
        "Two or more graphs are much more visually and semantically better than just one.\n",
        "\n",
        "The easiest way to do this is to place the rectangles of the same shape.\n",
        "\n",
        "Usually you can start with the initial size with subplots."
      ]
    },
    {
      "metadata": {
        "_uuid": "d629ff2d2480ee46fbb7e2d37f6b5fab8052498a",
        "_cell_guid": "79c7e3d0-c299-4dcb-8224-4455121ee9b0",
        "trusted": true,
        "id": "9f2N5dCG3I3E"
      },
      "cell_type": "code",
      "source": [
        "fig, axes = plt.subplots(2, 3, figsize=(8, 5))\n",
        "plt.show()"
      ],
      "execution_count": null,
      "outputs": []
    },
    {
      "metadata": {
        "id": "FxHTrLci3I3F"
      },
      "cell_type": "markdown",
      "source": [
        "The first of the `plt.subplot()` parameters specifies the number of rows and the second the number of columns.\n",
        "The graph looks a bit frustrating. In this case, you can use `plt.tight_layout()` to solve the frustration."
      ]
    },
    {
      "metadata": {
        "trusted": true,
        "id": "vvkzBlKk3I3F"
      },
      "cell_type": "code",
      "source": [
        "fig, axes = plt.subplots(2, 3, figsize=(8, 5))\n",
        "plt.tight_layout()\n",
        "plt.show()"
      ],
      "execution_count": null,
      "outputs": []
    },
    {
      "metadata": {
        "id": "9shzgy2V3I3G"
      },
      "cell_type": "markdown",
      "source": [
        "But should it be the same size depending on the subplot?\n",
        "For example, bar graphs and pie charts are often very different in ratio.\n",
        "\n",
        "In this case, the layout should be different.\n",
        "\n",
        "In this case, you can easily use the grid system using `plt.subplot2grid`.\n",
        "If you're a ***front-end developer***, it may be easier to understand."
      ]
    },
    {
      "metadata": {
        "trusted": true,
        "id": "_BirHbi_3I3G"
      },
      "cell_type": "code",
      "source": [
        "# with subplot2grid\n",
        "\n",
        "fig = plt.figure(figsize=(8, 5)) # initialize figure\n",
        "\n",
        "ax = [None for _ in range(6)] # list to save many ax for setting parameter in each\n",
        "\n",
        "ax[0] = plt.subplot2grid((3,4), (0,0), colspan=4)\n",
        "ax[1] = plt.subplot2grid((3,4), (1,0), colspan=1)\n",
        "ax[2] = plt.subplot2grid((3,4), (1,1), colspan=1)\n",
        "ax[3] = plt.subplot2grid((3,4), (1,2), colspan=1)\n",
        "ax[4] = plt.subplot2grid((3,4), (1,3), colspan=1,rowspan=2)\n",
        "ax[5] = plt.subplot2grid((3,4), (2,0), colspan=3)\n",
        "\n",
        "\n",
        "for ix in range(6):\n",
        "    ax[ix].set_title('ax[{}]'.format(ix)) # make ax title for distinguish:)\n",
        "    ax[ix].set_xticks([]) # to remove x ticks\n",
        "    ax[ix].set_yticks([]) # to remove y ticks\n",
        "\n",
        "fig.tight_layout()\n",
        "plt.show()"
      ],
      "execution_count": null,
      "outputs": []
    },
    {
      "metadata": {
        "id": "KHA95nOF3I3G"
      },
      "cell_type": "markdown",
      "source": [
        "Alternatively, you can use `plt.add_axes()` to create an ax where you want."
      ]
    },
    {
      "metadata": {
        "trusted": true,
        "id": "xo9jIgQ83I3H"
      },
      "cell_type": "code",
      "source": [
        "fig = plt.figure(figsize=(8, 5))\n",
        "\n",
        "ax = [None for _ in range(3)]\n",
        "\n",
        "\n",
        "ax[0] = fig.add_axes([0.1,0.1,0.8,0.4]) # x, y, dx, dy\n",
        "ax[1] = fig.add_axes([0.15,0.6,0.25,0.6])\n",
        "ax[2] = fig.add_axes([0.5,0.6,0.4,0.3])\n",
        "\n",
        "for ix in range(3):\n",
        "    ax[ix].set_title('ax[{}]'.format(ix))\n",
        "    ax[ix].set_xticks([])\n",
        "    ax[ix].set_yticks([])\n",
        "\n",
        "plt.show()"
      ],
      "execution_count": null,
      "outputs": []
    },
    {
      "metadata": {
        "id": "-ecnIAz83I3H"
      },
      "cell_type": "markdown",
      "source": [
        "Another way is to use gridspec. This allows you to use `add_subplot` together, similar to subplots to grid.\n",
        "\n",
        "This approach allows you to take advantage of the concept of `list` to use a developer-friendly grid."
      ]
    },
    {
      "metadata": {
        "trusted": true,
        "id": "s0gH5ntd3I3H"
      },
      "cell_type": "code",
      "source": [
        "fig = plt.figure(figsize=(8, 5))\n",
        "\n",
        "gs = fig.add_gridspec(3, 3) # make 3 by 3 grid (row, col)\n",
        "\n",
        "ax = [None for _ in range(5)]\n",
        "\n",
        "ax[0] = fig.add_subplot(gs[0, :])\n",
        "ax[0].set_title('gs[0, :]')\n",
        "\n",
        "ax[1] = fig.add_subplot(gs[1, :-1])\n",
        "ax[1].set_title('gs[1, :-1]')\n",
        "\n",
        "ax[2] = fig.add_subplot(gs[1:, -1])\n",
        "ax[2].set_title('gs[1:, -1]')\n",
        "\n",
        "ax[3] = fig.add_subplot(gs[-1, 0])\n",
        "ax[3].set_title('gs[-1, 0]')\n",
        "\n",
        "ax[4] = fig.add_subplot(gs[-1, -2])\n",
        "ax[4].set_title('gs[-1, -2]')\n",
        "\n",
        "for ix in range(5):\n",
        "    ax[ix].set_xticks([])\n",
        "    ax[ix].set_yticks([])\n",
        "\n",
        "plt.tight_layout()\n",
        "plt.show()"
      ],
      "execution_count": null,
      "outputs": []
    },
    {
      "metadata": {
        "id": "8NAJOo_K3I3H"
      },
      "cell_type": "markdown",
      "source": [
        "Here you can change the color of ax or plt itself, such as facecolor, to make it look more dashboard-like."
      ]
    },
    {
      "metadata": {
        "trusted": true,
        "id": "N_w80ycQ3I3H"
      },
      "cell_type": "code",
      "source": [
        "fig, ax = plt.subplots()\n",
        "axin1 = ax.inset_axes([0.8, 0.1, 0.15, 0.15])\n",
        "plt.show()"
      ],
      "execution_count": null,
      "outputs": []
    },
    {
      "metadata": {
        "trusted": true,
        "id": "wXe8m2hG3I3I"
      },
      "cell_type": "code",
      "source": [
        "from mpl_toolkits.axes_grid1.axes_divider import make_axes_locatable\n",
        "\n",
        "fig, ax = plt.subplots(1, 1)\n",
        "ax_divider = make_axes_locatable(ax)\n",
        "\n",
        "ax = ax_divider.append_axes(\"right\", size=\"7%\", pad=\"2%\")\n",
        "plt.show()"
      ],
      "execution_count": null,
      "outputs": []
    },
    {
      "metadata": {
        "id": "OuDeC--x3I3I"
      },
      "cell_type": "markdown",
      "source": [
        "## 2. Colormap\n",
        "\n",
        "> [How to Choose Colors for Your Data Visualizations](https://medium.com/nightingale/how-to-choose-the-colors-for-your-data-visualizations-50b2557fa335)\n",
        "\n",
        "Color is very important in the graph. Of course the matplotlib team has already created a good color palette, and we just need to use it.\n",
        "\n",
        "This time, I'll show you the color palette in matplotlib and which graph to use.\n",
        "\n",
        "- diverging\n",
        "- qualitative\n",
        "- sequential\n",
        "- scientific"
      ]
    },
    {
      "metadata": {
        "id": "jfkAd-6o3I3I"
      },
      "cell_type": "markdown",
      "source": [
        "### Diverging Colormap\n",
        "\n",
        "This colormap is usually used in visualizations where the median is obvious.\n",
        "\n",
        "It is usually visualized on a white background, white in the center, and darker in color toward both ends. In other words, the lighter the value, the closer to the center, the darker, the closer to the end.\n",
        "\n",
        "Useful for **expressing bias**, such as correlation and political disposition.\n",
        "\n",
        "Currently it is a continuous colormap, but you can also use discrete colorpalette depending on the interval.\n",
        "\n",
        "matplotlib loads the library's palette with that element in the `cmap` parameter. You can, of course, make it custom."
      ]
    },
    {
      "metadata": {
        "_kg_hide-input": true,
        "trusted": true,
        "id": "aahZviy43I3I"
      },
      "cell_type": "code",
      "source": [
        "def cmap_plot(cmap_list, ctype):\n",
        "    cmaps = cmap_list\n",
        "\n",
        "    n = len(cmaps)\n",
        "\n",
        "    fig = plt.figure(figsize=(8.25, n*.20), dpi=200)\n",
        "    ax = plt.subplot(1, 1, 1, frameon=False, xlim=[0,10], xticks=[], yticks=[])\n",
        "    fig.subplots_adjust(top=0.99, bottom=0.01, left=0.18, right=0.99)\n",
        "\n",
        "    y, dy, pad = 0, 0.3, 0.08\n",
        "\n",
        "    ticks, labels = [], []\n",
        "\n",
        "    for cmap in cmaps[::-1]:\n",
        "        Z = np.linspace(0,1,512).reshape(1,512)\n",
        "        plt.imshow(Z, extent=[0,10,y,y+dy], cmap=plt.get_cmap(cmap))\n",
        "        ticks.append(y+dy/2)\n",
        "        labels.append(cmap)\n",
        "        y = y + dy + pad\n",
        "\n",
        "    ax.set_ylim(-pad,y)\n",
        "    ax.set_yticks(ticks)\n",
        "    ax.set_yticklabels(labels)\n",
        "\n",
        "    ax.tick_params(axis='y', which='both', length=0, labelsize=5)\n",
        "    plt.title(f'{ctype} Colormap', fontweight='bold', fontsize=8)\n",
        "    plt.show()\n"
      ],
      "execution_count": null,
      "outputs": []
    },
    {
      "metadata": {
        "trusted": true,
        "id": "cMSQ6pMb3I3J"
      },
      "cell_type": "code",
      "source": [
        "# _r mean reverse\n",
        "diverge_cmap = ('PRGn', 'PiYG', 'RdYlGn', 'BrBG', 'RdGy', 'PuOr', 'RdBu', 'RdYlBu',  'Spectral', 'coolwarm_r', 'bwr_r', 'seismic_r')\n",
        "cmap_plot(diverge_cmap, 'Diverging')"
      ],
      "execution_count": null,
      "outputs": []
    },
    {
      "metadata": {
        "id": "YQpQkLko3I3J"
      },
      "cell_type": "markdown",
      "source": [
        "### Qualitative Colormap\n",
        "\n",
        "A palette of independent colors, often used for **categorical variables**.\n",
        "\n",
        "It is recommended to organize up to 10 colors, and to group more and smaller categories with other.\n",
        "\n",
        "Repeating colors can be confusing, so ***try to avoid overlapping as much as possible.*** It's a good idea to change color to color rather than saturation and brightness.\n",
        "\n",
        "Personally, I like `Set2` palette."
      ]
    },
    {
      "metadata": {
        "trusted": true,
        "id": "ps01udHv3I3J"
      },
      "cell_type": "code",
      "source": [
        "qualitative_cmap = ('tab10', 'tab20', 'tab20b', 'tab20c',\n",
        "         'Pastel1', 'Pastel2', 'Paired',\n",
        "         'Set1', 'Set2', 'Set3', 'Accent', 'Dark2' )\n",
        "\n",
        "cmap_plot(qualitative_cmap, 'Qualitative')"
      ],
      "execution_count": null,
      "outputs": []
    },
    {
      "metadata": {
        "id": "_G3fcnvR3I3J"
      },
      "cell_type": "markdown",
      "source": [
        "Personally, I like to use this palette when visualizing after dimension reduction such as t-sne."
      ]
    },
    {
      "metadata": {
        "id": "bzvv5mr23I3J"
      },
      "cell_type": "markdown",
      "source": [
        "### Sequential Colormap\n",
        "\n",
        "This palette is appropriate for variables with **numbers or sorted values**.\n",
        "\n",
        "Used a lot in **comparison** of figures. Especially effective for expressing density. Take advantage of map graphs for better visualization.\n",
        "\n",
        "Similar to diverging, but with a slightly different part because each endpoint is a color criterion, not the median. It usually indicates that light values are dark on dark backgrounds and dark values on light backgrounds.\n",
        "\n",
        "It is recommended to use a single hue for the color.\n",
        "\n",
        "\n",
        "Like diverging, it can also be used in **discrete form**.\n",
        "\n",
        "> `_r` means *'reverse'*."
      ]
    },
    {
      "metadata": {
        "trusted": true,
        "id": "4gh47XOF3I3K"
      },
      "cell_type": "code",
      "source": [
        "sequential_cmap = ('Greys', 'Reds', 'Oranges',\n",
        "         'YlOrBr', 'YlOrRd', 'OrRd', 'PuRd', 'RdPu', 'BuPu',\n",
        "         'Purples', 'YlGnBu', 'Blues', 'PuBu', 'GnBu', 'PuBuGn', 'BuGn',\n",
        "         'Greens', 'YlGn','bone', 'gray', 'pink', 'afmhot', 'hot', 'gist_heat', 'copper',\n",
        "         'Wistia', 'autumn_r', 'summer_r', 'spring_r', 'cool', 'winter_r')\n",
        "\n",
        "cmap_plot(sequential_cmap, 'Sequential')"
      ],
      "execution_count": null,
      "outputs": []
    },
    {
      "metadata": {
        "id": "N7BEsyeT3I3K"
      },
      "cell_type": "markdown",
      "source": [
        "It can be used to give a gradual feeling or to check the emphasis of a particular part.\n",
        "\n",
        "The following visualizations are possible:"
      ]
    },
    {
      "metadata": {
        "_kg_hide-input": true,
        "trusted": true,
        "id": "aTHdOjwE3I3K"
      },
      "cell_type": "code",
      "source": [
        "netflix_date = netflix_titles[['date_added']].dropna()\n",
        "netflix_date['year'] = netflix_date['date_added'].apply(lambda x : x.split(', ')[-1])\n",
        "netflix_date['month'] = netflix_date['date_added'].apply(lambda x : x.lstrip().split(' ')[0])\n",
        "\n",
        "month_order = ['January', 'February', 'March', 'April', 'May', 'June', 'July', 'August', 'September', 'October', 'November', 'December'][::-1]\n",
        "df = netflix_date.groupby('year')['month'].value_counts().unstack().fillna(0)[month_order].T"
      ],
      "execution_count": null,
      "outputs": []
    },
    {
      "metadata": {
        "_kg_hide-input": true,
        "trusted": true,
        "id": "olUdlNFO3I3K"
      },
      "cell_type": "code",
      "source": [
        "plt.figure(figsize=(10, 7), dpi=200)\n",
        "plt.pcolor(df, cmap='gist_heat_r', edgecolors='white', linewidths=2) # heatmap\n",
        "plt.xticks(np.arange(0.5, len(df.columns), 1), df.columns, fontsize=7, fontfamily='serif')\n",
        "plt.yticks(np.arange(0.5, len(df.index), 1), df.index, fontsize=7, fontfamily='serif')\n",
        "\n",
        "plt.title('Netflix Contents Update', fontsize=12, fontfamily='serif', fontweight='bold', position=(0.23, 1.0+0.02))\n",
        "cbar = plt.colorbar()\n",
        "\n",
        "cbar.ax.tick_params(labelsize=8)\n",
        "cbar.ax.minorticks_on()\n",
        "plt.show()"
      ],
      "execution_count": null,
      "outputs": []
    },
    {
      "metadata": {
        "id": "SnZbrCdI3I3K"
      },
      "cell_type": "markdown",
      "source": [
        "### Scientific Colormap\n",
        "\n",
        "I don't know why, but it's used a lot in scientific visualization.\n",
        "It is used as a basic colormap of plotly and has high utilization and relatively professional feel.\n",
        "\n",
        "I've seen it often used in **signal data** like spectrograms when dealing with voice data."
      ]
    },
    {
      "metadata": {
        "trusted": true,
        "id": "7bT7ExjL3I3L"
      },
      "cell_type": "code",
      "source": [
        "scientific_cmap = ('viridis', 'plasma', 'inferno', 'magma')\n",
        "cmap_plot(scientific_cmap, 'Scientific')"
      ],
      "execution_count": null,
      "outputs": []
    },
    {
      "metadata": {
        "id": "ZV7bdLiS3I3L"
      },
      "cell_type": "markdown",
      "source": [
        "## 3. Text & Annotate & Patch\n",
        "\n",
        "Many people often end up with just a picture in the graph, but the detail of the graph comes from the description. Just putting text on a specific part can change the feel of the graph.\n",
        "\n",
        "`ax.text` and `ax.annotate` are almost similar, but each has a different purpose.\n",
        "\n",
        "- In `ax.text`, The `first two numbers` represent the ratio coordinates in the graph.\n",
        "- In `ax.annotate`, `xy` represent the coordinates in the graph.\n",
        "\n",
        "- `va`, `ha` is a parameter that determines whether the current coordinate is the center of the text or the left / right of the text.\n",
        "- `color` stands for color, and you can enter a custom color or rgb value directly.\n",
        "- `bbox` sets an element for the box that wraps the text.\n",
        "    - Internal color (`facecolor`) and edge color(`edgecolor`) can be set separately.\n",
        "    - You can adjust the space by setting `pad`ding like in html.\n",
        "    - You can use the `boxstyle` to adjust the end of the rectangle."
      ]
    },
    {
      "metadata": {
        "trusted": true,
        "id": "DFsQPlH-3I3L"
      },
      "cell_type": "code",
      "source": [
        "fig, ax = plt.subplots(figsize=(5, 5), dpi=100)\n",
        "\n",
        "## Gray Box\n",
        "ax.text(0.1, 0.9, 'Test', color='gray', va=\"center\", ha=\"center\")\n",
        "\n",
        "## Red Box\n",
        "ax.text(0.3, 0.7, 'Test', color='red', va=\"center\", ha=\"center\",\n",
        "        bbox=dict(facecolor='none', edgecolor='red'))\n",
        "\n",
        "## Blue Box\n",
        "ax.text(0.5, 0.5, 'Test', color='blue', va=\"center\", ha=\"center\",\n",
        "        bbox=dict(facecolor='none', edgecolor='blue', pad=10.0))\n",
        "\n",
        "# Green Box\n",
        "ax.text(0.7, 0.3, 'Test', color='green', va=\"center\", ha=\"center\",\n",
        "        bbox=dict(facecolor='none', edgecolor='green', boxstyle='round'))\n",
        "\n",
        "# Black\n",
        "ax.text(0.9, 0.1, 'Test', color='black', va=\"center\", ha=\"center\",\n",
        "        bbox=dict(facecolor='none', edgecolor='black', boxstyle='round, pad=0.5'))\n",
        "\n",
        "ax.set_xticks([])\n",
        "ax.set_yticks([])\n",
        "\n",
        "plt.show()"
      ],
      "execution_count": null,
      "outputs": []
    },
    {
      "metadata": {
        "id": "PZAICfo73I3L"
      },
      "cell_type": "markdown",
      "source": [
        "Using a patch with text is more effective.\n",
        "\n",
        "Except for path patches, they are provided by default, so you can use them well.\n",
        "\n",
        "**Arrow is especially effective.**"
      ]
    },
    {
      "metadata": {
        "trusted": true,
        "id": "USQwO6wF3I3L"
      },
      "cell_type": "code",
      "source": [
        "import matplotlib.path as mpath\n",
        "import matplotlib.lines as mlines\n",
        "import matplotlib.patches as mpatches\n",
        "from matplotlib.collections import PatchCollection\n",
        "\n",
        "\n",
        "def label(xy, text):\n",
        "    y = xy[1] - 0.15  # shift y-value for label so that it's below the artist\n",
        "    plt.text(xy[0], y, text, ha=\"center\", family='sans-serif', size=14)\n",
        "\n",
        "\n",
        "fig, ax = plt.subplots()\n",
        "# create 3x3 grid to plot the artists\n",
        "grid = np.mgrid[0.2:0.8:3j, 0.2:0.8:3j].reshape(2, -1).T\n",
        "\n",
        "patches = []\n",
        "\n",
        "# add a circle\n",
        "circle = mpatches.Circle(grid[0], 0.1, ec=\"none\")\n",
        "patches.append(circle)\n",
        "label(grid[0], \"Circle\")\n",
        "\n",
        "# add a rectangle\n",
        "rect = mpatches.Rectangle(grid[1] - [0.025, 0.05], 0.05, 0.1, ec=\"none\")\n",
        "patches.append(rect)\n",
        "label(grid[1], \"Rectangle\")\n",
        "\n",
        "# add a wedge\n",
        "wedge = mpatches.Wedge(grid[2], 0.1, 30, 270, ec=\"none\")\n",
        "patches.append(wedge)\n",
        "label(grid[2], \"Wedge\")\n",
        "\n",
        "# add a Polygon\n",
        "polygon = mpatches.RegularPolygon(grid[3], 5, 0.1)\n",
        "patches.append(polygon)\n",
        "label(grid[3], \"Polygon\")\n",
        "\n",
        "# add an ellipse\n",
        "ellipse = mpatches.Ellipse(grid[4], 0.2, 0.1)\n",
        "patches.append(ellipse)\n",
        "label(grid[4], \"Ellipse\")\n",
        "\n",
        "# add an arrow\n",
        "arrow = mpatches.Arrow(grid[5, 0] - 0.05, grid[5, 1] - 0.05, 0.1, 0.1,\n",
        "                       width=0.1)\n",
        "patches.append(arrow)\n",
        "label(grid[5], \"Arrow\")\n",
        "\n",
        "# add a path patch\n",
        "Path = mpath.Path\n",
        "path_data = [\n",
        "    (Path.MOVETO, [0.018, -0.11]),\n",
        "    (Path.CURVE4, [-0.031, -0.051]),\n",
        "    (Path.CURVE4, [-0.115, 0.073]),\n",
        "    (Path.CURVE4, [-0.03, 0.073]),\n",
        "    (Path.LINETO, [-0.011, 0.039]),\n",
        "    (Path.CURVE4, [0.043, 0.121]),\n",
        "    (Path.CURVE4, [0.075, -0.005]),\n",
        "    (Path.CURVE4, [0.035, -0.027]),\n",
        "    (Path.CLOSEPOLY, [0.018, -0.11])]\n",
        "codes, verts = zip(*path_data)\n",
        "path = mpath.Path(verts + grid[6], codes)\n",
        "patch = mpatches.PathPatch(path)\n",
        "patches.append(patch)\n",
        "label(grid[6], \"PathPatch\")\n",
        "\n",
        "# add a fancy box\n",
        "fancybox = mpatches.FancyBboxPatch(\n",
        "    grid[7] - [0.025, 0.05], 0.05, 0.1,\n",
        "    boxstyle=mpatches.BoxStyle(\"Round\", pad=0.02))\n",
        "patches.append(fancybox)\n",
        "label(grid[7], \"FancyBboxPatch\")\n",
        "\n",
        "# add a line\n",
        "x, y = np.array([[-0.06, 0.0, 0.1], [0.05, -0.05, 0.05]])\n",
        "line = mlines.Line2D(x + grid[8, 0], y + grid[8, 1], lw=5., alpha=0.3)\n",
        "label(grid[8], \"Line2D\")\n",
        "\n",
        "colors = np.linspace(0, 1, len(patches))\n",
        "collection = PatchCollection(patches, cmap=plt.cm.hsv, alpha=0.3)\n",
        "collection.set_array(np.array(colors))\n",
        "ax.add_collection(collection)\n",
        "ax.add_line(line)\n",
        "\n",
        "plt.axis('equal')\n",
        "plt.axis('off')\n",
        "plt.tight_layout()\n",
        "\n",
        "plt.show()"
      ],
      "execution_count": null,
      "outputs": []
    },
    {
      "metadata": {
        "id": "8K0VuG973I3M"
      },
      "cell_type": "markdown",
      "source": [
        "## 4. Details & Examples\n",
        "\n",
        "In the plot you can make various settings.\n",
        "\n",
        "> Of course, adding the text or annotate mentioned above is a good idea.\n",
        "\n",
        "**You can set the following details:**\n",
        "\n",
        "- Horizontal and Vertical (barplot)\n",
        "- Border(edge) color and thickness\n",
        "- Main Color & Sub Color\n",
        "- Transparency\n",
        "- Span\n",
        "\n",
        "### Font Weight, Color, Family, Size ...\n",
        "\n",
        "I usually set the details in font weight and size. It is good because it is easy to see just by setting it to bold. Also, if the size of the text is too big or too small, the proportions are strange.\n",
        "\n",
        "The fonts do not vary, but the difference between serifs and sans serifs can make a difference.\n",
        "\n",
        "The **Tex** syntax is also applicable, so use that as well.\n",
        "\n",
        "- **keyword** : `fontsize`, `color`, `fontweight`, `fontfamily`\n",
        "\n",
        "### Horizontal keyboard & Vertical (barplot)\n",
        "\n",
        "In general, when the number of x-axes is large, the **readability** of the barplot is significantly lower.\n",
        "\n",
        "For example, seaborn's `countplot` often overlaps the x-axis and often makes it less readable.\n",
        "\n",
        "This is due to the fact that in a notebook environment, the width is the length of the monitor.\n",
        "\n",
        "So in this case, you can place the graph vertically so that the axes are well read and the graph is easier to read."
      ]
    },
    {
      "metadata": {
        "id": "e1T8kG9m3I3M"
      },
      "cell_type": "markdown",
      "source": [
        "### Border(Edge) Color & Thickness (Width)\n",
        "\n",
        "The point is to make the graph more readable by **drawing separate borders** than simply drawing the graph.\n",
        "\n",
        "There are many examples of drawing the borders of graphs in R notebooks, so it's good to refer to those parts as well.\n",
        "\n",
        "Borders are a good tool because people focus on color, shape, and contrast.\n",
        "\n",
        "The border lines should be solid color or the main color series of the graph, and it is better to make the distinction by adjusting the **transparency or brightness**."
      ]
    },
    {
      "metadata": {
        "id": "HYFOnALA3I3S"
      },
      "cell_type": "markdown",
      "source": [
        "### Main Color & Sub Color\n",
        "\n",
        "If you draw a plot of seaborn, it is displayed in various colors by default. You can draw various colorful graphs while changing the palette.\n",
        "\n",
        "But basically, the visualization should focus on information, so it's not always nice to have a colorful plot.\n",
        "\n",
        "Rather, think about what data you want to focus on.\n",
        "It is better to make a difference between the main color with **strong color** and the sub color of **achromatic color** system.\n",
        "\n",
        "Alternatively, it is a good idea to choose the palette according to the application mentioned above.\n",
        "\n",
        "In the case of a colormap, you can ***select a palette or pass it to a list***, so it is convenient to pass it to a list when highlighting a specific part."
      ]
    },
    {
      "metadata": {
        "_kg_hide-input": true,
        "trusted": true,
        "id": "_SoWOBE73I3T"
      },
      "cell_type": "code",
      "source": [
        "from matplotlib.ticker import FuncFormatter\n",
        "def age_band(num):\n",
        "    for i in range(1, 100):\n",
        "        if num < 10*i :\n",
        "            return f'under {i*10}'\n",
        "\n",
        "titanic_train = pd.read_csv(\"../input/titanic/train.csv\")\n",
        "titanic_train['age_band'] = titanic_train['Age'].apply(age_band)\n",
        "titanic_age = titanic_train[['age_band', 'Survived']].groupby('age_band')['Survived'].value_counts().sort_index().unstack().fillna(0)\n",
        "\n",
        "titanic_age['Survival rate'] = titanic_age[1] / (titanic_age[0] + titanic_age[1]) * 100\n",
        "\n",
        "fig, ax = plt.subplots(1, 2, figsize=(18, 7), dpi=300)\n",
        "\n",
        "# ax1\n",
        "ax[0].bar(titanic_age['Survival rate'].index, titanic_age['Survival rate'], color='gray')\n",
        "ax[0].set_title('Age Band & Survival Rate(Before)')\n",
        "\n",
        "# ax2\n",
        "color_map = ['gray' for _ in range(9)]\n",
        "color_map[0] = color_map[8] = '#3caea3'\n",
        "ax[1].bar(titanic_age['Survival rate'].index, titanic_age['Survival rate'], alpha=0.7, color=color_map, width=0.6, edgecolor='black', linewidth=1.2)\n",
        "ax[1].set_title('Age Band & Survival Rate(After)', fontsize=15, fontweight='bold', position=(0.25, 1.0+0.05))\n",
        "for i in titanic_age['Survival rate'].index:\n",
        "    ax[1].annotate(f\"{titanic_age['Survival rate'][i]:.02f}%\",\n",
        "                   xy=(i, titanic_age['Survival rate'][i] + 2),\n",
        "                   va = 'center', ha='center',fontweight='bold', color='#383838'\n",
        "                  )\n",
        "\n",
        "ax[1].yaxis.set_major_formatter(FuncFormatter(lambda y, _: f'{y:}%'))\n",
        "plt.suptitle('* Focus on survival rates for young and old', x=0.65, y=0.94, color='gray')\n",
        "plt.subplots_adjust(left=0.5, right=0.8)\n",
        "plt.tight_layout()\n",
        "plt.show()"
      ],
      "execution_count": null,
      "outputs": []
    },
    {
      "metadata": {
        "id": "wn-aMegs3I3T"
      },
      "cell_type": "markdown",
      "source": [
        "### Transparency\n",
        "\n",
        "I told you to use transparency above, but transparency is a great tool.\n",
        "\n",
        "Scatter plots also contain important points with many **overlapping** points. That's why it's important to know the overlapping data by adjusting transparency.\n",
        "\n",
        "When **comparing** lineplots or barplots, placing two or more plots together using transparency allows you to hold comparison information.\n",
        "\n",
        "If you add transparency to the graph, you can complete the graph with refined colors.\n",
        "\n",
        "- `alpha` : Parameter name of normal transparency setting"
      ]
    },
    {
      "metadata": {
        "trusted": true,
        "_kg_hide-input": true,
        "id": "UsfoomRy3I3T"
      },
      "cell_type": "code",
      "source": [
        "import seaborn as sns\n",
        "exam_data = pd.read_csv(\"../input/students-performance-in-exams/StudentsPerformance.csv\")\n",
        "fig, ax = plt.subplots(1, 2, figsize = (15, 7), dpi=150)\n",
        "\n",
        "ax[0].scatter(x='math score', y='reading score',data=exam_data, color='gray')\n",
        "ax[0].set_title('Before')\n",
        "\n",
        "# You can use sns.scatterplot + hue parameter\n",
        "ax[1].scatter(x='math score', y='reading score',data=exam_data[exam_data['gender']=='male'], color='skyblue', alpha=0.5, label='Male', s=70)\n",
        "ax[1].scatter(x='math score', y='reading score',data=exam_data[exam_data['gender']=='female'], color='salmon', alpha=0.5, label='Female', s=70)\n",
        "ax[1].set_title('After', fontsize=15, fontweight='bold')\n",
        "\n",
        "ax[1].legend()\n",
        "\n",
        "# upper & right border remove\n",
        "plt.gca().spines['top'].set_visible(False)\n",
        "plt.gca().spines['right'].set_visible(False)\n",
        "plt.show()"
      ],
      "execution_count": null,
      "outputs": []
    },
    {
      "metadata": {
        "id": "sP2z1-aB3I3T"
      },
      "cell_type": "markdown",
      "source": [
        "### Span\n",
        "\n",
        "Good division is enough to give points. Zoning can be added for a variety of reasons, depending on the content or to classify units.\n",
        "\n",
        "- `axvspan` : vertical span\n",
        "- `axhspan` : horizontal span\n",
        "\n",
        "you can set color, alpha(transparency), range, etc"
      ]
    },
    {
      "metadata": {
        "_kg_hide-input": true,
        "trusted": true,
        "id": "xf7xTytt3I3U"
      },
      "cell_type": "code",
      "source": [
        "# preprocessing\n",
        "sns.set_style('whitegrid') # plot with grid\n",
        "\n",
        "movie = netflix_titles[netflix_titles['type'] == 'Movie']\n",
        "rating_order =  ['G', 'TV-Y', 'TV-G', 'PG', 'TV-Y7', 'TV-Y7-FV', 'TV-PG', 'PG-13', 'TV-14', 'R', 'NC-17', 'TV-MA']\n",
        "movie_rating = movie['rating'].value_counts()[rating_order]"
      ],
      "execution_count": null,
      "outputs": []
    },
    {
      "metadata": {
        "trusted": true,
        "_kg_hide-input": true,
        "id": "atL-9fyH3I3U"
      },
      "cell_type": "code",
      "source": [
        "fig, ax = plt.subplots(1, 1, figsize=(14, 7), dpi=200)\n",
        "ax.bar(movie_rating.index, movie_rating,  color=\"#d0d0d0\", width=0.6, edgecolor='black')\n",
        "ax.set_title(f'Distribution of Movie Rating (Before)', fontweight='bold')\n",
        "plt.show()"
      ],
      "execution_count": null,
      "outputs": []
    },
    {
      "metadata": {
        "id": "wodb7FDj3I3U"
      },
      "cell_type": "markdown",
      "source": [
        "If you just use span and add text, you can change it as follows.\n",
        "(The title bold processing is below.)"
      ]
    },
    {
      "metadata": {
        "_kg_hide-input": true,
        "trusted": true,
        "id": "FJKqx-ct3I3U"
      },
      "cell_type": "code",
      "source": [
        "# original code : https://www.kaggle.com/subinium/storytelling-with-data-netflix-ver\n",
        "\n",
        "\n",
        "def rating_barplot(data, title, height, h_lim=None):\n",
        "    fig, ax = plt.subplots(1,1, figsize=(14, 7), dpi=200)\n",
        "    if h_lim :\n",
        "        ax.set_ylim(0, h_lim)\n",
        "    ax.bar(data.index, data,  color=\"#e0e0e0\", width=0.52, edgecolor='black')\n",
        "\n",
        "    color =  ['green',  'blue',  'orange',  'red']\n",
        "    span_range = [[0, 2], [3,  6], [7, 8], [9, 11]]\n",
        "\n",
        "    for idx, sub_title in enumerate(['Little Kids', 'Older Kids', 'Teens', 'Mature']):\n",
        "        ax.annotate(sub_title,\n",
        "                    xy=(sum(span_range[idx])/2 ,height),\n",
        "                    xytext=(0,0), textcoords='offset points',\n",
        "                    va=\"center\", ha=\"center\",\n",
        "                    color=\"w\", fontsize=16, fontweight='bold',\n",
        "                    bbox=dict(boxstyle='round4', pad=0.4, color=color[idx], alpha=0.6))\n",
        "        ax.axvspan(span_range[idx][0]-0.4,span_range[idx][1]+0.4,  color=color[idx], alpha=0.07)\n",
        "    ax.set_title(f'Distribution of {title} Rating (After)', fontsize=15, fontweight='bold', position=(0.20, 1.0+0.03))\n",
        "    plt.show()\n",
        "\n",
        "\n",
        "\n",
        "rating_barplot(movie_rating,'Movie', 1200, 1400)"
      ],
      "execution_count": null,
      "outputs": []
    },
    {
      "metadata": {
        "id": "jiMvQVdW3I3V"
      },
      "cell_type": "markdown",
      "source": [
        "## MEME : xkcd theme\n",
        "\n",
        "- [xkcd](https://xkcd.com/) : Webcomic for Geeks\n",
        "\n",
        "> Depending on the current kaggle and version, the font is broken, but you can draw a graph like this:"
      ]
    },
    {
      "metadata": {
        "_kg_hide-input": true,
        "trusted": true,
        "id": "UGz_PbCN3I3V"
      },
      "cell_type": "code",
      "source": [
        "import matplotlib\n",
        "matplotlib.font_manager._rebuild()\n",
        "with plt.xkcd():\n",
        "    # Based on \"Stove Ownership\" from XKCD by Randall Munroe\n",
        "    # https://xkcd.com/418/\n",
        "\n",
        "    fig = plt.figure()\n",
        "    ax = fig.add_axes((0.1, 0.2, 0.8, 0.7))\n",
        "    ax.spines['right'].set_color('none')\n",
        "    ax.spines['top'].set_color('none')\n",
        "    ax.set_xticks([])\n",
        "    ax.set_yticks([])\n",
        "    ax.set_ylim([-30, 10])\n",
        "\n",
        "    data = np.ones(100)\n",
        "    data[70:] -= np.arange(30)\n",
        "\n",
        "    ax.annotate(\n",
        "        'THE DAY I REALIZED\\nI COULD COOK BACON\\nWHENEVER I WANTED',\n",
        "        xy=(70, 1), arrowprops=dict(arrowstyle='->'), xytext=(15, -10))\n",
        "\n",
        "    ax.plot(data)\n",
        "\n",
        "    ax.set_xlabel('time')\n",
        "    ax.set_ylabel('my overall health')\n",
        "    fig.text(\n",
        "        0.5, 0.05,\n",
        "        '\"Stove Ownership\" from xkcd by Randall Munroe',\n",
        "        ha='center')"
      ],
      "execution_count": null,
      "outputs": []
    },
    {
      "metadata": {
        "_kg_hide-input": true,
        "trusted": true,
        "id": "ZpiC6M8l3I3V"
      },
      "cell_type": "code",
      "source": [
        "with plt.xkcd():\n",
        "    # Based on \"The Data So Far\" from XKCD by Randall Munroe\n",
        "    # https://xkcd.com/373/\n",
        "\n",
        "    fig = plt.figure()\n",
        "    ax = fig.add_axes((0.1, 0.2, 0.8, 0.7))\n",
        "    ax.bar([0, 1], [0, 100], 0.25)\n",
        "    ax.spines['right'].set_color('none')\n",
        "    ax.spines['top'].set_color('none')\n",
        "    ax.xaxis.set_ticks_position('bottom')\n",
        "    ax.set_xticks([0, 1])\n",
        "    ax.set_xticklabels(['CONFIRMED BY\\nEXPERIMENT', 'REFUTED BY\\nEXPERIMENT'])\n",
        "    ax.set_xlim([-0.5, 1.5])\n",
        "    ax.set_yticks([])\n",
        "    ax.set_ylim([0, 110])\n",
        "\n",
        "    ax.set_title(\"CLAIMS OF SUPERNATURAL POWERS\")\n",
        "\n",
        "    fig.text(\n",
        "        0.5, -0.05,\n",
        "        '\"The Data So Far\" from xkcd by Randall Munroe',\n",
        "        ha='center')\n",
        "\n",
        "plt.show()"
      ],
      "execution_count": null,
      "outputs": []
    },
    {
      "metadata": {
        "id": "LSlGmqcT3I3V"
      },
      "cell_type": "markdown",
      "source": [
        "> I am writing a book in Korea for [Data Visualization Using Python Library]. I'll be writing books soon and sharing example kernels, so look forward to it."
      ]
    }
  ],
  "metadata": {
    "kernelspec": {
      "language": "python",
      "display_name": "Python 3",
      "name": "python3"
    },
    "language_info": {
      "pygments_lexer": "ipython3",
      "nbconvert_exporter": "python",
      "version": "3.6.4",
      "file_extension": ".py",
      "codemirror_mode": {
        "name": "ipython",
        "version": 3
      },
      "name": "python",
      "mimetype": "text/x-python"
    },
    "colab": {
      "name": "Simple Matplotlib & Visualization Tips 💡",
      "provenance": [],
      "include_colab_link": true
    }
  },
  "nbformat": 4,
  "nbformat_minor": 0
}