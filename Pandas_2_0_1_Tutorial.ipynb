{
  "metadata": {
    "kernelspec": {
      "name": "python3",
      "display_name": "Python 3",
      "language": "python"
    },
    "language_info": {
      "name": "python",
      "version": "3.10.12",
      "mimetype": "text/x-python",
      "codemirror_mode": {
        "name": "ipython",
        "version": 3
      },
      "pygments_lexer": "ipython3",
      "nbconvert_exporter": "python",
      "file_extension": ".py"
    },
    "kaggle": {
      "accelerator": "none",
      "dataSources": [
        {
          "sourceId": 4295427,
          "sourceType": "datasetVersion",
          "datasetId": 2529204
        }
      ],
      "dockerImageVersionId": 30553,
      "isInternetEnabled": false,
      "language": "python",
      "sourceType": "notebook",
      "isGpuEnabled": false
    },
    "colab": {
      "name": "Pandas 2.0.1 Tutorial",
      "provenance": []
    }
  },
  "nbformat_minor": 0,
  "nbformat": 4,
  "cells": [
    {
      "source": [
        "# IMPORTANT: RUN THIS CELL IN ORDER TO IMPORT YOUR KAGGLE DATA SOURCES,\n",
        "# THEN FEEL FREE TO DELETE THIS CELL.\n",
        "# NOTE: THIS NOTEBOOK ENVIRONMENT DIFFERS FROM KAGGLE'S PYTHON\n",
        "# ENVIRONMENT SO THERE MAY BE MISSING LIBRARIES USED BY YOUR\n",
        "# NOTEBOOK.\n",
        "import kagglehub\n",
        "robikscube_flight_delay_dataset_20182022_path = kagglehub.dataset_download('robikscube/flight-delay-dataset-20182022')\n",
        "\n",
        "print('Data source import complete.')\n"
      ],
      "metadata": {
        "id": "C1GGUr94q-k9"
      },
      "cell_type": "code",
      "outputs": [],
      "execution_count": null
    },
    {
      "cell_type": "code",
      "source": [
        "import pandas as pd\n",
        "import sys\n",
        "print(sys.version)\n",
        "print('pandas version', pd.__version__)"
      ],
      "metadata": {
        "execution": {
          "iopub.status.busy": "2025-08-10T02:18:34.762269Z",
          "iopub.execute_input": "2025-08-10T02:18:34.762575Z",
          "iopub.status.idle": "2025-08-10T02:18:34.774305Z",
          "shell.execute_reply.started": "2025-08-10T02:18:34.762546Z",
          "shell.execute_reply": "2025-08-10T02:18:34.773012Z"
        },
        "trusted": true,
        "id": "yPFvl5m8q-lA",
        "outputId": "c7fae4ff-7626-4191-a47b-111877d22b87"
      },
      "outputs": [
        {
          "name": "stdout",
          "text": "3.10.12 | packaged by conda-forge | (main, Jun 23 2023, 22:40:32) [GCC 12.3.0]\npandas version 2.0.3\n",
          "output_type": "stream"
        }
      ],
      "execution_count": null
    },
    {
      "cell_type": "markdown",
      "source": [
        "## Reading from files"
      ],
      "metadata": {
        "id": "PB0ybo6sq-lB"
      }
    },
    {
      "cell_type": "code",
      "source": [
        "df = pd.read_parquet(\"/kaggle/input/flight-delay-dataset-20182022/Combined_Flights_2022.parquet\")"
      ],
      "metadata": {
        "tags": [],
        "trusted": true,
        "execution": {
          "iopub.status.busy": "2025-08-10T02:18:37.961886Z",
          "iopub.execute_input": "2025-08-10T02:18:37.962966Z",
          "iopub.status.idle": "2025-08-10T02:18:42.102259Z",
          "shell.execute_reply.started": "2025-08-10T02:18:37.962926Z",
          "shell.execute_reply": "2025-08-10T02:18:42.101269Z"
        },
        "id": "YZNF77dRq-lC"
      },
      "outputs": [],
      "execution_count": null
    },
    {
      "cell_type": "code",
      "source": [
        "df.head()"
      ],
      "metadata": {
        "trusted": true,
        "execution": {
          "iopub.status.busy": "2025-08-10T02:18:45.149857Z",
          "iopub.execute_input": "2025-08-10T02:18:45.15098Z",
          "iopub.status.idle": "2025-08-10T02:18:45.190064Z",
          "shell.execute_reply.started": "2025-08-10T02:18:45.150938Z",
          "shell.execute_reply": "2025-08-10T02:18:45.188857Z"
        },
        "id": "u8_LtGpmq-lD",
        "outputId": "aa15923a-6449-4525-d063-e73f6bff1992"
      },
      "outputs": [
        {
          "execution_count": 9,
          "output_type": "execute_result",
          "data": {
            "text/plain": "  FlightDate                                    Airline Origin Dest  \\\n0 2022-04-04  Commutair Aka Champlain Enterprises, Inc.    GJT  DEN   \n1 2022-04-04  Commutair Aka Champlain Enterprises, Inc.    HRL  IAH   \n2 2022-04-04  Commutair Aka Champlain Enterprises, Inc.    DRO  DEN   \n3 2022-04-04  Commutair Aka Champlain Enterprises, Inc.    IAH  GPT   \n4 2022-04-04  Commutair Aka Champlain Enterprises, Inc.    DRO  DEN   \n\n   Cancelled  Diverted  CRSDepTime  DepTime  DepDelayMinutes  DepDelay  ...  \\\n0      False     False        1133   1123.0              0.0     -10.0  ...   \n1      False     False         732    728.0              0.0      -4.0  ...   \n2      False     False        1529   1514.0              0.0     -15.0  ...   \n3      False     False        1435   1430.0              0.0      -5.0  ...   \n4      False     False        1135   1135.0              0.0       0.0  ...   \n\n   WheelsOff  WheelsOn  TaxiIn  CRSArrTime  ArrDelay  ArrDel15  \\\n0     1140.0    1220.0     8.0        1245     -17.0       0.0   \n1      744.0     839.0     9.0         849      -1.0       0.0   \n2     1535.0    1622.0    14.0        1639      -3.0       0.0   \n3     1446.0    1543.0     4.0        1605     -18.0       0.0   \n4     1154.0    1243.0     8.0        1245       6.0       0.0   \n\n   ArrivalDelayGroups  ArrTimeBlk  DistanceGroup  DivAirportLandings  \n0                -2.0   1200-1259              1                   0  \n1                -1.0   0800-0859              2                   0  \n2                -1.0   1600-1659              2                   0  \n3                -2.0   1600-1659              2                   0  \n4                 0.0   1200-1259              2                   0  \n\n[5 rows x 61 columns]",
            "text/html": "<div>\n<style scoped>\n    .dataframe tbody tr th:only-of-type {\n        vertical-align: middle;\n    }\n\n    .dataframe tbody tr th {\n        vertical-align: top;\n    }\n\n    .dataframe thead th {\n        text-align: right;\n    }\n</style>\n<table border=\"1\" class=\"dataframe\">\n  <thead>\n    <tr style=\"text-align: right;\">\n      <th></th>\n      <th>FlightDate</th>\n      <th>Airline</th>\n      <th>Origin</th>\n      <th>Dest</th>\n      <th>Cancelled</th>\n      <th>Diverted</th>\n      <th>CRSDepTime</th>\n      <th>DepTime</th>\n      <th>DepDelayMinutes</th>\n      <th>DepDelay</th>\n      <th>...</th>\n      <th>WheelsOff</th>\n      <th>WheelsOn</th>\n      <th>TaxiIn</th>\n      <th>CRSArrTime</th>\n      <th>ArrDelay</th>\n      <th>ArrDel15</th>\n      <th>ArrivalDelayGroups</th>\n      <th>ArrTimeBlk</th>\n      <th>DistanceGroup</th>\n      <th>DivAirportLandings</th>\n    </tr>\n  </thead>\n  <tbody>\n    <tr>\n      <th>0</th>\n      <td>2022-04-04</td>\n      <td>Commutair Aka Champlain Enterprises, Inc.</td>\n      <td>GJT</td>\n      <td>DEN</td>\n      <td>False</td>\n      <td>False</td>\n      <td>1133</td>\n      <td>1123.0</td>\n      <td>0.0</td>\n      <td>-10.0</td>\n      <td>...</td>\n      <td>1140.0</td>\n      <td>1220.0</td>\n      <td>8.0</td>\n      <td>1245</td>\n      <td>-17.0</td>\n      <td>0.0</td>\n      <td>-2.0</td>\n      <td>1200-1259</td>\n      <td>1</td>\n      <td>0</td>\n    </tr>\n    <tr>\n      <th>1</th>\n      <td>2022-04-04</td>\n      <td>Commutair Aka Champlain Enterprises, Inc.</td>\n      <td>HRL</td>\n      <td>IAH</td>\n      <td>False</td>\n      <td>False</td>\n      <td>732</td>\n      <td>728.0</td>\n      <td>0.0</td>\n      <td>-4.0</td>\n      <td>...</td>\n      <td>744.0</td>\n      <td>839.0</td>\n      <td>9.0</td>\n      <td>849</td>\n      <td>-1.0</td>\n      <td>0.0</td>\n      <td>-1.0</td>\n      <td>0800-0859</td>\n      <td>2</td>\n      <td>0</td>\n    </tr>\n    <tr>\n      <th>2</th>\n      <td>2022-04-04</td>\n      <td>Commutair Aka Champlain Enterprises, Inc.</td>\n      <td>DRO</td>\n      <td>DEN</td>\n      <td>False</td>\n      <td>False</td>\n      <td>1529</td>\n      <td>1514.0</td>\n      <td>0.0</td>\n      <td>-15.0</td>\n      <td>...</td>\n      <td>1535.0</td>\n      <td>1622.0</td>\n      <td>14.0</td>\n      <td>1639</td>\n      <td>-3.0</td>\n      <td>0.0</td>\n      <td>-1.0</td>\n      <td>1600-1659</td>\n      <td>2</td>\n      <td>0</td>\n    </tr>\n    <tr>\n      <th>3</th>\n      <td>2022-04-04</td>\n      <td>Commutair Aka Champlain Enterprises, Inc.</td>\n      <td>IAH</td>\n      <td>GPT</td>\n      <td>False</td>\n      <td>False</td>\n      <td>1435</td>\n      <td>1430.0</td>\n      <td>0.0</td>\n      <td>-5.0</td>\n      <td>...</td>\n      <td>1446.0</td>\n      <td>1543.0</td>\n      <td>4.0</td>\n      <td>1605</td>\n      <td>-18.0</td>\n      <td>0.0</td>\n      <td>-2.0</td>\n      <td>1600-1659</td>\n      <td>2</td>\n      <td>0</td>\n    </tr>\n    <tr>\n      <th>4</th>\n      <td>2022-04-04</td>\n      <td>Commutair Aka Champlain Enterprises, Inc.</td>\n      <td>DRO</td>\n      <td>DEN</td>\n      <td>False</td>\n      <td>False</td>\n      <td>1135</td>\n      <td>1135.0</td>\n      <td>0.0</td>\n      <td>0.0</td>\n      <td>...</td>\n      <td>1154.0</td>\n      <td>1243.0</td>\n      <td>8.0</td>\n      <td>1245</td>\n      <td>6.0</td>\n      <td>0.0</td>\n      <td>0.0</td>\n      <td>1200-1259</td>\n      <td>2</td>\n      <td>0</td>\n    </tr>\n  </tbody>\n</table>\n<p>5 rows × 61 columns</p>\n</div>"
          },
          "metadata": {}
        }
      ],
      "execution_count": null
    },
    {
      "cell_type": "code",
      "source": [
        "df.shape"
      ],
      "metadata": {
        "trusted": true,
        "execution": {
          "iopub.status.busy": "2025-08-10T02:25:54.658173Z",
          "iopub.execute_input": "2025-08-10T02:25:54.658707Z",
          "iopub.status.idle": "2025-08-10T02:25:54.667533Z",
          "shell.execute_reply.started": "2025-08-10T02:25:54.658643Z",
          "shell.execute_reply": "2025-08-10T02:25:54.666104Z"
        },
        "id": "boqad2kiq-lD",
        "outputId": "305c49fe-a8d4-4821-8fcb-f791bae7e47e"
      },
      "outputs": [
        {
          "execution_count": 14,
          "output_type": "execute_result",
          "data": {
            "text/plain": "(4078318, 61)"
          },
          "metadata": {}
        }
      ],
      "execution_count": null
    },
    {
      "cell_type": "markdown",
      "source": [
        "## Writing to files"
      ],
      "metadata": {
        "id": "MYaJklenq-lE"
      }
    },
    {
      "cell_type": "code",
      "source": [
        "df.to_csv(\"/kaggle/working/Combined_Flights_2022.csv\", index=False)"
      ],
      "metadata": {
        "execution": {
          "iopub.status.busy": "2025-08-10T02:21:18.640162Z",
          "iopub.execute_input": "2025-08-10T02:21:18.640604Z",
          "iopub.status.idle": "2025-08-10T02:23:02.926441Z",
          "shell.execute_reply.started": "2025-08-10T02:21:18.640574Z",
          "shell.execute_reply": "2025-08-10T02:23:02.925099Z"
        },
        "trusted": true,
        "id": "8mYcedpuq-lF"
      },
      "outputs": [],
      "execution_count": null
    },
    {
      "cell_type": "markdown",
      "source": [
        "## Dataframe basics"
      ],
      "metadata": {
        "id": "9T_1f4MWq-lG"
      }
    },
    {
      "cell_type": "code",
      "source": [
        "df.head()"
      ],
      "metadata": {
        "trusted": true,
        "execution": {
          "iopub.status.busy": "2025-08-10T02:23:38.099222Z",
          "iopub.execute_input": "2025-08-10T02:23:38.099642Z",
          "iopub.status.idle": "2025-08-10T02:23:38.125738Z",
          "shell.execute_reply.started": "2025-08-10T02:23:38.099614Z",
          "shell.execute_reply": "2025-08-10T02:23:38.124421Z"
        },
        "id": "t5WZ5RX2q-lG",
        "outputId": "0b0c7b71-70fa-4d91-8216-c34f670a544f"
      },
      "outputs": [
        {
          "execution_count": 11,
          "output_type": "execute_result",
          "data": {
            "text/plain": "  FlightDate                                    Airline Origin Dest  \\\n0 2022-04-04  Commutair Aka Champlain Enterprises, Inc.    GJT  DEN   \n1 2022-04-04  Commutair Aka Champlain Enterprises, Inc.    HRL  IAH   \n2 2022-04-04  Commutair Aka Champlain Enterprises, Inc.    DRO  DEN   \n3 2022-04-04  Commutair Aka Champlain Enterprises, Inc.    IAH  GPT   \n4 2022-04-04  Commutair Aka Champlain Enterprises, Inc.    DRO  DEN   \n\n   Cancelled  Diverted  CRSDepTime  DepTime  DepDelayMinutes  DepDelay  ...  \\\n0      False     False        1133   1123.0              0.0     -10.0  ...   \n1      False     False         732    728.0              0.0      -4.0  ...   \n2      False     False        1529   1514.0              0.0     -15.0  ...   \n3      False     False        1435   1430.0              0.0      -5.0  ...   \n4      False     False        1135   1135.0              0.0       0.0  ...   \n\n   WheelsOff  WheelsOn  TaxiIn  CRSArrTime  ArrDelay  ArrDel15  \\\n0     1140.0    1220.0     8.0        1245     -17.0       0.0   \n1      744.0     839.0     9.0         849      -1.0       0.0   \n2     1535.0    1622.0    14.0        1639      -3.0       0.0   \n3     1446.0    1543.0     4.0        1605     -18.0       0.0   \n4     1154.0    1243.0     8.0        1245       6.0       0.0   \n\n   ArrivalDelayGroups  ArrTimeBlk  DistanceGroup  DivAirportLandings  \n0                -2.0   1200-1259              1                   0  \n1                -1.0   0800-0859              2                   0  \n2                -1.0   1600-1659              2                   0  \n3                -2.0   1600-1659              2                   0  \n4                 0.0   1200-1259              2                   0  \n\n[5 rows x 61 columns]",
            "text/html": "<div>\n<style scoped>\n    .dataframe tbody tr th:only-of-type {\n        vertical-align: middle;\n    }\n\n    .dataframe tbody tr th {\n        vertical-align: top;\n    }\n\n    .dataframe thead th {\n        text-align: right;\n    }\n</style>\n<table border=\"1\" class=\"dataframe\">\n  <thead>\n    <tr style=\"text-align: right;\">\n      <th></th>\n      <th>FlightDate</th>\n      <th>Airline</th>\n      <th>Origin</th>\n      <th>Dest</th>\n      <th>Cancelled</th>\n      <th>Diverted</th>\n      <th>CRSDepTime</th>\n      <th>DepTime</th>\n      <th>DepDelayMinutes</th>\n      <th>DepDelay</th>\n      <th>...</th>\n      <th>WheelsOff</th>\n      <th>WheelsOn</th>\n      <th>TaxiIn</th>\n      <th>CRSArrTime</th>\n      <th>ArrDelay</th>\n      <th>ArrDel15</th>\n      <th>ArrivalDelayGroups</th>\n      <th>ArrTimeBlk</th>\n      <th>DistanceGroup</th>\n      <th>DivAirportLandings</th>\n    </tr>\n  </thead>\n  <tbody>\n    <tr>\n      <th>0</th>\n      <td>2022-04-04</td>\n      <td>Commutair Aka Champlain Enterprises, Inc.</td>\n      <td>GJT</td>\n      <td>DEN</td>\n      <td>False</td>\n      <td>False</td>\n      <td>1133</td>\n      <td>1123.0</td>\n      <td>0.0</td>\n      <td>-10.0</td>\n      <td>...</td>\n      <td>1140.0</td>\n      <td>1220.0</td>\n      <td>8.0</td>\n      <td>1245</td>\n      <td>-17.0</td>\n      <td>0.0</td>\n      <td>-2.0</td>\n      <td>1200-1259</td>\n      <td>1</td>\n      <td>0</td>\n    </tr>\n    <tr>\n      <th>1</th>\n      <td>2022-04-04</td>\n      <td>Commutair Aka Champlain Enterprises, Inc.</td>\n      <td>HRL</td>\n      <td>IAH</td>\n      <td>False</td>\n      <td>False</td>\n      <td>732</td>\n      <td>728.0</td>\n      <td>0.0</td>\n      <td>-4.0</td>\n      <td>...</td>\n      <td>744.0</td>\n      <td>839.0</td>\n      <td>9.0</td>\n      <td>849</td>\n      <td>-1.0</td>\n      <td>0.0</td>\n      <td>-1.0</td>\n      <td>0800-0859</td>\n      <td>2</td>\n      <td>0</td>\n    </tr>\n    <tr>\n      <th>2</th>\n      <td>2022-04-04</td>\n      <td>Commutair Aka Champlain Enterprises, Inc.</td>\n      <td>DRO</td>\n      <td>DEN</td>\n      <td>False</td>\n      <td>False</td>\n      <td>1529</td>\n      <td>1514.0</td>\n      <td>0.0</td>\n      <td>-15.0</td>\n      <td>...</td>\n      <td>1535.0</td>\n      <td>1622.0</td>\n      <td>14.0</td>\n      <td>1639</td>\n      <td>-3.0</td>\n      <td>0.0</td>\n      <td>-1.0</td>\n      <td>1600-1659</td>\n      <td>2</td>\n      <td>0</td>\n    </tr>\n    <tr>\n      <th>3</th>\n      <td>2022-04-04</td>\n      <td>Commutair Aka Champlain Enterprises, Inc.</td>\n      <td>IAH</td>\n      <td>GPT</td>\n      <td>False</td>\n      <td>False</td>\n      <td>1435</td>\n      <td>1430.0</td>\n      <td>0.0</td>\n      <td>-5.0</td>\n      <td>...</td>\n      <td>1446.0</td>\n      <td>1543.0</td>\n      <td>4.0</td>\n      <td>1605</td>\n      <td>-18.0</td>\n      <td>0.0</td>\n      <td>-2.0</td>\n      <td>1600-1659</td>\n      <td>2</td>\n      <td>0</td>\n    </tr>\n    <tr>\n      <th>4</th>\n      <td>2022-04-04</td>\n      <td>Commutair Aka Champlain Enterprises, Inc.</td>\n      <td>DRO</td>\n      <td>DEN</td>\n      <td>False</td>\n      <td>False</td>\n      <td>1135</td>\n      <td>1135.0</td>\n      <td>0.0</td>\n      <td>0.0</td>\n      <td>...</td>\n      <td>1154.0</td>\n      <td>1243.0</td>\n      <td>8.0</td>\n      <td>1245</td>\n      <td>6.0</td>\n      <td>0.0</td>\n      <td>0.0</td>\n      <td>1200-1259</td>\n      <td>2</td>\n      <td>0</td>\n    </tr>\n  </tbody>\n</table>\n<p>5 rows × 61 columns</p>\n</div>"
          },
          "metadata": {}
        }
      ],
      "execution_count": null
    },
    {
      "cell_type": "code",
      "source": [
        "df.shape"
      ],
      "metadata": {
        "trusted": true,
        "execution": {
          "iopub.status.busy": "2025-08-10T02:26:03.957072Z",
          "iopub.execute_input": "2025-08-10T02:26:03.957441Z",
          "iopub.status.idle": "2025-08-10T02:26:03.964713Z",
          "shell.execute_reply.started": "2025-08-10T02:26:03.95741Z",
          "shell.execute_reply": "2025-08-10T02:26:03.963523Z"
        },
        "id": "up0vEVEyq-lH",
        "outputId": "179ea098-88cf-41e3-cfd2-639513be6ca4"
      },
      "outputs": [
        {
          "execution_count": 15,
          "output_type": "execute_result",
          "data": {
            "text/plain": "(4078318, 61)"
          },
          "metadata": {}
        }
      ],
      "execution_count": null
    },
    {
      "cell_type": "code",
      "source": [
        "pd.set_option(\"display.max_columns\", 500)"
      ],
      "metadata": {
        "tags": [],
        "execution": {
          "iopub.status.busy": "2023-09-02T01:09:45.030687Z",
          "iopub.execute_input": "2023-09-02T01:09:45.031462Z",
          "iopub.status.idle": "2023-09-02T01:09:45.037157Z",
          "shell.execute_reply.started": "2023-09-02T01:09:45.031409Z",
          "shell.execute_reply": "2023-09-02T01:09:45.035844Z"
        },
        "trusted": true,
        "id": "J-BB42fSq-lH"
      },
      "outputs": [],
      "execution_count": null
    },
    {
      "cell_type": "code",
      "source": [
        "df.head(3)"
      ],
      "metadata": {
        "execution": {
          "iopub.status.busy": "2023-09-02T01:09:45.041868Z",
          "iopub.execute_input": "2023-09-02T01:09:45.042287Z",
          "iopub.status.idle": "2023-09-02T01:09:45.09744Z",
          "shell.execute_reply.started": "2023-09-02T01:09:45.042251Z",
          "shell.execute_reply": "2023-09-02T01:09:45.09624Z"
        },
        "trusted": true,
        "id": "ov9ytt8Rq-lI"
      },
      "outputs": [],
      "execution_count": null
    },
    {
      "cell_type": "code",
      "source": [
        "df.tail(3)"
      ],
      "metadata": {
        "execution": {
          "iopub.status.busy": "2023-09-02T01:09:45.098958Z",
          "iopub.execute_input": "2023-09-02T01:09:45.099387Z",
          "iopub.status.idle": "2023-09-02T01:09:45.145036Z",
          "shell.execute_reply.started": "2023-09-02T01:09:45.099343Z",
          "shell.execute_reply": "2023-09-02T01:09:45.143601Z"
        },
        "trusted": true,
        "id": "JmXN8NSpq-lI"
      },
      "outputs": [],
      "execution_count": null
    },
    {
      "cell_type": "code",
      "source": [
        "df.sample(3, random_state=42)"
      ],
      "metadata": {
        "trusted": true,
        "id": "76dpMY8Oq-lI",
        "outputId": "f9557c60-f129-48d5-b9b4-a00823ab6217"
      },
      "outputs": [
        {
          "execution_count": 16,
          "output_type": "execute_result",
          "data": {
            "text/plain": "       FlightDate                 Airline Origin Dest  Cancelled  Diverted  \\\n324021 2022-03-19   SkyWest Airlines Inc.    ASE  DEN      False     False   \n34739  2022-02-16   SkyWest Airlines Inc.    TYS  DEN      False     False   \n304494 2022-01-18  American Airlines Inc.    LAX  OGG      False     False   \n\n        CRSDepTime  DepTime  DepDelayMinutes  DepDelay  ...  WheelsOff  \\\n324021        1831   1826.0              0.0      -5.0  ...     1845.0   \n34739         1605   1605.0              0.0       0.0  ...     1614.0   \n304494        1719   1714.0              0.0      -5.0  ...     1728.0   \n\n        WheelsOn  TaxiIn  CRSArrTime  ArrDelay  ArrDel15  ArrivalDelayGroups  \\\n324021    1916.0     7.0        1933     -10.0       0.0                -1.0   \n34739     1728.0    44.0        1737      35.0       1.0                 2.0   \n304494    2042.0    10.0        2049       3.0       0.0                 0.0   \n\n        ArrTimeBlk  DistanceGroup  DivAirportLandings  \n324021   1900-1959              1                   0  \n34739    1700-1759              5                   0  \n304494   2000-2059             10                   0  \n\n[3 rows x 61 columns]",
            "text/html": "<div>\n<style scoped>\n    .dataframe tbody tr th:only-of-type {\n        vertical-align: middle;\n    }\n\n    .dataframe tbody tr th {\n        vertical-align: top;\n    }\n\n    .dataframe thead th {\n        text-align: right;\n    }\n</style>\n<table border=\"1\" class=\"dataframe\">\n  <thead>\n    <tr style=\"text-align: right;\">\n      <th></th>\n      <th>FlightDate</th>\n      <th>Airline</th>\n      <th>Origin</th>\n      <th>Dest</th>\n      <th>Cancelled</th>\n      <th>Diverted</th>\n      <th>CRSDepTime</th>\n      <th>DepTime</th>\n      <th>DepDelayMinutes</th>\n      <th>DepDelay</th>\n      <th>...</th>\n      <th>WheelsOff</th>\n      <th>WheelsOn</th>\n      <th>TaxiIn</th>\n      <th>CRSArrTime</th>\n      <th>ArrDelay</th>\n      <th>ArrDel15</th>\n      <th>ArrivalDelayGroups</th>\n      <th>ArrTimeBlk</th>\n      <th>DistanceGroup</th>\n      <th>DivAirportLandings</th>\n    </tr>\n  </thead>\n  <tbody>\n    <tr>\n      <th>324021</th>\n      <td>2022-03-19</td>\n      <td>SkyWest Airlines Inc.</td>\n      <td>ASE</td>\n      <td>DEN</td>\n      <td>False</td>\n      <td>False</td>\n      <td>1831</td>\n      <td>1826.0</td>\n      <td>0.0</td>\n      <td>-5.0</td>\n      <td>...</td>\n      <td>1845.0</td>\n      <td>1916.0</td>\n      <td>7.0</td>\n      <td>1933</td>\n      <td>-10.0</td>\n      <td>0.0</td>\n      <td>-1.0</td>\n      <td>1900-1959</td>\n      <td>1</td>\n      <td>0</td>\n    </tr>\n    <tr>\n      <th>34739</th>\n      <td>2022-02-16</td>\n      <td>SkyWest Airlines Inc.</td>\n      <td>TYS</td>\n      <td>DEN</td>\n      <td>False</td>\n      <td>False</td>\n      <td>1605</td>\n      <td>1605.0</td>\n      <td>0.0</td>\n      <td>0.0</td>\n      <td>...</td>\n      <td>1614.0</td>\n      <td>1728.0</td>\n      <td>44.0</td>\n      <td>1737</td>\n      <td>35.0</td>\n      <td>1.0</td>\n      <td>2.0</td>\n      <td>1700-1759</td>\n      <td>5</td>\n      <td>0</td>\n    </tr>\n    <tr>\n      <th>304494</th>\n      <td>2022-01-18</td>\n      <td>American Airlines Inc.</td>\n      <td>LAX</td>\n      <td>OGG</td>\n      <td>False</td>\n      <td>False</td>\n      <td>1719</td>\n      <td>1714.0</td>\n      <td>0.0</td>\n      <td>-5.0</td>\n      <td>...</td>\n      <td>1728.0</td>\n      <td>2042.0</td>\n      <td>10.0</td>\n      <td>2049</td>\n      <td>3.0</td>\n      <td>0.0</td>\n      <td>0.0</td>\n      <td>2000-2059</td>\n      <td>10</td>\n      <td>0</td>\n    </tr>\n  </tbody>\n</table>\n<p>3 rows × 61 columns</p>\n</div>"
          },
          "metadata": {}
        }
      ],
      "execution_count": null
    },
    {
      "cell_type": "code",
      "source": [
        "df.sample(frac=0.000001, random_state=42)"
      ],
      "metadata": {
        "trusted": true,
        "id": "eJ9Fteycq-lI",
        "outputId": "171d75ae-4ddb-40bd-e3b1-506f5cc1b9db"
      },
      "outputs": [
        {
          "execution_count": 17,
          "output_type": "execute_result",
          "data": {
            "text/plain": "       FlightDate                 Airline Origin Dest  Cancelled  Diverted  \\\n324021 2022-03-19   SkyWest Airlines Inc.    ASE  DEN      False     False   \n34739  2022-02-16   SkyWest Airlines Inc.    TYS  DEN      False     False   \n304494 2022-01-18  American Airlines Inc.    LAX  OGG      False     False   \n205451 2022-01-23  Southwest Airlines Co.    LAS  BWI      False     False   \n\n        CRSDepTime  DepTime  DepDelayMinutes  DepDelay  ...  WheelsOff  \\\n324021        1831   1826.0              0.0      -5.0  ...     1845.0   \n34739         1605   1605.0              0.0       0.0  ...     1614.0   \n304494        1719   1714.0              0.0      -5.0  ...     1728.0   \n205451        1515   1533.0             18.0      18.0  ...     1548.0   \n\n        WheelsOn  TaxiIn  CRSArrTime  ArrDelay  ArrDel15  ArrivalDelayGroups  \\\n324021    1916.0     7.0        1933     -10.0       0.0                -1.0   \n34739     1728.0    44.0        1737      35.0       1.0                 2.0   \n304494    2042.0    10.0        2049       3.0       0.0                 0.0   \n205451    2259.0     3.0        2235      27.0       1.0                 1.0   \n\n        ArrTimeBlk  DistanceGroup  DivAirportLandings  \n324021   1900-1959              1                   0  \n34739    1700-1759              5                   0  \n304494   2000-2059             10                   0  \n205451   2200-2259              9                   0  \n\n[4 rows x 61 columns]",
            "text/html": "<div>\n<style scoped>\n    .dataframe tbody tr th:only-of-type {\n        vertical-align: middle;\n    }\n\n    .dataframe tbody tr th {\n        vertical-align: top;\n    }\n\n    .dataframe thead th {\n        text-align: right;\n    }\n</style>\n<table border=\"1\" class=\"dataframe\">\n  <thead>\n    <tr style=\"text-align: right;\">\n      <th></th>\n      <th>FlightDate</th>\n      <th>Airline</th>\n      <th>Origin</th>\n      <th>Dest</th>\n      <th>Cancelled</th>\n      <th>Diverted</th>\n      <th>CRSDepTime</th>\n      <th>DepTime</th>\n      <th>DepDelayMinutes</th>\n      <th>DepDelay</th>\n      <th>...</th>\n      <th>WheelsOff</th>\n      <th>WheelsOn</th>\n      <th>TaxiIn</th>\n      <th>CRSArrTime</th>\n      <th>ArrDelay</th>\n      <th>ArrDel15</th>\n      <th>ArrivalDelayGroups</th>\n      <th>ArrTimeBlk</th>\n      <th>DistanceGroup</th>\n      <th>DivAirportLandings</th>\n    </tr>\n  </thead>\n  <tbody>\n    <tr>\n      <th>324021</th>\n      <td>2022-03-19</td>\n      <td>SkyWest Airlines Inc.</td>\n      <td>ASE</td>\n      <td>DEN</td>\n      <td>False</td>\n      <td>False</td>\n      <td>1831</td>\n      <td>1826.0</td>\n      <td>0.0</td>\n      <td>-5.0</td>\n      <td>...</td>\n      <td>1845.0</td>\n      <td>1916.0</td>\n      <td>7.0</td>\n      <td>1933</td>\n      <td>-10.0</td>\n      <td>0.0</td>\n      <td>-1.0</td>\n      <td>1900-1959</td>\n      <td>1</td>\n      <td>0</td>\n    </tr>\n    <tr>\n      <th>34739</th>\n      <td>2022-02-16</td>\n      <td>SkyWest Airlines Inc.</td>\n      <td>TYS</td>\n      <td>DEN</td>\n      <td>False</td>\n      <td>False</td>\n      <td>1605</td>\n      <td>1605.0</td>\n      <td>0.0</td>\n      <td>0.0</td>\n      <td>...</td>\n      <td>1614.0</td>\n      <td>1728.0</td>\n      <td>44.0</td>\n      <td>1737</td>\n      <td>35.0</td>\n      <td>1.0</td>\n      <td>2.0</td>\n      <td>1700-1759</td>\n      <td>5</td>\n      <td>0</td>\n    </tr>\n    <tr>\n      <th>304494</th>\n      <td>2022-01-18</td>\n      <td>American Airlines Inc.</td>\n      <td>LAX</td>\n      <td>OGG</td>\n      <td>False</td>\n      <td>False</td>\n      <td>1719</td>\n      <td>1714.0</td>\n      <td>0.0</td>\n      <td>-5.0</td>\n      <td>...</td>\n      <td>1728.0</td>\n      <td>2042.0</td>\n      <td>10.0</td>\n      <td>2049</td>\n      <td>3.0</td>\n      <td>0.0</td>\n      <td>0.0</td>\n      <td>2000-2059</td>\n      <td>10</td>\n      <td>0</td>\n    </tr>\n    <tr>\n      <th>205451</th>\n      <td>2022-01-23</td>\n      <td>Southwest Airlines Co.</td>\n      <td>LAS</td>\n      <td>BWI</td>\n      <td>False</td>\n      <td>False</td>\n      <td>1515</td>\n      <td>1533.0</td>\n      <td>18.0</td>\n      <td>18.0</td>\n      <td>...</td>\n      <td>1548.0</td>\n      <td>2259.0</td>\n      <td>3.0</td>\n      <td>2235</td>\n      <td>27.0</td>\n      <td>1.0</td>\n      <td>1.0</td>\n      <td>2200-2259</td>\n      <td>9</td>\n      <td>0</td>\n    </tr>\n  </tbody>\n</table>\n<p>4 rows × 61 columns</p>\n</div>"
          },
          "metadata": {}
        }
      ],
      "execution_count": null
    },
    {
      "cell_type": "code",
      "source": [
        "df.columns"
      ],
      "metadata": {
        "execution": {
          "iopub.status.busy": "2025-08-10T02:27:18.684485Z",
          "iopub.execute_input": "2025-08-10T02:27:18.684889Z",
          "iopub.status.idle": "2025-08-10T02:27:18.692831Z",
          "shell.execute_reply.started": "2025-08-10T02:27:18.684858Z",
          "shell.execute_reply": "2025-08-10T02:27:18.691733Z"
        },
        "trusted": true,
        "id": "jX7HbyWBq-lI",
        "outputId": "6be70670-010a-4dbc-f213-85d3fec8a494"
      },
      "outputs": [
        {
          "execution_count": 18,
          "output_type": "execute_result",
          "data": {
            "text/plain": "Index(['FlightDate', 'Airline', 'Origin', 'Dest', 'Cancelled', 'Diverted',\n       'CRSDepTime', 'DepTime', 'DepDelayMinutes', 'DepDelay', 'ArrTime',\n       'ArrDelayMinutes', 'AirTime', 'CRSElapsedTime', 'ActualElapsedTime',\n       'Distance', 'Year', 'Quarter', 'Month', 'DayofMonth', 'DayOfWeek',\n       'Marketing_Airline_Network', 'Operated_or_Branded_Code_Share_Partners',\n       'DOT_ID_Marketing_Airline', 'IATA_Code_Marketing_Airline',\n       'Flight_Number_Marketing_Airline', 'Operating_Airline',\n       'DOT_ID_Operating_Airline', 'IATA_Code_Operating_Airline',\n       'Tail_Number', 'Flight_Number_Operating_Airline', 'OriginAirportID',\n       'OriginAirportSeqID', 'OriginCityMarketID', 'OriginCityName',\n       'OriginState', 'OriginStateFips', 'OriginStateName', 'OriginWac',\n       'DestAirportID', 'DestAirportSeqID', 'DestCityMarketID', 'DestCityName',\n       'DestState', 'DestStateFips', 'DestStateName', 'DestWac', 'DepDel15',\n       'DepartureDelayGroups', 'DepTimeBlk', 'TaxiOut', 'WheelsOff',\n       'WheelsOn', 'TaxiIn', 'CRSArrTime', 'ArrDelay', 'ArrDel15',\n       'ArrivalDelayGroups', 'ArrTimeBlk', 'DistanceGroup',\n       'DivAirportLandings'],\n      dtype='object')"
          },
          "metadata": {}
        }
      ],
      "execution_count": null
    },
    {
      "cell_type": "code",
      "source": [
        "df.index"
      ],
      "metadata": {
        "execution": {
          "iopub.status.busy": "2025-08-10T02:27:21.668086Z",
          "iopub.execute_input": "2025-08-10T02:27:21.668497Z",
          "iopub.status.idle": "2025-08-10T02:27:21.676011Z",
          "shell.execute_reply.started": "2025-08-10T02:27:21.668463Z",
          "shell.execute_reply": "2025-08-10T02:27:21.674662Z"
        },
        "trusted": true,
        "id": "zGBuAM83q-lJ",
        "outputId": "51a8b295-7360-43b4-8bac-c1797a3ba628"
      },
      "outputs": [
        {
          "execution_count": 19,
          "output_type": "execute_result",
          "data": {
            "text/plain": "Index([     0,      1,      2,      3,      4,      5,      6,      7,      8,\n            9,\n       ...\n       590532, 590533, 590534, 590535, 590536, 590537, 590538, 590539, 590540,\n       590541],\n      dtype='int64', length=4078318)"
          },
          "metadata": {}
        }
      ],
      "execution_count": null
    },
    {
      "cell_type": "markdown",
      "source": [
        "## Dataframe summary"
      ],
      "metadata": {
        "id": "hHk3qaLjq-lJ"
      }
    },
    {
      "cell_type": "code",
      "source": [
        "df.info()"
      ],
      "metadata": {
        "execution": {
          "iopub.status.busy": "2025-08-10T02:27:26.693169Z",
          "iopub.execute_input": "2025-08-10T02:27:26.693596Z",
          "iopub.status.idle": "2025-08-10T02:27:26.720727Z",
          "shell.execute_reply.started": "2025-08-10T02:27:26.693565Z",
          "shell.execute_reply": "2025-08-10T02:27:26.719331Z"
        },
        "trusted": true,
        "id": "UANSBnyzq-lJ",
        "outputId": "eab621a2-b4cf-4700-c3de-7f82b6aecfd0"
      },
      "outputs": [
        {
          "name": "stdout",
          "text": "<class 'pandas.core.frame.DataFrame'>\nIndex: 4078318 entries, 0 to 590541\nData columns (total 61 columns):\n #   Column                                   Dtype         \n---  ------                                   -----         \n 0   FlightDate                               datetime64[ns]\n 1   Airline                                  object        \n 2   Origin                                   object        \n 3   Dest                                     object        \n 4   Cancelled                                bool          \n 5   Diverted                                 bool          \n 6   CRSDepTime                               int64         \n 7   DepTime                                  float64       \n 8   DepDelayMinutes                          float64       \n 9   DepDelay                                 float64       \n 10  ArrTime                                  float64       \n 11  ArrDelayMinutes                          float64       \n 12  AirTime                                  float64       \n 13  CRSElapsedTime                           float64       \n 14  ActualElapsedTime                        float64       \n 15  Distance                                 float64       \n 16  Year                                     int64         \n 17  Quarter                                  int64         \n 18  Month                                    int64         \n 19  DayofMonth                               int64         \n 20  DayOfWeek                                int64         \n 21  Marketing_Airline_Network                object        \n 22  Operated_or_Branded_Code_Share_Partners  object        \n 23  DOT_ID_Marketing_Airline                 int64         \n 24  IATA_Code_Marketing_Airline              object        \n 25  Flight_Number_Marketing_Airline          int64         \n 26  Operating_Airline                        object        \n 27  DOT_ID_Operating_Airline                 int64         \n 28  IATA_Code_Operating_Airline              object        \n 29  Tail_Number                              object        \n 30  Flight_Number_Operating_Airline          int64         \n 31  OriginAirportID                          int64         \n 32  OriginAirportSeqID                       int64         \n 33  OriginCityMarketID                       int64         \n 34  OriginCityName                           object        \n 35  OriginState                              object        \n 36  OriginStateFips                          int64         \n 37  OriginStateName                          object        \n 38  OriginWac                                int64         \n 39  DestAirportID                            int64         \n 40  DestAirportSeqID                         int64         \n 41  DestCityMarketID                         int64         \n 42  DestCityName                             object        \n 43  DestState                                object        \n 44  DestStateFips                            int64         \n 45  DestStateName                            object        \n 46  DestWac                                  int64         \n 47  DepDel15                                 float64       \n 48  DepartureDelayGroups                     float64       \n 49  DepTimeBlk                               object        \n 50  TaxiOut                                  float64       \n 51  WheelsOff                                float64       \n 52  WheelsOn                                 float64       \n 53  TaxiIn                                   float64       \n 54  CRSArrTime                               int64         \n 55  ArrDelay                                 float64       \n 56  ArrDel15                                 float64       \n 57  ArrivalDelayGroups                       float64       \n 58  ArrTimeBlk                               object        \n 59  DistanceGroup                            int64         \n 60  DivAirportLandings                       int64         \ndtypes: bool(2), datetime64[ns](1), float64(18), int64(23), object(17)\nmemory usage: 1.8+ GB\n",
          "output_type": "stream"
        }
      ],
      "execution_count": null
    },
    {
      "cell_type": "code",
      "source": [
        "df.info(verbose=False)"
      ],
      "metadata": {
        "execution": {
          "iopub.status.busy": "2025-08-10T02:27:38.133594Z",
          "iopub.execute_input": "2025-08-10T02:27:38.134051Z",
          "iopub.status.idle": "2025-08-10T02:27:38.145959Z",
          "shell.execute_reply.started": "2025-08-10T02:27:38.134018Z",
          "shell.execute_reply": "2025-08-10T02:27:38.144623Z"
        },
        "trusted": true,
        "id": "5pjs6twTq-lJ",
        "outputId": "dd736629-7292-46d6-89d8-196f050bf852"
      },
      "outputs": [
        {
          "name": "stdout",
          "text": "<class 'pandas.core.frame.DataFrame'>\nIndex: 4078318 entries, 0 to 590541\nColumns: 61 entries, FlightDate to DivAirportLandings\ndtypes: bool(2), datetime64[ns](1), float64(18), int64(23), object(17)\nmemory usage: 1.8+ GB\n",
          "output_type": "stream"
        }
      ],
      "execution_count": null
    },
    {
      "cell_type": "code",
      "source": [
        "df.describe()"
      ],
      "metadata": {
        "execution": {
          "iopub.status.busy": "2025-08-10T02:28:08.493069Z",
          "iopub.execute_input": "2025-08-10T02:28:08.493444Z",
          "iopub.status.idle": "2025-08-10T02:28:15.810876Z",
          "shell.execute_reply.started": "2025-08-10T02:28:08.493418Z",
          "shell.execute_reply": "2025-08-10T02:28:15.809724Z"
        },
        "trusted": true,
        "id": "Xf5OySi4q-lK",
        "outputId": "08390df5-d6c6-4a54-8186-d07ee781a947"
      },
      "outputs": [
        {
          "execution_count": 22,
          "output_type": "execute_result",
          "data": {
            "text/plain": "                          FlightDate    CRSDepTime       DepTime  \\\ncount                        4078318  4.078318e+06  3.957885e+06   \nmean   2022-04-18 12:10:43.903097600  1.329587e+03  1.334374e+03   \nmin              2022-01-01 00:00:00  1.000000e+00  1.000000e+00   \n25%              2022-02-25 00:00:00  9.140000e+02  9.170000e+02   \n50%              2022-04-19 00:00:00  1.320000e+03  1.325000e+03   \n75%              2022-06-11 00:00:00  1.735000e+03  1.744000e+03   \nmax              2022-07-31 00:00:00  2.359000e+03  2.400000e+03   \nstd                              NaN  4.904801e+02  5.056219e+02   \n\n       DepDelayMinutes      DepDelay       ArrTime  ArrDelayMinutes  \\\ncount     3.957823e+06  3.957823e+06  3.954079e+06     3.944916e+06   \nmean      1.601494e+01  1.309049e+01  1.457886e+03     1.578307e+01   \nmin       0.000000e+00 -7.800000e+01  1.000000e+00     0.000000e+00   \n25%       0.000000e+00 -5.000000e+00  1.046000e+03     0.000000e+00   \n50%       0.000000e+00 -2.000000e+00  1.500000e+03     0.000000e+00   \n75%       1.100000e+01  1.100000e+01  1.914000e+03     1.000000e+01   \nmax       7.223000e+03  7.223000e+03  2.400000e+03     7.232000e+03   \nstd       5.231498e+01  5.332016e+01  5.431841e+02     5.198424e+01   \n\n            AirTime  CRSElapsedTime  ActualElapsedTime  ...       TaxiOut  \\\ncount  3.944916e+06    4.078318e+06       3.944916e+06  ...  3.955652e+06   \nmean   1.110075e+02    1.413211e+02       1.358624e+02  ...  1.697375e+01   \nmin    8.000000e+00   -4.800000e+01       1.400000e+01  ...  1.000000e+00   \n25%    6.000000e+01    8.900000e+01       8.300000e+01  ...  1.100000e+01   \n50%    9.400000e+01    1.240000e+02       1.190000e+02  ...  1.500000e+01   \n75%    1.410000e+02    1.710000e+02       1.670000e+02  ...  1.900000e+01   \nmax    7.270000e+02    6.900000e+02       7.640000e+02  ...  2.210000e+02   \nstd    6.996246e+01    7.179635e+01       7.185501e+01  ...  9.495407e+00   \n\n          WheelsOff      WheelsOn        TaxiIn    CRSArrTime      ArrDelay  \\\ncount  3.955652e+06  3.954076e+06  3.954076e+06  4.078318e+06  3.944916e+06   \nmean   1.356576e+03  1.455073e+03  7.894387e+00  1.486058e+03  7.528486e+00   \nmin    1.000000e+00  1.000000e+00  1.000000e+00  1.000000e+00 -1.000000e+02   \n25%    9.320000e+02  1.044000e+03  4.000000e+00  1.103000e+03 -1.400000e+01   \n50%    1.338000e+03  1.456000e+03  6.000000e+00  1.513000e+03 -5.000000e+00   \n75%    1.758000e+03  1.909000e+03  9.000000e+00  1.920000e+03  1.000000e+01   \nmax    2.400000e+03  2.400000e+03  2.900000e+02  2.359000e+03  7.232000e+03   \nstd    5.075580e+02  5.378428e+02  6.663118e+00  5.185078e+02  5.524625e+01   \n\n           ArrDel15  ArrivalDelayGroups  DistanceGroup  DivAirportLandings  \ncount  3.944916e+06        3.944916e+06   4.078318e+06        4.078318e+06  \nmean   2.164715e-01       -6.256103e-02   3.663516e+00        3.685098e-03  \nmin    0.000000e+00       -2.000000e+00   1.000000e+00        0.000000e+00  \n25%    0.000000e+00       -1.000000e+00   2.000000e+00        0.000000e+00  \n50%    0.000000e+00       -1.000000e+00   3.000000e+00        0.000000e+00  \n75%    0.000000e+00        0.000000e+00   5.000000e+00        0.000000e+00  \nmax    1.000000e+00        1.200000e+01   1.100000e+01        9.000000e+00  \nstd    4.118393e-01        2.487442e+00   2.320848e+00        1.141331e-01  \n\n[8 rows x 42 columns]",
            "text/html": "<div>\n<style scoped>\n    .dataframe tbody tr th:only-of-type {\n        vertical-align: middle;\n    }\n\n    .dataframe tbody tr th {\n        vertical-align: top;\n    }\n\n    .dataframe thead th {\n        text-align: right;\n    }\n</style>\n<table border=\"1\" class=\"dataframe\">\n  <thead>\n    <tr style=\"text-align: right;\">\n      <th></th>\n      <th>FlightDate</th>\n      <th>CRSDepTime</th>\n      <th>DepTime</th>\n      <th>DepDelayMinutes</th>\n      <th>DepDelay</th>\n      <th>ArrTime</th>\n      <th>ArrDelayMinutes</th>\n      <th>AirTime</th>\n      <th>CRSElapsedTime</th>\n      <th>ActualElapsedTime</th>\n      <th>...</th>\n      <th>TaxiOut</th>\n      <th>WheelsOff</th>\n      <th>WheelsOn</th>\n      <th>TaxiIn</th>\n      <th>CRSArrTime</th>\n      <th>ArrDelay</th>\n      <th>ArrDel15</th>\n      <th>ArrivalDelayGroups</th>\n      <th>DistanceGroup</th>\n      <th>DivAirportLandings</th>\n    </tr>\n  </thead>\n  <tbody>\n    <tr>\n      <th>count</th>\n      <td>4078318</td>\n      <td>4.078318e+06</td>\n      <td>3.957885e+06</td>\n      <td>3.957823e+06</td>\n      <td>3.957823e+06</td>\n      <td>3.954079e+06</td>\n      <td>3.944916e+06</td>\n      <td>3.944916e+06</td>\n      <td>4.078318e+06</td>\n      <td>3.944916e+06</td>\n      <td>...</td>\n      <td>3.955652e+06</td>\n      <td>3.955652e+06</td>\n      <td>3.954076e+06</td>\n      <td>3.954076e+06</td>\n      <td>4.078318e+06</td>\n      <td>3.944916e+06</td>\n      <td>3.944916e+06</td>\n      <td>3.944916e+06</td>\n      <td>4.078318e+06</td>\n      <td>4.078318e+06</td>\n    </tr>\n    <tr>\n      <th>mean</th>\n      <td>2022-04-18 12:10:43.903097600</td>\n      <td>1.329587e+03</td>\n      <td>1.334374e+03</td>\n      <td>1.601494e+01</td>\n      <td>1.309049e+01</td>\n      <td>1.457886e+03</td>\n      <td>1.578307e+01</td>\n      <td>1.110075e+02</td>\n      <td>1.413211e+02</td>\n      <td>1.358624e+02</td>\n      <td>...</td>\n      <td>1.697375e+01</td>\n      <td>1.356576e+03</td>\n      <td>1.455073e+03</td>\n      <td>7.894387e+00</td>\n      <td>1.486058e+03</td>\n      <td>7.528486e+00</td>\n      <td>2.164715e-01</td>\n      <td>-6.256103e-02</td>\n      <td>3.663516e+00</td>\n      <td>3.685098e-03</td>\n    </tr>\n    <tr>\n      <th>min</th>\n      <td>2022-01-01 00:00:00</td>\n      <td>1.000000e+00</td>\n      <td>1.000000e+00</td>\n      <td>0.000000e+00</td>\n      <td>-7.800000e+01</td>\n      <td>1.000000e+00</td>\n      <td>0.000000e+00</td>\n      <td>8.000000e+00</td>\n      <td>-4.800000e+01</td>\n      <td>1.400000e+01</td>\n      <td>...</td>\n      <td>1.000000e+00</td>\n      <td>1.000000e+00</td>\n      <td>1.000000e+00</td>\n      <td>1.000000e+00</td>\n      <td>1.000000e+00</td>\n      <td>-1.000000e+02</td>\n      <td>0.000000e+00</td>\n      <td>-2.000000e+00</td>\n      <td>1.000000e+00</td>\n      <td>0.000000e+00</td>\n    </tr>\n    <tr>\n      <th>25%</th>\n      <td>2022-02-25 00:00:00</td>\n      <td>9.140000e+02</td>\n      <td>9.170000e+02</td>\n      <td>0.000000e+00</td>\n      <td>-5.000000e+00</td>\n      <td>1.046000e+03</td>\n      <td>0.000000e+00</td>\n      <td>6.000000e+01</td>\n      <td>8.900000e+01</td>\n      <td>8.300000e+01</td>\n      <td>...</td>\n      <td>1.100000e+01</td>\n      <td>9.320000e+02</td>\n      <td>1.044000e+03</td>\n      <td>4.000000e+00</td>\n      <td>1.103000e+03</td>\n      <td>-1.400000e+01</td>\n      <td>0.000000e+00</td>\n      <td>-1.000000e+00</td>\n      <td>2.000000e+00</td>\n      <td>0.000000e+00</td>\n    </tr>\n    <tr>\n      <th>50%</th>\n      <td>2022-04-19 00:00:00</td>\n      <td>1.320000e+03</td>\n      <td>1.325000e+03</td>\n      <td>0.000000e+00</td>\n      <td>-2.000000e+00</td>\n      <td>1.500000e+03</td>\n      <td>0.000000e+00</td>\n      <td>9.400000e+01</td>\n      <td>1.240000e+02</td>\n      <td>1.190000e+02</td>\n      <td>...</td>\n      <td>1.500000e+01</td>\n      <td>1.338000e+03</td>\n      <td>1.456000e+03</td>\n      <td>6.000000e+00</td>\n      <td>1.513000e+03</td>\n      <td>-5.000000e+00</td>\n      <td>0.000000e+00</td>\n      <td>-1.000000e+00</td>\n      <td>3.000000e+00</td>\n      <td>0.000000e+00</td>\n    </tr>\n    <tr>\n      <th>75%</th>\n      <td>2022-06-11 00:00:00</td>\n      <td>1.735000e+03</td>\n      <td>1.744000e+03</td>\n      <td>1.100000e+01</td>\n      <td>1.100000e+01</td>\n      <td>1.914000e+03</td>\n      <td>1.000000e+01</td>\n      <td>1.410000e+02</td>\n      <td>1.710000e+02</td>\n      <td>1.670000e+02</td>\n      <td>...</td>\n      <td>1.900000e+01</td>\n      <td>1.758000e+03</td>\n      <td>1.909000e+03</td>\n      <td>9.000000e+00</td>\n      <td>1.920000e+03</td>\n      <td>1.000000e+01</td>\n      <td>0.000000e+00</td>\n      <td>0.000000e+00</td>\n      <td>5.000000e+00</td>\n      <td>0.000000e+00</td>\n    </tr>\n    <tr>\n      <th>max</th>\n      <td>2022-07-31 00:00:00</td>\n      <td>2.359000e+03</td>\n      <td>2.400000e+03</td>\n      <td>7.223000e+03</td>\n      <td>7.223000e+03</td>\n      <td>2.400000e+03</td>\n      <td>7.232000e+03</td>\n      <td>7.270000e+02</td>\n      <td>6.900000e+02</td>\n      <td>7.640000e+02</td>\n      <td>...</td>\n      <td>2.210000e+02</td>\n      <td>2.400000e+03</td>\n      <td>2.400000e+03</td>\n      <td>2.900000e+02</td>\n      <td>2.359000e+03</td>\n      <td>7.232000e+03</td>\n      <td>1.000000e+00</td>\n      <td>1.200000e+01</td>\n      <td>1.100000e+01</td>\n      <td>9.000000e+00</td>\n    </tr>\n    <tr>\n      <th>std</th>\n      <td>NaN</td>\n      <td>4.904801e+02</td>\n      <td>5.056219e+02</td>\n      <td>5.231498e+01</td>\n      <td>5.332016e+01</td>\n      <td>5.431841e+02</td>\n      <td>5.198424e+01</td>\n      <td>6.996246e+01</td>\n      <td>7.179635e+01</td>\n      <td>7.185501e+01</td>\n      <td>...</td>\n      <td>9.495407e+00</td>\n      <td>5.075580e+02</td>\n      <td>5.378428e+02</td>\n      <td>6.663118e+00</td>\n      <td>5.185078e+02</td>\n      <td>5.524625e+01</td>\n      <td>4.118393e-01</td>\n      <td>2.487442e+00</td>\n      <td>2.320848e+00</td>\n      <td>1.141331e-01</td>\n    </tr>\n  </tbody>\n</table>\n<p>8 rows × 42 columns</p>\n</div>"
          },
          "metadata": {}
        }
      ],
      "execution_count": null
    },
    {
      "cell_type": "code",
      "source": [
        "df[[\"Airline\"]].describe()"
      ],
      "metadata": {
        "execution": {
          "iopub.status.busy": "2025-08-10T02:29:17.57796Z",
          "iopub.execute_input": "2025-08-10T02:29:17.578347Z",
          "iopub.status.idle": "2025-08-10T02:29:18.048829Z",
          "shell.execute_reply.started": "2025-08-10T02:29:17.578315Z",
          "shell.execute_reply": "2025-08-10T02:29:18.047733Z"
        },
        "trusted": true,
        "id": "vcLyoAkBq-lK",
        "outputId": "d69461f4-8be8-41b4-d0db-c61575384e6b"
      },
      "outputs": [
        {
          "execution_count": 23,
          "output_type": "execute_result",
          "data": {
            "text/plain": "                       Airline\ncount                  4078318\nunique                      21\ntop     Southwest Airlines Co.\nfreq                    731925",
            "text/html": "<div>\n<style scoped>\n    .dataframe tbody tr th:only-of-type {\n        vertical-align: middle;\n    }\n\n    .dataframe tbody tr th {\n        vertical-align: top;\n    }\n\n    .dataframe thead th {\n        text-align: right;\n    }\n</style>\n<table border=\"1\" class=\"dataframe\">\n  <thead>\n    <tr style=\"text-align: right;\">\n      <th></th>\n      <th>Airline</th>\n    </tr>\n  </thead>\n  <tbody>\n    <tr>\n      <th>count</th>\n      <td>4078318</td>\n    </tr>\n    <tr>\n      <th>unique</th>\n      <td>21</td>\n    </tr>\n    <tr>\n      <th>top</th>\n      <td>Southwest Airlines Co.</td>\n    </tr>\n    <tr>\n      <th>freq</th>\n      <td>731925</td>\n    </tr>\n  </tbody>\n</table>\n</div>"
          },
          "metadata": {}
        }
      ],
      "execution_count": null
    },
    {
      "cell_type": "code",
      "source": [
        "df.shape, len(df)"
      ],
      "metadata": {
        "execution": {
          "iopub.status.busy": "2025-08-10T02:29:24.735959Z",
          "iopub.execute_input": "2025-08-10T02:29:24.736344Z",
          "iopub.status.idle": "2025-08-10T02:29:24.743738Z",
          "shell.execute_reply.started": "2025-08-10T02:29:24.736312Z",
          "shell.execute_reply": "2025-08-10T02:29:24.74257Z"
        },
        "trusted": true,
        "id": "1ppB2grGq-lK",
        "outputId": "924902dd-9edb-4c67-d463-d491b11016d7"
      },
      "outputs": [
        {
          "execution_count": 24,
          "output_type": "execute_result",
          "data": {
            "text/plain": "((4078318, 61), 4078318)"
          },
          "metadata": {}
        }
      ],
      "execution_count": null
    },
    {
      "cell_type": "markdown",
      "source": [
        "## Subsetting Columns"
      ],
      "metadata": {
        "id": "LqBy-4mcq-lK"
      }
    },
    {
      "cell_type": "code",
      "source": [
        "df[['FlightDate', 'Airline', 'Origin']]"
      ],
      "metadata": {
        "execution": {
          "iopub.status.busy": "2025-08-10T02:29:32.405568Z",
          "iopub.execute_input": "2025-08-10T02:29:32.406013Z",
          "iopub.status.idle": "2025-08-10T02:29:32.517174Z",
          "shell.execute_reply.started": "2025-08-10T02:29:32.405983Z",
          "shell.execute_reply": "2025-08-10T02:29:32.516086Z"
        },
        "trusted": true,
        "id": "ciCb0zQ6q-lL",
        "outputId": "53a49408-20f8-4653-a2c7-264197f4a67c"
      },
      "outputs": [
        {
          "execution_count": 25,
          "output_type": "execute_result",
          "data": {
            "text/plain": "       FlightDate                                    Airline Origin\n0      2022-04-04  Commutair Aka Champlain Enterprises, Inc.    GJT\n1      2022-04-04  Commutair Aka Champlain Enterprises, Inc.    HRL\n2      2022-04-04  Commutair Aka Champlain Enterprises, Inc.    DRO\n3      2022-04-04  Commutair Aka Champlain Enterprises, Inc.    IAH\n4      2022-04-04  Commutair Aka Champlain Enterprises, Inc.    DRO\n...           ...                                        ...    ...\n590537 2022-03-31                          Republic Airlines    MSY\n590538 2022-03-17                          Republic Airlines    CLT\n590539 2022-03-08                          Republic Airlines    ALB\n590540 2022-03-25                          Republic Airlines    EWR\n590541 2022-03-07                          Republic Airlines    EWR\n\n[4078318 rows x 3 columns]",
            "text/html": "<div>\n<style scoped>\n    .dataframe tbody tr th:only-of-type {\n        vertical-align: middle;\n    }\n\n    .dataframe tbody tr th {\n        vertical-align: top;\n    }\n\n    .dataframe thead th {\n        text-align: right;\n    }\n</style>\n<table border=\"1\" class=\"dataframe\">\n  <thead>\n    <tr style=\"text-align: right;\">\n      <th></th>\n      <th>FlightDate</th>\n      <th>Airline</th>\n      <th>Origin</th>\n    </tr>\n  </thead>\n  <tbody>\n    <tr>\n      <th>0</th>\n      <td>2022-04-04</td>\n      <td>Commutair Aka Champlain Enterprises, Inc.</td>\n      <td>GJT</td>\n    </tr>\n    <tr>\n      <th>1</th>\n      <td>2022-04-04</td>\n      <td>Commutair Aka Champlain Enterprises, Inc.</td>\n      <td>HRL</td>\n    </tr>\n    <tr>\n      <th>2</th>\n      <td>2022-04-04</td>\n      <td>Commutair Aka Champlain Enterprises, Inc.</td>\n      <td>DRO</td>\n    </tr>\n    <tr>\n      <th>3</th>\n      <td>2022-04-04</td>\n      <td>Commutair Aka Champlain Enterprises, Inc.</td>\n      <td>IAH</td>\n    </tr>\n    <tr>\n      <th>4</th>\n      <td>2022-04-04</td>\n      <td>Commutair Aka Champlain Enterprises, Inc.</td>\n      <td>DRO</td>\n    </tr>\n    <tr>\n      <th>...</th>\n      <td>...</td>\n      <td>...</td>\n      <td>...</td>\n    </tr>\n    <tr>\n      <th>590537</th>\n      <td>2022-03-31</td>\n      <td>Republic Airlines</td>\n      <td>MSY</td>\n    </tr>\n    <tr>\n      <th>590538</th>\n      <td>2022-03-17</td>\n      <td>Republic Airlines</td>\n      <td>CLT</td>\n    </tr>\n    <tr>\n      <th>590539</th>\n      <td>2022-03-08</td>\n      <td>Republic Airlines</td>\n      <td>ALB</td>\n    </tr>\n    <tr>\n      <th>590540</th>\n      <td>2022-03-25</td>\n      <td>Republic Airlines</td>\n      <td>EWR</td>\n    </tr>\n    <tr>\n      <th>590541</th>\n      <td>2022-03-07</td>\n      <td>Republic Airlines</td>\n      <td>EWR</td>\n    </tr>\n  </tbody>\n</table>\n<p>4078318 rows × 3 columns</p>\n</div>"
          },
          "metadata": {}
        }
      ],
      "execution_count": null
    },
    {
      "cell_type": "code",
      "source": [
        "df[df.columns[:5]]"
      ],
      "metadata": {
        "execution": {
          "iopub.status.busy": "2025-08-10T02:29:37.281107Z",
          "iopub.execute_input": "2025-08-10T02:29:37.282574Z",
          "iopub.status.idle": "2025-08-10T02:29:37.448056Z",
          "shell.execute_reply.started": "2025-08-10T02:29:37.282526Z",
          "shell.execute_reply": "2025-08-10T02:29:37.447012Z"
        },
        "trusted": true,
        "id": "2iuEFVn1q-lL",
        "outputId": "60e03832-487e-46f9-8508-d7105155a6cc"
      },
      "outputs": [
        {
          "execution_count": 26,
          "output_type": "execute_result",
          "data": {
            "text/plain": "       FlightDate                                    Airline Origin Dest  \\\n0      2022-04-04  Commutair Aka Champlain Enterprises, Inc.    GJT  DEN   \n1      2022-04-04  Commutair Aka Champlain Enterprises, Inc.    HRL  IAH   \n2      2022-04-04  Commutair Aka Champlain Enterprises, Inc.    DRO  DEN   \n3      2022-04-04  Commutair Aka Champlain Enterprises, Inc.    IAH  GPT   \n4      2022-04-04  Commutair Aka Champlain Enterprises, Inc.    DRO  DEN   \n...           ...                                        ...    ...  ...   \n590537 2022-03-31                          Republic Airlines    MSY  EWR   \n590538 2022-03-17                          Republic Airlines    CLT  EWR   \n590539 2022-03-08                          Republic Airlines    ALB  ORD   \n590540 2022-03-25                          Republic Airlines    EWR  PIT   \n590541 2022-03-07                          Republic Airlines    EWR  RDU   \n\n        Cancelled  \n0           False  \n1           False  \n2           False  \n3           False  \n4           False  \n...           ...  \n590537      False  \n590538       True  \n590539      False  \n590540      False  \n590541      False  \n\n[4078318 rows x 5 columns]",
            "text/html": "<div>\n<style scoped>\n    .dataframe tbody tr th:only-of-type {\n        vertical-align: middle;\n    }\n\n    .dataframe tbody tr th {\n        vertical-align: top;\n    }\n\n    .dataframe thead th {\n        text-align: right;\n    }\n</style>\n<table border=\"1\" class=\"dataframe\">\n  <thead>\n    <tr style=\"text-align: right;\">\n      <th></th>\n      <th>FlightDate</th>\n      <th>Airline</th>\n      <th>Origin</th>\n      <th>Dest</th>\n      <th>Cancelled</th>\n    </tr>\n  </thead>\n  <tbody>\n    <tr>\n      <th>0</th>\n      <td>2022-04-04</td>\n      <td>Commutair Aka Champlain Enterprises, Inc.</td>\n      <td>GJT</td>\n      <td>DEN</td>\n      <td>False</td>\n    </tr>\n    <tr>\n      <th>1</th>\n      <td>2022-04-04</td>\n      <td>Commutair Aka Champlain Enterprises, Inc.</td>\n      <td>HRL</td>\n      <td>IAH</td>\n      <td>False</td>\n    </tr>\n    <tr>\n      <th>2</th>\n      <td>2022-04-04</td>\n      <td>Commutair Aka Champlain Enterprises, Inc.</td>\n      <td>DRO</td>\n      <td>DEN</td>\n      <td>False</td>\n    </tr>\n    <tr>\n      <th>3</th>\n      <td>2022-04-04</td>\n      <td>Commutair Aka Champlain Enterprises, Inc.</td>\n      <td>IAH</td>\n      <td>GPT</td>\n      <td>False</td>\n    </tr>\n    <tr>\n      <th>4</th>\n      <td>2022-04-04</td>\n      <td>Commutair Aka Champlain Enterprises, Inc.</td>\n      <td>DRO</td>\n      <td>DEN</td>\n      <td>False</td>\n    </tr>\n    <tr>\n      <th>...</th>\n      <td>...</td>\n      <td>...</td>\n      <td>...</td>\n      <td>...</td>\n      <td>...</td>\n    </tr>\n    <tr>\n      <th>590537</th>\n      <td>2022-03-31</td>\n      <td>Republic Airlines</td>\n      <td>MSY</td>\n      <td>EWR</td>\n      <td>False</td>\n    </tr>\n    <tr>\n      <th>590538</th>\n      <td>2022-03-17</td>\n      <td>Republic Airlines</td>\n      <td>CLT</td>\n      <td>EWR</td>\n      <td>True</td>\n    </tr>\n    <tr>\n      <th>590539</th>\n      <td>2022-03-08</td>\n      <td>Republic Airlines</td>\n      <td>ALB</td>\n      <td>ORD</td>\n      <td>False</td>\n    </tr>\n    <tr>\n      <th>590540</th>\n      <td>2022-03-25</td>\n      <td>Republic Airlines</td>\n      <td>EWR</td>\n      <td>PIT</td>\n      <td>False</td>\n    </tr>\n    <tr>\n      <th>590541</th>\n      <td>2022-03-07</td>\n      <td>Republic Airlines</td>\n      <td>EWR</td>\n      <td>RDU</td>\n      <td>False</td>\n    </tr>\n  </tbody>\n</table>\n<p>4078318 rows × 5 columns</p>\n</div>"
          },
          "metadata": {}
        }
      ],
      "execution_count": null
    },
    {
      "cell_type": "code",
      "source": [
        "df[[c for c in df.columns if 'Time' in c]]"
      ],
      "metadata": {
        "execution": {
          "iopub.status.busy": "2025-08-10T02:29:48.422972Z",
          "iopub.execute_input": "2025-08-10T02:29:48.423376Z",
          "iopub.status.idle": "2025-08-10T02:29:48.611427Z",
          "shell.execute_reply.started": "2025-08-10T02:29:48.423346Z",
          "shell.execute_reply": "2025-08-10T02:29:48.610081Z"
        },
        "trusted": true,
        "id": "K4ITDc06q-lL",
        "outputId": "b127a1f4-fe3d-43bc-d002-c0efeb9776cc"
      },
      "outputs": [
        {
          "execution_count": 27,
          "output_type": "execute_result",
          "data": {
            "text/plain": "        CRSDepTime  DepTime  ArrTime  AirTime  CRSElapsedTime  \\\n0             1133   1123.0   1228.0     40.0            72.0   \n1              732    728.0    848.0     55.0            77.0   \n2             1529   1514.0   1636.0     47.0            70.0   \n3             1435   1430.0   1547.0     57.0            90.0   \n4             1135   1135.0   1251.0     49.0            70.0   \n...            ...      ...      ...      ...             ...   \n590537        1949   2014.0    234.0      NaN           185.0   \n590538        1733   1817.0      NaN      NaN           129.0   \n590539        1700   2318.0     59.0    135.0           158.0   \n590540        2129   2322.0    939.0      NaN            86.0   \n590541        1154   1148.0   1556.0      NaN            99.0   \n\n        ActualElapsedTime DepTimeBlk  CRSArrTime ArrTimeBlk  \n0                    65.0  1100-1159        1245  1200-1259  \n1                    80.0  0700-0759         849  0800-0859  \n2                    82.0  1500-1559        1639  1600-1659  \n3                    77.0  1400-1459        1605  1600-1659  \n4                    76.0  1100-1159        1245  1200-1259  \n...                   ...        ...         ...        ...  \n590537                NaN  1900-1959        2354  2300-2359  \n590538                NaN  1700-1759        1942  1900-1959  \n590539              161.0  1700-1759        1838  1800-1859  \n590540                NaN  2100-2159        2255  2200-2259  \n590541                NaN  1100-1159        1333  1300-1359  \n\n[4078318 rows x 9 columns]",
            "text/html": "<div>\n<style scoped>\n    .dataframe tbody tr th:only-of-type {\n        vertical-align: middle;\n    }\n\n    .dataframe tbody tr th {\n        vertical-align: top;\n    }\n\n    .dataframe thead th {\n        text-align: right;\n    }\n</style>\n<table border=\"1\" class=\"dataframe\">\n  <thead>\n    <tr style=\"text-align: right;\">\n      <th></th>\n      <th>CRSDepTime</th>\n      <th>DepTime</th>\n      <th>ArrTime</th>\n      <th>AirTime</th>\n      <th>CRSElapsedTime</th>\n      <th>ActualElapsedTime</th>\n      <th>DepTimeBlk</th>\n      <th>CRSArrTime</th>\n      <th>ArrTimeBlk</th>\n    </tr>\n  </thead>\n  <tbody>\n    <tr>\n      <th>0</th>\n      <td>1133</td>\n      <td>1123.0</td>\n      <td>1228.0</td>\n      <td>40.0</td>\n      <td>72.0</td>\n      <td>65.0</td>\n      <td>1100-1159</td>\n      <td>1245</td>\n      <td>1200-1259</td>\n    </tr>\n    <tr>\n      <th>1</th>\n      <td>732</td>\n      <td>728.0</td>\n      <td>848.0</td>\n      <td>55.0</td>\n      <td>77.0</td>\n      <td>80.0</td>\n      <td>0700-0759</td>\n      <td>849</td>\n      <td>0800-0859</td>\n    </tr>\n    <tr>\n      <th>2</th>\n      <td>1529</td>\n      <td>1514.0</td>\n      <td>1636.0</td>\n      <td>47.0</td>\n      <td>70.0</td>\n      <td>82.0</td>\n      <td>1500-1559</td>\n      <td>1639</td>\n      <td>1600-1659</td>\n    </tr>\n    <tr>\n      <th>3</th>\n      <td>1435</td>\n      <td>1430.0</td>\n      <td>1547.0</td>\n      <td>57.0</td>\n      <td>90.0</td>\n      <td>77.0</td>\n      <td>1400-1459</td>\n      <td>1605</td>\n      <td>1600-1659</td>\n    </tr>\n    <tr>\n      <th>4</th>\n      <td>1135</td>\n      <td>1135.0</td>\n      <td>1251.0</td>\n      <td>49.0</td>\n      <td>70.0</td>\n      <td>76.0</td>\n      <td>1100-1159</td>\n      <td>1245</td>\n      <td>1200-1259</td>\n    </tr>\n    <tr>\n      <th>...</th>\n      <td>...</td>\n      <td>...</td>\n      <td>...</td>\n      <td>...</td>\n      <td>...</td>\n      <td>...</td>\n      <td>...</td>\n      <td>...</td>\n      <td>...</td>\n    </tr>\n    <tr>\n      <th>590537</th>\n      <td>1949</td>\n      <td>2014.0</td>\n      <td>234.0</td>\n      <td>NaN</td>\n      <td>185.0</td>\n      <td>NaN</td>\n      <td>1900-1959</td>\n      <td>2354</td>\n      <td>2300-2359</td>\n    </tr>\n    <tr>\n      <th>590538</th>\n      <td>1733</td>\n      <td>1817.0</td>\n      <td>NaN</td>\n      <td>NaN</td>\n      <td>129.0</td>\n      <td>NaN</td>\n      <td>1700-1759</td>\n      <td>1942</td>\n      <td>1900-1959</td>\n    </tr>\n    <tr>\n      <th>590539</th>\n      <td>1700</td>\n      <td>2318.0</td>\n      <td>59.0</td>\n      <td>135.0</td>\n      <td>158.0</td>\n      <td>161.0</td>\n      <td>1700-1759</td>\n      <td>1838</td>\n      <td>1800-1859</td>\n    </tr>\n    <tr>\n      <th>590540</th>\n      <td>2129</td>\n      <td>2322.0</td>\n      <td>939.0</td>\n      <td>NaN</td>\n      <td>86.0</td>\n      <td>NaN</td>\n      <td>2100-2159</td>\n      <td>2255</td>\n      <td>2200-2259</td>\n    </tr>\n    <tr>\n      <th>590541</th>\n      <td>1154</td>\n      <td>1148.0</td>\n      <td>1556.0</td>\n      <td>NaN</td>\n      <td>99.0</td>\n      <td>NaN</td>\n      <td>1100-1159</td>\n      <td>1333</td>\n      <td>1300-1359</td>\n    </tr>\n  </tbody>\n</table>\n<p>4078318 rows × 9 columns</p>\n</div>"
          },
          "metadata": {}
        }
      ],
      "execution_count": null
    },
    {
      "cell_type": "markdown",
      "source": [
        "## Select dtypes"
      ],
      "metadata": {
        "id": "W-EcanK8q-lL"
      }
    },
    {
      "cell_type": "code",
      "source": [
        "df.select_dtypes('int')"
      ],
      "metadata": {
        "execution": {
          "iopub.status.busy": "2025-08-10T02:30:07.829019Z",
          "iopub.execute_input": "2025-08-10T02:30:07.829373Z",
          "iopub.status.idle": "2025-08-10T02:30:08.705799Z",
          "shell.execute_reply.started": "2025-08-10T02:30:07.829347Z",
          "shell.execute_reply": "2025-08-10T02:30:08.704769Z"
        },
        "trusted": true,
        "id": "3sYS1zfmq-lM",
        "outputId": "26920e66-87ac-4417-e0fe-9f2fcd230dbe"
      },
      "outputs": [
        {
          "execution_count": 28,
          "output_type": "execute_result",
          "data": {
            "text/plain": "        CRSDepTime  Year  Quarter  Month  DayofMonth  DayOfWeek  \\\n0             1133  2022        2      4           4          1   \n1              732  2022        2      4           4          1   \n2             1529  2022        2      4           4          1   \n3             1435  2022        2      4           4          1   \n4             1135  2022        2      4           4          1   \n...            ...   ...      ...    ...         ...        ...   \n590537        1949  2022        1      3          31          4   \n590538        1733  2022        1      3          17          4   \n590539        1700  2022        1      3           8          2   \n590540        2129  2022        1      3          25          5   \n590541        1154  2022        1      3           7          1   \n\n        DOT_ID_Marketing_Airline  Flight_Number_Marketing_Airline  \\\n0                          19977                             4301   \n1                          19977                             4299   \n2                          19977                             4298   \n3                          19977                             4296   \n4                          19977                             4295   \n...                          ...                              ...   \n590537                     19977                             3621   \n590538                     19977                             3437   \n590539                     19977                             3413   \n590540                     19977                             3450   \n590541                     19977                             3585   \n\n        DOT_ID_Operating_Airline  Flight_Number_Operating_Airline  ...  \\\n0                          20445                             4301  ...   \n1                          20445                             4299  ...   \n2                          20445                             4298  ...   \n3                          20445                             4296  ...   \n4                          20445                             4295  ...   \n...                          ...                              ...  ...   \n590537                     20452                             3621  ...   \n590538                     20452                             3437  ...   \n590539                     20452                             3413  ...   \n590540                     20452                             3450  ...   \n590541                     20452                             3585  ...   \n\n        OriginStateFips  OriginWac  DestAirportID  DestAirportSeqID  \\\n0                     8         82          11292           1129202   \n1                    48         74          12266           1226603   \n2                     8         82          11292           1129202   \n3                    48         74          11973           1197302   \n4                     8         82          11292           1129202   \n...                 ...        ...            ...               ...   \n590537               22         72          11618           1161802   \n590538               37         36          11618           1161802   \n590539               36         22          13930           1393007   \n590540               34         21          14122           1412202   \n590541               34         21          14492           1449202   \n\n        DestCityMarketID  DestStateFips  DestWac  CRSArrTime  DistanceGroup  \\\n0                  30325              8       82        1245              1   \n1                  31453             48       74         849              2   \n2                  30325              8       82        1639              2   \n3                  31973             28       53        1605              2   \n4                  30325              8       82        1245              2   \n...                  ...            ...      ...         ...            ...   \n590537             31703             34       21        2354              5   \n590538             31703             34       21        1942              3   \n590539             30977             17       41        1838              3   \n590540             30198             42       23        2255              2   \n590541             34492             37       36        1333              2   \n\n        DivAirportLandings  \n0                        0  \n1                        0  \n2                        0  \n3                        0  \n4                        0  \n...                    ...  \n590537                   1  \n590538                   0  \n590539                   0  \n590540                   1  \n590541                   1  \n\n[4078318 rows x 23 columns]",
            "text/html": "<div>\n<style scoped>\n    .dataframe tbody tr th:only-of-type {\n        vertical-align: middle;\n    }\n\n    .dataframe tbody tr th {\n        vertical-align: top;\n    }\n\n    .dataframe thead th {\n        text-align: right;\n    }\n</style>\n<table border=\"1\" class=\"dataframe\">\n  <thead>\n    <tr style=\"text-align: right;\">\n      <th></th>\n      <th>CRSDepTime</th>\n      <th>Year</th>\n      <th>Quarter</th>\n      <th>Month</th>\n      <th>DayofMonth</th>\n      <th>DayOfWeek</th>\n      <th>DOT_ID_Marketing_Airline</th>\n      <th>Flight_Number_Marketing_Airline</th>\n      <th>DOT_ID_Operating_Airline</th>\n      <th>Flight_Number_Operating_Airline</th>\n      <th>...</th>\n      <th>OriginStateFips</th>\n      <th>OriginWac</th>\n      <th>DestAirportID</th>\n      <th>DestAirportSeqID</th>\n      <th>DestCityMarketID</th>\n      <th>DestStateFips</th>\n      <th>DestWac</th>\n      <th>CRSArrTime</th>\n      <th>DistanceGroup</th>\n      <th>DivAirportLandings</th>\n    </tr>\n  </thead>\n  <tbody>\n    <tr>\n      <th>0</th>\n      <td>1133</td>\n      <td>2022</td>\n      <td>2</td>\n      <td>4</td>\n      <td>4</td>\n      <td>1</td>\n      <td>19977</td>\n      <td>4301</td>\n      <td>20445</td>\n      <td>4301</td>\n      <td>...</td>\n      <td>8</td>\n      <td>82</td>\n      <td>11292</td>\n      <td>1129202</td>\n      <td>30325</td>\n      <td>8</td>\n      <td>82</td>\n      <td>1245</td>\n      <td>1</td>\n      <td>0</td>\n    </tr>\n    <tr>\n      <th>1</th>\n      <td>732</td>\n      <td>2022</td>\n      <td>2</td>\n      <td>4</td>\n      <td>4</td>\n      <td>1</td>\n      <td>19977</td>\n      <td>4299</td>\n      <td>20445</td>\n      <td>4299</td>\n      <td>...</td>\n      <td>48</td>\n      <td>74</td>\n      <td>12266</td>\n      <td>1226603</td>\n      <td>31453</td>\n      <td>48</td>\n      <td>74</td>\n      <td>849</td>\n      <td>2</td>\n      <td>0</td>\n    </tr>\n    <tr>\n      <th>2</th>\n      <td>1529</td>\n      <td>2022</td>\n      <td>2</td>\n      <td>4</td>\n      <td>4</td>\n      <td>1</td>\n      <td>19977</td>\n      <td>4298</td>\n      <td>20445</td>\n      <td>4298</td>\n      <td>...</td>\n      <td>8</td>\n      <td>82</td>\n      <td>11292</td>\n      <td>1129202</td>\n      <td>30325</td>\n      <td>8</td>\n      <td>82</td>\n      <td>1639</td>\n      <td>2</td>\n      <td>0</td>\n    </tr>\n    <tr>\n      <th>3</th>\n      <td>1435</td>\n      <td>2022</td>\n      <td>2</td>\n      <td>4</td>\n      <td>4</td>\n      <td>1</td>\n      <td>19977</td>\n      <td>4296</td>\n      <td>20445</td>\n      <td>4296</td>\n      <td>...</td>\n      <td>48</td>\n      <td>74</td>\n      <td>11973</td>\n      <td>1197302</td>\n      <td>31973</td>\n      <td>28</td>\n      <td>53</td>\n      <td>1605</td>\n      <td>2</td>\n      <td>0</td>\n    </tr>\n    <tr>\n      <th>4</th>\n      <td>1135</td>\n      <td>2022</td>\n      <td>2</td>\n      <td>4</td>\n      <td>4</td>\n      <td>1</td>\n      <td>19977</td>\n      <td>4295</td>\n      <td>20445</td>\n      <td>4295</td>\n      <td>...</td>\n      <td>8</td>\n      <td>82</td>\n      <td>11292</td>\n      <td>1129202</td>\n      <td>30325</td>\n      <td>8</td>\n      <td>82</td>\n      <td>1245</td>\n      <td>2</td>\n      <td>0</td>\n    </tr>\n    <tr>\n      <th>...</th>\n      <td>...</td>\n      <td>...</td>\n      <td>...</td>\n      <td>...</td>\n      <td>...</td>\n      <td>...</td>\n      <td>...</td>\n      <td>...</td>\n      <td>...</td>\n      <td>...</td>\n      <td>...</td>\n      <td>...</td>\n      <td>...</td>\n      <td>...</td>\n      <td>...</td>\n      <td>...</td>\n      <td>...</td>\n      <td>...</td>\n      <td>...</td>\n      <td>...</td>\n      <td>...</td>\n    </tr>\n    <tr>\n      <th>590537</th>\n      <td>1949</td>\n      <td>2022</td>\n      <td>1</td>\n      <td>3</td>\n      <td>31</td>\n      <td>4</td>\n      <td>19977</td>\n      <td>3621</td>\n      <td>20452</td>\n      <td>3621</td>\n      <td>...</td>\n      <td>22</td>\n      <td>72</td>\n      <td>11618</td>\n      <td>1161802</td>\n      <td>31703</td>\n      <td>34</td>\n      <td>21</td>\n      <td>2354</td>\n      <td>5</td>\n      <td>1</td>\n    </tr>\n    <tr>\n      <th>590538</th>\n      <td>1733</td>\n      <td>2022</td>\n      <td>1</td>\n      <td>3</td>\n      <td>17</td>\n      <td>4</td>\n      <td>19977</td>\n      <td>3437</td>\n      <td>20452</td>\n      <td>3437</td>\n      <td>...</td>\n      <td>37</td>\n      <td>36</td>\n      <td>11618</td>\n      <td>1161802</td>\n      <td>31703</td>\n      <td>34</td>\n      <td>21</td>\n      <td>1942</td>\n      <td>3</td>\n      <td>0</td>\n    </tr>\n    <tr>\n      <th>590539</th>\n      <td>1700</td>\n      <td>2022</td>\n      <td>1</td>\n      <td>3</td>\n      <td>8</td>\n      <td>2</td>\n      <td>19977</td>\n      <td>3413</td>\n      <td>20452</td>\n      <td>3413</td>\n      <td>...</td>\n      <td>36</td>\n      <td>22</td>\n      <td>13930</td>\n      <td>1393007</td>\n      <td>30977</td>\n      <td>17</td>\n      <td>41</td>\n      <td>1838</td>\n      <td>3</td>\n      <td>0</td>\n    </tr>\n    <tr>\n      <th>590540</th>\n      <td>2129</td>\n      <td>2022</td>\n      <td>1</td>\n      <td>3</td>\n      <td>25</td>\n      <td>5</td>\n      <td>19977</td>\n      <td>3450</td>\n      <td>20452</td>\n      <td>3450</td>\n      <td>...</td>\n      <td>34</td>\n      <td>21</td>\n      <td>14122</td>\n      <td>1412202</td>\n      <td>30198</td>\n      <td>42</td>\n      <td>23</td>\n      <td>2255</td>\n      <td>2</td>\n      <td>1</td>\n    </tr>\n    <tr>\n      <th>590541</th>\n      <td>1154</td>\n      <td>2022</td>\n      <td>1</td>\n      <td>3</td>\n      <td>7</td>\n      <td>1</td>\n      <td>19977</td>\n      <td>3585</td>\n      <td>20452</td>\n      <td>3585</td>\n      <td>...</td>\n      <td>34</td>\n      <td>21</td>\n      <td>14492</td>\n      <td>1449202</td>\n      <td>34492</td>\n      <td>37</td>\n      <td>36</td>\n      <td>1333</td>\n      <td>2</td>\n      <td>1</td>\n    </tr>\n  </tbody>\n</table>\n<p>4078318 rows × 23 columns</p>\n</div>"
          },
          "metadata": {}
        }
      ],
      "execution_count": null
    },
    {
      "cell_type": "markdown",
      "source": [
        "## Select as series vs dataframe"
      ],
      "metadata": {
        "id": "wAUA8e1xq-lM"
      }
    },
    {
      "cell_type": "code",
      "source": [
        "df['Airline']"
      ],
      "metadata": {
        "execution": {
          "iopub.status.busy": "2025-08-10T02:34:45.823283Z",
          "iopub.execute_input": "2025-08-10T02:34:45.823714Z",
          "iopub.status.idle": "2025-08-10T02:34:45.833582Z",
          "shell.execute_reply.started": "2025-08-10T02:34:45.823667Z",
          "shell.execute_reply": "2025-08-10T02:34:45.832266Z"
        },
        "trusted": true,
        "id": "Qn6RKC-Kq-lM",
        "outputId": "d0388054-e23a-457e-f910-8801658f711e"
      },
      "outputs": [
        {
          "execution_count": 29,
          "output_type": "execute_result",
          "data": {
            "text/plain": "0         Commutair Aka Champlain Enterprises, Inc.\n1         Commutair Aka Champlain Enterprises, Inc.\n2         Commutair Aka Champlain Enterprises, Inc.\n3         Commutair Aka Champlain Enterprises, Inc.\n4         Commutair Aka Champlain Enterprises, Inc.\n                            ...                    \n590537                            Republic Airlines\n590538                            Republic Airlines\n590539                            Republic Airlines\n590540                            Republic Airlines\n590541                            Republic Airlines\nName: Airline, Length: 4078318, dtype: object"
          },
          "metadata": {}
        }
      ],
      "execution_count": null
    },
    {
      "cell_type": "code",
      "source": [
        "df[['Airline']]"
      ],
      "metadata": {
        "execution": {
          "iopub.status.busy": "2025-08-10T02:34:56.587051Z",
          "iopub.execute_input": "2025-08-10T02:34:56.58743Z",
          "iopub.status.idle": "2025-08-10T02:34:56.65019Z",
          "shell.execute_reply.started": "2025-08-10T02:34:56.587398Z",
          "shell.execute_reply": "2025-08-10T02:34:56.648922Z"
        },
        "trusted": true,
        "id": "oSHlGZ6Kq-lM",
        "outputId": "ab68c5cb-d6f6-42ac-f4bb-f1dc8ee9b901"
      },
      "outputs": [
        {
          "execution_count": 30,
          "output_type": "execute_result",
          "data": {
            "text/plain": "                                          Airline\n0       Commutair Aka Champlain Enterprises, Inc.\n1       Commutair Aka Champlain Enterprises, Inc.\n2       Commutair Aka Champlain Enterprises, Inc.\n3       Commutair Aka Champlain Enterprises, Inc.\n4       Commutair Aka Champlain Enterprises, Inc.\n...                                           ...\n590537                          Republic Airlines\n590538                          Republic Airlines\n590539                          Republic Airlines\n590540                          Republic Airlines\n590541                          Republic Airlines\n\n[4078318 rows x 1 columns]",
            "text/html": "<div>\n<style scoped>\n    .dataframe tbody tr th:only-of-type {\n        vertical-align: middle;\n    }\n\n    .dataframe tbody tr th {\n        vertical-align: top;\n    }\n\n    .dataframe thead th {\n        text-align: right;\n    }\n</style>\n<table border=\"1\" class=\"dataframe\">\n  <thead>\n    <tr style=\"text-align: right;\">\n      <th></th>\n      <th>Airline</th>\n    </tr>\n  </thead>\n  <tbody>\n    <tr>\n      <th>0</th>\n      <td>Commutair Aka Champlain Enterprises, Inc.</td>\n    </tr>\n    <tr>\n      <th>1</th>\n      <td>Commutair Aka Champlain Enterprises, Inc.</td>\n    </tr>\n    <tr>\n      <th>2</th>\n      <td>Commutair Aka Champlain Enterprises, Inc.</td>\n    </tr>\n    <tr>\n      <th>3</th>\n      <td>Commutair Aka Champlain Enterprises, Inc.</td>\n    </tr>\n    <tr>\n      <th>4</th>\n      <td>Commutair Aka Champlain Enterprises, Inc.</td>\n    </tr>\n    <tr>\n      <th>...</th>\n      <td>...</td>\n    </tr>\n    <tr>\n      <th>590537</th>\n      <td>Republic Airlines</td>\n    </tr>\n    <tr>\n      <th>590538</th>\n      <td>Republic Airlines</td>\n    </tr>\n    <tr>\n      <th>590539</th>\n      <td>Republic Airlines</td>\n    </tr>\n    <tr>\n      <th>590540</th>\n      <td>Republic Airlines</td>\n    </tr>\n    <tr>\n      <th>590541</th>\n      <td>Republic Airlines</td>\n    </tr>\n  </tbody>\n</table>\n<p>4078318 rows × 1 columns</p>\n</div>"
          },
          "metadata": {}
        }
      ],
      "execution_count": null
    },
    {
      "cell_type": "markdown",
      "source": [
        "## loc and iloc"
      ],
      "metadata": {
        "id": "faUBVQ7wq-lN"
      }
    },
    {
      "cell_type": "code",
      "source": [
        "type(df.iloc[[1]])"
      ],
      "metadata": {
        "execution": {
          "iopub.status.busy": "2025-08-10T02:38:13.767582Z",
          "iopub.execute_input": "2025-08-10T02:38:13.768382Z",
          "iopub.status.idle": "2025-08-10T02:38:13.776378Z",
          "shell.execute_reply.started": "2025-08-10T02:38:13.768344Z",
          "shell.execute_reply": "2025-08-10T02:38:13.774525Z"
        },
        "trusted": true,
        "id": "vP4PilMgq-lN",
        "outputId": "33149147-b5e5-4529-b6d9-142caddcb200"
      },
      "outputs": [
        {
          "execution_count": 38,
          "output_type": "execute_result",
          "data": {
            "text/plain": "pandas.core.frame.DataFrame"
          },
          "metadata": {}
        }
      ],
      "execution_count": null
    },
    {
      "cell_type": "code",
      "source": [
        "df.iloc[:5, :5]"
      ],
      "metadata": {
        "execution": {
          "iopub.status.busy": "2025-08-10T02:37:52.693729Z",
          "iopub.execute_input": "2025-08-10T02:37:52.694112Z",
          "iopub.status.idle": "2025-08-10T02:37:52.708599Z",
          "shell.execute_reply.started": "2025-08-10T02:37:52.694083Z",
          "shell.execute_reply": "2025-08-10T02:37:52.707289Z"
        },
        "trusted": true,
        "id": "kdznjwyDq-lO",
        "outputId": "9c7a4da1-35c6-4d34-fd46-22cea6e31cc7"
      },
      "outputs": [
        {
          "execution_count": 35,
          "output_type": "execute_result",
          "data": {
            "text/plain": "  FlightDate                                    Airline Origin Dest  Cancelled\n0 2022-04-04  Commutair Aka Champlain Enterprises, Inc.    GJT  DEN      False\n1 2022-04-04  Commutair Aka Champlain Enterprises, Inc.    HRL  IAH      False\n2 2022-04-04  Commutair Aka Champlain Enterprises, Inc.    DRO  DEN      False\n3 2022-04-04  Commutair Aka Champlain Enterprises, Inc.    IAH  GPT      False\n4 2022-04-04  Commutair Aka Champlain Enterprises, Inc.    DRO  DEN      False",
            "text/html": "<div>\n<style scoped>\n    .dataframe tbody tr th:only-of-type {\n        vertical-align: middle;\n    }\n\n    .dataframe tbody tr th {\n        vertical-align: top;\n    }\n\n    .dataframe thead th {\n        text-align: right;\n    }\n</style>\n<table border=\"1\" class=\"dataframe\">\n  <thead>\n    <tr style=\"text-align: right;\">\n      <th></th>\n      <th>FlightDate</th>\n      <th>Airline</th>\n      <th>Origin</th>\n      <th>Dest</th>\n      <th>Cancelled</th>\n    </tr>\n  </thead>\n  <tbody>\n    <tr>\n      <th>0</th>\n      <td>2022-04-04</td>\n      <td>Commutair Aka Champlain Enterprises, Inc.</td>\n      <td>GJT</td>\n      <td>DEN</td>\n      <td>False</td>\n    </tr>\n    <tr>\n      <th>1</th>\n      <td>2022-04-04</td>\n      <td>Commutair Aka Champlain Enterprises, Inc.</td>\n      <td>HRL</td>\n      <td>IAH</td>\n      <td>False</td>\n    </tr>\n    <tr>\n      <th>2</th>\n      <td>2022-04-04</td>\n      <td>Commutair Aka Champlain Enterprises, Inc.</td>\n      <td>DRO</td>\n      <td>DEN</td>\n      <td>False</td>\n    </tr>\n    <tr>\n      <th>3</th>\n      <td>2022-04-04</td>\n      <td>Commutair Aka Champlain Enterprises, Inc.</td>\n      <td>IAH</td>\n      <td>GPT</td>\n      <td>False</td>\n    </tr>\n    <tr>\n      <th>4</th>\n      <td>2022-04-04</td>\n      <td>Commutair Aka Champlain Enterprises, Inc.</td>\n      <td>DRO</td>\n      <td>DEN</td>\n      <td>False</td>\n    </tr>\n  </tbody>\n</table>\n</div>"
          },
          "metadata": {}
        }
      ],
      "execution_count": null
    },
    {
      "cell_type": "code",
      "source": [
        "df.iloc[[5]]"
      ],
      "metadata": {
        "execution": {
          "iopub.status.busy": "2025-08-10T02:37:58.874541Z",
          "iopub.execute_input": "2025-08-10T02:37:58.874899Z",
          "iopub.status.idle": "2025-08-10T02:37:58.897568Z",
          "shell.execute_reply.started": "2025-08-10T02:37:58.874872Z",
          "shell.execute_reply": "2025-08-10T02:37:58.896244Z"
        },
        "trusted": true,
        "id": "jpxtlICSq-lO",
        "outputId": "c94d7990-63db-4123-c674-2b8e0d4c1ded"
      },
      "outputs": [
        {
          "execution_count": 36,
          "output_type": "execute_result",
          "data": {
            "text/plain": "  FlightDate                                    Airline Origin Dest  \\\n5 2022-04-04  Commutair Aka Champlain Enterprises, Inc.    DEN  TUL   \n\n   Cancelled  Diverted  CRSDepTime  DepTime  DepDelayMinutes  DepDelay  ...  \\\n5      False     False         955    952.0              0.0      -3.0  ...   \n\n   WheelsOff  WheelsOn  TaxiIn  CRSArrTime  ArrDelay  ArrDel15  \\\n5     1017.0    1234.0     4.0        1240      -2.0       0.0   \n\n   ArrivalDelayGroups  ArrTimeBlk  DistanceGroup  DivAirportLandings  \n5                -1.0   1200-1259              3                   0  \n\n[1 rows x 61 columns]",
            "text/html": "<div>\n<style scoped>\n    .dataframe tbody tr th:only-of-type {\n        vertical-align: middle;\n    }\n\n    .dataframe tbody tr th {\n        vertical-align: top;\n    }\n\n    .dataframe thead th {\n        text-align: right;\n    }\n</style>\n<table border=\"1\" class=\"dataframe\">\n  <thead>\n    <tr style=\"text-align: right;\">\n      <th></th>\n      <th>FlightDate</th>\n      <th>Airline</th>\n      <th>Origin</th>\n      <th>Dest</th>\n      <th>Cancelled</th>\n      <th>Diverted</th>\n      <th>CRSDepTime</th>\n      <th>DepTime</th>\n      <th>DepDelayMinutes</th>\n      <th>DepDelay</th>\n      <th>...</th>\n      <th>WheelsOff</th>\n      <th>WheelsOn</th>\n      <th>TaxiIn</th>\n      <th>CRSArrTime</th>\n      <th>ArrDelay</th>\n      <th>ArrDel15</th>\n      <th>ArrivalDelayGroups</th>\n      <th>ArrTimeBlk</th>\n      <th>DistanceGroup</th>\n      <th>DivAirportLandings</th>\n    </tr>\n  </thead>\n  <tbody>\n    <tr>\n      <th>5</th>\n      <td>2022-04-04</td>\n      <td>Commutair Aka Champlain Enterprises, Inc.</td>\n      <td>DEN</td>\n      <td>TUL</td>\n      <td>False</td>\n      <td>False</td>\n      <td>955</td>\n      <td>952.0</td>\n      <td>0.0</td>\n      <td>-3.0</td>\n      <td>...</td>\n      <td>1017.0</td>\n      <td>1234.0</td>\n      <td>4.0</td>\n      <td>1240</td>\n      <td>-2.0</td>\n      <td>0.0</td>\n      <td>-1.0</td>\n      <td>1200-1259</td>\n      <td>3</td>\n      <td>0</td>\n    </tr>\n  </tbody>\n</table>\n<p>1 rows × 61 columns</p>\n</div>"
          },
          "metadata": {}
        }
      ],
      "execution_count": null
    },
    {
      "cell_type": "code",
      "source": [
        "df.iloc[:, 1]"
      ],
      "metadata": {
        "execution": {
          "iopub.status.busy": "2025-08-10T02:38:22.174766Z",
          "iopub.execute_input": "2025-08-10T02:38:22.175191Z",
          "iopub.status.idle": "2025-08-10T02:38:22.184859Z",
          "shell.execute_reply.started": "2025-08-10T02:38:22.175152Z",
          "shell.execute_reply": "2025-08-10T02:38:22.183538Z"
        },
        "trusted": true,
        "id": "QL1FhRv9q-lO",
        "outputId": "5c9d7391-a201-4a99-b0a8-1af226253015"
      },
      "outputs": [
        {
          "execution_count": 39,
          "output_type": "execute_result",
          "data": {
            "text/plain": "0         Commutair Aka Champlain Enterprises, Inc.\n1         Commutair Aka Champlain Enterprises, Inc.\n2         Commutair Aka Champlain Enterprises, Inc.\n3         Commutair Aka Champlain Enterprises, Inc.\n4         Commutair Aka Champlain Enterprises, Inc.\n                            ...                    \n590537                            Republic Airlines\n590538                            Republic Airlines\n590539                            Republic Airlines\n590540                            Republic Airlines\n590541                            Republic Airlines\nName: Airline, Length: 4078318, dtype: object"
          },
          "metadata": {}
        }
      ],
      "execution_count": null
    },
    {
      "cell_type": "code",
      "source": [
        "df.iloc[:, [1, 2]]"
      ],
      "metadata": {
        "execution": {
          "iopub.status.busy": "2025-08-10T02:38:29.28365Z",
          "iopub.execute_input": "2025-08-10T02:38:29.284028Z",
          "iopub.status.idle": "2025-08-10T02:38:29.393978Z",
          "shell.execute_reply.started": "2025-08-10T02:38:29.284001Z",
          "shell.execute_reply": "2025-08-10T02:38:29.3926Z"
        },
        "trusted": true,
        "id": "XCdP-Yo6q-le",
        "outputId": "b2a0a0b3-76fb-4bab-a39f-0e68e7c76c4a"
      },
      "outputs": [
        {
          "execution_count": 40,
          "output_type": "execute_result",
          "data": {
            "text/plain": "                                          Airline Origin\n0       Commutair Aka Champlain Enterprises, Inc.    GJT\n1       Commutair Aka Champlain Enterprises, Inc.    HRL\n2       Commutair Aka Champlain Enterprises, Inc.    DRO\n3       Commutair Aka Champlain Enterprises, Inc.    IAH\n4       Commutair Aka Champlain Enterprises, Inc.    DRO\n...                                           ...    ...\n590537                          Republic Airlines    MSY\n590538                          Republic Airlines    CLT\n590539                          Republic Airlines    ALB\n590540                          Republic Airlines    EWR\n590541                          Republic Airlines    EWR\n\n[4078318 rows x 2 columns]",
            "text/html": "<div>\n<style scoped>\n    .dataframe tbody tr th:only-of-type {\n        vertical-align: middle;\n    }\n\n    .dataframe tbody tr th {\n        vertical-align: top;\n    }\n\n    .dataframe thead th {\n        text-align: right;\n    }\n</style>\n<table border=\"1\" class=\"dataframe\">\n  <thead>\n    <tr style=\"text-align: right;\">\n      <th></th>\n      <th>Airline</th>\n      <th>Origin</th>\n    </tr>\n  </thead>\n  <tbody>\n    <tr>\n      <th>0</th>\n      <td>Commutair Aka Champlain Enterprises, Inc.</td>\n      <td>GJT</td>\n    </tr>\n    <tr>\n      <th>1</th>\n      <td>Commutair Aka Champlain Enterprises, Inc.</td>\n      <td>HRL</td>\n    </tr>\n    <tr>\n      <th>2</th>\n      <td>Commutair Aka Champlain Enterprises, Inc.</td>\n      <td>DRO</td>\n    </tr>\n    <tr>\n      <th>3</th>\n      <td>Commutair Aka Champlain Enterprises, Inc.</td>\n      <td>IAH</td>\n    </tr>\n    <tr>\n      <th>4</th>\n      <td>Commutair Aka Champlain Enterprises, Inc.</td>\n      <td>DRO</td>\n    </tr>\n    <tr>\n      <th>...</th>\n      <td>...</td>\n      <td>...</td>\n    </tr>\n    <tr>\n      <th>590537</th>\n      <td>Republic Airlines</td>\n      <td>MSY</td>\n    </tr>\n    <tr>\n      <th>590538</th>\n      <td>Republic Airlines</td>\n      <td>CLT</td>\n    </tr>\n    <tr>\n      <th>590539</th>\n      <td>Republic Airlines</td>\n      <td>ALB</td>\n    </tr>\n    <tr>\n      <th>590540</th>\n      <td>Republic Airlines</td>\n      <td>EWR</td>\n    </tr>\n    <tr>\n      <th>590541</th>\n      <td>Republic Airlines</td>\n      <td>EWR</td>\n    </tr>\n  </tbody>\n</table>\n<p>4078318 rows × 2 columns</p>\n</div>"
          },
          "metadata": {}
        }
      ],
      "execution_count": null
    },
    {
      "cell_type": "code",
      "source": [
        "df.loc[:, ['Airline', 'Origin']]"
      ],
      "metadata": {
        "execution": {
          "iopub.status.busy": "2025-08-10T02:38:35.534818Z",
          "iopub.execute_input": "2025-08-10T02:38:35.535189Z",
          "iopub.status.idle": "2025-08-10T02:38:35.638136Z",
          "shell.execute_reply.started": "2025-08-10T02:38:35.535158Z",
          "shell.execute_reply": "2025-08-10T02:38:35.636434Z"
        },
        "trusted": true,
        "id": "dGzi_SJxq-le",
        "outputId": "5cf9d2f0-15bf-4efa-9343-eadd4cc11fb5"
      },
      "outputs": [
        {
          "execution_count": 41,
          "output_type": "execute_result",
          "data": {
            "text/plain": "                                          Airline Origin\n0       Commutair Aka Champlain Enterprises, Inc.    GJT\n1       Commutair Aka Champlain Enterprises, Inc.    HRL\n2       Commutair Aka Champlain Enterprises, Inc.    DRO\n3       Commutair Aka Champlain Enterprises, Inc.    IAH\n4       Commutair Aka Champlain Enterprises, Inc.    DRO\n...                                           ...    ...\n590537                          Republic Airlines    MSY\n590538                          Republic Airlines    CLT\n590539                          Republic Airlines    ALB\n590540                          Republic Airlines    EWR\n590541                          Republic Airlines    EWR\n\n[4078318 rows x 2 columns]",
            "text/html": "<div>\n<style scoped>\n    .dataframe tbody tr th:only-of-type {\n        vertical-align: middle;\n    }\n\n    .dataframe tbody tr th {\n        vertical-align: top;\n    }\n\n    .dataframe thead th {\n        text-align: right;\n    }\n</style>\n<table border=\"1\" class=\"dataframe\">\n  <thead>\n    <tr style=\"text-align: right;\">\n      <th></th>\n      <th>Airline</th>\n      <th>Origin</th>\n    </tr>\n  </thead>\n  <tbody>\n    <tr>\n      <th>0</th>\n      <td>Commutair Aka Champlain Enterprises, Inc.</td>\n      <td>GJT</td>\n    </tr>\n    <tr>\n      <th>1</th>\n      <td>Commutair Aka Champlain Enterprises, Inc.</td>\n      <td>HRL</td>\n    </tr>\n    <tr>\n      <th>2</th>\n      <td>Commutair Aka Champlain Enterprises, Inc.</td>\n      <td>DRO</td>\n    </tr>\n    <tr>\n      <th>3</th>\n      <td>Commutair Aka Champlain Enterprises, Inc.</td>\n      <td>IAH</td>\n    </tr>\n    <tr>\n      <th>4</th>\n      <td>Commutair Aka Champlain Enterprises, Inc.</td>\n      <td>DRO</td>\n    </tr>\n    <tr>\n      <th>...</th>\n      <td>...</td>\n      <td>...</td>\n    </tr>\n    <tr>\n      <th>590537</th>\n      <td>Republic Airlines</td>\n      <td>MSY</td>\n    </tr>\n    <tr>\n      <th>590538</th>\n      <td>Republic Airlines</td>\n      <td>CLT</td>\n    </tr>\n    <tr>\n      <th>590539</th>\n      <td>Republic Airlines</td>\n      <td>ALB</td>\n    </tr>\n    <tr>\n      <th>590540</th>\n      <td>Republic Airlines</td>\n      <td>EWR</td>\n    </tr>\n    <tr>\n      <th>590541</th>\n      <td>Republic Airlines</td>\n      <td>EWR</td>\n    </tr>\n  </tbody>\n</table>\n<p>4078318 rows × 2 columns</p>\n</div>"
          },
          "metadata": {}
        }
      ],
      "execution_count": null
    },
    {
      "cell_type": "markdown",
      "source": [
        "## loc filter expressions"
      ],
      "metadata": {
        "id": "UqT-ZrvRq-le"
      }
    },
    {
      "cell_type": "code",
      "source": [
        "df.loc[df['Airline'] == 'Spirit Air Lines']"
      ],
      "metadata": {
        "execution": {
          "iopub.status.busy": "2025-08-10T02:38:51.851982Z",
          "iopub.execute_input": "2025-08-10T02:38:51.852361Z",
          "iopub.status.idle": "2025-08-10T02:38:52.286216Z",
          "shell.execute_reply.started": "2025-08-10T02:38:51.852325Z",
          "shell.execute_reply": "2025-08-10T02:38:52.285014Z"
        },
        "trusted": true,
        "id": "HMuuchM8q-le",
        "outputId": "622577b6-0365-4181-d910-76a33fc89002"
      },
      "outputs": [
        {
          "execution_count": 42,
          "output_type": "execute_result",
          "data": {
            "text/plain": "       FlightDate           Airline Origin Dest  Cancelled  Diverted  \\\n407040 2022-04-01  Spirit Air Lines    FLL  ORD       True     False   \n407041 2022-04-02  Spirit Air Lines    FLL  ORD       True     False   \n407042 2022-04-03  Spirit Air Lines    FLL  ORD      False     False   \n407043 2022-04-04  Spirit Air Lines    FLL  ORD      False     False   \n407044 2022-04-05  Spirit Air Lines    FLL  ORD      False     False   \n...           ...               ...    ...  ...        ...       ...   \n142478 2022-03-27  Spirit Air Lines    EWR  LAS      False     False   \n142479 2022-03-28  Spirit Air Lines    EWR  LAS      False     False   \n142480 2022-03-29  Spirit Air Lines    EWR  LAS      False     False   \n142481 2022-03-30  Spirit Air Lines    EWR  LAS      False     False   \n142482 2022-03-31  Spirit Air Lines    EWR  LAS       True     False   \n\n        CRSDepTime  DepTime  DepDelayMinutes  DepDelay  ...  WheelsOff  \\\n407040        2025      NaN              NaN       NaN  ...        NaN   \n407041        2147      NaN              NaN       NaN  ...        NaN   \n407042        2147    211.0            264.0     264.0  ...      229.0   \n407043        2147   2227.0             40.0      40.0  ...     2252.0   \n407044        2200   2252.0             52.0      52.0  ...     2305.0   \n...            ...      ...              ...       ...  ...        ...   \n142478        1700   1705.0              5.0       5.0  ...     1814.0   \n142479        1700   1802.0             62.0      62.0  ...     1826.0   \n142480        1700   1654.0              0.0      -6.0  ...     1705.0   \n142481        1700   1709.0              9.0       9.0  ...     1801.0   \n142482        1700   1804.0             64.0      64.0  ...        NaN   \n\n        WheelsOn  TaxiIn  CRSArrTime  ArrDelay  ArrDel15  ArrivalDelayGroups  \\\n407040       NaN     NaN        2238       NaN       NaN                 NaN   \n407041       NaN     NaN        2359       NaN       NaN                 NaN   \n407042     412.0     9.0        2359     262.0       1.0                12.0   \n407043      29.0    10.0        2359      40.0       1.0                 2.0   \n407044      49.0     9.0          12      46.0       1.0                 3.0   \n...          ...     ...         ...       ...       ...                 ...   \n142478    2011.0     8.0        1921      58.0       1.0                 3.0   \n142479    2038.0     5.0        1921      82.0       1.0                 5.0   \n142480    1905.0     7.0        1921      -9.0       0.0                -1.0   \n142481    1957.0     7.0        1921      43.0       1.0                 2.0   \n142482       NaN     NaN        1921       NaN       NaN                 NaN   \n\n        ArrTimeBlk  DistanceGroup  DivAirportLandings  \n407040   2200-2259              5                   0  \n407041   2300-2359              5                   0  \n407042   2300-2359              5                   0  \n407043   2300-2359              5                   0  \n407044   0001-0559              5                   0  \n...            ...            ...                 ...  \n142478   1900-1959              9                   0  \n142479   1900-1959              9                   0  \n142480   1900-1959              9                   0  \n142481   1900-1959              9                   0  \n142482   1900-1959              9                   0  \n\n[129208 rows x 61 columns]",
            "text/html": "<div>\n<style scoped>\n    .dataframe tbody tr th:only-of-type {\n        vertical-align: middle;\n    }\n\n    .dataframe tbody tr th {\n        vertical-align: top;\n    }\n\n    .dataframe thead th {\n        text-align: right;\n    }\n</style>\n<table border=\"1\" class=\"dataframe\">\n  <thead>\n    <tr style=\"text-align: right;\">\n      <th></th>\n      <th>FlightDate</th>\n      <th>Airline</th>\n      <th>Origin</th>\n      <th>Dest</th>\n      <th>Cancelled</th>\n      <th>Diverted</th>\n      <th>CRSDepTime</th>\n      <th>DepTime</th>\n      <th>DepDelayMinutes</th>\n      <th>DepDelay</th>\n      <th>...</th>\n      <th>WheelsOff</th>\n      <th>WheelsOn</th>\n      <th>TaxiIn</th>\n      <th>CRSArrTime</th>\n      <th>ArrDelay</th>\n      <th>ArrDel15</th>\n      <th>ArrivalDelayGroups</th>\n      <th>ArrTimeBlk</th>\n      <th>DistanceGroup</th>\n      <th>DivAirportLandings</th>\n    </tr>\n  </thead>\n  <tbody>\n    <tr>\n      <th>407040</th>\n      <td>2022-04-01</td>\n      <td>Spirit Air Lines</td>\n      <td>FLL</td>\n      <td>ORD</td>\n      <td>True</td>\n      <td>False</td>\n      <td>2025</td>\n      <td>NaN</td>\n      <td>NaN</td>\n      <td>NaN</td>\n      <td>...</td>\n      <td>NaN</td>\n      <td>NaN</td>\n      <td>NaN</td>\n      <td>2238</td>\n      <td>NaN</td>\n      <td>NaN</td>\n      <td>NaN</td>\n      <td>2200-2259</td>\n      <td>5</td>\n      <td>0</td>\n    </tr>\n    <tr>\n      <th>407041</th>\n      <td>2022-04-02</td>\n      <td>Spirit Air Lines</td>\n      <td>FLL</td>\n      <td>ORD</td>\n      <td>True</td>\n      <td>False</td>\n      <td>2147</td>\n      <td>NaN</td>\n      <td>NaN</td>\n      <td>NaN</td>\n      <td>...</td>\n      <td>NaN</td>\n      <td>NaN</td>\n      <td>NaN</td>\n      <td>2359</td>\n      <td>NaN</td>\n      <td>NaN</td>\n      <td>NaN</td>\n      <td>2300-2359</td>\n      <td>5</td>\n      <td>0</td>\n    </tr>\n    <tr>\n      <th>407042</th>\n      <td>2022-04-03</td>\n      <td>Spirit Air Lines</td>\n      <td>FLL</td>\n      <td>ORD</td>\n      <td>False</td>\n      <td>False</td>\n      <td>2147</td>\n      <td>211.0</td>\n      <td>264.0</td>\n      <td>264.0</td>\n      <td>...</td>\n      <td>229.0</td>\n      <td>412.0</td>\n      <td>9.0</td>\n      <td>2359</td>\n      <td>262.0</td>\n      <td>1.0</td>\n      <td>12.0</td>\n      <td>2300-2359</td>\n      <td>5</td>\n      <td>0</td>\n    </tr>\n    <tr>\n      <th>407043</th>\n      <td>2022-04-04</td>\n      <td>Spirit Air Lines</td>\n      <td>FLL</td>\n      <td>ORD</td>\n      <td>False</td>\n      <td>False</td>\n      <td>2147</td>\n      <td>2227.0</td>\n      <td>40.0</td>\n      <td>40.0</td>\n      <td>...</td>\n      <td>2252.0</td>\n      <td>29.0</td>\n      <td>10.0</td>\n      <td>2359</td>\n      <td>40.0</td>\n      <td>1.0</td>\n      <td>2.0</td>\n      <td>2300-2359</td>\n      <td>5</td>\n      <td>0</td>\n    </tr>\n    <tr>\n      <th>407044</th>\n      <td>2022-04-05</td>\n      <td>Spirit Air Lines</td>\n      <td>FLL</td>\n      <td>ORD</td>\n      <td>False</td>\n      <td>False</td>\n      <td>2200</td>\n      <td>2252.0</td>\n      <td>52.0</td>\n      <td>52.0</td>\n      <td>...</td>\n      <td>2305.0</td>\n      <td>49.0</td>\n      <td>9.0</td>\n      <td>12</td>\n      <td>46.0</td>\n      <td>1.0</td>\n      <td>3.0</td>\n      <td>0001-0559</td>\n      <td>5</td>\n      <td>0</td>\n    </tr>\n    <tr>\n      <th>...</th>\n      <td>...</td>\n      <td>...</td>\n      <td>...</td>\n      <td>...</td>\n      <td>...</td>\n      <td>...</td>\n      <td>...</td>\n      <td>...</td>\n      <td>...</td>\n      <td>...</td>\n      <td>...</td>\n      <td>...</td>\n      <td>...</td>\n      <td>...</td>\n      <td>...</td>\n      <td>...</td>\n      <td>...</td>\n      <td>...</td>\n      <td>...</td>\n      <td>...</td>\n      <td>...</td>\n    </tr>\n    <tr>\n      <th>142478</th>\n      <td>2022-03-27</td>\n      <td>Spirit Air Lines</td>\n      <td>EWR</td>\n      <td>LAS</td>\n      <td>False</td>\n      <td>False</td>\n      <td>1700</td>\n      <td>1705.0</td>\n      <td>5.0</td>\n      <td>5.0</td>\n      <td>...</td>\n      <td>1814.0</td>\n      <td>2011.0</td>\n      <td>8.0</td>\n      <td>1921</td>\n      <td>58.0</td>\n      <td>1.0</td>\n      <td>3.0</td>\n      <td>1900-1959</td>\n      <td>9</td>\n      <td>0</td>\n    </tr>\n    <tr>\n      <th>142479</th>\n      <td>2022-03-28</td>\n      <td>Spirit Air Lines</td>\n      <td>EWR</td>\n      <td>LAS</td>\n      <td>False</td>\n      <td>False</td>\n      <td>1700</td>\n      <td>1802.0</td>\n      <td>62.0</td>\n      <td>62.0</td>\n      <td>...</td>\n      <td>1826.0</td>\n      <td>2038.0</td>\n      <td>5.0</td>\n      <td>1921</td>\n      <td>82.0</td>\n      <td>1.0</td>\n      <td>5.0</td>\n      <td>1900-1959</td>\n      <td>9</td>\n      <td>0</td>\n    </tr>\n    <tr>\n      <th>142480</th>\n      <td>2022-03-29</td>\n      <td>Spirit Air Lines</td>\n      <td>EWR</td>\n      <td>LAS</td>\n      <td>False</td>\n      <td>False</td>\n      <td>1700</td>\n      <td>1654.0</td>\n      <td>0.0</td>\n      <td>-6.0</td>\n      <td>...</td>\n      <td>1705.0</td>\n      <td>1905.0</td>\n      <td>7.0</td>\n      <td>1921</td>\n      <td>-9.0</td>\n      <td>0.0</td>\n      <td>-1.0</td>\n      <td>1900-1959</td>\n      <td>9</td>\n      <td>0</td>\n    </tr>\n    <tr>\n      <th>142481</th>\n      <td>2022-03-30</td>\n      <td>Spirit Air Lines</td>\n      <td>EWR</td>\n      <td>LAS</td>\n      <td>False</td>\n      <td>False</td>\n      <td>1700</td>\n      <td>1709.0</td>\n      <td>9.0</td>\n      <td>9.0</td>\n      <td>...</td>\n      <td>1801.0</td>\n      <td>1957.0</td>\n      <td>7.0</td>\n      <td>1921</td>\n      <td>43.0</td>\n      <td>1.0</td>\n      <td>2.0</td>\n      <td>1900-1959</td>\n      <td>9</td>\n      <td>0</td>\n    </tr>\n    <tr>\n      <th>142482</th>\n      <td>2022-03-31</td>\n      <td>Spirit Air Lines</td>\n      <td>EWR</td>\n      <td>LAS</td>\n      <td>True</td>\n      <td>False</td>\n      <td>1700</td>\n      <td>1804.0</td>\n      <td>64.0</td>\n      <td>64.0</td>\n      <td>...</td>\n      <td>NaN</td>\n      <td>NaN</td>\n      <td>NaN</td>\n      <td>1921</td>\n      <td>NaN</td>\n      <td>NaN</td>\n      <td>NaN</td>\n      <td>1900-1959</td>\n      <td>9</td>\n      <td>0</td>\n    </tr>\n  </tbody>\n</table>\n<p>129208 rows × 61 columns</p>\n</div>"
          },
          "metadata": {}
        }
      ],
      "execution_count": null
    },
    {
      "cell_type": "code",
      "source": [
        "df.loc[(df['Airline'] == 'Spirit Air Lines') & (df['FlightDate'] == '2022-03-30')]"
      ],
      "metadata": {
        "execution": {
          "iopub.status.busy": "2025-08-10T02:39:17.941391Z",
          "iopub.execute_input": "2025-08-10T02:39:17.941804Z",
          "iopub.status.idle": "2025-08-10T02:39:18.289108Z",
          "shell.execute_reply.started": "2025-08-10T02:39:17.94177Z",
          "shell.execute_reply": "2025-08-10T02:39:18.288043Z"
        },
        "trusted": true,
        "id": "YXUT0WwSq-lf",
        "outputId": "4f5c784a-06c2-4e35-a870-8b7f4e0863b8"
      },
      "outputs": [
        {
          "execution_count": 43,
          "output_type": "execute_result",
          "data": {
            "text/plain": "       FlightDate           Airline Origin Dest  Cancelled  Diverted  \\\n123276 2022-03-30  Spirit Air Lines    FLL  ORD      False     False   \n123307 2022-03-30  Spirit Air Lines    ORD  FLL      False     False   \n123338 2022-03-30  Spirit Air Lines    ORD  FLL      False     False   \n123369 2022-03-30  Spirit Air Lines    FLL  ORD      False     False   \n123424 2022-03-30  Spirit Air Lines    EWR  MYR      False     False   \n...           ...               ...    ...  ...        ...       ...   \n142358 2022-03-30  Spirit Air Lines    CLT  FLL      False     False   \n142388 2022-03-30  Spirit Air Lines    FLL  CLT      False     False   \n142420 2022-03-30  Spirit Air Lines    DTW  MSY      False     False   \n142451 2022-03-30  Spirit Air Lines    MSY  ORD      False     False   \n142481 2022-03-30  Spirit Air Lines    EWR  LAS      False     False   \n\n        CRSDepTime  DepTime  DepDelayMinutes  DepDelay  ...  WheelsOff  \\\n123276        2025   2103.0             38.0      38.0  ...     2123.0   \n123307         515    517.0              2.0       2.0  ...      540.0   \n123338         755    759.0              4.0       4.0  ...      815.0   \n123369        1637   1638.0              1.0       1.0  ...     1649.0   \n123424        1350   1345.0              0.0      -5.0  ...     1358.0   \n...            ...      ...              ...       ...  ...        ...   \n142358         850    848.0              0.0      -2.0  ...      857.0   \n142388        1420   1415.0              0.0      -5.0  ...     1426.0   \n142420        1655   1651.0              0.0      -4.0  ...     1700.0   \n142451         917    916.0              0.0      -1.0  ...      927.0   \n142481        1700   1709.0              9.0       9.0  ...     1801.0   \n\n        WheelsOn  TaxiIn  CRSArrTime  ArrDelay  ArrDel15  ArrivalDelayGroups  \\\n123276    2300.0    54.0        2238      76.0       1.0                 5.0   \n123307     911.0     5.0         915       1.0       0.0                 0.0   \n123338    1146.0     7.0        1157      -4.0       0.0                -1.0   \n123369    1830.0    14.0        1850      -6.0       0.0                -1.0   \n123424    1518.0    13.0        1540      -9.0       0.0                -1.0   \n...          ...     ...         ...       ...       ...                 ...   \n142358    1026.0    10.0        1040      -4.0       0.0                -1.0   \n142388    1610.0     8.0        1621      -3.0       0.0                -1.0   \n142420    1812.0    13.0        1825       0.0       0.0                 0.0   \n142451    1131.0    12.0        1147      -4.0       0.0                -1.0   \n142481    1957.0     7.0        1921      43.0       1.0                 2.0   \n\n        ArrTimeBlk  DistanceGroup  DivAirportLandings  \n123276   2200-2259              5                   0  \n123307   0900-0959              5                   0  \n123338   1100-1159              5                   0  \n123369   1800-1859              5                   0  \n123424   1500-1559              3                   0  \n...            ...            ...                 ...  \n142358   1000-1059              3                   0  \n142388   1600-1659              3                   0  \n142420   1800-1859              4                   0  \n142451   1100-1159              4                   0  \n142481   1900-1959              9                   0  \n\n[580 rows x 61 columns]",
            "text/html": "<div>\n<style scoped>\n    .dataframe tbody tr th:only-of-type {\n        vertical-align: middle;\n    }\n\n    .dataframe tbody tr th {\n        vertical-align: top;\n    }\n\n    .dataframe thead th {\n        text-align: right;\n    }\n</style>\n<table border=\"1\" class=\"dataframe\">\n  <thead>\n    <tr style=\"text-align: right;\">\n      <th></th>\n      <th>FlightDate</th>\n      <th>Airline</th>\n      <th>Origin</th>\n      <th>Dest</th>\n      <th>Cancelled</th>\n      <th>Diverted</th>\n      <th>CRSDepTime</th>\n      <th>DepTime</th>\n      <th>DepDelayMinutes</th>\n      <th>DepDelay</th>\n      <th>...</th>\n      <th>WheelsOff</th>\n      <th>WheelsOn</th>\n      <th>TaxiIn</th>\n      <th>CRSArrTime</th>\n      <th>ArrDelay</th>\n      <th>ArrDel15</th>\n      <th>ArrivalDelayGroups</th>\n      <th>ArrTimeBlk</th>\n      <th>DistanceGroup</th>\n      <th>DivAirportLandings</th>\n    </tr>\n  </thead>\n  <tbody>\n    <tr>\n      <th>123276</th>\n      <td>2022-03-30</td>\n      <td>Spirit Air Lines</td>\n      <td>FLL</td>\n      <td>ORD</td>\n      <td>False</td>\n      <td>False</td>\n      <td>2025</td>\n      <td>2103.0</td>\n      <td>38.0</td>\n      <td>38.0</td>\n      <td>...</td>\n      <td>2123.0</td>\n      <td>2300.0</td>\n      <td>54.0</td>\n      <td>2238</td>\n      <td>76.0</td>\n      <td>1.0</td>\n      <td>5.0</td>\n      <td>2200-2259</td>\n      <td>5</td>\n      <td>0</td>\n    </tr>\n    <tr>\n      <th>123307</th>\n      <td>2022-03-30</td>\n      <td>Spirit Air Lines</td>\n      <td>ORD</td>\n      <td>FLL</td>\n      <td>False</td>\n      <td>False</td>\n      <td>515</td>\n      <td>517.0</td>\n      <td>2.0</td>\n      <td>2.0</td>\n      <td>...</td>\n      <td>540.0</td>\n      <td>911.0</td>\n      <td>5.0</td>\n      <td>915</td>\n      <td>1.0</td>\n      <td>0.0</td>\n      <td>0.0</td>\n      <td>0900-0959</td>\n      <td>5</td>\n      <td>0</td>\n    </tr>\n    <tr>\n      <th>123338</th>\n      <td>2022-03-30</td>\n      <td>Spirit Air Lines</td>\n      <td>ORD</td>\n      <td>FLL</td>\n      <td>False</td>\n      <td>False</td>\n      <td>755</td>\n      <td>759.0</td>\n      <td>4.0</td>\n      <td>4.0</td>\n      <td>...</td>\n      <td>815.0</td>\n      <td>1146.0</td>\n      <td>7.0</td>\n      <td>1157</td>\n      <td>-4.0</td>\n      <td>0.0</td>\n      <td>-1.0</td>\n      <td>1100-1159</td>\n      <td>5</td>\n      <td>0</td>\n    </tr>\n    <tr>\n      <th>123369</th>\n      <td>2022-03-30</td>\n      <td>Spirit Air Lines</td>\n      <td>FLL</td>\n      <td>ORD</td>\n      <td>False</td>\n      <td>False</td>\n      <td>1637</td>\n      <td>1638.0</td>\n      <td>1.0</td>\n      <td>1.0</td>\n      <td>...</td>\n      <td>1649.0</td>\n      <td>1830.0</td>\n      <td>14.0</td>\n      <td>1850</td>\n      <td>-6.0</td>\n      <td>0.0</td>\n      <td>-1.0</td>\n      <td>1800-1859</td>\n      <td>5</td>\n      <td>0</td>\n    </tr>\n    <tr>\n      <th>123424</th>\n      <td>2022-03-30</td>\n      <td>Spirit Air Lines</td>\n      <td>EWR</td>\n      <td>MYR</td>\n      <td>False</td>\n      <td>False</td>\n      <td>1350</td>\n      <td>1345.0</td>\n      <td>0.0</td>\n      <td>-5.0</td>\n      <td>...</td>\n      <td>1358.0</td>\n      <td>1518.0</td>\n      <td>13.0</td>\n      <td>1540</td>\n      <td>-9.0</td>\n      <td>0.0</td>\n      <td>-1.0</td>\n      <td>1500-1559</td>\n      <td>3</td>\n      <td>0</td>\n    </tr>\n    <tr>\n      <th>...</th>\n      <td>...</td>\n      <td>...</td>\n      <td>...</td>\n      <td>...</td>\n      <td>...</td>\n      <td>...</td>\n      <td>...</td>\n      <td>...</td>\n      <td>...</td>\n      <td>...</td>\n      <td>...</td>\n      <td>...</td>\n      <td>...</td>\n      <td>...</td>\n      <td>...</td>\n      <td>...</td>\n      <td>...</td>\n      <td>...</td>\n      <td>...</td>\n      <td>...</td>\n      <td>...</td>\n    </tr>\n    <tr>\n      <th>142358</th>\n      <td>2022-03-30</td>\n      <td>Spirit Air Lines</td>\n      <td>CLT</td>\n      <td>FLL</td>\n      <td>False</td>\n      <td>False</td>\n      <td>850</td>\n      <td>848.0</td>\n      <td>0.0</td>\n      <td>-2.0</td>\n      <td>...</td>\n      <td>857.0</td>\n      <td>1026.0</td>\n      <td>10.0</td>\n      <td>1040</td>\n      <td>-4.0</td>\n      <td>0.0</td>\n      <td>-1.0</td>\n      <td>1000-1059</td>\n      <td>3</td>\n      <td>0</td>\n    </tr>\n    <tr>\n      <th>142388</th>\n      <td>2022-03-30</td>\n      <td>Spirit Air Lines</td>\n      <td>FLL</td>\n      <td>CLT</td>\n      <td>False</td>\n      <td>False</td>\n      <td>1420</td>\n      <td>1415.0</td>\n      <td>0.0</td>\n      <td>-5.0</td>\n      <td>...</td>\n      <td>1426.0</td>\n      <td>1610.0</td>\n      <td>8.0</td>\n      <td>1621</td>\n      <td>-3.0</td>\n      <td>0.0</td>\n      <td>-1.0</td>\n      <td>1600-1659</td>\n      <td>3</td>\n      <td>0</td>\n    </tr>\n    <tr>\n      <th>142420</th>\n      <td>2022-03-30</td>\n      <td>Spirit Air Lines</td>\n      <td>DTW</td>\n      <td>MSY</td>\n      <td>False</td>\n      <td>False</td>\n      <td>1655</td>\n      <td>1651.0</td>\n      <td>0.0</td>\n      <td>-4.0</td>\n      <td>...</td>\n      <td>1700.0</td>\n      <td>1812.0</td>\n      <td>13.0</td>\n      <td>1825</td>\n      <td>0.0</td>\n      <td>0.0</td>\n      <td>0.0</td>\n      <td>1800-1859</td>\n      <td>4</td>\n      <td>0</td>\n    </tr>\n    <tr>\n      <th>142451</th>\n      <td>2022-03-30</td>\n      <td>Spirit Air Lines</td>\n      <td>MSY</td>\n      <td>ORD</td>\n      <td>False</td>\n      <td>False</td>\n      <td>917</td>\n      <td>916.0</td>\n      <td>0.0</td>\n      <td>-1.0</td>\n      <td>...</td>\n      <td>927.0</td>\n      <td>1131.0</td>\n      <td>12.0</td>\n      <td>1147</td>\n      <td>-4.0</td>\n      <td>0.0</td>\n      <td>-1.0</td>\n      <td>1100-1159</td>\n      <td>4</td>\n      <td>0</td>\n    </tr>\n    <tr>\n      <th>142481</th>\n      <td>2022-03-30</td>\n      <td>Spirit Air Lines</td>\n      <td>EWR</td>\n      <td>LAS</td>\n      <td>False</td>\n      <td>False</td>\n      <td>1700</td>\n      <td>1709.0</td>\n      <td>9.0</td>\n      <td>9.0</td>\n      <td>...</td>\n      <td>1801.0</td>\n      <td>1957.0</td>\n      <td>7.0</td>\n      <td>1921</td>\n      <td>43.0</td>\n      <td>1.0</td>\n      <td>2.0</td>\n      <td>1900-1959</td>\n      <td>9</td>\n      <td>0</td>\n    </tr>\n  </tbody>\n</table>\n<p>580 rows × 61 columns</p>\n</div>"
          },
          "metadata": {}
        }
      ],
      "execution_count": null
    },
    {
      "cell_type": "code",
      "source": [
        "df.loc[~((df['Airline'] == 'Spirit Air Lines') & (df['FlightDate'] == '2022-03-30'))]"
      ],
      "metadata": {
        "execution": {
          "iopub.status.busy": "2025-08-10T02:39:28.449521Z",
          "iopub.execute_input": "2025-08-10T02:39:28.450591Z",
          "iopub.status.idle": "2025-08-10T02:39:32.238887Z",
          "shell.execute_reply.started": "2025-08-10T02:39:28.450553Z",
          "shell.execute_reply": "2025-08-10T02:39:32.237775Z"
        },
        "trusted": true,
        "id": "IHS2ytVaq-lf",
        "outputId": "26dba419-5578-4a0a-c4c3-e7371c1d49d1"
      },
      "outputs": [
        {
          "execution_count": 44,
          "output_type": "execute_result",
          "data": {
            "text/plain": "       FlightDate                                    Airline Origin Dest  \\\n0      2022-04-04  Commutair Aka Champlain Enterprises, Inc.    GJT  DEN   \n1      2022-04-04  Commutair Aka Champlain Enterprises, Inc.    HRL  IAH   \n2      2022-04-04  Commutair Aka Champlain Enterprises, Inc.    DRO  DEN   \n3      2022-04-04  Commutair Aka Champlain Enterprises, Inc.    IAH  GPT   \n4      2022-04-04  Commutair Aka Champlain Enterprises, Inc.    DRO  DEN   \n...           ...                                        ...    ...  ...   \n590537 2022-03-31                          Republic Airlines    MSY  EWR   \n590538 2022-03-17                          Republic Airlines    CLT  EWR   \n590539 2022-03-08                          Republic Airlines    ALB  ORD   \n590540 2022-03-25                          Republic Airlines    EWR  PIT   \n590541 2022-03-07                          Republic Airlines    EWR  RDU   \n\n        Cancelled  Diverted  CRSDepTime  DepTime  DepDelayMinutes  DepDelay  \\\n0           False     False        1133   1123.0              0.0     -10.0   \n1           False     False         732    728.0              0.0      -4.0   \n2           False     False        1529   1514.0              0.0     -15.0   \n3           False     False        1435   1430.0              0.0      -5.0   \n4           False     False        1135   1135.0              0.0       0.0   \n...           ...       ...         ...      ...              ...       ...   \n590537      False      True        1949   2014.0             25.0      25.0   \n590538       True     False        1733   1817.0             44.0      44.0   \n590539      False     False        1700   2318.0            378.0     378.0   \n590540      False      True        2129   2322.0            113.0     113.0   \n590541      False      True        1154   1148.0              0.0      -6.0   \n\n        ...  WheelsOff  WheelsOn  TaxiIn  CRSArrTime  ArrDelay  ArrDel15  \\\n0       ...     1140.0    1220.0     8.0        1245     -17.0       0.0   \n1       ...      744.0     839.0     9.0         849      -1.0       0.0   \n2       ...     1535.0    1622.0    14.0        1639      -3.0       0.0   \n3       ...     1446.0    1543.0     4.0        1605     -18.0       0.0   \n4       ...     1154.0    1243.0     8.0        1245       6.0       0.0   \n...     ...        ...       ...     ...         ...       ...       ...   \n590537  ...     2031.0     202.0    32.0        2354       NaN       NaN   \n590538  ...        NaN       NaN     NaN        1942       NaN       NaN   \n590539  ...     2337.0      52.0     7.0        1838     381.0       1.0   \n590540  ...     2347.0     933.0     6.0        2255       NaN       NaN   \n590541  ...     1201.0    1552.0     4.0        1333       NaN       NaN   \n\n        ArrivalDelayGroups  ArrTimeBlk  DistanceGroup  DivAirportLandings  \n0                     -2.0   1200-1259              1                   0  \n1                     -1.0   0800-0859              2                   0  \n2                     -1.0   1600-1659              2                   0  \n3                     -2.0   1600-1659              2                   0  \n4                      0.0   1200-1259              2                   0  \n...                    ...         ...            ...                 ...  \n590537                 NaN   2300-2359              5                   1  \n590538                 NaN   1900-1959              3                   0  \n590539                12.0   1800-1859              3                   0  \n590540                 NaN   2200-2259              2                   1  \n590541                 NaN   1300-1359              2                   1  \n\n[4077738 rows x 61 columns]",
            "text/html": "<div>\n<style scoped>\n    .dataframe tbody tr th:only-of-type {\n        vertical-align: middle;\n    }\n\n    .dataframe tbody tr th {\n        vertical-align: top;\n    }\n\n    .dataframe thead th {\n        text-align: right;\n    }\n</style>\n<table border=\"1\" class=\"dataframe\">\n  <thead>\n    <tr style=\"text-align: right;\">\n      <th></th>\n      <th>FlightDate</th>\n      <th>Airline</th>\n      <th>Origin</th>\n      <th>Dest</th>\n      <th>Cancelled</th>\n      <th>Diverted</th>\n      <th>CRSDepTime</th>\n      <th>DepTime</th>\n      <th>DepDelayMinutes</th>\n      <th>DepDelay</th>\n      <th>...</th>\n      <th>WheelsOff</th>\n      <th>WheelsOn</th>\n      <th>TaxiIn</th>\n      <th>CRSArrTime</th>\n      <th>ArrDelay</th>\n      <th>ArrDel15</th>\n      <th>ArrivalDelayGroups</th>\n      <th>ArrTimeBlk</th>\n      <th>DistanceGroup</th>\n      <th>DivAirportLandings</th>\n    </tr>\n  </thead>\n  <tbody>\n    <tr>\n      <th>0</th>\n      <td>2022-04-04</td>\n      <td>Commutair Aka Champlain Enterprises, Inc.</td>\n      <td>GJT</td>\n      <td>DEN</td>\n      <td>False</td>\n      <td>False</td>\n      <td>1133</td>\n      <td>1123.0</td>\n      <td>0.0</td>\n      <td>-10.0</td>\n      <td>...</td>\n      <td>1140.0</td>\n      <td>1220.0</td>\n      <td>8.0</td>\n      <td>1245</td>\n      <td>-17.0</td>\n      <td>0.0</td>\n      <td>-2.0</td>\n      <td>1200-1259</td>\n      <td>1</td>\n      <td>0</td>\n    </tr>\n    <tr>\n      <th>1</th>\n      <td>2022-04-04</td>\n      <td>Commutair Aka Champlain Enterprises, Inc.</td>\n      <td>HRL</td>\n      <td>IAH</td>\n      <td>False</td>\n      <td>False</td>\n      <td>732</td>\n      <td>728.0</td>\n      <td>0.0</td>\n      <td>-4.0</td>\n      <td>...</td>\n      <td>744.0</td>\n      <td>839.0</td>\n      <td>9.0</td>\n      <td>849</td>\n      <td>-1.0</td>\n      <td>0.0</td>\n      <td>-1.0</td>\n      <td>0800-0859</td>\n      <td>2</td>\n      <td>0</td>\n    </tr>\n    <tr>\n      <th>2</th>\n      <td>2022-04-04</td>\n      <td>Commutair Aka Champlain Enterprises, Inc.</td>\n      <td>DRO</td>\n      <td>DEN</td>\n      <td>False</td>\n      <td>False</td>\n      <td>1529</td>\n      <td>1514.0</td>\n      <td>0.0</td>\n      <td>-15.0</td>\n      <td>...</td>\n      <td>1535.0</td>\n      <td>1622.0</td>\n      <td>14.0</td>\n      <td>1639</td>\n      <td>-3.0</td>\n      <td>0.0</td>\n      <td>-1.0</td>\n      <td>1600-1659</td>\n      <td>2</td>\n      <td>0</td>\n    </tr>\n    <tr>\n      <th>3</th>\n      <td>2022-04-04</td>\n      <td>Commutair Aka Champlain Enterprises, Inc.</td>\n      <td>IAH</td>\n      <td>GPT</td>\n      <td>False</td>\n      <td>False</td>\n      <td>1435</td>\n      <td>1430.0</td>\n      <td>0.0</td>\n      <td>-5.0</td>\n      <td>...</td>\n      <td>1446.0</td>\n      <td>1543.0</td>\n      <td>4.0</td>\n      <td>1605</td>\n      <td>-18.0</td>\n      <td>0.0</td>\n      <td>-2.0</td>\n      <td>1600-1659</td>\n      <td>2</td>\n      <td>0</td>\n    </tr>\n    <tr>\n      <th>4</th>\n      <td>2022-04-04</td>\n      <td>Commutair Aka Champlain Enterprises, Inc.</td>\n      <td>DRO</td>\n      <td>DEN</td>\n      <td>False</td>\n      <td>False</td>\n      <td>1135</td>\n      <td>1135.0</td>\n      <td>0.0</td>\n      <td>0.0</td>\n      <td>...</td>\n      <td>1154.0</td>\n      <td>1243.0</td>\n      <td>8.0</td>\n      <td>1245</td>\n      <td>6.0</td>\n      <td>0.0</td>\n      <td>0.0</td>\n      <td>1200-1259</td>\n      <td>2</td>\n      <td>0</td>\n    </tr>\n    <tr>\n      <th>...</th>\n      <td>...</td>\n      <td>...</td>\n      <td>...</td>\n      <td>...</td>\n      <td>...</td>\n      <td>...</td>\n      <td>...</td>\n      <td>...</td>\n      <td>...</td>\n      <td>...</td>\n      <td>...</td>\n      <td>...</td>\n      <td>...</td>\n      <td>...</td>\n      <td>...</td>\n      <td>...</td>\n      <td>...</td>\n      <td>...</td>\n      <td>...</td>\n      <td>...</td>\n      <td>...</td>\n    </tr>\n    <tr>\n      <th>590537</th>\n      <td>2022-03-31</td>\n      <td>Republic Airlines</td>\n      <td>MSY</td>\n      <td>EWR</td>\n      <td>False</td>\n      <td>True</td>\n      <td>1949</td>\n      <td>2014.0</td>\n      <td>25.0</td>\n      <td>25.0</td>\n      <td>...</td>\n      <td>2031.0</td>\n      <td>202.0</td>\n      <td>32.0</td>\n      <td>2354</td>\n      <td>NaN</td>\n      <td>NaN</td>\n      <td>NaN</td>\n      <td>2300-2359</td>\n      <td>5</td>\n      <td>1</td>\n    </tr>\n    <tr>\n      <th>590538</th>\n      <td>2022-03-17</td>\n      <td>Republic Airlines</td>\n      <td>CLT</td>\n      <td>EWR</td>\n      <td>True</td>\n      <td>False</td>\n      <td>1733</td>\n      <td>1817.0</td>\n      <td>44.0</td>\n      <td>44.0</td>\n      <td>...</td>\n      <td>NaN</td>\n      <td>NaN</td>\n      <td>NaN</td>\n      <td>1942</td>\n      <td>NaN</td>\n      <td>NaN</td>\n      <td>NaN</td>\n      <td>1900-1959</td>\n      <td>3</td>\n      <td>0</td>\n    </tr>\n    <tr>\n      <th>590539</th>\n      <td>2022-03-08</td>\n      <td>Republic Airlines</td>\n      <td>ALB</td>\n      <td>ORD</td>\n      <td>False</td>\n      <td>False</td>\n      <td>1700</td>\n      <td>2318.0</td>\n      <td>378.0</td>\n      <td>378.0</td>\n      <td>...</td>\n      <td>2337.0</td>\n      <td>52.0</td>\n      <td>7.0</td>\n      <td>1838</td>\n      <td>381.0</td>\n      <td>1.0</td>\n      <td>12.0</td>\n      <td>1800-1859</td>\n      <td>3</td>\n      <td>0</td>\n    </tr>\n    <tr>\n      <th>590540</th>\n      <td>2022-03-25</td>\n      <td>Republic Airlines</td>\n      <td>EWR</td>\n      <td>PIT</td>\n      <td>False</td>\n      <td>True</td>\n      <td>2129</td>\n      <td>2322.0</td>\n      <td>113.0</td>\n      <td>113.0</td>\n      <td>...</td>\n      <td>2347.0</td>\n      <td>933.0</td>\n      <td>6.0</td>\n      <td>2255</td>\n      <td>NaN</td>\n      <td>NaN</td>\n      <td>NaN</td>\n      <td>2200-2259</td>\n      <td>2</td>\n      <td>1</td>\n    </tr>\n    <tr>\n      <th>590541</th>\n      <td>2022-03-07</td>\n      <td>Republic Airlines</td>\n      <td>EWR</td>\n      <td>RDU</td>\n      <td>False</td>\n      <td>True</td>\n      <td>1154</td>\n      <td>1148.0</td>\n      <td>0.0</td>\n      <td>-6.0</td>\n      <td>...</td>\n      <td>1201.0</td>\n      <td>1552.0</td>\n      <td>4.0</td>\n      <td>1333</td>\n      <td>NaN</td>\n      <td>NaN</td>\n      <td>NaN</td>\n      <td>1300-1359</td>\n      <td>2</td>\n      <td>1</td>\n    </tr>\n  </tbody>\n</table>\n<p>4077738 rows × 61 columns</p>\n</div>"
          },
          "metadata": {}
        }
      ],
      "execution_count": null
    },
    {
      "cell_type": "markdown",
      "source": [
        "## query"
      ],
      "metadata": {
        "id": "lnu1uHOKq-lf"
      }
    },
    {
      "cell_type": "code",
      "source": [
        "df.query('DepTime > 1130 and (Origin == \"DRO\")')"
      ],
      "metadata": {
        "execution": {
          "iopub.status.busy": "2025-08-10T02:39:46.68699Z",
          "iopub.execute_input": "2025-08-10T02:39:46.687395Z",
          "iopub.status.idle": "2025-08-10T02:39:46.856037Z",
          "shell.execute_reply.started": "2025-08-10T02:39:46.687363Z",
          "shell.execute_reply": "2025-08-10T02:39:46.854908Z"
        },
        "trusted": true,
        "id": "XpjyBY1pq-lf",
        "outputId": "deeb1431-fe4d-4900-b770-86362d15efff"
      },
      "outputs": [
        {
          "execution_count": 45,
          "output_type": "execute_result",
          "data": {
            "text/plain": "       FlightDate                                    Airline Origin Dest  \\\n2      2022-04-04  Commutair Aka Champlain Enterprises, Inc.    DRO  DEN   \n4      2022-04-04  Commutair Aka Champlain Enterprises, Inc.    DRO  DEN   \n531    2022-04-03  Commutair Aka Champlain Enterprises, Inc.    DRO  DEN   \n533    2022-04-03  Commutair Aka Champlain Enterprises, Inc.    DRO  DEN   \n1003   2022-04-02  Commutair Aka Champlain Enterprises, Inc.    DRO  DEN   \n...           ...                                        ...    ...  ...   \n445339 2022-03-03  Commutair Aka Champlain Enterprises, Inc.    DRO  DEN   \n445977 2022-03-02  Commutair Aka Champlain Enterprises, Inc.    DRO  DEN   \n445986 2022-03-02  Commutair Aka Champlain Enterprises, Inc.    DRO  DEN   \n446617 2022-03-01  Commutair Aka Champlain Enterprises, Inc.    DRO  DEN   \n446626 2022-03-01  Commutair Aka Champlain Enterprises, Inc.    DRO  DEN   \n\n        Cancelled  Diverted  CRSDepTime  DepTime  DepDelayMinutes  DepDelay  \\\n2           False     False        1529   1514.0              0.0     -15.0   \n4           False     False        1135   1135.0              0.0       0.0   \n531         False     False        1529   1524.0              0.0      -5.0   \n533         False     False        1135   1134.0              0.0      -1.0   \n1003        False     False        1529   1644.0             75.0      75.0   \n...           ...       ...         ...      ...              ...       ...   \n445339      False     False        1530   1521.0              0.0      -9.0   \n445977      False     False        1530   1531.0              1.0       1.0   \n445986      False     False        1135   1142.0              7.0       7.0   \n446617      False     False        1530   1741.0            131.0     131.0   \n446626      False     False        1135   1419.0            164.0     164.0   \n\n        ...  WheelsOff  WheelsOn  TaxiIn  CRSArrTime  ArrDelay  ArrDel15  \\\n2       ...     1535.0    1622.0    14.0        1639      -3.0       0.0   \n4       ...     1154.0    1243.0     8.0        1245       6.0       0.0   \n531     ...     1533.0    1623.0    10.0        1639      -6.0       0.0   \n533     ...     1153.0    1236.0    11.0        1245       2.0       0.0   \n1003    ...     1659.0    1745.0    12.0        1639      78.0       1.0   \n...     ...        ...       ...     ...         ...       ...       ...   \n445339  ...     1548.0    1638.0     7.0        1640       5.0       0.0   \n445977  ...     1550.0    1640.0    11.0        1640      11.0       0.0   \n445986  ...     1153.0    1239.0     6.0        1245       0.0       0.0   \n446617  ...     1806.0    1858.0    11.0        1640     149.0       1.0   \n446626  ...     1430.0    1516.0     7.0        1245     158.0       1.0   \n\n        ArrivalDelayGroups  ArrTimeBlk  DistanceGroup  DivAirportLandings  \n2                     -1.0   1600-1659              2                   0  \n4                      0.0   1200-1259              2                   0  \n531                   -1.0   1600-1659              2                   0  \n533                    0.0   1200-1259              2                   0  \n1003                   5.0   1600-1659              2                   0  \n...                    ...         ...            ...                 ...  \n445339                 0.0   1600-1659              2                   0  \n445977                 0.0   1600-1659              2                   0  \n445986                 0.0   1200-1259              2                   0  \n446617                 9.0   1600-1659              2                   0  \n446626                10.0   1200-1259              2                   0  \n\n[1226 rows x 61 columns]",
            "text/html": "<div>\n<style scoped>\n    .dataframe tbody tr th:only-of-type {\n        vertical-align: middle;\n    }\n\n    .dataframe tbody tr th {\n        vertical-align: top;\n    }\n\n    .dataframe thead th {\n        text-align: right;\n    }\n</style>\n<table border=\"1\" class=\"dataframe\">\n  <thead>\n    <tr style=\"text-align: right;\">\n      <th></th>\n      <th>FlightDate</th>\n      <th>Airline</th>\n      <th>Origin</th>\n      <th>Dest</th>\n      <th>Cancelled</th>\n      <th>Diverted</th>\n      <th>CRSDepTime</th>\n      <th>DepTime</th>\n      <th>DepDelayMinutes</th>\n      <th>DepDelay</th>\n      <th>...</th>\n      <th>WheelsOff</th>\n      <th>WheelsOn</th>\n      <th>TaxiIn</th>\n      <th>CRSArrTime</th>\n      <th>ArrDelay</th>\n      <th>ArrDel15</th>\n      <th>ArrivalDelayGroups</th>\n      <th>ArrTimeBlk</th>\n      <th>DistanceGroup</th>\n      <th>DivAirportLandings</th>\n    </tr>\n  </thead>\n  <tbody>\n    <tr>\n      <th>2</th>\n      <td>2022-04-04</td>\n      <td>Commutair Aka Champlain Enterprises, Inc.</td>\n      <td>DRO</td>\n      <td>DEN</td>\n      <td>False</td>\n      <td>False</td>\n      <td>1529</td>\n      <td>1514.0</td>\n      <td>0.0</td>\n      <td>-15.0</td>\n      <td>...</td>\n      <td>1535.0</td>\n      <td>1622.0</td>\n      <td>14.0</td>\n      <td>1639</td>\n      <td>-3.0</td>\n      <td>0.0</td>\n      <td>-1.0</td>\n      <td>1600-1659</td>\n      <td>2</td>\n      <td>0</td>\n    </tr>\n    <tr>\n      <th>4</th>\n      <td>2022-04-04</td>\n      <td>Commutair Aka Champlain Enterprises, Inc.</td>\n      <td>DRO</td>\n      <td>DEN</td>\n      <td>False</td>\n      <td>False</td>\n      <td>1135</td>\n      <td>1135.0</td>\n      <td>0.0</td>\n      <td>0.0</td>\n      <td>...</td>\n      <td>1154.0</td>\n      <td>1243.0</td>\n      <td>8.0</td>\n      <td>1245</td>\n      <td>6.0</td>\n      <td>0.0</td>\n      <td>0.0</td>\n      <td>1200-1259</td>\n      <td>2</td>\n      <td>0</td>\n    </tr>\n    <tr>\n      <th>531</th>\n      <td>2022-04-03</td>\n      <td>Commutair Aka Champlain Enterprises, Inc.</td>\n      <td>DRO</td>\n      <td>DEN</td>\n      <td>False</td>\n      <td>False</td>\n      <td>1529</td>\n      <td>1524.0</td>\n      <td>0.0</td>\n      <td>-5.0</td>\n      <td>...</td>\n      <td>1533.0</td>\n      <td>1623.0</td>\n      <td>10.0</td>\n      <td>1639</td>\n      <td>-6.0</td>\n      <td>0.0</td>\n      <td>-1.0</td>\n      <td>1600-1659</td>\n      <td>2</td>\n      <td>0</td>\n    </tr>\n    <tr>\n      <th>533</th>\n      <td>2022-04-03</td>\n      <td>Commutair Aka Champlain Enterprises, Inc.</td>\n      <td>DRO</td>\n      <td>DEN</td>\n      <td>False</td>\n      <td>False</td>\n      <td>1135</td>\n      <td>1134.0</td>\n      <td>0.0</td>\n      <td>-1.0</td>\n      <td>...</td>\n      <td>1153.0</td>\n      <td>1236.0</td>\n      <td>11.0</td>\n      <td>1245</td>\n      <td>2.0</td>\n      <td>0.0</td>\n      <td>0.0</td>\n      <td>1200-1259</td>\n      <td>2</td>\n      <td>0</td>\n    </tr>\n    <tr>\n      <th>1003</th>\n      <td>2022-04-02</td>\n      <td>Commutair Aka Champlain Enterprises, Inc.</td>\n      <td>DRO</td>\n      <td>DEN</td>\n      <td>False</td>\n      <td>False</td>\n      <td>1529</td>\n      <td>1644.0</td>\n      <td>75.0</td>\n      <td>75.0</td>\n      <td>...</td>\n      <td>1659.0</td>\n      <td>1745.0</td>\n      <td>12.0</td>\n      <td>1639</td>\n      <td>78.0</td>\n      <td>1.0</td>\n      <td>5.0</td>\n      <td>1600-1659</td>\n      <td>2</td>\n      <td>0</td>\n    </tr>\n    <tr>\n      <th>...</th>\n      <td>...</td>\n      <td>...</td>\n      <td>...</td>\n      <td>...</td>\n      <td>...</td>\n      <td>...</td>\n      <td>...</td>\n      <td>...</td>\n      <td>...</td>\n      <td>...</td>\n      <td>...</td>\n      <td>...</td>\n      <td>...</td>\n      <td>...</td>\n      <td>...</td>\n      <td>...</td>\n      <td>...</td>\n      <td>...</td>\n      <td>...</td>\n      <td>...</td>\n      <td>...</td>\n    </tr>\n    <tr>\n      <th>445339</th>\n      <td>2022-03-03</td>\n      <td>Commutair Aka Champlain Enterprises, Inc.</td>\n      <td>DRO</td>\n      <td>DEN</td>\n      <td>False</td>\n      <td>False</td>\n      <td>1530</td>\n      <td>1521.0</td>\n      <td>0.0</td>\n      <td>-9.0</td>\n      <td>...</td>\n      <td>1548.0</td>\n      <td>1638.0</td>\n      <td>7.0</td>\n      <td>1640</td>\n      <td>5.0</td>\n      <td>0.0</td>\n      <td>0.0</td>\n      <td>1600-1659</td>\n      <td>2</td>\n      <td>0</td>\n    </tr>\n    <tr>\n      <th>445977</th>\n      <td>2022-03-02</td>\n      <td>Commutair Aka Champlain Enterprises, Inc.</td>\n      <td>DRO</td>\n      <td>DEN</td>\n      <td>False</td>\n      <td>False</td>\n      <td>1530</td>\n      <td>1531.0</td>\n      <td>1.0</td>\n      <td>1.0</td>\n      <td>...</td>\n      <td>1550.0</td>\n      <td>1640.0</td>\n      <td>11.0</td>\n      <td>1640</td>\n      <td>11.0</td>\n      <td>0.0</td>\n      <td>0.0</td>\n      <td>1600-1659</td>\n      <td>2</td>\n      <td>0</td>\n    </tr>\n    <tr>\n      <th>445986</th>\n      <td>2022-03-02</td>\n      <td>Commutair Aka Champlain Enterprises, Inc.</td>\n      <td>DRO</td>\n      <td>DEN</td>\n      <td>False</td>\n      <td>False</td>\n      <td>1135</td>\n      <td>1142.0</td>\n      <td>7.0</td>\n      <td>7.0</td>\n      <td>...</td>\n      <td>1153.0</td>\n      <td>1239.0</td>\n      <td>6.0</td>\n      <td>1245</td>\n      <td>0.0</td>\n      <td>0.0</td>\n      <td>0.0</td>\n      <td>1200-1259</td>\n      <td>2</td>\n      <td>0</td>\n    </tr>\n    <tr>\n      <th>446617</th>\n      <td>2022-03-01</td>\n      <td>Commutair Aka Champlain Enterprises, Inc.</td>\n      <td>DRO</td>\n      <td>DEN</td>\n      <td>False</td>\n      <td>False</td>\n      <td>1530</td>\n      <td>1741.0</td>\n      <td>131.0</td>\n      <td>131.0</td>\n      <td>...</td>\n      <td>1806.0</td>\n      <td>1858.0</td>\n      <td>11.0</td>\n      <td>1640</td>\n      <td>149.0</td>\n      <td>1.0</td>\n      <td>9.0</td>\n      <td>1600-1659</td>\n      <td>2</td>\n      <td>0</td>\n    </tr>\n    <tr>\n      <th>446626</th>\n      <td>2022-03-01</td>\n      <td>Commutair Aka Champlain Enterprises, Inc.</td>\n      <td>DRO</td>\n      <td>DEN</td>\n      <td>False</td>\n      <td>False</td>\n      <td>1135</td>\n      <td>1419.0</td>\n      <td>164.0</td>\n      <td>164.0</td>\n      <td>...</td>\n      <td>1430.0</td>\n      <td>1516.0</td>\n      <td>7.0</td>\n      <td>1245</td>\n      <td>158.0</td>\n      <td>1.0</td>\n      <td>10.0</td>\n      <td>1200-1259</td>\n      <td>2</td>\n      <td>0</td>\n    </tr>\n  </tbody>\n</table>\n<p>1226 rows × 61 columns</p>\n</div>"
          },
          "metadata": {}
        }
      ],
      "execution_count": null
    },
    {
      "cell_type": "code",
      "source": [
        "# min_time = 1130\n",
        "# df.query('DepTime > @min_time and (Origin == \"DRO\")')  # ValueError: Expression ((DepTime) > (__pd_eval_local_min_time)) & (Series_1_0x200x4c0x3a0x6c0xbf0x7d0x00x0) has forbidden control characters.\n",
        "\n",
        "min_time = 1130\n",
        "query_expression = 'DepTime > {} and (Origin == \"DRO\")'.format(min_time)\n",
        "df.query(query_expression)"
      ],
      "metadata": {
        "execution": {
          "iopub.status.busy": "2025-08-10T02:40:00.736424Z",
          "iopub.execute_input": "2025-08-10T02:40:00.736877Z",
          "iopub.status.idle": "2025-08-10T02:40:00.900949Z",
          "shell.execute_reply.started": "2025-08-10T02:40:00.73684Z",
          "shell.execute_reply": "2025-08-10T02:40:00.899718Z"
        },
        "trusted": true,
        "id": "fR3Go7D7q-lf",
        "outputId": "e580a1cc-93df-45f7-81c1-c1b99db670f7"
      },
      "outputs": [
        {
          "execution_count": 46,
          "output_type": "execute_result",
          "data": {
            "text/plain": "       FlightDate                                    Airline Origin Dest  \\\n2      2022-04-04  Commutair Aka Champlain Enterprises, Inc.    DRO  DEN   \n4      2022-04-04  Commutair Aka Champlain Enterprises, Inc.    DRO  DEN   \n531    2022-04-03  Commutair Aka Champlain Enterprises, Inc.    DRO  DEN   \n533    2022-04-03  Commutair Aka Champlain Enterprises, Inc.    DRO  DEN   \n1003   2022-04-02  Commutair Aka Champlain Enterprises, Inc.    DRO  DEN   \n...           ...                                        ...    ...  ...   \n445339 2022-03-03  Commutair Aka Champlain Enterprises, Inc.    DRO  DEN   \n445977 2022-03-02  Commutair Aka Champlain Enterprises, Inc.    DRO  DEN   \n445986 2022-03-02  Commutair Aka Champlain Enterprises, Inc.    DRO  DEN   \n446617 2022-03-01  Commutair Aka Champlain Enterprises, Inc.    DRO  DEN   \n446626 2022-03-01  Commutair Aka Champlain Enterprises, Inc.    DRO  DEN   \n\n        Cancelled  Diverted  CRSDepTime  DepTime  DepDelayMinutes  DepDelay  \\\n2           False     False        1529   1514.0              0.0     -15.0   \n4           False     False        1135   1135.0              0.0       0.0   \n531         False     False        1529   1524.0              0.0      -5.0   \n533         False     False        1135   1134.0              0.0      -1.0   \n1003        False     False        1529   1644.0             75.0      75.0   \n...           ...       ...         ...      ...              ...       ...   \n445339      False     False        1530   1521.0              0.0      -9.0   \n445977      False     False        1530   1531.0              1.0       1.0   \n445986      False     False        1135   1142.0              7.0       7.0   \n446617      False     False        1530   1741.0            131.0     131.0   \n446626      False     False        1135   1419.0            164.0     164.0   \n\n        ...  WheelsOff  WheelsOn  TaxiIn  CRSArrTime  ArrDelay  ArrDel15  \\\n2       ...     1535.0    1622.0    14.0        1639      -3.0       0.0   \n4       ...     1154.0    1243.0     8.0        1245       6.0       0.0   \n531     ...     1533.0    1623.0    10.0        1639      -6.0       0.0   \n533     ...     1153.0    1236.0    11.0        1245       2.0       0.0   \n1003    ...     1659.0    1745.0    12.0        1639      78.0       1.0   \n...     ...        ...       ...     ...         ...       ...       ...   \n445339  ...     1548.0    1638.0     7.0        1640       5.0       0.0   \n445977  ...     1550.0    1640.0    11.0        1640      11.0       0.0   \n445986  ...     1153.0    1239.0     6.0        1245       0.0       0.0   \n446617  ...     1806.0    1858.0    11.0        1640     149.0       1.0   \n446626  ...     1430.0    1516.0     7.0        1245     158.0       1.0   \n\n        ArrivalDelayGroups  ArrTimeBlk  DistanceGroup  DivAirportLandings  \n2                     -1.0   1600-1659              2                   0  \n4                      0.0   1200-1259              2                   0  \n531                   -1.0   1600-1659              2                   0  \n533                    0.0   1200-1259              2                   0  \n1003                   5.0   1600-1659              2                   0  \n...                    ...         ...            ...                 ...  \n445339                 0.0   1600-1659              2                   0  \n445977                 0.0   1600-1659              2                   0  \n445986                 0.0   1200-1259              2                   0  \n446617                 9.0   1600-1659              2                   0  \n446626                10.0   1200-1259              2                   0  \n\n[1226 rows x 61 columns]",
            "text/html": "<div>\n<style scoped>\n    .dataframe tbody tr th:only-of-type {\n        vertical-align: middle;\n    }\n\n    .dataframe tbody tr th {\n        vertical-align: top;\n    }\n\n    .dataframe thead th {\n        text-align: right;\n    }\n</style>\n<table border=\"1\" class=\"dataframe\">\n  <thead>\n    <tr style=\"text-align: right;\">\n      <th></th>\n      <th>FlightDate</th>\n      <th>Airline</th>\n      <th>Origin</th>\n      <th>Dest</th>\n      <th>Cancelled</th>\n      <th>Diverted</th>\n      <th>CRSDepTime</th>\n      <th>DepTime</th>\n      <th>DepDelayMinutes</th>\n      <th>DepDelay</th>\n      <th>...</th>\n      <th>WheelsOff</th>\n      <th>WheelsOn</th>\n      <th>TaxiIn</th>\n      <th>CRSArrTime</th>\n      <th>ArrDelay</th>\n      <th>ArrDel15</th>\n      <th>ArrivalDelayGroups</th>\n      <th>ArrTimeBlk</th>\n      <th>DistanceGroup</th>\n      <th>DivAirportLandings</th>\n    </tr>\n  </thead>\n  <tbody>\n    <tr>\n      <th>2</th>\n      <td>2022-04-04</td>\n      <td>Commutair Aka Champlain Enterprises, Inc.</td>\n      <td>DRO</td>\n      <td>DEN</td>\n      <td>False</td>\n      <td>False</td>\n      <td>1529</td>\n      <td>1514.0</td>\n      <td>0.0</td>\n      <td>-15.0</td>\n      <td>...</td>\n      <td>1535.0</td>\n      <td>1622.0</td>\n      <td>14.0</td>\n      <td>1639</td>\n      <td>-3.0</td>\n      <td>0.0</td>\n      <td>-1.0</td>\n      <td>1600-1659</td>\n      <td>2</td>\n      <td>0</td>\n    </tr>\n    <tr>\n      <th>4</th>\n      <td>2022-04-04</td>\n      <td>Commutair Aka Champlain Enterprises, Inc.</td>\n      <td>DRO</td>\n      <td>DEN</td>\n      <td>False</td>\n      <td>False</td>\n      <td>1135</td>\n      <td>1135.0</td>\n      <td>0.0</td>\n      <td>0.0</td>\n      <td>...</td>\n      <td>1154.0</td>\n      <td>1243.0</td>\n      <td>8.0</td>\n      <td>1245</td>\n      <td>6.0</td>\n      <td>0.0</td>\n      <td>0.0</td>\n      <td>1200-1259</td>\n      <td>2</td>\n      <td>0</td>\n    </tr>\n    <tr>\n      <th>531</th>\n      <td>2022-04-03</td>\n      <td>Commutair Aka Champlain Enterprises, Inc.</td>\n      <td>DRO</td>\n      <td>DEN</td>\n      <td>False</td>\n      <td>False</td>\n      <td>1529</td>\n      <td>1524.0</td>\n      <td>0.0</td>\n      <td>-5.0</td>\n      <td>...</td>\n      <td>1533.0</td>\n      <td>1623.0</td>\n      <td>10.0</td>\n      <td>1639</td>\n      <td>-6.0</td>\n      <td>0.0</td>\n      <td>-1.0</td>\n      <td>1600-1659</td>\n      <td>2</td>\n      <td>0</td>\n    </tr>\n    <tr>\n      <th>533</th>\n      <td>2022-04-03</td>\n      <td>Commutair Aka Champlain Enterprises, Inc.</td>\n      <td>DRO</td>\n      <td>DEN</td>\n      <td>False</td>\n      <td>False</td>\n      <td>1135</td>\n      <td>1134.0</td>\n      <td>0.0</td>\n      <td>-1.0</td>\n      <td>...</td>\n      <td>1153.0</td>\n      <td>1236.0</td>\n      <td>11.0</td>\n      <td>1245</td>\n      <td>2.0</td>\n      <td>0.0</td>\n      <td>0.0</td>\n      <td>1200-1259</td>\n      <td>2</td>\n      <td>0</td>\n    </tr>\n    <tr>\n      <th>1003</th>\n      <td>2022-04-02</td>\n      <td>Commutair Aka Champlain Enterprises, Inc.</td>\n      <td>DRO</td>\n      <td>DEN</td>\n      <td>False</td>\n      <td>False</td>\n      <td>1529</td>\n      <td>1644.0</td>\n      <td>75.0</td>\n      <td>75.0</td>\n      <td>...</td>\n      <td>1659.0</td>\n      <td>1745.0</td>\n      <td>12.0</td>\n      <td>1639</td>\n      <td>78.0</td>\n      <td>1.0</td>\n      <td>5.0</td>\n      <td>1600-1659</td>\n      <td>2</td>\n      <td>0</td>\n    </tr>\n    <tr>\n      <th>...</th>\n      <td>...</td>\n      <td>...</td>\n      <td>...</td>\n      <td>...</td>\n      <td>...</td>\n      <td>...</td>\n      <td>...</td>\n      <td>...</td>\n      <td>...</td>\n      <td>...</td>\n      <td>...</td>\n      <td>...</td>\n      <td>...</td>\n      <td>...</td>\n      <td>...</td>\n      <td>...</td>\n      <td>...</td>\n      <td>...</td>\n      <td>...</td>\n      <td>...</td>\n      <td>...</td>\n    </tr>\n    <tr>\n      <th>445339</th>\n      <td>2022-03-03</td>\n      <td>Commutair Aka Champlain Enterprises, Inc.</td>\n      <td>DRO</td>\n      <td>DEN</td>\n      <td>False</td>\n      <td>False</td>\n      <td>1530</td>\n      <td>1521.0</td>\n      <td>0.0</td>\n      <td>-9.0</td>\n      <td>...</td>\n      <td>1548.0</td>\n      <td>1638.0</td>\n      <td>7.0</td>\n      <td>1640</td>\n      <td>5.0</td>\n      <td>0.0</td>\n      <td>0.0</td>\n      <td>1600-1659</td>\n      <td>2</td>\n      <td>0</td>\n    </tr>\n    <tr>\n      <th>445977</th>\n      <td>2022-03-02</td>\n      <td>Commutair Aka Champlain Enterprises, Inc.</td>\n      <td>DRO</td>\n      <td>DEN</td>\n      <td>False</td>\n      <td>False</td>\n      <td>1530</td>\n      <td>1531.0</td>\n      <td>1.0</td>\n      <td>1.0</td>\n      <td>...</td>\n      <td>1550.0</td>\n      <td>1640.0</td>\n      <td>11.0</td>\n      <td>1640</td>\n      <td>11.0</td>\n      <td>0.0</td>\n      <td>0.0</td>\n      <td>1600-1659</td>\n      <td>2</td>\n      <td>0</td>\n    </tr>\n    <tr>\n      <th>445986</th>\n      <td>2022-03-02</td>\n      <td>Commutair Aka Champlain Enterprises, Inc.</td>\n      <td>DRO</td>\n      <td>DEN</td>\n      <td>False</td>\n      <td>False</td>\n      <td>1135</td>\n      <td>1142.0</td>\n      <td>7.0</td>\n      <td>7.0</td>\n      <td>...</td>\n      <td>1153.0</td>\n      <td>1239.0</td>\n      <td>6.0</td>\n      <td>1245</td>\n      <td>0.0</td>\n      <td>0.0</td>\n      <td>0.0</td>\n      <td>1200-1259</td>\n      <td>2</td>\n      <td>0</td>\n    </tr>\n    <tr>\n      <th>446617</th>\n      <td>2022-03-01</td>\n      <td>Commutair Aka Champlain Enterprises, Inc.</td>\n      <td>DRO</td>\n      <td>DEN</td>\n      <td>False</td>\n      <td>False</td>\n      <td>1530</td>\n      <td>1741.0</td>\n      <td>131.0</td>\n      <td>131.0</td>\n      <td>...</td>\n      <td>1806.0</td>\n      <td>1858.0</td>\n      <td>11.0</td>\n      <td>1640</td>\n      <td>149.0</td>\n      <td>1.0</td>\n      <td>9.0</td>\n      <td>1600-1659</td>\n      <td>2</td>\n      <td>0</td>\n    </tr>\n    <tr>\n      <th>446626</th>\n      <td>2022-03-01</td>\n      <td>Commutair Aka Champlain Enterprises, Inc.</td>\n      <td>DRO</td>\n      <td>DEN</td>\n      <td>False</td>\n      <td>False</td>\n      <td>1135</td>\n      <td>1419.0</td>\n      <td>164.0</td>\n      <td>164.0</td>\n      <td>...</td>\n      <td>1430.0</td>\n      <td>1516.0</td>\n      <td>7.0</td>\n      <td>1245</td>\n      <td>158.0</td>\n      <td>1.0</td>\n      <td>10.0</td>\n      <td>1200-1259</td>\n      <td>2</td>\n      <td>0</td>\n    </tr>\n  </tbody>\n</table>\n<p>1226 rows × 61 columns</p>\n</div>"
          },
          "metadata": {}
        }
      ],
      "execution_count": null
    },
    {
      "cell_type": "markdown",
      "source": [
        "## Summary Statistics"
      ],
      "metadata": {
        "id": "LldEEepVq-lg"
      }
    },
    {
      "cell_type": "code",
      "source": [
        "df['DepTime'].min()"
      ],
      "metadata": {
        "execution": {
          "iopub.status.busy": "2025-08-10T02:40:08.230198Z",
          "iopub.execute_input": "2025-08-10T02:40:08.230649Z",
          "iopub.status.idle": "2025-08-10T02:40:08.260445Z",
          "shell.execute_reply.started": "2025-08-10T02:40:08.230617Z",
          "shell.execute_reply": "2025-08-10T02:40:08.259148Z"
        },
        "trusted": true,
        "id": "1inqS6Wtq-lg",
        "outputId": "cb97e97c-a6cd-428b-aa1f-e4e2d1ffdb7b"
      },
      "outputs": [
        {
          "execution_count": 47,
          "output_type": "execute_result",
          "data": {
            "text/plain": "1.0"
          },
          "metadata": {}
        }
      ],
      "execution_count": null
    },
    {
      "cell_type": "code",
      "source": [
        "df['DepTime'].max()"
      ],
      "metadata": {
        "execution": {
          "iopub.status.busy": "2025-08-10T02:40:14.027821Z",
          "iopub.execute_input": "2025-08-10T02:40:14.028199Z",
          "iopub.status.idle": "2025-08-10T02:40:14.056229Z",
          "shell.execute_reply.started": "2025-08-10T02:40:14.028167Z",
          "shell.execute_reply": "2025-08-10T02:40:14.054885Z"
        },
        "trusted": true,
        "id": "FVpBhc0Hq-lg",
        "outputId": "6076f57f-906d-4ccb-93da-0e948b23e9ff"
      },
      "outputs": [
        {
          "execution_count": 48,
          "output_type": "execute_result",
          "data": {
            "text/plain": "2400.0"
          },
          "metadata": {}
        }
      ],
      "execution_count": null
    },
    {
      "cell_type": "code",
      "source": [
        "df['DepTime'].mean()"
      ],
      "metadata": {
        "execution": {
          "iopub.status.busy": "2025-08-10T02:40:19.816599Z",
          "iopub.execute_input": "2025-08-10T02:40:19.816988Z",
          "iopub.status.idle": "2025-08-10T02:40:19.851886Z",
          "shell.execute_reply.started": "2025-08-10T02:40:19.816959Z",
          "shell.execute_reply": "2025-08-10T02:40:19.850665Z"
        },
        "trusted": true,
        "id": "icN3-17Vq-lg",
        "outputId": "afd57d82-85a1-4c77-d84b-99d1211a3e48"
      },
      "outputs": [
        {
          "execution_count": 50,
          "output_type": "execute_result",
          "data": {
            "text/plain": "1334.3739312789533"
          },
          "metadata": {}
        }
      ],
      "execution_count": null
    },
    {
      "cell_type": "code",
      "source": [
        "df['DepTime'].std()"
      ],
      "metadata": {
        "execution": {
          "iopub.status.busy": "2025-08-10T02:40:17.686135Z",
          "iopub.execute_input": "2025-08-10T02:40:17.68681Z",
          "iopub.status.idle": "2025-08-10T02:40:17.748337Z",
          "shell.execute_reply.started": "2025-08-10T02:40:17.686776Z",
          "shell.execute_reply": "2025-08-10T02:40:17.74703Z"
        },
        "trusted": true,
        "id": "-RH08wg-q-lg",
        "outputId": "c0b07260-0dfb-4606-cec0-44094803acf4"
      },
      "outputs": [
        {
          "execution_count": 49,
          "output_type": "execute_result",
          "data": {
            "text/plain": "505.62193314209236"
          },
          "metadata": {}
        }
      ],
      "execution_count": null
    },
    {
      "cell_type": "code",
      "source": [
        "df['DepTime'].sum()"
      ],
      "metadata": {
        "execution": {
          "iopub.status.busy": "2025-08-10T02:40:23.99091Z",
          "iopub.execute_input": "2025-08-10T02:40:23.991275Z",
          "iopub.status.idle": "2025-08-10T02:40:24.016358Z",
          "shell.execute_reply.started": "2025-08-10T02:40:23.991247Z",
          "shell.execute_reply": "2025-08-10T02:40:24.015204Z"
        },
        "trusted": true,
        "id": "plE3v1qNq-lh",
        "outputId": "fcb49b9f-e429-4d1d-c011-9d262433bea1"
      },
      "outputs": [
        {
          "execution_count": 51,
          "output_type": "execute_result",
          "data": {
            "text/plain": "5281298567.0"
          },
          "metadata": {}
        }
      ],
      "execution_count": null
    },
    {
      "cell_type": "code",
      "source": [
        "df['DepTime'].quantile(0.5)"
      ],
      "metadata": {
        "execution": {
          "iopub.status.busy": "2025-08-10T02:40:28.039549Z",
          "iopub.execute_input": "2025-08-10T02:40:28.040144Z",
          "iopub.status.idle": "2025-08-10T02:40:28.111464Z",
          "shell.execute_reply.started": "2025-08-10T02:40:28.0401Z",
          "shell.execute_reply": "2025-08-10T02:40:28.110234Z"
        },
        "trusted": true,
        "id": "Szgs654Jq-lh",
        "outputId": "f6cc09e5-1711-47ce-aff0-65b4fbc6e666"
      },
      "outputs": [
        {
          "execution_count": 52,
          "output_type": "execute_result",
          "data": {
            "text/plain": "1325.0"
          },
          "metadata": {}
        }
      ],
      "execution_count": null
    },
    {
      "cell_type": "code",
      "source": [
        "df['DepTime'].quantile([0.25, 0.75])"
      ],
      "metadata": {
        "execution": {
          "iopub.status.busy": "2025-08-10T02:41:22.760805Z",
          "iopub.execute_input": "2025-08-10T02:41:22.761168Z",
          "iopub.status.idle": "2025-08-10T02:41:22.862765Z",
          "shell.execute_reply.started": "2025-08-10T02:41:22.761142Z",
          "shell.execute_reply": "2025-08-10T02:41:22.861354Z"
        },
        "trusted": true,
        "id": "VCwbzWqaq-ll",
        "outputId": "f6823579-8de5-4098-b976-835bb2d7f67b"
      },
      "outputs": [
        {
          "execution_count": 53,
          "output_type": "execute_result",
          "data": {
            "text/plain": "0.25     917.0\n0.75    1744.0\nName: DepTime, dtype: float64"
          },
          "metadata": {}
        }
      ],
      "execution_count": null
    },
    {
      "cell_type": "markdown",
      "source": [
        "## agg"
      ],
      "metadata": {
        "id": "IAtGWGCaq-ll"
      }
    },
    {
      "cell_type": "code",
      "source": [
        "df[['DepTime', 'DepDelay', 'ArrTime', 'ArrDelay']].agg(['mean', 'min', 'max'])"
      ],
      "metadata": {
        "execution": {
          "iopub.status.busy": "2025-08-10T02:41:36.95322Z",
          "iopub.execute_input": "2025-08-10T02:41:36.953648Z",
          "iopub.status.idle": "2025-08-10T02:41:37.278087Z",
          "shell.execute_reply.started": "2025-08-10T02:41:36.953615Z",
          "shell.execute_reply": "2025-08-10T02:41:37.276754Z"
        },
        "trusted": true,
        "id": "svCXFwEhq-ll",
        "outputId": "e64966e7-0914-497e-85c1-1dc44ff242d3"
      },
      "outputs": [
        {
          "execution_count": 54,
          "output_type": "execute_result",
          "data": {
            "text/plain": "          DepTime     DepDelay      ArrTime     ArrDelay\nmean  1334.373931    13.090487  1457.886018     7.528486\nmin      1.000000   -78.000000     1.000000  -100.000000\nmax   2400.000000  7223.000000  2400.000000  7232.000000",
            "text/html": "<div>\n<style scoped>\n    .dataframe tbody tr th:only-of-type {\n        vertical-align: middle;\n    }\n\n    .dataframe tbody tr th {\n        vertical-align: top;\n    }\n\n    .dataframe thead th {\n        text-align: right;\n    }\n</style>\n<table border=\"1\" class=\"dataframe\">\n  <thead>\n    <tr style=\"text-align: right;\">\n      <th></th>\n      <th>DepTime</th>\n      <th>DepDelay</th>\n      <th>ArrTime</th>\n      <th>ArrDelay</th>\n    </tr>\n  </thead>\n  <tbody>\n    <tr>\n      <th>mean</th>\n      <td>1334.373931</td>\n      <td>13.090487</td>\n      <td>1457.886018</td>\n      <td>7.528486</td>\n    </tr>\n    <tr>\n      <th>min</th>\n      <td>1.000000</td>\n      <td>-78.000000</td>\n      <td>1.000000</td>\n      <td>-100.000000</td>\n    </tr>\n    <tr>\n      <th>max</th>\n      <td>2400.000000</td>\n      <td>7223.000000</td>\n      <td>2400.000000</td>\n      <td>7232.000000</td>\n    </tr>\n  </tbody>\n</table>\n</div>"
          },
          "metadata": {}
        }
      ],
      "execution_count": null
    },
    {
      "cell_type": "code",
      "source": [
        "df[['DepTime', 'DepDelay', 'ArrTime', 'ArrDelay']].agg(\n",
        "    {\n",
        "        'DepTime': ['min', 'max'],\n",
        "        'DepDelay': ['mean'],\n",
        "        'ArrTime': ['min', 'max']\n",
        "    }\n",
        ")"
      ],
      "metadata": {
        "execution": {
          "iopub.status.busy": "2025-08-10T02:41:47.281665Z",
          "iopub.execute_input": "2025-08-10T02:41:47.28324Z",
          "iopub.status.idle": "2025-08-10T02:41:47.44818Z",
          "shell.execute_reply.started": "2025-08-10T02:41:47.283191Z",
          "shell.execute_reply": "2025-08-10T02:41:47.447106Z"
        },
        "trusted": true,
        "id": "P2apMLhtq-lm",
        "outputId": "1402d3cd-18b8-4ab4-f260-ccb6e5f4ee13"
      },
      "outputs": [
        {
          "execution_count": 55,
          "output_type": "execute_result",
          "data": {
            "text/plain": "      DepTime   DepDelay  ArrTime\nmin       1.0        NaN      1.0\nmax    2400.0        NaN   2400.0\nmean      NaN  13.090487      NaN",
            "text/html": "<div>\n<style scoped>\n    .dataframe tbody tr th:only-of-type {\n        vertical-align: middle;\n    }\n\n    .dataframe tbody tr th {\n        vertical-align: top;\n    }\n\n    .dataframe thead th {\n        text-align: right;\n    }\n</style>\n<table border=\"1\" class=\"dataframe\">\n  <thead>\n    <tr style=\"text-align: right;\">\n      <th></th>\n      <th>DepTime</th>\n      <th>DepDelay</th>\n      <th>ArrTime</th>\n    </tr>\n  </thead>\n  <tbody>\n    <tr>\n      <th>min</th>\n      <td>1.0</td>\n      <td>NaN</td>\n      <td>1.0</td>\n    </tr>\n    <tr>\n      <th>max</th>\n      <td>2400.0</td>\n      <td>NaN</td>\n      <td>2400.0</td>\n    </tr>\n    <tr>\n      <th>mean</th>\n      <td>NaN</td>\n      <td>13.090487</td>\n      <td>NaN</td>\n    </tr>\n  </tbody>\n</table>\n</div>"
          },
          "metadata": {}
        }
      ],
      "execution_count": null
    },
    {
      "cell_type": "markdown",
      "source": [
        "## Summarize categoricals"
      ],
      "metadata": {
        "id": "aVJAkiuAq-lm"
      }
    },
    {
      "cell_type": "code",
      "source": [
        "df['Airline'].unique()"
      ],
      "metadata": {
        "execution": {
          "iopub.status.busy": "2025-08-10T02:41:57.013319Z",
          "iopub.execute_input": "2025-08-10T02:41:57.014629Z",
          "iopub.status.idle": "2025-08-10T02:41:57.310802Z",
          "shell.execute_reply.started": "2025-08-10T02:41:57.01459Z",
          "shell.execute_reply": "2025-08-10T02:41:57.309532Z"
        },
        "trusted": true,
        "id": "dI9Sog0fq-lm",
        "outputId": "d9be9195-c371-427c-fac6-3f1c9729cac9"
      },
      "outputs": [
        {
          "execution_count": 56,
          "output_type": "execute_result",
          "data": {
            "text/plain": "array(['Commutair Aka Champlain Enterprises, Inc.',\n       'GoJet Airlines, LLC d/b/a United Express',\n       'Air Wisconsin Airlines Corp', 'Mesa Airlines Inc.',\n       'Southwest Airlines Co.', 'Republic Airlines', 'Endeavor Air Inc.',\n       'American Airlines Inc.', 'Capital Cargo International',\n       'SkyWest Airlines Inc.', 'Alaska Airlines Inc.', 'JetBlue Airways',\n       'Delta Air Lines Inc.', 'Frontier Airlines Inc.', 'Allegiant Air',\n       'Hawaiian Airlines Inc.', 'Envoy Air', 'Spirit Air Lines',\n       'Comair Inc.', 'Horizon Air', 'United Air Lines Inc.'],\n      dtype=object)"
          },
          "metadata": {}
        }
      ],
      "execution_count": null
    },
    {
      "cell_type": "code",
      "source": [
        "df['Airline'].nunique()"
      ],
      "metadata": {
        "execution": {
          "iopub.status.busy": "2025-08-10T02:42:03.884212Z",
          "iopub.execute_input": "2025-08-10T02:42:03.884584Z",
          "iopub.status.idle": "2025-08-10T02:42:04.165176Z",
          "shell.execute_reply.started": "2025-08-10T02:42:03.884555Z",
          "shell.execute_reply": "2025-08-10T02:42:04.164031Z"
        },
        "trusted": true,
        "id": "vLqzWm7kq-lm",
        "outputId": "a68faced-c66a-4c14-ffa4-6afd5fb39411"
      },
      "outputs": [
        {
          "execution_count": 57,
          "output_type": "execute_result",
          "data": {
            "text/plain": "21"
          },
          "metadata": {}
        }
      ],
      "execution_count": null
    },
    {
      "cell_type": "code",
      "source": [
        "df['Airline'].value_counts()"
      ],
      "metadata": {
        "execution": {
          "iopub.status.busy": "2025-08-10T02:42:06.408782Z",
          "iopub.execute_input": "2025-08-10T02:42:06.409197Z",
          "iopub.status.idle": "2025-08-10T02:42:06.634485Z",
          "shell.execute_reply.started": "2025-08-10T02:42:06.409165Z",
          "shell.execute_reply": "2025-08-10T02:42:06.633203Z"
        },
        "trusted": true,
        "id": "PfjbErsXq-ln",
        "outputId": "1a5d53f9-5de9-44b2-f3e9-37c613ea3226"
      },
      "outputs": [
        {
          "execution_count": 58,
          "output_type": "execute_result",
          "data": {
            "text/plain": "Airline\nSouthwest Airlines Co.                       731925\nDelta Air Lines Inc.                         512114\nAmerican Airlines Inc.                       495953\nSkyWest Airlines Inc.                        440807\nUnited Air Lines Inc.                        352009\nRepublic Airlines                            197881\nJetBlue Airways                              156793\nEnvoy Air                                    150758\nEndeavor Air Inc.                            142624\nComair Inc.                                  135884\nAlaska Airlines Inc.                         129510\nSpirit Air Lines                             129208\nFrontier Airlines Inc.                        86557\nAllegiant Air                                 73504\nMesa Airlines Inc.                            71972\nHorizon Air                                   56320\nCapital Cargo International                   52827\nCommutair Aka Champlain Enterprises, Inc.     44367\nHawaiian Airlines Inc.                        42212\nAir Wisconsin Airlines Corp                   40300\nGoJet Airlines, LLC d/b/a United Express      34793\nName: count, dtype: int64"
          },
          "metadata": {}
        }
      ],
      "execution_count": null
    },
    {
      "cell_type": "code",
      "source": [
        "df[['Airline', 'Origin']].value_counts()"
      ],
      "metadata": {
        "execution": {
          "iopub.status.busy": "2025-08-10T02:42:12.545794Z",
          "iopub.execute_input": "2025-08-10T02:42:12.546144Z",
          "iopub.status.idle": "2025-08-10T02:42:13.38331Z",
          "shell.execute_reply.started": "2025-08-10T02:42:12.546119Z",
          "shell.execute_reply": "2025-08-10T02:42:13.382061Z"
        },
        "trusted": true,
        "id": "pU8nUdGrq-ln",
        "outputId": "459497e5-e2a3-4bfa-ef7f-f610062348f4"
      },
      "outputs": [
        {
          "execution_count": 59,
          "output_type": "execute_result",
          "data": {
            "text/plain": "Airline                                    Origin\nDelta Air Lines Inc.                       ATL       120919\nAmerican Airlines Inc.                     DFW        81239\n                                           CLT        57914\nUnited Air Lines Inc.                      DEN        46489\nSouthwest Airlines Co.                     DEN        45398\n                                                      ...  \nFrontier Airlines Inc.                     ICT            1\nMesa Airlines Inc.                         MDT            1\nAir Wisconsin Airlines Corp                FWA            1\nCommutair Aka Champlain Enterprises, Inc.  DSM            1\nGoJet Airlines, LLC d/b/a United Express   MKE            1\nName: count, Length: 2194, dtype: int64"
          },
          "metadata": {}
        }
      ],
      "execution_count": null
    },
    {
      "cell_type": "code",
      "source": [
        "df[['Airline', 'Origin']].value_counts().reset_index()"
      ],
      "metadata": {
        "execution": {
          "iopub.status.busy": "2025-08-10T02:43:21.782513Z",
          "iopub.execute_input": "2025-08-10T02:43:21.782912Z",
          "iopub.status.idle": "2025-08-10T02:43:22.621778Z",
          "shell.execute_reply.started": "2025-08-10T02:43:21.782881Z",
          "shell.execute_reply": "2025-08-10T02:43:22.620582Z"
        },
        "trusted": true,
        "id": "AKhnD5Ceq-ln",
        "outputId": "4aa0d31e-5034-41ac-b4ff-64dc5acb0aca"
      },
      "outputs": [
        {
          "execution_count": 60,
          "output_type": "execute_result",
          "data": {
            "text/plain": "                                        Airline Origin   count\n0                          Delta Air Lines Inc.    ATL  120919\n1                        American Airlines Inc.    DFW   81239\n2                        American Airlines Inc.    CLT   57914\n3                         United Air Lines Inc.    DEN   46489\n4                        Southwest Airlines Co.    DEN   45398\n...                                         ...    ...     ...\n2189                     Frontier Airlines Inc.    ICT       1\n2190                         Mesa Airlines Inc.    MDT       1\n2191                Air Wisconsin Airlines Corp    FWA       1\n2192  Commutair Aka Champlain Enterprises, Inc.    DSM       1\n2193   GoJet Airlines, LLC d/b/a United Express    MKE       1\n\n[2194 rows x 3 columns]",
            "text/html": "<div>\n<style scoped>\n    .dataframe tbody tr th:only-of-type {\n        vertical-align: middle;\n    }\n\n    .dataframe tbody tr th {\n        vertical-align: top;\n    }\n\n    .dataframe thead th {\n        text-align: right;\n    }\n</style>\n<table border=\"1\" class=\"dataframe\">\n  <thead>\n    <tr style=\"text-align: right;\">\n      <th></th>\n      <th>Airline</th>\n      <th>Origin</th>\n      <th>count</th>\n    </tr>\n  </thead>\n  <tbody>\n    <tr>\n      <th>0</th>\n      <td>Delta Air Lines Inc.</td>\n      <td>ATL</td>\n      <td>120919</td>\n    </tr>\n    <tr>\n      <th>1</th>\n      <td>American Airlines Inc.</td>\n      <td>DFW</td>\n      <td>81239</td>\n    </tr>\n    <tr>\n      <th>2</th>\n      <td>American Airlines Inc.</td>\n      <td>CLT</td>\n      <td>57914</td>\n    </tr>\n    <tr>\n      <th>3</th>\n      <td>United Air Lines Inc.</td>\n      <td>DEN</td>\n      <td>46489</td>\n    </tr>\n    <tr>\n      <th>4</th>\n      <td>Southwest Airlines Co.</td>\n      <td>DEN</td>\n      <td>45398</td>\n    </tr>\n    <tr>\n      <th>...</th>\n      <td>...</td>\n      <td>...</td>\n      <td>...</td>\n    </tr>\n    <tr>\n      <th>2189</th>\n      <td>Frontier Airlines Inc.</td>\n      <td>ICT</td>\n      <td>1</td>\n    </tr>\n    <tr>\n      <th>2190</th>\n      <td>Mesa Airlines Inc.</td>\n      <td>MDT</td>\n      <td>1</td>\n    </tr>\n    <tr>\n      <th>2191</th>\n      <td>Air Wisconsin Airlines Corp</td>\n      <td>FWA</td>\n      <td>1</td>\n    </tr>\n    <tr>\n      <th>2192</th>\n      <td>Commutair Aka Champlain Enterprises, Inc.</td>\n      <td>DSM</td>\n      <td>1</td>\n    </tr>\n    <tr>\n      <th>2193</th>\n      <td>GoJet Airlines, LLC d/b/a United Express</td>\n      <td>MKE</td>\n      <td>1</td>\n    </tr>\n  </tbody>\n</table>\n<p>2194 rows × 3 columns</p>\n</div>"
          },
          "metadata": {}
        }
      ],
      "execution_count": null
    },
    {
      "cell_type": "markdown",
      "source": [
        "## rank, shift, cumsum"
      ],
      "metadata": {
        "id": "tgOcrj6wq-ln"
      }
    },
    {
      "cell_type": "code",
      "source": [
        "df[['CRSDepTime']].rank(method='dense')"
      ],
      "metadata": {
        "execution": {
          "iopub.status.busy": "2025-08-10T02:43:34.568856Z",
          "iopub.execute_input": "2025-08-10T02:43:34.570266Z",
          "iopub.status.idle": "2025-08-10T02:43:35.155103Z",
          "shell.execute_reply.started": "2025-08-10T02:43:34.570214Z",
          "shell.execute_reply": "2025-08-10T02:43:35.154003Z"
        },
        "trusted": true,
        "id": "BlULooV2q-ln",
        "outputId": "2452d4f4-c552-4165-c3aa-5deba51f9d14"
      },
      "outputs": [
        {
          "execution_count": 61,
          "output_type": "execute_result",
          "data": {
            "text/plain": "        CRSDepTime\n0            574.0\n1            333.0\n2            810.0\n3            756.0\n4            576.0\n...            ...\n590537      1070.0\n590538       934.0\n590539       901.0\n590540      1170.0\n590541       595.0\n\n[4078318 rows x 1 columns]",
            "text/html": "<div>\n<style scoped>\n    .dataframe tbody tr th:only-of-type {\n        vertical-align: middle;\n    }\n\n    .dataframe tbody tr th {\n        vertical-align: top;\n    }\n\n    .dataframe thead th {\n        text-align: right;\n    }\n</style>\n<table border=\"1\" class=\"dataframe\">\n  <thead>\n    <tr style=\"text-align: right;\">\n      <th></th>\n      <th>CRSDepTime</th>\n    </tr>\n  </thead>\n  <tbody>\n    <tr>\n      <th>0</th>\n      <td>574.0</td>\n    </tr>\n    <tr>\n      <th>1</th>\n      <td>333.0</td>\n    </tr>\n    <tr>\n      <th>2</th>\n      <td>810.0</td>\n    </tr>\n    <tr>\n      <th>3</th>\n      <td>756.0</td>\n    </tr>\n    <tr>\n      <th>4</th>\n      <td>576.0</td>\n    </tr>\n    <tr>\n      <th>...</th>\n      <td>...</td>\n    </tr>\n    <tr>\n      <th>590537</th>\n      <td>1070.0</td>\n    </tr>\n    <tr>\n      <th>590538</th>\n      <td>934.0</td>\n    </tr>\n    <tr>\n      <th>590539</th>\n      <td>901.0</td>\n    </tr>\n    <tr>\n      <th>590540</th>\n      <td>1170.0</td>\n    </tr>\n    <tr>\n      <th>590541</th>\n      <td>595.0</td>\n    </tr>\n  </tbody>\n</table>\n<p>4078318 rows × 1 columns</p>\n</div>"
          },
          "metadata": {}
        }
      ],
      "execution_count": null
    },
    {
      "cell_type": "code",
      "source": [
        "df[['CRSDepTime']].rank(method='first')"
      ],
      "metadata": {
        "execution": {
          "iopub.status.busy": "2023-09-02T01:10:01.938285Z",
          "iopub.execute_input": "2023-09-02T01:10:01.939173Z",
          "iopub.status.idle": "2023-09-02T01:10:02.545714Z",
          "shell.execute_reply.started": "2023-09-02T01:10:01.939129Z",
          "shell.execute_reply": "2023-09-02T01:10:02.54433Z"
        },
        "trusted": true,
        "id": "44mFLY6iq-lo"
      },
      "outputs": [],
      "execution_count": null
    },
    {
      "cell_type": "code",
      "source": [
        "df[['CRSDepTime']].shift(1)"
      ],
      "metadata": {
        "execution": {
          "iopub.status.busy": "2023-09-02T01:10:02.547279Z",
          "iopub.execute_input": "2023-09-02T01:10:02.548279Z",
          "iopub.status.idle": "2023-09-02T01:10:02.5825Z",
          "shell.execute_reply.started": "2023-09-02T01:10:02.548237Z",
          "shell.execute_reply": "2023-09-02T01:10:02.58131Z"
        },
        "trusted": true,
        "id": "j8aPOSStq-lo"
      },
      "outputs": [],
      "execution_count": null
    },
    {
      "cell_type": "code",
      "source": [
        "df[['CRSDepTime']].shift(-1)"
      ],
      "metadata": {
        "execution": {
          "iopub.status.busy": "2023-09-02T01:10:02.584256Z",
          "iopub.execute_input": "2023-09-02T01:10:02.584726Z",
          "iopub.status.idle": "2023-09-02T01:10:02.618819Z",
          "shell.execute_reply.started": "2023-09-02T01:10:02.584679Z",
          "shell.execute_reply": "2023-09-02T01:10:02.617623Z"
        },
        "trusted": true,
        "id": "RxYkUP9rq-lo"
      },
      "outputs": [],
      "execution_count": null
    },
    {
      "cell_type": "code",
      "source": [
        "df[['CRSDepTime']].shift(3, fill_value=100)"
      ],
      "metadata": {
        "execution": {
          "iopub.status.busy": "2023-09-02T01:10:02.620426Z",
          "iopub.execute_input": "2023-09-02T01:10:02.620781Z",
          "iopub.status.idle": "2023-09-02T01:10:02.647317Z",
          "shell.execute_reply.started": "2023-09-02T01:10:02.62075Z",
          "shell.execute_reply": "2023-09-02T01:10:02.646191Z"
        },
        "trusted": true,
        "id": "3ncXBi73q-lo"
      },
      "outputs": [],
      "execution_count": null
    },
    {
      "cell_type": "code",
      "source": [
        "df[['CRSDepTime']].cumsum()"
      ],
      "metadata": {
        "execution": {
          "iopub.status.busy": "2023-09-02T01:10:02.64864Z",
          "iopub.execute_input": "2023-09-02T01:10:02.64917Z",
          "iopub.status.idle": "2023-09-02T01:10:02.684682Z",
          "shell.execute_reply.started": "2023-09-02T01:10:02.649135Z",
          "shell.execute_reply": "2023-09-02T01:10:02.683756Z"
        },
        "trusted": true,
        "id": "h_F815EGq-lo"
      },
      "outputs": [],
      "execution_count": null
    },
    {
      "cell_type": "code",
      "source": [
        "df[['CRSDepTime']].cummax()"
      ],
      "metadata": {
        "execution": {
          "iopub.status.busy": "2023-09-02T01:10:02.685767Z",
          "iopub.execute_input": "2023-09-02T01:10:02.686096Z",
          "iopub.status.idle": "2023-09-02T01:10:02.728449Z",
          "shell.execute_reply.started": "2023-09-02T01:10:02.686068Z",
          "shell.execute_reply": "2023-09-02T01:10:02.727488Z"
        },
        "trusted": true,
        "id": "SESBpD9Kq-lp"
      },
      "outputs": [],
      "execution_count": null
    },
    {
      "cell_type": "code",
      "source": [
        "df[['CRSDepTime']].cummin()"
      ],
      "metadata": {
        "execution": {
          "iopub.status.busy": "2023-09-02T01:10:02.729653Z",
          "iopub.execute_input": "2023-09-02T01:10:02.73092Z",
          "iopub.status.idle": "2023-09-02T01:10:02.772956Z",
          "shell.execute_reply.started": "2023-09-02T01:10:02.730873Z",
          "shell.execute_reply": "2023-09-02T01:10:02.77161Z"
        },
        "trusted": true,
        "id": "9PpyhNvmq-lp"
      },
      "outputs": [],
      "execution_count": null
    },
    {
      "cell_type": "markdown",
      "source": [
        "## Rolling methods"
      ],
      "metadata": {
        "id": "GnIxDgx7q-lp"
      }
    },
    {
      "cell_type": "code",
      "source": [
        "df[['DepDelayMinutes']].rolling(window=5).mean()"
      ],
      "metadata": {
        "execution": {
          "iopub.status.busy": "2023-09-02T01:10:02.774583Z",
          "iopub.execute_input": "2023-09-02T01:10:02.774935Z",
          "iopub.status.idle": "2023-09-02T01:10:02.925801Z",
          "shell.execute_reply.started": "2023-09-02T01:10:02.774904Z",
          "shell.execute_reply": "2023-09-02T01:10:02.924448Z"
        },
        "trusted": true,
        "id": "34B_twGrq-lp"
      },
      "outputs": [],
      "execution_count": null
    },
    {
      "cell_type": "markdown",
      "source": [
        "## Clip"
      ],
      "metadata": {
        "id": "i3R2ekKRq-lp"
      }
    },
    {
      "cell_type": "code",
      "source": [
        "df['DepTime'].clip(1000, 2000)"
      ],
      "metadata": {
        "execution": {
          "iopub.status.busy": "2023-09-02T01:10:02.92724Z",
          "iopub.execute_input": "2023-09-02T01:10:02.927597Z",
          "iopub.status.idle": "2023-09-02T01:10:02.984344Z",
          "shell.execute_reply.started": "2023-09-02T01:10:02.927564Z",
          "shell.execute_reply": "2023-09-02T01:10:02.983086Z"
        },
        "trusted": true,
        "id": "JETYaEIYq-lp"
      },
      "outputs": [],
      "execution_count": null
    },
    {
      "cell_type": "markdown",
      "source": [
        "## Groupby"
      ],
      "metadata": {
        "id": "IKKo-3Oqq-lq"
      }
    },
    {
      "cell_type": "code",
      "source": [
        "df.groupby('Airline')[['DepDelay']].mean()"
      ],
      "metadata": {
        "execution": {
          "iopub.status.busy": "2023-09-02T01:10:02.985791Z",
          "iopub.execute_input": "2023-09-02T01:10:02.986112Z",
          "iopub.status.idle": "2023-09-02T01:10:03.365066Z",
          "shell.execute_reply.started": "2023-09-02T01:10:02.986082Z",
          "shell.execute_reply": "2023-09-02T01:10:03.363945Z"
        },
        "trusted": true,
        "id": "yfkJAeZ4q-lq"
      },
      "outputs": [],
      "execution_count": null
    },
    {
      "cell_type": "code",
      "source": [
        "df.groupby('Airline')[['DepDelay']].agg(['mean', 'min', 'max'])"
      ],
      "metadata": {
        "execution": {
          "iopub.status.busy": "2023-09-02T01:10:03.366432Z",
          "iopub.execute_input": "2023-09-02T01:10:03.366847Z",
          "iopub.status.idle": "2023-09-02T01:10:03.863992Z",
          "shell.execute_reply.started": "2023-09-02T01:10:03.366813Z",
          "shell.execute_reply": "2023-09-02T01:10:03.862629Z"
        },
        "trusted": true,
        "id": "v1UgC8zbq-lq"
      },
      "outputs": [],
      "execution_count": null
    },
    {
      "cell_type": "code",
      "source": [
        "df_agg = df.groupby('Airline')[['DepDelay', 'ArrDelay']].agg(['mean', 'min', 'max'])"
      ],
      "metadata": {
        "execution": {
          "iopub.status.busy": "2023-09-02T01:10:03.865781Z",
          "iopub.execute_input": "2023-09-02T01:10:03.866297Z",
          "iopub.status.idle": "2023-09-02T01:10:04.452265Z",
          "shell.execute_reply.started": "2023-09-02T01:10:03.866258Z",
          "shell.execute_reply": "2023-09-02T01:10:04.451242Z"
        },
        "trusted": true,
        "id": "dwqt8NhOq-lq"
      },
      "outputs": [],
      "execution_count": null
    },
    {
      "cell_type": "code",
      "source": [
        "df_agg.columns"
      ],
      "metadata": {
        "execution": {
          "iopub.status.busy": "2023-09-02T01:10:04.453733Z",
          "iopub.execute_input": "2023-09-02T01:10:04.45464Z",
          "iopub.status.idle": "2023-09-02T01:10:04.461811Z",
          "shell.execute_reply.started": "2023-09-02T01:10:04.454604Z",
          "shell.execute_reply": "2023-09-02T01:10:04.460712Z"
        },
        "trusted": true,
        "id": "wVTdjR4eq-lq"
      },
      "outputs": [],
      "execution_count": null
    },
    {
      "cell_type": "code",
      "source": [
        "df_agg.columns.to_flat_index()"
      ],
      "metadata": {
        "execution": {
          "iopub.status.busy": "2023-09-02T01:10:04.463647Z",
          "iopub.execute_input": "2023-09-02T01:10:04.464021Z",
          "iopub.status.idle": "2023-09-02T01:10:04.477766Z",
          "shell.execute_reply.started": "2023-09-02T01:10:04.46399Z",
          "shell.execute_reply": "2023-09-02T01:10:04.476466Z"
        },
        "trusted": true,
        "id": "eYO6mLSvq-lq"
      },
      "outputs": [],
      "execution_count": null
    },
    {
      "cell_type": "code",
      "source": [
        "df_agg.columns = [\"_\".join(c) for c in df_agg.columns]"
      ],
      "metadata": {
        "execution": {
          "iopub.status.busy": "2023-09-02T01:10:04.479734Z",
          "iopub.execute_input": "2023-09-02T01:10:04.480127Z",
          "iopub.status.idle": "2023-09-02T01:10:04.491578Z",
          "shell.execute_reply.started": "2023-09-02T01:10:04.480085Z",
          "shell.execute_reply": "2023-09-02T01:10:04.490456Z"
        },
        "trusted": true,
        "id": "QY7OqBc_q-lr"
      },
      "outputs": [],
      "execution_count": null
    },
    {
      "cell_type": "code",
      "source": [
        "df_agg"
      ],
      "metadata": {
        "execution": {
          "iopub.status.busy": "2023-09-02T01:10:04.493038Z",
          "iopub.execute_input": "2023-09-02T01:10:04.493428Z",
          "iopub.status.idle": "2023-09-02T01:10:04.521021Z",
          "shell.execute_reply.started": "2023-09-02T01:10:04.493383Z",
          "shell.execute_reply": "2023-09-02T01:10:04.519628Z"
        },
        "trusted": true,
        "id": "sJ2hlXuxq-lr"
      },
      "outputs": [],
      "execution_count": null
    },
    {
      "cell_type": "markdown",
      "source": [
        "## New columns"
      ],
      "metadata": {
        "id": "bk7MQabBq-lr"
      }
    },
    {
      "cell_type": "code",
      "source": [
        "df['DepTime2'] = df['DepTime'] / 60"
      ],
      "metadata": {
        "execution": {
          "iopub.status.busy": "2023-09-02T01:10:04.522394Z",
          "iopub.execute_input": "2023-09-02T01:10:04.522762Z",
          "iopub.status.idle": "2023-09-02T01:10:04.548112Z",
          "shell.execute_reply.started": "2023-09-02T01:10:04.522728Z",
          "shell.execute_reply": "2023-09-02T01:10:04.547097Z"
        },
        "trusted": true,
        "id": "JG4qX8x3q-lr"
      },
      "outputs": [],
      "execution_count": null
    },
    {
      "cell_type": "code",
      "source": [
        "df.head(3)"
      ],
      "metadata": {
        "execution": {
          "iopub.status.busy": "2023-09-02T01:10:04.549205Z",
          "iopub.execute_input": "2023-09-02T01:10:04.550081Z",
          "iopub.status.idle": "2023-09-02T01:10:04.5951Z",
          "shell.execute_reply.started": "2023-09-02T01:10:04.550044Z",
          "shell.execute_reply": "2023-09-02T01:10:04.593809Z"
        },
        "trusted": true,
        "id": "YerR4mw8q-lr"
      },
      "outputs": [],
      "execution_count": null
    },
    {
      "cell_type": "code",
      "source": [
        "df = df.assign(DepTime3 = df['DepTime'] / 60)\n",
        "df.head(3)"
      ],
      "metadata": {
        "execution": {
          "iopub.status.busy": "2023-09-02T01:10:04.596493Z",
          "iopub.execute_input": "2023-09-02T01:10:04.597265Z",
          "iopub.status.idle": "2023-09-02T01:10:06.662576Z",
          "shell.execute_reply.started": "2023-09-02T01:10:04.597229Z",
          "shell.execute_reply": "2023-09-02T01:10:06.661319Z"
        },
        "trusted": true,
        "id": "lvujtoOPq-ls"
      },
      "outputs": [],
      "execution_count": null
    },
    {
      "cell_type": "markdown",
      "source": [
        "## Sorting"
      ],
      "metadata": {
        "id": "eW4bbEqNq-ls"
      }
    },
    {
      "cell_type": "code",
      "source": [
        "df.sort_values('ArrDelay')"
      ],
      "metadata": {
        "execution": {
          "iopub.status.busy": "2023-09-02T01:10:06.664304Z",
          "iopub.execute_input": "2023-09-02T01:10:06.665026Z",
          "iopub.status.idle": "2023-09-02T01:10:17.214365Z",
          "shell.execute_reply.started": "2023-09-02T01:10:06.66498Z",
          "shell.execute_reply": "2023-09-02T01:10:17.213223Z"
        },
        "trusted": true,
        "id": "GKfatowRq-ls"
      },
      "outputs": [],
      "execution_count": null
    },
    {
      "cell_type": "code",
      "source": [
        "df[['FlightDate', 'Airline', 'ArrDelay']].sort_values('ArrDelay', ascending=False)"
      ],
      "metadata": {
        "execution": {
          "iopub.status.busy": "2023-09-02T01:10:17.215918Z",
          "iopub.execute_input": "2023-09-02T01:10:17.216343Z",
          "iopub.status.idle": "2023-09-02T01:10:18.611738Z",
          "shell.execute_reply.started": "2023-09-02T01:10:17.2163Z",
          "shell.execute_reply": "2023-09-02T01:10:18.610448Z"
        },
        "trusted": true,
        "id": "DFiHL4Otq-ls"
      },
      "outputs": [],
      "execution_count": null
    },
    {
      "cell_type": "code",
      "source": [
        "df[['FlightDate', 'Airline', 'ArrDelay']].sort_values('ArrDelay', ascending=False).reset_index(drop=True)"
      ],
      "metadata": {
        "execution": {
          "iopub.status.busy": "2023-09-02T01:10:18.615016Z",
          "iopub.execute_input": "2023-09-02T01:10:18.615452Z",
          "iopub.status.idle": "2023-09-02T01:10:19.983109Z",
          "shell.execute_reply.started": "2023-09-02T01:10:18.615421Z",
          "shell.execute_reply": "2023-09-02T01:10:19.981712Z"
        },
        "trusted": true,
        "id": "C7mM-t5aq-ls"
      },
      "outputs": [],
      "execution_count": null
    },
    {
      "cell_type": "code",
      "source": [
        "df[['FlightDate', 'Airline', 'ArrDelay']].sort_index()"
      ],
      "metadata": {
        "execution": {
          "iopub.status.busy": "2023-09-02T01:10:19.984615Z",
          "iopub.execute_input": "2023-09-02T01:10:19.98495Z",
          "iopub.status.idle": "2023-09-02T01:10:20.513302Z",
          "shell.execute_reply.started": "2023-09-02T01:10:19.98492Z",
          "shell.execute_reply": "2023-09-02T01:10:20.512066Z"
        },
        "trusted": true,
        "id": "0wx8Ec0dq-ls"
      },
      "outputs": [],
      "execution_count": null
    },
    {
      "cell_type": "markdown",
      "source": [
        "## Missing data"
      ],
      "metadata": {
        "id": "qkc7w3s6q-lt"
      }
    },
    {
      "cell_type": "code",
      "source": [
        "df[['FlightDate', 'Airline', 'ArrDelay']].isna()"
      ],
      "metadata": {
        "execution": {
          "iopub.status.busy": "2023-09-02T01:10:20.514482Z",
          "iopub.execute_input": "2023-09-02T01:10:20.515049Z",
          "iopub.status.idle": "2023-09-02T01:10:20.770744Z",
          "shell.execute_reply.started": "2023-09-02T01:10:20.514991Z",
          "shell.execute_reply": "2023-09-02T01:10:20.769634Z"
        },
        "trusted": true,
        "id": "6aeL38jBq-lt"
      },
      "outputs": [],
      "execution_count": null
    },
    {
      "cell_type": "code",
      "source": [
        "df[['FlightDate', 'Airline', 'ArrDelay']].isna().sum()"
      ],
      "metadata": {
        "execution": {
          "iopub.status.busy": "2023-09-02T01:10:20.772381Z",
          "iopub.execute_input": "2023-09-02T01:10:20.77277Z",
          "iopub.status.idle": "2023-09-02T01:10:21.034598Z",
          "shell.execute_reply.started": "2023-09-02T01:10:20.772737Z",
          "shell.execute_reply": "2023-09-02T01:10:21.033276Z"
        },
        "trusted": true,
        "id": "ZTaC2F9nq-lt"
      },
      "outputs": [],
      "execution_count": null
    },
    {
      "cell_type": "code",
      "source": [
        "df[['FlightDate', 'Airline', 'ArrDelay']].dropna(subset=['ArrDelay'])"
      ],
      "metadata": {
        "execution": {
          "iopub.status.busy": "2023-09-02T01:10:21.035731Z",
          "iopub.execute_input": "2023-09-02T01:10:21.036108Z",
          "iopub.status.idle": "2023-09-02T01:10:21.31684Z",
          "shell.execute_reply.started": "2023-09-02T01:10:21.036074Z",
          "shell.execute_reply": "2023-09-02T01:10:21.315525Z"
        },
        "trusted": true,
        "id": "YSGFLR2iq-lt"
      },
      "outputs": [],
      "execution_count": null
    },
    {
      "cell_type": "code",
      "source": [
        "df[['FlightDate', 'Airline', 'ArrDelay']].fillna(-999)"
      ],
      "metadata": {
        "execution": {
          "iopub.status.busy": "2023-09-02T01:10:21.318685Z",
          "iopub.execute_input": "2023-09-02T01:10:21.319055Z",
          "iopub.status.idle": "2023-09-02T01:10:21.688139Z",
          "shell.execute_reply.started": "2023-09-02T01:10:21.319024Z",
          "shell.execute_reply": "2023-09-02T01:10:21.686975Z"
        },
        "trusted": true,
        "id": "2gsA5s5Gq-lt"
      },
      "outputs": [],
      "execution_count": null
    },
    {
      "cell_type": "code",
      "source": [
        "df['ArrDelay'].fillna(df['ArrDelay'].mean())"
      ],
      "metadata": {
        "execution": {
          "iopub.status.busy": "2023-09-02T01:10:21.689599Z",
          "iopub.execute_input": "2023-09-02T01:10:21.689942Z",
          "iopub.status.idle": "2023-09-02T01:10:21.73028Z",
          "shell.execute_reply.started": "2023-09-02T01:10:21.689911Z",
          "shell.execute_reply": "2023-09-02T01:10:21.729439Z"
        },
        "trusted": true,
        "id": "iBh2mVCPq-lt"
      },
      "outputs": [],
      "execution_count": null
    },
    {
      "cell_type": "markdown",
      "source": [
        "## Concat"
      ],
      "metadata": {
        "id": "1uKdeoJQq-lu"
      }
    },
    {
      "cell_type": "code",
      "source": [
        "df1 = df.query('Airline == \"Southwest Airlines Co.\"').copy()\n",
        "df2 = df.query('Airline == \"Delta Air Lines Inc.\"').copy()"
      ],
      "metadata": {
        "execution": {
          "iopub.status.busy": "2023-09-02T01:10:21.731759Z",
          "iopub.execute_input": "2023-09-02T01:10:21.732436Z",
          "iopub.status.idle": "2023-09-02T01:10:23.14946Z",
          "shell.execute_reply.started": "2023-09-02T01:10:21.73235Z",
          "shell.execute_reply": "2023-09-02T01:10:23.148175Z"
        },
        "trusted": true,
        "id": "MjaPL4Ptq-lu"
      },
      "outputs": [],
      "execution_count": null
    },
    {
      "cell_type": "code",
      "source": [
        "pd.concat([df1, df2])"
      ],
      "metadata": {
        "execution": {
          "iopub.status.busy": "2023-09-02T01:10:23.151196Z",
          "iopub.execute_input": "2023-09-02T01:10:23.151631Z",
          "iopub.status.idle": "2023-09-02T01:10:23.891656Z",
          "shell.execute_reply.started": "2023-09-02T01:10:23.151588Z",
          "shell.execute_reply": "2023-09-02T01:10:23.890409Z"
        },
        "trusted": true,
        "id": "7XGevkwDq-lu"
      },
      "outputs": [],
      "execution_count": null
    },
    {
      "cell_type": "code",
      "source": [
        "df_stack = pd.concat([df1, df2])"
      ],
      "metadata": {
        "execution": {
          "iopub.status.busy": "2023-09-02T01:10:23.89299Z",
          "iopub.execute_input": "2023-09-02T01:10:23.893339Z",
          "iopub.status.idle": "2023-09-02T01:10:24.585575Z",
          "shell.execute_reply.started": "2023-09-02T01:10:23.893306Z",
          "shell.execute_reply": "2023-09-02T01:10:24.584396Z"
        },
        "trusted": true,
        "id": "40TAl7bOq-lu"
      },
      "outputs": [],
      "execution_count": null
    },
    {
      "cell_type": "code",
      "source": [
        "df1 = df1.reset_index(drop=True)\n",
        "df2 = df2.reset_index(drop=True)"
      ],
      "metadata": {
        "execution": {
          "iopub.status.busy": "2023-09-02T01:10:24.587228Z",
          "iopub.execute_input": "2023-09-02T01:10:24.587622Z",
          "iopub.status.idle": "2023-09-02T01:10:25.130143Z",
          "shell.execute_reply.started": "2023-09-02T01:10:24.587585Z",
          "shell.execute_reply": "2023-09-02T01:10:25.129004Z"
        },
        "trusted": true,
        "id": "rqFvbaYvq-lu"
      },
      "outputs": [],
      "execution_count": null
    },
    {
      "cell_type": "code",
      "source": [
        "df_side = pd.concat([df1, df2], axis=1)"
      ],
      "metadata": {
        "execution": {
          "iopub.status.busy": "2023-09-02T01:10:25.131702Z",
          "iopub.execute_input": "2023-09-02T01:10:25.132329Z",
          "iopub.status.idle": "2023-09-02T01:10:25.695087Z",
          "shell.execute_reply.started": "2023-09-02T01:10:25.132282Z",
          "shell.execute_reply": "2023-09-02T01:10:25.693805Z"
        },
        "trusted": true,
        "id": "oThEoE3Iq-lv"
      },
      "outputs": [],
      "execution_count": null
    },
    {
      "cell_type": "code",
      "source": [
        "df1.shape, df2.shape, df_stack.shape, df_side.shape"
      ],
      "metadata": {
        "execution": {
          "iopub.status.busy": "2023-09-02T01:10:25.697371Z",
          "iopub.execute_input": "2023-09-02T01:10:25.698179Z",
          "iopub.status.idle": "2023-09-02T01:10:25.706856Z",
          "shell.execute_reply.started": "2023-09-02T01:10:25.698123Z",
          "shell.execute_reply": "2023-09-02T01:10:25.705952Z"
        },
        "trusted": true,
        "id": "m7NGWMv7q-lv"
      },
      "outputs": [],
      "execution_count": null
    },
    {
      "cell_type": "markdown",
      "source": [
        "## Merge dataframes"
      ],
      "metadata": {
        "id": "AU7cnp2Yq-lv"
      }
    },
    {
      "cell_type": "code",
      "source": [
        "df1 = df.groupby(['Airline', 'FlightDate'])[['DepDelay']].mean().reset_index()\n",
        "df2 = df.groupby(['Airline', 'FlightDate'])[['ArrDelay']].mean().reset_index()"
      ],
      "metadata": {
        "execution": {
          "iopub.status.busy": "2023-09-02T01:10:25.707793Z",
          "iopub.execute_input": "2023-09-02T01:10:25.70822Z",
          "iopub.status.idle": "2023-09-02T01:10:26.975355Z",
          "shell.execute_reply.started": "2023-09-02T01:10:25.708186Z",
          "shell.execute_reply": "2023-09-02T01:10:26.973959Z"
        },
        "trusted": true,
        "id": "ThzUm37qq-lv"
      },
      "outputs": [],
      "execution_count": null
    },
    {
      "cell_type": "code",
      "source": [
        "df2"
      ],
      "metadata": {
        "execution": {
          "iopub.status.busy": "2023-09-02T01:10:26.976819Z",
          "iopub.execute_input": "2023-09-02T01:10:26.978131Z",
          "iopub.status.idle": "2023-09-02T01:10:26.997091Z",
          "shell.execute_reply.started": "2023-09-02T01:10:26.978084Z",
          "shell.execute_reply": "2023-09-02T01:10:26.995785Z"
        },
        "trusted": true,
        "id": "08uS3YbFq-lv"
      },
      "outputs": [],
      "execution_count": null
    },
    {
      "cell_type": "code",
      "source": [
        "df1.merge(df2, how=\"left\")"
      ],
      "metadata": {
        "execution": {
          "iopub.status.busy": "2023-09-02T01:10:26.998429Z",
          "iopub.execute_input": "2023-09-02T01:10:26.99895Z",
          "iopub.status.idle": "2023-09-02T01:10:27.027352Z",
          "shell.execute_reply.started": "2023-09-02T01:10:26.998868Z",
          "shell.execute_reply": "2023-09-02T01:10:27.026274Z"
        },
        "trusted": true,
        "id": "sZZIP6ngq-lv"
      },
      "outputs": [],
      "execution_count": null
    },
    {
      "cell_type": "code",
      "source": [
        "df1.merge(df2, how=\"right\")"
      ],
      "metadata": {
        "execution": {
          "iopub.status.busy": "2023-09-02T01:10:27.028736Z",
          "iopub.execute_input": "2023-09-02T01:10:27.029046Z",
          "iopub.status.idle": "2023-09-02T01:10:27.050653Z",
          "shell.execute_reply.started": "2023-09-02T01:10:27.029019Z",
          "shell.execute_reply": "2023-09-02T01:10:27.049841Z"
        },
        "trusted": true,
        "id": "_DJCHYQVq-lw"
      },
      "outputs": [],
      "execution_count": null
    },
    {
      "cell_type": "code",
      "source": [
        "df1.merge(df2, how=\"outer\")"
      ],
      "metadata": {
        "execution": {
          "iopub.status.busy": "2023-09-02T01:10:27.051833Z",
          "iopub.execute_input": "2023-09-02T01:10:27.052967Z",
          "iopub.status.idle": "2023-09-02T01:10:27.075934Z",
          "shell.execute_reply.started": "2023-09-02T01:10:27.052918Z",
          "shell.execute_reply": "2023-09-02T01:10:27.074609Z"
        },
        "trusted": true,
        "id": "5Hde0yuzq-lw"
      },
      "outputs": [],
      "execution_count": null
    },
    {
      "cell_type": "markdown",
      "source": [
        "## Merge suffixes"
      ],
      "metadata": {
        "id": "nSTlorZ7q-lw"
      }
    },
    {
      "cell_type": "code",
      "source": [
        "pd.merge(df1, df2, on=['Airline', 'FlightDate'])"
      ],
      "metadata": {
        "execution": {
          "iopub.status.busy": "2023-09-02T01:10:27.077634Z",
          "iopub.execute_input": "2023-09-02T01:10:27.078094Z",
          "iopub.status.idle": "2023-09-02T01:10:27.09924Z",
          "shell.execute_reply.started": "2023-09-02T01:10:27.078049Z",
          "shell.execute_reply": "2023-09-02T01:10:27.09807Z"
        },
        "trusted": true,
        "id": "gSNb58Z-q-lw"
      },
      "outputs": [],
      "execution_count": null
    },
    {
      "cell_type": "code",
      "source": [
        "pd.merge(df1, df2, on=['Airline'])"
      ],
      "metadata": {
        "execution": {
          "iopub.status.busy": "2023-09-02T01:10:27.100834Z",
          "iopub.execute_input": "2023-09-02T01:10:27.101333Z",
          "iopub.status.idle": "2023-09-02T01:10:27.203183Z",
          "shell.execute_reply.started": "2023-09-02T01:10:27.101299Z",
          "shell.execute_reply": "2023-09-02T01:10:27.202275Z"
        },
        "trusted": true,
        "id": "5tbrXEZVq-lw"
      },
      "outputs": [],
      "execution_count": null
    },
    {
      "cell_type": "code",
      "source": [
        "pd.merge(df1, df2, on=['Airline'], suffixes=('_dep', '_arr'))"
      ],
      "metadata": {
        "execution": {
          "iopub.status.busy": "2023-09-02T01:10:27.204289Z",
          "iopub.execute_input": "2023-09-02T01:10:27.205225Z",
          "iopub.status.idle": "2023-09-02T01:10:27.297028Z",
          "shell.execute_reply.started": "2023-09-02T01:10:27.205189Z",
          "shell.execute_reply": "2023-09-02T01:10:27.295996Z"
        },
        "trusted": true,
        "id": "Ag3-gDjMq-lw"
      },
      "outputs": [],
      "execution_count": null
    },
    {
      "cell_type": "code",
      "source": [
        "pd.merge(df1, df2, left_on=['Airline'], right_on=['Airline'])"
      ],
      "metadata": {
        "tags": [],
        "execution": {
          "iopub.status.busy": "2023-09-02T01:10:27.298811Z",
          "iopub.execute_input": "2023-09-02T01:10:27.299588Z",
          "iopub.status.idle": "2023-09-02T01:10:27.391875Z",
          "shell.execute_reply.started": "2023-09-02T01:10:27.299519Z",
          "shell.execute_reply": "2023-09-02T01:10:27.390752Z"
        },
        "trusted": true,
        "id": "w415sFTsq-lx"
      },
      "outputs": [],
      "execution_count": null
    }
  ]
}