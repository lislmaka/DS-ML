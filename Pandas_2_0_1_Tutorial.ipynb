{
  "metadata": {
    "kernelspec": {
      "name": "python3",
      "display_name": "Python 3",
      "language": "python"
    },
    "language_info": {
      "name": "python",
      "version": "3.10.12",
      "mimetype": "text/x-python",
      "codemirror_mode": {
        "name": "ipython",
        "version": 3
      },
      "pygments_lexer": "ipython3",
      "nbconvert_exporter": "python",
      "file_extension": ".py"
    },
    "colab": {
      "name": "Pandas 2.0.1 Tutorial",
      "provenance": []
    }
  },
  "nbformat_minor": 0,
  "nbformat": 4,
  "cells": [
    {
      "source": [
        "# IMPORTANT: RUN THIS CELL IN ORDER TO IMPORT YOUR KAGGLE DATA SOURCES,\n",
        "# THEN FEEL FREE TO DELETE THIS CELL.\n",
        "# NOTE: THIS NOTEBOOK ENVIRONMENT DIFFERS FROM KAGGLE'S PYTHON\n",
        "# ENVIRONMENT SO THERE MAY BE MISSING LIBRARIES USED BY YOUR\n",
        "# NOTEBOOK.\n",
        "import kagglehub\n",
        "robikscube_flight_delay_dataset_20182022_path = kagglehub.dataset_download('robikscube/flight-delay-dataset-20182022')\n",
        "\n",
        "print('Data source import complete.')\n"
      ],
      "metadata": {
        "id": "PxuHoy6Gv4kx"
      },
      "cell_type": "code",
      "outputs": [],
      "execution_count": null
    },
    {
      "cell_type": "code",
      "source": [
        "import pandas as pd\n",
        "import sys\n",
        "print(sys.version)\n",
        "print('pandas version', pd.__version__)"
      ],
      "metadata": {
        "execution": {
          "iopub.status.busy": "2023-09-02T01:07:51.56773Z",
          "iopub.execute_input": "2023-09-02T01:07:51.568156Z",
          "iopub.status.idle": "2023-09-02T01:07:52.040102Z",
          "shell.execute_reply.started": "2023-09-02T01:07:51.568115Z",
          "shell.execute_reply": "2023-09-02T01:07:52.038912Z"
        },
        "trusted": true,
        "id": "WNbk7VbYv4ky"
      },
      "execution_count": null,
      "outputs": []
    },
    {
      "cell_type": "markdown",
      "source": [
        "## Reading from files"
      ],
      "metadata": {
        "id": "yJ94xb-7v4kz"
      }
    },
    {
      "cell_type": "code",
      "source": [
        "df = pd.read_parquet(\"/kaggle/input/flight-delay-dataset-20182022/Combined_Flights_2022.parquet\")"
      ],
      "metadata": {
        "tags": [],
        "execution": {
          "iopub.status.busy": "2023-09-02T01:07:52.04259Z",
          "iopub.execute_input": "2023-09-02T01:07:52.043211Z",
          "iopub.status.idle": "2023-09-02T01:07:58.460496Z",
          "shell.execute_reply.started": "2023-09-02T01:07:52.043165Z",
          "shell.execute_reply": "2023-09-02T01:07:58.459273Z"
        },
        "trusted": true,
        "id": "orNZG4Tlv4kz"
      },
      "execution_count": null,
      "outputs": []
    },
    {
      "cell_type": "markdown",
      "source": [
        "## Writing to files"
      ],
      "metadata": {
        "id": "CsqO-zg_v4kz"
      }
    },
    {
      "cell_type": "code",
      "source": [
        "df.to_csv(\"/kaggle/working/Combined_Flights_2022.csv\", index=False)"
      ],
      "metadata": {
        "execution": {
          "iopub.status.busy": "2023-09-02T01:07:58.46204Z",
          "iopub.execute_input": "2023-09-02T01:07:58.462381Z",
          "iopub.status.idle": "2023-09-02T01:09:45.028896Z",
          "shell.execute_reply.started": "2023-09-02T01:07:58.462351Z",
          "shell.execute_reply": "2023-09-02T01:09:45.027867Z"
        },
        "trusted": true,
        "id": "eoIathvhv4kz"
      },
      "execution_count": null,
      "outputs": []
    },
    {
      "cell_type": "markdown",
      "source": [
        "## Dataframe basics"
      ],
      "metadata": {
        "id": "w3r6DMnyv4kz"
      }
    },
    {
      "cell_type": "code",
      "source": [
        "pd.set_option(\"display.max_columns\", 500)"
      ],
      "metadata": {
        "tags": [],
        "execution": {
          "iopub.status.busy": "2023-09-02T01:09:45.030687Z",
          "iopub.execute_input": "2023-09-02T01:09:45.031462Z",
          "iopub.status.idle": "2023-09-02T01:09:45.037157Z",
          "shell.execute_reply.started": "2023-09-02T01:09:45.031409Z",
          "shell.execute_reply": "2023-09-02T01:09:45.035844Z"
        },
        "trusted": true,
        "id": "0kK4OgDyv4kz"
      },
      "execution_count": null,
      "outputs": []
    },
    {
      "cell_type": "code",
      "source": [
        "df.head(3)"
      ],
      "metadata": {
        "execution": {
          "iopub.status.busy": "2023-09-02T01:09:45.041868Z",
          "iopub.execute_input": "2023-09-02T01:09:45.042287Z",
          "iopub.status.idle": "2023-09-02T01:09:45.09744Z",
          "shell.execute_reply.started": "2023-09-02T01:09:45.042251Z",
          "shell.execute_reply": "2023-09-02T01:09:45.09624Z"
        },
        "trusted": true,
        "id": "TqqwgJa6v4kz"
      },
      "execution_count": null,
      "outputs": []
    },
    {
      "cell_type": "code",
      "source": [
        "df.tail(3)"
      ],
      "metadata": {
        "execution": {
          "iopub.status.busy": "2023-09-02T01:09:45.098958Z",
          "iopub.execute_input": "2023-09-02T01:09:45.099387Z",
          "iopub.status.idle": "2023-09-02T01:09:45.145036Z",
          "shell.execute_reply.started": "2023-09-02T01:09:45.099343Z",
          "shell.execute_reply": "2023-09-02T01:09:45.143601Z"
        },
        "trusted": true,
        "id": "UXGVP9olv4kz"
      },
      "execution_count": null,
      "outputs": []
    },
    {
      "cell_type": "code",
      "source": [
        "df.sample(3, random_state=42)"
      ],
      "metadata": {
        "execution": {
          "iopub.status.busy": "2023-09-02T01:09:45.146945Z",
          "iopub.execute_input": "2023-09-02T01:09:45.147417Z",
          "iopub.status.idle": "2023-09-02T01:09:45.399672Z",
          "shell.execute_reply.started": "2023-09-02T01:09:45.14737Z",
          "shell.execute_reply": "2023-09-02T01:09:45.3986Z"
        },
        "trusted": true,
        "id": "bgqEAujBv4k0"
      },
      "execution_count": null,
      "outputs": []
    },
    {
      "cell_type": "code",
      "source": [
        "df.sample(frac=0.000001, random_state=42)"
      ],
      "metadata": {
        "execution": {
          "iopub.status.busy": "2023-09-02T01:09:45.401236Z",
          "iopub.execute_input": "2023-09-02T01:09:45.401618Z",
          "iopub.status.idle": "2023-09-02T01:09:45.64074Z",
          "shell.execute_reply.started": "2023-09-02T01:09:45.401574Z",
          "shell.execute_reply": "2023-09-02T01:09:45.639639Z"
        },
        "trusted": true,
        "id": "AtAEP0IGv4k0"
      },
      "execution_count": null,
      "outputs": []
    },
    {
      "cell_type": "code",
      "source": [
        "df.columns"
      ],
      "metadata": {
        "execution": {
          "iopub.status.busy": "2023-09-02T01:09:45.642166Z",
          "iopub.execute_input": "2023-09-02T01:09:45.643298Z",
          "iopub.status.idle": "2023-09-02T01:09:45.650786Z",
          "shell.execute_reply.started": "2023-09-02T01:09:45.64326Z",
          "shell.execute_reply": "2023-09-02T01:09:45.649346Z"
        },
        "trusted": true,
        "id": "KtDNsU3Yv4k0"
      },
      "execution_count": null,
      "outputs": []
    },
    {
      "cell_type": "code",
      "source": [
        "df.index"
      ],
      "metadata": {
        "execution": {
          "iopub.status.busy": "2023-09-02T01:09:45.65221Z",
          "iopub.execute_input": "2023-09-02T01:09:45.652584Z",
          "iopub.status.idle": "2023-09-02T01:09:45.665987Z",
          "shell.execute_reply.started": "2023-09-02T01:09:45.65255Z",
          "shell.execute_reply": "2023-09-02T01:09:45.664743Z"
        },
        "trusted": true,
        "id": "wX2s0Agrv4k0"
      },
      "execution_count": null,
      "outputs": []
    },
    {
      "cell_type": "markdown",
      "source": [
        "## Dataframe summary"
      ],
      "metadata": {
        "id": "q_hIRA9pv4k0"
      }
    },
    {
      "cell_type": "code",
      "source": [
        "df.info()"
      ],
      "metadata": {
        "execution": {
          "iopub.status.busy": "2023-09-02T01:09:45.667345Z",
          "iopub.execute_input": "2023-09-02T01:09:45.668227Z",
          "iopub.status.idle": "2023-09-02T01:09:45.691759Z",
          "shell.execute_reply.started": "2023-09-02T01:09:45.668193Z",
          "shell.execute_reply": "2023-09-02T01:09:45.690361Z"
        },
        "trusted": true,
        "id": "XQSPiTNHv4k0"
      },
      "execution_count": null,
      "outputs": []
    },
    {
      "cell_type": "code",
      "source": [
        "df.info(verbose=False)"
      ],
      "metadata": {
        "execution": {
          "iopub.status.busy": "2023-09-02T01:09:45.693203Z",
          "iopub.execute_input": "2023-09-02T01:09:45.693787Z",
          "iopub.status.idle": "2023-09-02T01:09:45.715179Z",
          "shell.execute_reply.started": "2023-09-02T01:09:45.69374Z",
          "shell.execute_reply": "2023-09-02T01:09:45.71408Z"
        },
        "trusted": true,
        "id": "fiaHJI57v4k0"
      },
      "execution_count": null,
      "outputs": []
    },
    {
      "cell_type": "code",
      "source": [
        "df.describe()"
      ],
      "metadata": {
        "execution": {
          "iopub.status.busy": "2023-09-02T01:09:45.718894Z",
          "iopub.execute_input": "2023-09-02T01:09:45.719632Z",
          "iopub.status.idle": "2023-09-02T01:09:52.841774Z",
          "shell.execute_reply.started": "2023-09-02T01:09:45.719584Z",
          "shell.execute_reply": "2023-09-02T01:09:52.840605Z"
        },
        "trusted": true,
        "id": "hW6dMhLmv4k0"
      },
      "execution_count": null,
      "outputs": []
    },
    {
      "cell_type": "code",
      "source": [
        "df[[\"Airline\"]].describe()"
      ],
      "metadata": {
        "execution": {
          "iopub.status.busy": "2023-09-02T01:09:52.846467Z",
          "iopub.execute_input": "2023-09-02T01:09:52.84696Z",
          "iopub.status.idle": "2023-09-02T01:09:53.306691Z",
          "shell.execute_reply.started": "2023-09-02T01:09:52.846925Z",
          "shell.execute_reply": "2023-09-02T01:09:53.30545Z"
        },
        "trusted": true,
        "id": "d54wcUIEv4k0"
      },
      "execution_count": null,
      "outputs": []
    },
    {
      "cell_type": "code",
      "source": [
        "df.shape, len(df)"
      ],
      "metadata": {
        "execution": {
          "iopub.status.busy": "2023-09-02T01:09:53.308054Z",
          "iopub.execute_input": "2023-09-02T01:09:53.308362Z",
          "iopub.status.idle": "2023-09-02T01:09:53.316098Z",
          "shell.execute_reply.started": "2023-09-02T01:09:53.308335Z",
          "shell.execute_reply": "2023-09-02T01:09:53.314907Z"
        },
        "trusted": true,
        "id": "hlnDrQiiv4k1"
      },
      "execution_count": null,
      "outputs": []
    },
    {
      "cell_type": "markdown",
      "source": [
        "## Subsetting Columns"
      ],
      "metadata": {
        "id": "oqa7g0yrv4k1"
      }
    },
    {
      "cell_type": "code",
      "source": [
        "df[['FlightDate', 'Airline', 'Origin']]"
      ],
      "metadata": {
        "execution": {
          "iopub.status.busy": "2023-09-02T01:09:53.318008Z",
          "iopub.execute_input": "2023-09-02T01:09:53.318436Z",
          "iopub.status.idle": "2023-09-02T01:09:53.442965Z",
          "shell.execute_reply.started": "2023-09-02T01:09:53.318392Z",
          "shell.execute_reply": "2023-09-02T01:09:53.441727Z"
        },
        "trusted": true,
        "id": "NaGXYB4gv4k1"
      },
      "execution_count": null,
      "outputs": []
    },
    {
      "cell_type": "code",
      "source": [
        "df[df.columns[:5]]"
      ],
      "metadata": {
        "execution": {
          "iopub.status.busy": "2023-09-02T01:09:53.44463Z",
          "iopub.execute_input": "2023-09-02T01:09:53.445325Z",
          "iopub.status.idle": "2023-09-02T01:09:53.626695Z",
          "shell.execute_reply.started": "2023-09-02T01:09:53.445278Z",
          "shell.execute_reply": "2023-09-02T01:09:53.625385Z"
        },
        "trusted": true,
        "id": "IBVzmjaZv4k1"
      },
      "execution_count": null,
      "outputs": []
    },
    {
      "cell_type": "code",
      "source": [
        "df[[c for c in df.columns if 'Time' in c]]"
      ],
      "metadata": {
        "execution": {
          "iopub.status.busy": "2023-09-02T01:09:53.628442Z",
          "iopub.execute_input": "2023-09-02T01:09:53.628925Z",
          "iopub.status.idle": "2023-09-02T01:09:53.828371Z",
          "shell.execute_reply.started": "2023-09-02T01:09:53.628879Z",
          "shell.execute_reply": "2023-09-02T01:09:53.827563Z"
        },
        "trusted": true,
        "id": "B5ddob3Zv4k1"
      },
      "execution_count": null,
      "outputs": []
    },
    {
      "cell_type": "markdown",
      "source": [
        "## Select dtypes"
      ],
      "metadata": {
        "id": "3LwS3Y6Xv4k1"
      }
    },
    {
      "cell_type": "code",
      "source": [
        "df.select_dtypes('int')"
      ],
      "metadata": {
        "execution": {
          "iopub.status.busy": "2023-09-02T01:09:53.829241Z",
          "iopub.execute_input": "2023-09-02T01:09:53.829565Z",
          "iopub.status.idle": "2023-09-02T01:09:54.137772Z",
          "shell.execute_reply.started": "2023-09-02T01:09:53.829511Z",
          "shell.execute_reply": "2023-09-02T01:09:54.136622Z"
        },
        "trusted": true,
        "id": "YCuNbVARv4k1"
      },
      "execution_count": null,
      "outputs": []
    },
    {
      "cell_type": "markdown",
      "source": [
        "## Select as series vs dataframe"
      ],
      "metadata": {
        "id": "8DcAbNeuv4k1"
      }
    },
    {
      "cell_type": "code",
      "source": [
        "df['Airline']"
      ],
      "metadata": {
        "execution": {
          "iopub.status.busy": "2023-09-02T01:09:54.139488Z",
          "iopub.execute_input": "2023-09-02T01:09:54.140004Z",
          "iopub.status.idle": "2023-09-02T01:09:54.148267Z",
          "shell.execute_reply.started": "2023-09-02T01:09:54.139969Z",
          "shell.execute_reply": "2023-09-02T01:09:54.146986Z"
        },
        "trusted": true,
        "id": "8hg7bIzrv4k1"
      },
      "execution_count": null,
      "outputs": []
    },
    {
      "cell_type": "code",
      "source": [
        "df[['Airline']]"
      ],
      "metadata": {
        "execution": {
          "iopub.status.busy": "2023-09-02T01:09:54.149551Z",
          "iopub.execute_input": "2023-09-02T01:09:54.149849Z",
          "iopub.status.idle": "2023-09-02T01:09:54.219868Z",
          "shell.execute_reply.started": "2023-09-02T01:09:54.149822Z",
          "shell.execute_reply": "2023-09-02T01:09:54.218515Z"
        },
        "trusted": true,
        "id": "AesFww89v4k1"
      },
      "execution_count": null,
      "outputs": []
    },
    {
      "cell_type": "markdown",
      "source": [
        "## loc and iloc"
      ],
      "metadata": {
        "id": "DfKdNOMkv4k1"
      }
    },
    {
      "cell_type": "code",
      "source": [
        "df.iloc[1, 3]"
      ],
      "metadata": {
        "execution": {
          "iopub.status.busy": "2023-09-02T01:09:54.221026Z",
          "iopub.execute_input": "2023-09-02T01:09:54.221384Z",
          "iopub.status.idle": "2023-09-02T01:09:54.228936Z",
          "shell.execute_reply.started": "2023-09-02T01:09:54.221352Z",
          "shell.execute_reply": "2023-09-02T01:09:54.227872Z"
        },
        "trusted": true,
        "id": "6ueTLBXbv4k2"
      },
      "execution_count": null,
      "outputs": []
    },
    {
      "cell_type": "code",
      "source": [
        "df.iloc[:5, :5]"
      ],
      "metadata": {
        "execution": {
          "iopub.status.busy": "2023-09-02T01:09:54.230317Z",
          "iopub.execute_input": "2023-09-02T01:09:54.230774Z",
          "iopub.status.idle": "2023-09-02T01:09:54.249595Z",
          "shell.execute_reply.started": "2023-09-02T01:09:54.230735Z",
          "shell.execute_reply": "2023-09-02T01:09:54.2485Z"
        },
        "trusted": true,
        "id": "inX4-tM1v4k2"
      },
      "execution_count": null,
      "outputs": []
    },
    {
      "cell_type": "code",
      "source": [
        "df.iloc[[5]]"
      ],
      "metadata": {
        "execution": {
          "iopub.status.busy": "2023-09-02T01:09:54.25092Z",
          "iopub.execute_input": "2023-09-02T01:09:54.251359Z",
          "iopub.status.idle": "2023-09-02T01:09:54.297901Z",
          "shell.execute_reply.started": "2023-09-02T01:09:54.251323Z",
          "shell.execute_reply": "2023-09-02T01:09:54.296687Z"
        },
        "trusted": true,
        "id": "IwoGlxlyv4k2"
      },
      "execution_count": null,
      "outputs": []
    },
    {
      "cell_type": "code",
      "source": [
        "df.iloc[:, 1]"
      ],
      "metadata": {
        "execution": {
          "iopub.status.busy": "2023-09-02T01:09:54.299069Z",
          "iopub.execute_input": "2023-09-02T01:09:54.299379Z",
          "iopub.status.idle": "2023-09-02T01:09:54.30858Z",
          "shell.execute_reply.started": "2023-09-02T01:09:54.299353Z",
          "shell.execute_reply": "2023-09-02T01:09:54.30732Z"
        },
        "trusted": true,
        "id": "6-zgtTpPv4k2"
      },
      "execution_count": null,
      "outputs": []
    },
    {
      "cell_type": "code",
      "source": [
        "df.iloc[:, [1, 2]]"
      ],
      "metadata": {
        "execution": {
          "iopub.status.busy": "2023-09-02T01:09:54.310103Z",
          "iopub.execute_input": "2023-09-02T01:09:54.310466Z",
          "iopub.status.idle": "2023-09-02T01:09:54.426458Z",
          "shell.execute_reply.started": "2023-09-02T01:09:54.310433Z",
          "shell.execute_reply": "2023-09-02T01:09:54.425376Z"
        },
        "trusted": true,
        "id": "UIhZehBBv4k2"
      },
      "execution_count": null,
      "outputs": []
    },
    {
      "cell_type": "code",
      "source": [
        "df.loc[:, ['Airline', 'Origin']]"
      ],
      "metadata": {
        "execution": {
          "iopub.status.busy": "2023-09-02T01:09:54.427986Z",
          "iopub.execute_input": "2023-09-02T01:09:54.428325Z",
          "iopub.status.idle": "2023-09-02T01:09:54.538031Z",
          "shell.execute_reply.started": "2023-09-02T01:09:54.428293Z",
          "shell.execute_reply": "2023-09-02T01:09:54.536645Z"
        },
        "trusted": true,
        "id": "cwaX2JQ-v4k2"
      },
      "execution_count": null,
      "outputs": []
    },
    {
      "cell_type": "markdown",
      "source": [
        "## loc filter expressions"
      ],
      "metadata": {
        "id": "C7GJ6Mugv4k2"
      }
    },
    {
      "cell_type": "code",
      "source": [
        "df.loc[df['Airline'] == 'Spirit Air Lines']"
      ],
      "metadata": {
        "execution": {
          "iopub.status.busy": "2023-09-02T01:09:54.539392Z",
          "iopub.execute_input": "2023-09-02T01:09:54.539732Z",
          "iopub.status.idle": "2023-09-02T01:09:54.95749Z",
          "shell.execute_reply.started": "2023-09-02T01:09:54.539701Z",
          "shell.execute_reply": "2023-09-02T01:09:54.956626Z"
        },
        "trusted": true,
        "id": "tgHkVZY1v4k2"
      },
      "execution_count": null,
      "outputs": []
    },
    {
      "cell_type": "code",
      "source": [
        "df.loc[(df['Airline'] == 'Spirit Air Lines') & (df['FlightDate'] == '2022-03-30')]"
      ],
      "metadata": {
        "execution": {
          "iopub.status.busy": "2023-09-02T01:09:54.958736Z",
          "iopub.execute_input": "2023-09-02T01:09:54.95938Z",
          "iopub.status.idle": "2023-09-02T01:09:55.343419Z",
          "shell.execute_reply.started": "2023-09-02T01:09:54.959337Z",
          "shell.execute_reply": "2023-09-02T01:09:55.342337Z"
        },
        "trusted": true,
        "id": "n3b-_xIxv4k6"
      },
      "execution_count": null,
      "outputs": []
    },
    {
      "cell_type": "code",
      "source": [
        "df.loc[~((df['Airline'] == 'Spirit Air Lines') & (df['FlightDate'] == '2022-03-30'))]"
      ],
      "metadata": {
        "execution": {
          "iopub.status.busy": "2023-09-02T01:09:55.344928Z",
          "iopub.execute_input": "2023-09-02T01:09:55.34525Z",
          "iopub.status.idle": "2023-09-02T01:09:57.432777Z",
          "shell.execute_reply.started": "2023-09-02T01:09:55.34522Z",
          "shell.execute_reply": "2023-09-02T01:09:57.431765Z"
        },
        "trusted": true,
        "id": "gp5p0aPTv4k6"
      },
      "execution_count": null,
      "outputs": []
    },
    {
      "cell_type": "markdown",
      "source": [
        "## query"
      ],
      "metadata": {
        "id": "pvzCYpHUv4k6"
      }
    },
    {
      "cell_type": "code",
      "source": [
        "df.query('DepTime > 1130 and (Origin == \"DRO\")')"
      ],
      "metadata": {
        "execution": {
          "iopub.status.busy": "2023-09-02T01:09:57.434777Z",
          "iopub.execute_input": "2023-09-02T01:09:57.435229Z",
          "iopub.status.idle": "2023-09-02T01:09:57.643751Z",
          "shell.execute_reply.started": "2023-09-02T01:09:57.435185Z",
          "shell.execute_reply": "2023-09-02T01:09:57.642588Z"
        },
        "trusted": true,
        "id": "U4aOv8rgv4k6"
      },
      "execution_count": null,
      "outputs": []
    },
    {
      "cell_type": "code",
      "source": [
        "# min_time = 1130\n",
        "# df.query('DepTime > @min_time and (Origin == \"DRO\")')  # ValueError: Expression ((DepTime) > (__pd_eval_local_min_time)) & (Series_1_0x200x4c0x3a0x6c0xbf0x7d0x00x0) has forbidden control characters.\n",
        "\n",
        "min_time = 1130\n",
        "query_expression = 'DepTime > {} and (Origin == \"DRO\")'.format(min_time)\n",
        "df.query(query_expression)"
      ],
      "metadata": {
        "execution": {
          "iopub.status.busy": "2023-09-02T01:09:57.645161Z",
          "iopub.execute_input": "2023-09-02T01:09:57.645482Z",
          "iopub.status.idle": "2023-09-02T01:09:57.839281Z",
          "shell.execute_reply.started": "2023-09-02T01:09:57.645454Z",
          "shell.execute_reply": "2023-09-02T01:09:57.837945Z"
        },
        "trusted": true,
        "id": "3ac_imlyv4k6"
      },
      "execution_count": null,
      "outputs": []
    },
    {
      "cell_type": "markdown",
      "source": [
        "## Summary Statistics"
      ],
      "metadata": {
        "id": "8EeDyFEtv4k7"
      }
    },
    {
      "cell_type": "code",
      "source": [
        "df['DepTime'].min()"
      ],
      "metadata": {
        "execution": {
          "iopub.status.busy": "2023-09-02T01:09:57.841055Z",
          "iopub.execute_input": "2023-09-02T01:09:57.841399Z",
          "iopub.status.idle": "2023-09-02T01:09:57.868766Z",
          "shell.execute_reply.started": "2023-09-02T01:09:57.841369Z",
          "shell.execute_reply": "2023-09-02T01:09:57.867621Z"
        },
        "trusted": true,
        "id": "GhPmft8hv4k7"
      },
      "execution_count": null,
      "outputs": []
    },
    {
      "cell_type": "code",
      "source": [
        "df['DepTime'].max()"
      ],
      "metadata": {
        "execution": {
          "iopub.status.busy": "2023-09-02T01:09:57.870508Z",
          "iopub.execute_input": "2023-09-02T01:09:57.870976Z",
          "iopub.status.idle": "2023-09-02T01:09:57.9009Z",
          "shell.execute_reply.started": "2023-09-02T01:09:57.870932Z",
          "shell.execute_reply": "2023-09-02T01:09:57.899595Z"
        },
        "trusted": true,
        "id": "mdriinJnv4k7"
      },
      "execution_count": null,
      "outputs": []
    },
    {
      "cell_type": "code",
      "source": [
        "df['DepTime'].mean()"
      ],
      "metadata": {
        "execution": {
          "iopub.status.busy": "2023-09-02T01:09:57.902213Z",
          "iopub.execute_input": "2023-09-02T01:09:57.902574Z",
          "iopub.status.idle": "2023-09-02T01:09:57.930041Z",
          "shell.execute_reply.started": "2023-09-02T01:09:57.902514Z",
          "shell.execute_reply": "2023-09-02T01:09:57.928779Z"
        },
        "trusted": true,
        "id": "0V1IFRTev4k7"
      },
      "execution_count": null,
      "outputs": []
    },
    {
      "cell_type": "code",
      "source": [
        "df['DepTime'].std()"
      ],
      "metadata": {
        "execution": {
          "iopub.status.busy": "2023-09-02T01:09:57.931457Z",
          "iopub.execute_input": "2023-09-02T01:09:57.93182Z",
          "iopub.status.idle": "2023-09-02T01:09:57.992339Z",
          "shell.execute_reply.started": "2023-09-02T01:09:57.931786Z",
          "shell.execute_reply": "2023-09-02T01:09:57.991109Z"
        },
        "trusted": true,
        "id": "OIS0rLTXv4k7"
      },
      "execution_count": null,
      "outputs": []
    },
    {
      "cell_type": "code",
      "source": [
        "df['DepTime'].sum()"
      ],
      "metadata": {
        "execution": {
          "iopub.status.busy": "2023-09-02T01:09:57.993802Z",
          "iopub.execute_input": "2023-09-02T01:09:57.994143Z",
          "iopub.status.idle": "2023-09-02T01:09:58.02494Z",
          "shell.execute_reply.started": "2023-09-02T01:09:57.994112Z",
          "shell.execute_reply": "2023-09-02T01:09:58.023715Z"
        },
        "trusted": true,
        "id": "tU7ouagrv4k7"
      },
      "execution_count": null,
      "outputs": []
    },
    {
      "cell_type": "code",
      "source": [
        "df['DepTime'].quantile(0.5)"
      ],
      "metadata": {
        "execution": {
          "iopub.status.busy": "2023-09-02T01:09:58.02621Z",
          "iopub.execute_input": "2023-09-02T01:09:58.026525Z",
          "iopub.status.idle": "2023-09-02T01:09:58.095426Z",
          "shell.execute_reply.started": "2023-09-02T01:09:58.026495Z",
          "shell.execute_reply": "2023-09-02T01:09:58.094122Z"
        },
        "trusted": true,
        "id": "G88t2elWv4k7"
      },
      "execution_count": null,
      "outputs": []
    },
    {
      "cell_type": "code",
      "source": [
        "df['DepTime'].quantile([0.25, 0.75])"
      ],
      "metadata": {
        "execution": {
          "iopub.status.busy": "2023-09-02T01:09:58.097263Z",
          "iopub.execute_input": "2023-09-02T01:09:58.097681Z",
          "iopub.status.idle": "2023-09-02T01:09:58.198551Z",
          "shell.execute_reply.started": "2023-09-02T01:09:58.097643Z",
          "shell.execute_reply": "2023-09-02T01:09:58.197472Z"
        },
        "trusted": true,
        "id": "X1xqjPb6v4k7"
      },
      "execution_count": null,
      "outputs": []
    },
    {
      "cell_type": "markdown",
      "source": [
        "## agg"
      ],
      "metadata": {
        "id": "dW9ptXOOv4k7"
      }
    },
    {
      "cell_type": "code",
      "source": [
        "df[['DepTime', 'DepDelay', 'ArrTime', 'ArrDelay']].agg(['mean', 'min', 'max'])"
      ],
      "metadata": {
        "execution": {
          "iopub.status.busy": "2023-09-02T01:09:58.200114Z",
          "iopub.execute_input": "2023-09-02T01:09:58.201214Z",
          "iopub.status.idle": "2023-09-02T01:09:58.503472Z",
          "shell.execute_reply.started": "2023-09-02T01:09:58.201163Z",
          "shell.execute_reply": "2023-09-02T01:09:58.502362Z"
        },
        "trusted": true,
        "id": "YeFsxdKIv4k8"
      },
      "execution_count": null,
      "outputs": []
    },
    {
      "cell_type": "code",
      "source": [
        "df[['DepTime', 'DepDelay', 'ArrTime', 'ArrDelay']].agg(\n",
        "    {\n",
        "        'DepTime': ['min', 'max'],\n",
        "        'DepDelay': ['mean'],\n",
        "        'ArrTime': ['min', 'max']\n",
        "    }\n",
        ")"
      ],
      "metadata": {
        "execution": {
          "iopub.status.busy": "2023-09-02T01:09:58.512769Z",
          "iopub.execute_input": "2023-09-02T01:09:58.513833Z",
          "iopub.status.idle": "2023-09-02T01:09:58.674647Z",
          "shell.execute_reply.started": "2023-09-02T01:09:58.513781Z",
          "shell.execute_reply": "2023-09-02T01:09:58.673422Z"
        },
        "trusted": true,
        "id": "Ho3sCLUyv4k8"
      },
      "execution_count": null,
      "outputs": []
    },
    {
      "cell_type": "markdown",
      "source": [
        "## Summarize categoricals"
      ],
      "metadata": {
        "id": "PHbDhQp8v4k8"
      }
    },
    {
      "cell_type": "code",
      "source": [
        "df['Airline'].unique()"
      ],
      "metadata": {
        "execution": {
          "iopub.status.busy": "2023-09-02T01:09:58.675878Z",
          "iopub.execute_input": "2023-09-02T01:09:58.676206Z",
          "iopub.status.idle": "2023-09-02T01:09:58.987968Z",
          "shell.execute_reply.started": "2023-09-02T01:09:58.676176Z",
          "shell.execute_reply": "2023-09-02T01:09:58.98672Z"
        },
        "trusted": true,
        "id": "uIT67VOTv4k8"
      },
      "execution_count": null,
      "outputs": []
    },
    {
      "cell_type": "code",
      "source": [
        "df['Airline'].nunique()"
      ],
      "metadata": {
        "execution": {
          "iopub.status.busy": "2023-09-02T01:09:58.988977Z",
          "iopub.execute_input": "2023-09-02T01:09:58.989298Z",
          "iopub.status.idle": "2023-09-02T01:09:59.301798Z",
          "shell.execute_reply.started": "2023-09-02T01:09:58.989269Z",
          "shell.execute_reply": "2023-09-02T01:09:59.300549Z"
        },
        "trusted": true,
        "id": "RFq2BxR5v4k8"
      },
      "execution_count": null,
      "outputs": []
    },
    {
      "cell_type": "code",
      "source": [
        "df['Airline'].value_counts()"
      ],
      "metadata": {
        "execution": {
          "iopub.status.busy": "2023-09-02T01:09:59.303577Z",
          "iopub.execute_input": "2023-09-02T01:09:59.303927Z",
          "iopub.status.idle": "2023-09-02T01:09:59.518264Z",
          "shell.execute_reply.started": "2023-09-02T01:09:59.303894Z",
          "shell.execute_reply": "2023-09-02T01:09:59.516856Z"
        },
        "trusted": true,
        "id": "h-iS77qYv4k8"
      },
      "execution_count": null,
      "outputs": []
    },
    {
      "cell_type": "code",
      "source": [
        "df[['Airline', 'Origin']].value_counts()"
      ],
      "metadata": {
        "execution": {
          "iopub.status.busy": "2023-09-02T01:09:59.5198Z",
          "iopub.execute_input": "2023-09-02T01:09:59.520125Z",
          "iopub.status.idle": "2023-09-02T01:10:00.446179Z",
          "shell.execute_reply.started": "2023-09-02T01:09:59.520097Z",
          "shell.execute_reply": "2023-09-02T01:10:00.444813Z"
        },
        "trusted": true,
        "id": "IvrMN0fBv4k8"
      },
      "execution_count": null,
      "outputs": []
    },
    {
      "cell_type": "code",
      "source": [
        "df[['Airline', 'Origin']].value_counts().reset_index()"
      ],
      "metadata": {
        "execution": {
          "iopub.status.busy": "2023-09-02T01:10:00.447707Z",
          "iopub.execute_input": "2023-09-02T01:10:00.448718Z",
          "iopub.status.idle": "2023-09-02T01:10:01.354513Z",
          "shell.execute_reply.started": "2023-09-02T01:10:00.448663Z",
          "shell.execute_reply": "2023-09-02T01:10:01.353296Z"
        },
        "trusted": true,
        "id": "LqyeniVGv4k8"
      },
      "execution_count": null,
      "outputs": []
    },
    {
      "cell_type": "markdown",
      "source": [
        "## rank, shift, cumsum"
      ],
      "metadata": {
        "id": "pN8cjLadv4k8"
      }
    },
    {
      "cell_type": "code",
      "source": [
        "df[['CRSDepTime']].rank(method='dense')"
      ],
      "metadata": {
        "execution": {
          "iopub.status.busy": "2023-09-02T01:10:01.356639Z",
          "iopub.execute_input": "2023-09-02T01:10:01.357009Z",
          "iopub.status.idle": "2023-09-02T01:10:01.936893Z",
          "shell.execute_reply.started": "2023-09-02T01:10:01.356976Z",
          "shell.execute_reply": "2023-09-02T01:10:01.935713Z"
        },
        "trusted": true,
        "id": "iD92YPVov4k8"
      },
      "execution_count": null,
      "outputs": []
    },
    {
      "cell_type": "code",
      "source": [
        "df[['CRSDepTime']].rank(method='first')"
      ],
      "metadata": {
        "execution": {
          "iopub.status.busy": "2023-09-02T01:10:01.938285Z",
          "iopub.execute_input": "2023-09-02T01:10:01.939173Z",
          "iopub.status.idle": "2023-09-02T01:10:02.545714Z",
          "shell.execute_reply.started": "2023-09-02T01:10:01.939129Z",
          "shell.execute_reply": "2023-09-02T01:10:02.54433Z"
        },
        "trusted": true,
        "id": "gg95dD6Zv4k9"
      },
      "execution_count": null,
      "outputs": []
    },
    {
      "cell_type": "code",
      "source": [
        "df[['CRSDepTime']].shift(1)"
      ],
      "metadata": {
        "execution": {
          "iopub.status.busy": "2023-09-02T01:10:02.547279Z",
          "iopub.execute_input": "2023-09-02T01:10:02.548279Z",
          "iopub.status.idle": "2023-09-02T01:10:02.5825Z",
          "shell.execute_reply.started": "2023-09-02T01:10:02.548237Z",
          "shell.execute_reply": "2023-09-02T01:10:02.58131Z"
        },
        "trusted": true,
        "id": "OuwvoS60v4k9"
      },
      "execution_count": null,
      "outputs": []
    },
    {
      "cell_type": "code",
      "source": [
        "df[['CRSDepTime']].shift(-1)"
      ],
      "metadata": {
        "execution": {
          "iopub.status.busy": "2023-09-02T01:10:02.584256Z",
          "iopub.execute_input": "2023-09-02T01:10:02.584726Z",
          "iopub.status.idle": "2023-09-02T01:10:02.618819Z",
          "shell.execute_reply.started": "2023-09-02T01:10:02.584679Z",
          "shell.execute_reply": "2023-09-02T01:10:02.617623Z"
        },
        "trusted": true,
        "id": "-i5fQNnVv4k9"
      },
      "execution_count": null,
      "outputs": []
    },
    {
      "cell_type": "code",
      "source": [
        "df[['CRSDepTime']].shift(3, fill_value=100)"
      ],
      "metadata": {
        "execution": {
          "iopub.status.busy": "2023-09-02T01:10:02.620426Z",
          "iopub.execute_input": "2023-09-02T01:10:02.620781Z",
          "iopub.status.idle": "2023-09-02T01:10:02.647317Z",
          "shell.execute_reply.started": "2023-09-02T01:10:02.62075Z",
          "shell.execute_reply": "2023-09-02T01:10:02.646191Z"
        },
        "trusted": true,
        "id": "k6QPkpN_v4k9"
      },
      "execution_count": null,
      "outputs": []
    },
    {
      "cell_type": "code",
      "source": [
        "df[['CRSDepTime']].cumsum()"
      ],
      "metadata": {
        "execution": {
          "iopub.status.busy": "2023-09-02T01:10:02.64864Z",
          "iopub.execute_input": "2023-09-02T01:10:02.64917Z",
          "iopub.status.idle": "2023-09-02T01:10:02.684682Z",
          "shell.execute_reply.started": "2023-09-02T01:10:02.649135Z",
          "shell.execute_reply": "2023-09-02T01:10:02.683756Z"
        },
        "trusted": true,
        "id": "rJCyICatv4k9"
      },
      "execution_count": null,
      "outputs": []
    },
    {
      "cell_type": "code",
      "source": [
        "df[['CRSDepTime']].cummax()"
      ],
      "metadata": {
        "execution": {
          "iopub.status.busy": "2023-09-02T01:10:02.685767Z",
          "iopub.execute_input": "2023-09-02T01:10:02.686096Z",
          "iopub.status.idle": "2023-09-02T01:10:02.728449Z",
          "shell.execute_reply.started": "2023-09-02T01:10:02.686068Z",
          "shell.execute_reply": "2023-09-02T01:10:02.727488Z"
        },
        "trusted": true,
        "id": "oy9ThNtEv4k9"
      },
      "execution_count": null,
      "outputs": []
    },
    {
      "cell_type": "code",
      "source": [
        "df[['CRSDepTime']].cummin()"
      ],
      "metadata": {
        "execution": {
          "iopub.status.busy": "2023-09-02T01:10:02.729653Z",
          "iopub.execute_input": "2023-09-02T01:10:02.73092Z",
          "iopub.status.idle": "2023-09-02T01:10:02.772956Z",
          "shell.execute_reply.started": "2023-09-02T01:10:02.730873Z",
          "shell.execute_reply": "2023-09-02T01:10:02.77161Z"
        },
        "trusted": true,
        "id": "IPSQvd20v4k9"
      },
      "execution_count": null,
      "outputs": []
    },
    {
      "cell_type": "markdown",
      "source": [
        "## Rolling methods"
      ],
      "metadata": {
        "id": "bus1vej7v4k9"
      }
    },
    {
      "cell_type": "code",
      "source": [
        "df[['DepDelayMinutes']].rolling(window=5).mean()"
      ],
      "metadata": {
        "execution": {
          "iopub.status.busy": "2023-09-02T01:10:02.774583Z",
          "iopub.execute_input": "2023-09-02T01:10:02.774935Z",
          "iopub.status.idle": "2023-09-02T01:10:02.925801Z",
          "shell.execute_reply.started": "2023-09-02T01:10:02.774904Z",
          "shell.execute_reply": "2023-09-02T01:10:02.924448Z"
        },
        "trusted": true,
        "id": "entlGPTav4k9"
      },
      "execution_count": null,
      "outputs": []
    },
    {
      "cell_type": "markdown",
      "source": [
        "## Clip"
      ],
      "metadata": {
        "id": "JFQWwYqwv4k9"
      }
    },
    {
      "cell_type": "code",
      "source": [
        "df['DepTime'].clip(1000, 2000)"
      ],
      "metadata": {
        "execution": {
          "iopub.status.busy": "2023-09-02T01:10:02.92724Z",
          "iopub.execute_input": "2023-09-02T01:10:02.927597Z",
          "iopub.status.idle": "2023-09-02T01:10:02.984344Z",
          "shell.execute_reply.started": "2023-09-02T01:10:02.927564Z",
          "shell.execute_reply": "2023-09-02T01:10:02.983086Z"
        },
        "trusted": true,
        "id": "nltlZ_JJv4k-"
      },
      "execution_count": null,
      "outputs": []
    },
    {
      "cell_type": "markdown",
      "source": [
        "## Groupby"
      ],
      "metadata": {
        "id": "A0Ro3aDUv4k-"
      }
    },
    {
      "cell_type": "code",
      "source": [
        "df.groupby('Airline')[['DepDelay']].mean()"
      ],
      "metadata": {
        "execution": {
          "iopub.status.busy": "2023-09-02T01:10:02.985791Z",
          "iopub.execute_input": "2023-09-02T01:10:02.986112Z",
          "iopub.status.idle": "2023-09-02T01:10:03.365066Z",
          "shell.execute_reply.started": "2023-09-02T01:10:02.986082Z",
          "shell.execute_reply": "2023-09-02T01:10:03.363945Z"
        },
        "trusted": true,
        "id": "0NGhUQbxv4k-"
      },
      "execution_count": null,
      "outputs": []
    },
    {
      "cell_type": "code",
      "source": [
        "df.groupby('Airline')[['DepDelay']].agg(['mean', 'min', 'max'])"
      ],
      "metadata": {
        "execution": {
          "iopub.status.busy": "2023-09-02T01:10:03.366432Z",
          "iopub.execute_input": "2023-09-02T01:10:03.366847Z",
          "iopub.status.idle": "2023-09-02T01:10:03.863992Z",
          "shell.execute_reply.started": "2023-09-02T01:10:03.366813Z",
          "shell.execute_reply": "2023-09-02T01:10:03.862629Z"
        },
        "trusted": true,
        "id": "WpUYm7Q-v4k-"
      },
      "execution_count": null,
      "outputs": []
    },
    {
      "cell_type": "code",
      "source": [
        "df_agg = df.groupby('Airline')[['DepDelay', 'ArrDelay']].agg(['mean', 'min', 'max'])"
      ],
      "metadata": {
        "execution": {
          "iopub.status.busy": "2023-09-02T01:10:03.865781Z",
          "iopub.execute_input": "2023-09-02T01:10:03.866297Z",
          "iopub.status.idle": "2023-09-02T01:10:04.452265Z",
          "shell.execute_reply.started": "2023-09-02T01:10:03.866258Z",
          "shell.execute_reply": "2023-09-02T01:10:04.451242Z"
        },
        "trusted": true,
        "id": "-yQI-uXTv4k-"
      },
      "execution_count": null,
      "outputs": []
    },
    {
      "cell_type": "code",
      "source": [
        "df_agg.columns"
      ],
      "metadata": {
        "execution": {
          "iopub.status.busy": "2023-09-02T01:10:04.453733Z",
          "iopub.execute_input": "2023-09-02T01:10:04.45464Z",
          "iopub.status.idle": "2023-09-02T01:10:04.461811Z",
          "shell.execute_reply.started": "2023-09-02T01:10:04.454604Z",
          "shell.execute_reply": "2023-09-02T01:10:04.460712Z"
        },
        "trusted": true,
        "id": "ufLRKEhuv4k-"
      },
      "execution_count": null,
      "outputs": []
    },
    {
      "cell_type": "code",
      "source": [
        "df_agg.columns.to_flat_index()"
      ],
      "metadata": {
        "execution": {
          "iopub.status.busy": "2023-09-02T01:10:04.463647Z",
          "iopub.execute_input": "2023-09-02T01:10:04.464021Z",
          "iopub.status.idle": "2023-09-02T01:10:04.477766Z",
          "shell.execute_reply.started": "2023-09-02T01:10:04.46399Z",
          "shell.execute_reply": "2023-09-02T01:10:04.476466Z"
        },
        "trusted": true,
        "id": "OD0P4nCqv4k-"
      },
      "execution_count": null,
      "outputs": []
    },
    {
      "cell_type": "code",
      "source": [
        "df_agg.columns = [\"_\".join(c) for c in df_agg.columns]"
      ],
      "metadata": {
        "execution": {
          "iopub.status.busy": "2023-09-02T01:10:04.479734Z",
          "iopub.execute_input": "2023-09-02T01:10:04.480127Z",
          "iopub.status.idle": "2023-09-02T01:10:04.491578Z",
          "shell.execute_reply.started": "2023-09-02T01:10:04.480085Z",
          "shell.execute_reply": "2023-09-02T01:10:04.490456Z"
        },
        "trusted": true,
        "id": "KDk5vBWLv4k-"
      },
      "execution_count": null,
      "outputs": []
    },
    {
      "cell_type": "code",
      "source": [
        "df_agg"
      ],
      "metadata": {
        "execution": {
          "iopub.status.busy": "2023-09-02T01:10:04.493038Z",
          "iopub.execute_input": "2023-09-02T01:10:04.493428Z",
          "iopub.status.idle": "2023-09-02T01:10:04.521021Z",
          "shell.execute_reply.started": "2023-09-02T01:10:04.493383Z",
          "shell.execute_reply": "2023-09-02T01:10:04.519628Z"
        },
        "trusted": true,
        "id": "PieawdaCv4k-"
      },
      "execution_count": null,
      "outputs": []
    },
    {
      "cell_type": "markdown",
      "source": [
        "## New columns"
      ],
      "metadata": {
        "id": "aZ4GSG0cv4k-"
      }
    },
    {
      "cell_type": "code",
      "source": [
        "df['DepTime2'] = df['DepTime'] / 60"
      ],
      "metadata": {
        "execution": {
          "iopub.status.busy": "2023-09-02T01:10:04.522394Z",
          "iopub.execute_input": "2023-09-02T01:10:04.522762Z",
          "iopub.status.idle": "2023-09-02T01:10:04.548112Z",
          "shell.execute_reply.started": "2023-09-02T01:10:04.522728Z",
          "shell.execute_reply": "2023-09-02T01:10:04.547097Z"
        },
        "trusted": true,
        "id": "BHRImjPdv4k_"
      },
      "execution_count": null,
      "outputs": []
    },
    {
      "cell_type": "code",
      "source": [
        "df.head(3)"
      ],
      "metadata": {
        "execution": {
          "iopub.status.busy": "2023-09-02T01:10:04.549205Z",
          "iopub.execute_input": "2023-09-02T01:10:04.550081Z",
          "iopub.status.idle": "2023-09-02T01:10:04.5951Z",
          "shell.execute_reply.started": "2023-09-02T01:10:04.550044Z",
          "shell.execute_reply": "2023-09-02T01:10:04.593809Z"
        },
        "trusted": true,
        "id": "Ar7OQ4cKv4k_"
      },
      "execution_count": null,
      "outputs": []
    },
    {
      "cell_type": "code",
      "source": [
        "df = df.assign(DepTime3 = df['DepTime'] / 60)\n",
        "df.head(3)"
      ],
      "metadata": {
        "execution": {
          "iopub.status.busy": "2023-09-02T01:10:04.596493Z",
          "iopub.execute_input": "2023-09-02T01:10:04.597265Z",
          "iopub.status.idle": "2023-09-02T01:10:06.662576Z",
          "shell.execute_reply.started": "2023-09-02T01:10:04.597229Z",
          "shell.execute_reply": "2023-09-02T01:10:06.661319Z"
        },
        "trusted": true,
        "id": "F-ZUySLev4k_"
      },
      "execution_count": null,
      "outputs": []
    },
    {
      "cell_type": "markdown",
      "source": [
        "## Sorting"
      ],
      "metadata": {
        "id": "IC1gNmGfv4k_"
      }
    },
    {
      "cell_type": "code",
      "source": [
        "df.sort_values('ArrDelay')"
      ],
      "metadata": {
        "execution": {
          "iopub.status.busy": "2023-09-02T01:10:06.664304Z",
          "iopub.execute_input": "2023-09-02T01:10:06.665026Z",
          "iopub.status.idle": "2023-09-02T01:10:17.214365Z",
          "shell.execute_reply.started": "2023-09-02T01:10:06.66498Z",
          "shell.execute_reply": "2023-09-02T01:10:17.213223Z"
        },
        "trusted": true,
        "id": "h8f1dr-qv4k_"
      },
      "execution_count": null,
      "outputs": []
    },
    {
      "cell_type": "code",
      "source": [
        "df[['FlightDate', 'Airline', 'ArrDelay']].sort_values('ArrDelay', ascending=False)"
      ],
      "metadata": {
        "execution": {
          "iopub.status.busy": "2023-09-02T01:10:17.215918Z",
          "iopub.execute_input": "2023-09-02T01:10:17.216343Z",
          "iopub.status.idle": "2023-09-02T01:10:18.611738Z",
          "shell.execute_reply.started": "2023-09-02T01:10:17.2163Z",
          "shell.execute_reply": "2023-09-02T01:10:18.610448Z"
        },
        "trusted": true,
        "id": "BxyKLOJav4k_"
      },
      "execution_count": null,
      "outputs": []
    },
    {
      "cell_type": "code",
      "source": [
        "df[['FlightDate', 'Airline', 'ArrDelay']].sort_values('ArrDelay', ascending=False).reset_index(drop=True)"
      ],
      "metadata": {
        "execution": {
          "iopub.status.busy": "2023-09-02T01:10:18.615016Z",
          "iopub.execute_input": "2023-09-02T01:10:18.615452Z",
          "iopub.status.idle": "2023-09-02T01:10:19.983109Z",
          "shell.execute_reply.started": "2023-09-02T01:10:18.615421Z",
          "shell.execute_reply": "2023-09-02T01:10:19.981712Z"
        },
        "trusted": true,
        "id": "DwvTCzffv4k_"
      },
      "execution_count": null,
      "outputs": []
    },
    {
      "cell_type": "code",
      "source": [
        "df[['FlightDate', 'Airline', 'ArrDelay']].sort_index()"
      ],
      "metadata": {
        "execution": {
          "iopub.status.busy": "2023-09-02T01:10:19.984615Z",
          "iopub.execute_input": "2023-09-02T01:10:19.98495Z",
          "iopub.status.idle": "2023-09-02T01:10:20.513302Z",
          "shell.execute_reply.started": "2023-09-02T01:10:19.98492Z",
          "shell.execute_reply": "2023-09-02T01:10:20.512066Z"
        },
        "trusted": true,
        "id": "pk0hO6t2v4k_"
      },
      "execution_count": null,
      "outputs": []
    },
    {
      "cell_type": "markdown",
      "source": [
        "## Missing data"
      ],
      "metadata": {
        "id": "I5Kc2o8Jv4k_"
      }
    },
    {
      "cell_type": "code",
      "source": [
        "df[['FlightDate', 'Airline', 'ArrDelay']].isna()"
      ],
      "metadata": {
        "execution": {
          "iopub.status.busy": "2023-09-02T01:10:20.514482Z",
          "iopub.execute_input": "2023-09-02T01:10:20.515049Z",
          "iopub.status.idle": "2023-09-02T01:10:20.770744Z",
          "shell.execute_reply.started": "2023-09-02T01:10:20.514991Z",
          "shell.execute_reply": "2023-09-02T01:10:20.769634Z"
        },
        "trusted": true,
        "id": "Pu40hXjEv4lA"
      },
      "execution_count": null,
      "outputs": []
    },
    {
      "cell_type": "code",
      "source": [
        "df[['FlightDate', 'Airline', 'ArrDelay']].isna().sum()"
      ],
      "metadata": {
        "execution": {
          "iopub.status.busy": "2023-09-02T01:10:20.772381Z",
          "iopub.execute_input": "2023-09-02T01:10:20.77277Z",
          "iopub.status.idle": "2023-09-02T01:10:21.034598Z",
          "shell.execute_reply.started": "2023-09-02T01:10:20.772737Z",
          "shell.execute_reply": "2023-09-02T01:10:21.033276Z"
        },
        "trusted": true,
        "id": "KyRB_JgIv4lA"
      },
      "execution_count": null,
      "outputs": []
    },
    {
      "cell_type": "code",
      "source": [
        "df[['FlightDate', 'Airline', 'ArrDelay']].dropna(subset=['ArrDelay'])"
      ],
      "metadata": {
        "execution": {
          "iopub.status.busy": "2023-09-02T01:10:21.035731Z",
          "iopub.execute_input": "2023-09-02T01:10:21.036108Z",
          "iopub.status.idle": "2023-09-02T01:10:21.31684Z",
          "shell.execute_reply.started": "2023-09-02T01:10:21.036074Z",
          "shell.execute_reply": "2023-09-02T01:10:21.315525Z"
        },
        "trusted": true,
        "id": "l8VaJ7chv4lA"
      },
      "execution_count": null,
      "outputs": []
    },
    {
      "cell_type": "code",
      "source": [
        "df[['FlightDate', 'Airline', 'ArrDelay']].fillna(-999)"
      ],
      "metadata": {
        "execution": {
          "iopub.status.busy": "2023-09-02T01:10:21.318685Z",
          "iopub.execute_input": "2023-09-02T01:10:21.319055Z",
          "iopub.status.idle": "2023-09-02T01:10:21.688139Z",
          "shell.execute_reply.started": "2023-09-02T01:10:21.319024Z",
          "shell.execute_reply": "2023-09-02T01:10:21.686975Z"
        },
        "trusted": true,
        "id": "imaX48Xvv4lA"
      },
      "execution_count": null,
      "outputs": []
    },
    {
      "cell_type": "code",
      "source": [
        "df['ArrDelay'].fillna(df['ArrDelay'].mean())"
      ],
      "metadata": {
        "execution": {
          "iopub.status.busy": "2023-09-02T01:10:21.689599Z",
          "iopub.execute_input": "2023-09-02T01:10:21.689942Z",
          "iopub.status.idle": "2023-09-02T01:10:21.73028Z",
          "shell.execute_reply.started": "2023-09-02T01:10:21.689911Z",
          "shell.execute_reply": "2023-09-02T01:10:21.729439Z"
        },
        "trusted": true,
        "id": "TI9h-F8jv4lA"
      },
      "execution_count": null,
      "outputs": []
    },
    {
      "cell_type": "markdown",
      "source": [
        "## Concat"
      ],
      "metadata": {
        "id": "TK4X-6uLv4lA"
      }
    },
    {
      "cell_type": "code",
      "source": [
        "df1 = df.query('Airline == \"Southwest Airlines Co.\"').copy()\n",
        "df2 = df.query('Airline == \"Delta Air Lines Inc.\"').copy()"
      ],
      "metadata": {
        "execution": {
          "iopub.status.busy": "2023-09-02T01:10:21.731759Z",
          "iopub.execute_input": "2023-09-02T01:10:21.732436Z",
          "iopub.status.idle": "2023-09-02T01:10:23.14946Z",
          "shell.execute_reply.started": "2023-09-02T01:10:21.73235Z",
          "shell.execute_reply": "2023-09-02T01:10:23.148175Z"
        },
        "trusted": true,
        "id": "VgCzU2Ecv4lA"
      },
      "execution_count": null,
      "outputs": []
    },
    {
      "cell_type": "code",
      "source": [
        "pd.concat([df1, df2])"
      ],
      "metadata": {
        "execution": {
          "iopub.status.busy": "2023-09-02T01:10:23.151196Z",
          "iopub.execute_input": "2023-09-02T01:10:23.151631Z",
          "iopub.status.idle": "2023-09-02T01:10:23.891656Z",
          "shell.execute_reply.started": "2023-09-02T01:10:23.151588Z",
          "shell.execute_reply": "2023-09-02T01:10:23.890409Z"
        },
        "trusted": true,
        "id": "2n0jEkayv4lA"
      },
      "execution_count": null,
      "outputs": []
    },
    {
      "cell_type": "code",
      "source": [
        "df_stack = pd.concat([df1, df2])"
      ],
      "metadata": {
        "execution": {
          "iopub.status.busy": "2023-09-02T01:10:23.89299Z",
          "iopub.execute_input": "2023-09-02T01:10:23.893339Z",
          "iopub.status.idle": "2023-09-02T01:10:24.585575Z",
          "shell.execute_reply.started": "2023-09-02T01:10:23.893306Z",
          "shell.execute_reply": "2023-09-02T01:10:24.584396Z"
        },
        "trusted": true,
        "id": "BU1_7T0Yv4lA"
      },
      "execution_count": null,
      "outputs": []
    },
    {
      "cell_type": "code",
      "source": [
        "df1 = df1.reset_index(drop=True)\n",
        "df2 = df2.reset_index(drop=True)"
      ],
      "metadata": {
        "execution": {
          "iopub.status.busy": "2023-09-02T01:10:24.587228Z",
          "iopub.execute_input": "2023-09-02T01:10:24.587622Z",
          "iopub.status.idle": "2023-09-02T01:10:25.130143Z",
          "shell.execute_reply.started": "2023-09-02T01:10:24.587585Z",
          "shell.execute_reply": "2023-09-02T01:10:25.129004Z"
        },
        "trusted": true,
        "id": "paZDzizZv4lA"
      },
      "execution_count": null,
      "outputs": []
    },
    {
      "cell_type": "code",
      "source": [
        "df_side = pd.concat([df1, df2], axis=1)"
      ],
      "metadata": {
        "execution": {
          "iopub.status.busy": "2023-09-02T01:10:25.131702Z",
          "iopub.execute_input": "2023-09-02T01:10:25.132329Z",
          "iopub.status.idle": "2023-09-02T01:10:25.695087Z",
          "shell.execute_reply.started": "2023-09-02T01:10:25.132282Z",
          "shell.execute_reply": "2023-09-02T01:10:25.693805Z"
        },
        "trusted": true,
        "id": "BAlZ7qkZv4lB"
      },
      "execution_count": null,
      "outputs": []
    },
    {
      "cell_type": "code",
      "source": [
        "df1.shape, df2.shape, df_stack.shape, df_side.shape"
      ],
      "metadata": {
        "execution": {
          "iopub.status.busy": "2023-09-02T01:10:25.697371Z",
          "iopub.execute_input": "2023-09-02T01:10:25.698179Z",
          "iopub.status.idle": "2023-09-02T01:10:25.706856Z",
          "shell.execute_reply.started": "2023-09-02T01:10:25.698123Z",
          "shell.execute_reply": "2023-09-02T01:10:25.705952Z"
        },
        "trusted": true,
        "id": "QFo8KhuKv4lB"
      },
      "execution_count": null,
      "outputs": []
    },
    {
      "cell_type": "markdown",
      "source": [
        "## Merge dataframes"
      ],
      "metadata": {
        "id": "9ZyUmjWfv4lB"
      }
    },
    {
      "cell_type": "code",
      "source": [
        "df1 = df.groupby(['Airline', 'FlightDate'])[['DepDelay']].mean().reset_index()\n",
        "df2 = df.groupby(['Airline', 'FlightDate'])[['ArrDelay']].mean().reset_index()"
      ],
      "metadata": {
        "execution": {
          "iopub.status.busy": "2023-09-02T01:10:25.707793Z",
          "iopub.execute_input": "2023-09-02T01:10:25.70822Z",
          "iopub.status.idle": "2023-09-02T01:10:26.975355Z",
          "shell.execute_reply.started": "2023-09-02T01:10:25.708186Z",
          "shell.execute_reply": "2023-09-02T01:10:26.973959Z"
        },
        "trusted": true,
        "id": "EJrHQhP1v4lB"
      },
      "execution_count": null,
      "outputs": []
    },
    {
      "cell_type": "code",
      "source": [
        "df2"
      ],
      "metadata": {
        "execution": {
          "iopub.status.busy": "2023-09-02T01:10:26.976819Z",
          "iopub.execute_input": "2023-09-02T01:10:26.978131Z",
          "iopub.status.idle": "2023-09-02T01:10:26.997091Z",
          "shell.execute_reply.started": "2023-09-02T01:10:26.978084Z",
          "shell.execute_reply": "2023-09-02T01:10:26.995785Z"
        },
        "trusted": true,
        "id": "lkP_VDcev4lB"
      },
      "execution_count": null,
      "outputs": []
    },
    {
      "cell_type": "code",
      "source": [
        "df1.merge(df2, how=\"left\")"
      ],
      "metadata": {
        "execution": {
          "iopub.status.busy": "2023-09-02T01:10:26.998429Z",
          "iopub.execute_input": "2023-09-02T01:10:26.99895Z",
          "iopub.status.idle": "2023-09-02T01:10:27.027352Z",
          "shell.execute_reply.started": "2023-09-02T01:10:26.998868Z",
          "shell.execute_reply": "2023-09-02T01:10:27.026274Z"
        },
        "trusted": true,
        "id": "PAPZy8tPv4lB"
      },
      "execution_count": null,
      "outputs": []
    },
    {
      "cell_type": "code",
      "source": [
        "df1.merge(df2, how=\"right\")"
      ],
      "metadata": {
        "execution": {
          "iopub.status.busy": "2023-09-02T01:10:27.028736Z",
          "iopub.execute_input": "2023-09-02T01:10:27.029046Z",
          "iopub.status.idle": "2023-09-02T01:10:27.050653Z",
          "shell.execute_reply.started": "2023-09-02T01:10:27.029019Z",
          "shell.execute_reply": "2023-09-02T01:10:27.049841Z"
        },
        "trusted": true,
        "id": "OTAFqpj1v4lB"
      },
      "execution_count": null,
      "outputs": []
    },
    {
      "cell_type": "code",
      "source": [
        "df1.merge(df2, how=\"outer\")"
      ],
      "metadata": {
        "execution": {
          "iopub.status.busy": "2023-09-02T01:10:27.051833Z",
          "iopub.execute_input": "2023-09-02T01:10:27.052967Z",
          "iopub.status.idle": "2023-09-02T01:10:27.075934Z",
          "shell.execute_reply.started": "2023-09-02T01:10:27.052918Z",
          "shell.execute_reply": "2023-09-02T01:10:27.074609Z"
        },
        "trusted": true,
        "id": "BbBQtM3rv4lC"
      },
      "execution_count": null,
      "outputs": []
    },
    {
      "cell_type": "markdown",
      "source": [
        "## Merge suffixes"
      ],
      "metadata": {
        "id": "69hFsltnv4lC"
      }
    },
    {
      "cell_type": "code",
      "source": [
        "pd.merge(df1, df2, on=['Airline', 'FlightDate'])"
      ],
      "metadata": {
        "execution": {
          "iopub.status.busy": "2023-09-02T01:10:27.077634Z",
          "iopub.execute_input": "2023-09-02T01:10:27.078094Z",
          "iopub.status.idle": "2023-09-02T01:10:27.09924Z",
          "shell.execute_reply.started": "2023-09-02T01:10:27.078049Z",
          "shell.execute_reply": "2023-09-02T01:10:27.09807Z"
        },
        "trusted": true,
        "id": "nKb-Fs_Wv4lC"
      },
      "execution_count": null,
      "outputs": []
    },
    {
      "cell_type": "code",
      "source": [
        "pd.merge(df1, df2, on=['Airline'])"
      ],
      "metadata": {
        "execution": {
          "iopub.status.busy": "2023-09-02T01:10:27.100834Z",
          "iopub.execute_input": "2023-09-02T01:10:27.101333Z",
          "iopub.status.idle": "2023-09-02T01:10:27.203183Z",
          "shell.execute_reply.started": "2023-09-02T01:10:27.101299Z",
          "shell.execute_reply": "2023-09-02T01:10:27.202275Z"
        },
        "trusted": true,
        "id": "corLeXgWv4lC"
      },
      "execution_count": null,
      "outputs": []
    },
    {
      "cell_type": "code",
      "source": [
        "pd.merge(df1, df2, on=['Airline'], suffixes=('_dep', '_arr'))"
      ],
      "metadata": {
        "execution": {
          "iopub.status.busy": "2023-09-02T01:10:27.204289Z",
          "iopub.execute_input": "2023-09-02T01:10:27.205225Z",
          "iopub.status.idle": "2023-09-02T01:10:27.297028Z",
          "shell.execute_reply.started": "2023-09-02T01:10:27.205189Z",
          "shell.execute_reply": "2023-09-02T01:10:27.295996Z"
        },
        "trusted": true,
        "id": "W36-c_7Hv4lC"
      },
      "execution_count": null,
      "outputs": []
    },
    {
      "cell_type": "code",
      "source": [
        "pd.merge(df1, df2, left_on=['Airline'], right_on=['Airline'])"
      ],
      "metadata": {
        "tags": [],
        "execution": {
          "iopub.status.busy": "2023-09-02T01:10:27.298811Z",
          "iopub.execute_input": "2023-09-02T01:10:27.299588Z",
          "iopub.status.idle": "2023-09-02T01:10:27.391875Z",
          "shell.execute_reply.started": "2023-09-02T01:10:27.299519Z",
          "shell.execute_reply": "2023-09-02T01:10:27.390752Z"
        },
        "trusted": true,
        "id": "8hkLIt-Cv4lC"
      },
      "execution_count": null,
      "outputs": []
    }
  ]
}