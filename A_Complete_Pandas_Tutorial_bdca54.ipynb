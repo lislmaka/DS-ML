{
  "metadata": {
    "kernelspec": {
      "language": "python",
      "display_name": "Python 3",
      "name": "python3"
    },
    "language_info": {
      "pygments_lexer": "ipython3",
      "nbconvert_exporter": "python",
      "version": "3.6.4",
      "file_extension": ".py",
      "codemirror_mode": {
        "name": "ipython",
        "version": 3
      },
      "name": "python",
      "mimetype": "text/x-python"
    },
    "kaggle": {
      "accelerator": "none",
      "dataSources": [
        {
          "sourceId": 3136,
          "databundleVersionId": 26502,
          "sourceType": "competition"
        },
        {
          "sourceId": 5407,
          "databundleVersionId": 868283,
          "sourceType": "competition"
        },
        {
          "sourceId": 276,
          "sourceType": "datasetVersion",
          "datasetId": 134
        },
        {
          "sourceId": 2368,
          "sourceType": "datasetVersion",
          "datasetId": 1312
        },
        {
          "sourceId": 4508,
          "sourceType": "datasetVersion",
          "datasetId": 138
        },
        {
          "sourceId": 8172,
          "sourceType": "datasetVersion",
          "datasetId": 1442
        },
        {
          "sourceId": 23498,
          "sourceType": "datasetVersion",
          "datasetId": 310
        },
        {
          "sourceId": 813759,
          "sourceType": "datasetVersion",
          "datasetId": 894
        },
        {
          "sourceId": 2654038,
          "sourceType": "datasetVersion",
          "datasetId": 434238
        },
        {
          "sourceId": 3806098,
          "sourceType": "datasetVersion",
          "datasetId": 2268489
        },
        {
          "sourceId": 3922526,
          "sourceType": "datasetVersion",
          "datasetId": 2329246
        }
      ],
      "dockerImageVersionId": 30213,
      "isInternetEnabled": false,
      "language": "python",
      "sourceType": "notebook",
      "isGpuEnabled": false
    },
    "colab": {
      "name": "A Complete Pandas Tutorial bdca54",
      "provenance": []
    }
  },
  "nbformat_minor": 0,
  "nbformat": 4,
  "cells": [
    {
      "source": [
        "# IMPORTANT: SOME KAGGLE DATA SOURCES ARE PRIVATE\n",
        "# RUN THIS CELL IN ORDER TO IMPORT YOUR KAGGLE DATA SOURCES.\n",
        "import kagglehub\n",
        "kagglehub.login()\n"
      ],
      "metadata": {
        "id": "HhjUh1ZsZMU_"
      },
      "cell_type": "code",
      "outputs": [],
      "execution_count": null
    },
    {
      "source": [
        "# IMPORTANT: RUN THIS CELL IN ORDER TO IMPORT YOUR KAGGLE DATA SOURCES,\n",
        "# THEN FEEL FREE TO DELETE THIS CELL.\n",
        "# NOTE: THIS NOTEBOOK ENVIRONMENT DIFFERS FROM KAGGLE'S PYTHON\n",
        "# ENVIRONMENT SO THERE MAY BE MISSING LIBRARIES USED BY YOUR\n",
        "# NOTEBOOK.\n",
        "\n",
        "titanic_path = kagglehub.competition_download('titanic')\n",
        "house_prices_advanced_regression_techniques_path = kagglehub.competition_download('house-prices-advanced-regression-techniques')\n",
        "primaryobjects_voicegender_path = kagglehub.dataset_download('primaryobjects/voicegender')\n",
        "shivam2503_diamonds_path = kagglehub.dataset_download('shivam2503/diamonds')\n",
        "tmdb_tmdb_movie_metadata_path = kagglehub.dataset_download('tmdb/tmdb-movie-metadata')\n",
        "zynicide_wine_reviews_path = kagglehub.dataset_download('zynicide/wine-reviews')\n",
        "mlg_ulb_creditcardfraud_path = kagglehub.dataset_download('mlg-ulb/creditcardfraud')\n",
        "unsdsn_world_happiness_path = kagglehub.dataset_download('unsdsn/world-happiness')\n",
        "shivamb_netflix_shows_path = kagglehub.dataset_download('shivamb/netflix-shows')\n",
        "ruchi798_data_science_job_salaries_path = kagglehub.dataset_download('ruchi798/data-science-job-salaries')\n",
        "nancyalaswad90_diamonds_prices_path = kagglehub.dataset_download('nancyalaswad90/diamonds-prices')\n",
        "\n",
        "print('Data source import complete.')\n"
      ],
      "metadata": {
        "id": "RCvanzg8ZMVB"
      },
      "cell_type": "code",
      "outputs": [],
      "execution_count": null
    },
    {
      "cell_type": "markdown",
      "source": [
        "## Table of Contents(ToC):\n",
        "\n",
        "#### 1. [The Basics](#content1)\n",
        "\n",
        "#### 2. [Creating DataFrame](#content2)\n",
        "\n",
        "#### 3. [Treating null values](#content3)\n",
        "\n",
        "#### 4. [Modify/Add new column(s).](#content4)\n",
        "\n",
        "#### 5. [Deleting columns](#content5)\n",
        "\n",
        "#### 6. [Renaming columns](#content6)\n",
        "\n",
        "#### 7.i. [Slicing DataFrame](#content7)\n",
        "\n",
        "#### 7.ii. [Slicing using iloc and loc](#content8)\n",
        "\n",
        "#### 8. [Adding a row](#content9)\n",
        "\n",
        "#### 9. [Dropping row(s)](#content10)\n",
        "\n",
        "#### 10. [Sorting](#content11)\n",
        "\n",
        "#### 11. [Joins](#content12)\n",
        "\n",
        "#### 12. [Groupby](#content13)"
      ],
      "metadata": {
        "id": "RHYUrNGIZMVE"
      }
    },
    {
      "cell_type": "code",
      "source": [],
      "metadata": {
        "id": "jNiXfp3IZMVE"
      },
      "outputs": [],
      "execution_count": null
    },
    {
      "cell_type": "markdown",
      "source": [
        "#### Importing modules."
      ],
      "metadata": {
        "id": "ih64WEgyZMVE"
      }
    },
    {
      "cell_type": "code",
      "source": [
        "# This Python 3 environment comes with many helpful analytics libraries installed\n",
        "# It is defined by the kaggle/python Docker image: https://github.com/kaggle/docker-python\n",
        "# For example, here's several helpful packages to load\n",
        "\n",
        "import numpy as np # linear algebra\n",
        "import pandas as pd # data processing, CSV file I/O (e.g. pd.read_csv)\n",
        "\n",
        "# Input data files are available in the read-only \"../input/\" directory\n",
        "# For example, running this (by clicking run or pressing Shift+Enter) will list all files under the input directory\n",
        "\n",
        "# import os\n",
        "# for dirname, _, filenames in os.walk('/kaggle/input'):\n",
        "#     for filename in filenames:\n",
        "#         print(os.path.join(dirname, filename))\n",
        "\n",
        "# You can write up to 20GB to the current directory (/kaggle/working/) that gets preserved as output when you create a version using \"Save & Run All\"\n",
        "# You can also write temporary files to /kaggle/temp/, but they won't be saved outside of the current session"
      ],
      "metadata": {
        "_uuid": "8f2839f25d086af736a60e9eeb907d3b93b6e0e5",
        "_cell_guid": "b1076dfc-b9ad-4769-8c92-a6c4dae69d19",
        "execution": {
          "iopub.status.busy": "2022-08-23T14:02:03.234866Z",
          "iopub.execute_input": "2022-08-23T14:02:03.235294Z",
          "iopub.status.idle": "2022-08-23T14:02:03.267882Z",
          "shell.execute_reply.started": "2022-08-23T14:02:03.235204Z",
          "shell.execute_reply": "2022-08-23T14:02:03.266862Z"
        },
        "trusted": true,
        "id": "D3RnOSm9ZMVE"
      },
      "outputs": [],
      "execution_count": null
    },
    {
      "cell_type": "code",
      "source": [],
      "metadata": {
        "id": "KE6XxbdLZMVF"
      },
      "outputs": [],
      "execution_count": null
    },
    {
      "cell_type": "markdown",
      "source": [
        "#### Importing data.\n",
        "\n",
        "For this tutorial, we will use the standard Titanic Dataset."
      ],
      "metadata": {
        "id": "YQwsQ9l_ZMVF"
      }
    },
    {
      "cell_type": "code",
      "source": [
        "train=pd.read_csv(r'../input/titanic/train.csv')\n",
        "df=train.copy()"
      ],
      "metadata": {
        "execution": {
          "iopub.status.busy": "2022-08-23T14:02:03.268983Z",
          "iopub.execute_input": "2022-08-23T14:02:03.269786Z",
          "iopub.status.idle": "2022-08-23T14:02:03.290491Z",
          "shell.execute_reply.started": "2022-08-23T14:02:03.269741Z",
          "shell.execute_reply": "2022-08-23T14:02:03.289203Z"
        },
        "trusted": true,
        "id": "JDhPunvPZMVF"
      },
      "outputs": [],
      "execution_count": null
    },
    {
      "cell_type": "markdown",
      "source": [
        "<a id=\"content1\"></a>\n",
        "## 1. The Basics"
      ],
      "metadata": {
        "id": "iu4wfmZ5ZMVF"
      }
    },
    {
      "cell_type": "code",
      "source": [
        "# See the first 5 rows\n",
        "df.head()"
      ],
      "metadata": {
        "execution": {
          "iopub.status.busy": "2022-08-23T14:02:03.291919Z",
          "iopub.execute_input": "2022-08-23T14:02:03.292298Z",
          "iopub.status.idle": "2022-08-23T14:02:03.319858Z",
          "shell.execute_reply.started": "2022-08-23T14:02:03.292264Z",
          "shell.execute_reply": "2022-08-23T14:02:03.318592Z"
        },
        "trusted": true,
        "id": "IzyEXD30ZMVG"
      },
      "outputs": [],
      "execution_count": null
    },
    {
      "cell_type": "code",
      "source": [
        "# last 5 rows.\n",
        "df.tail()"
      ],
      "metadata": {
        "execution": {
          "iopub.status.busy": "2022-08-23T14:02:03.323232Z",
          "iopub.execute_input": "2022-08-23T14:02:03.323626Z",
          "iopub.status.idle": "2022-08-23T14:02:03.342466Z",
          "shell.execute_reply.started": "2022-08-23T14:02:03.323581Z",
          "shell.execute_reply": "2022-08-23T14:02:03.341271Z"
        },
        "trusted": true,
        "id": "6QVB3kR6ZMVG"
      },
      "outputs": [],
      "execution_count": null
    },
    {
      "cell_type": "code",
      "source": [
        "# n_samples x n_features\n",
        "df.shape"
      ],
      "metadata": {
        "execution": {
          "iopub.status.busy": "2022-08-23T14:02:03.344413Z",
          "iopub.execute_input": "2022-08-23T14:02:03.345134Z",
          "iopub.status.idle": "2022-08-23T14:02:03.356398Z",
          "shell.execute_reply.started": "2022-08-23T14:02:03.345006Z",
          "shell.execute_reply": "2022-08-23T14:02:03.354958Z"
        },
        "trusted": true,
        "id": "CQg6Lr7PZMVG"
      },
      "outputs": [],
      "execution_count": null
    },
    {
      "cell_type": "code",
      "source": [
        "#List of all the columns\n",
        "df.columns"
      ],
      "metadata": {
        "execution": {
          "iopub.status.busy": "2022-08-23T14:02:03.358487Z",
          "iopub.execute_input": "2022-08-23T14:02:03.358867Z",
          "iopub.status.idle": "2022-08-23T14:02:03.368848Z",
          "shell.execute_reply.started": "2022-08-23T14:02:03.358825Z",
          "shell.execute_reply": "2022-08-23T14:02:03.367607Z"
        },
        "trusted": true,
        "id": "4ezsHp2eZMVG"
      },
      "outputs": [],
      "execution_count": null
    },
    {
      "cell_type": "code",
      "source": [
        "# Rows index\n",
        "df.index"
      ],
      "metadata": {
        "execution": {
          "iopub.status.busy": "2022-08-23T14:02:03.370595Z",
          "iopub.execute_input": "2022-08-23T14:02:03.370964Z",
          "iopub.status.idle": "2022-08-23T14:02:03.382861Z",
          "shell.execute_reply.started": "2022-08-23T14:02:03.370931Z",
          "shell.execute_reply": "2022-08-23T14:02:03.381634Z"
        },
        "trusted": true,
        "id": "Lm1u_kUrZMVG"
      },
      "outputs": [],
      "execution_count": null
    },
    {
      "cell_type": "code",
      "source": [
        "# Values with their counts in a particular column\n",
        "df['Pclass'].value_counts()"
      ],
      "metadata": {
        "execution": {
          "iopub.status.busy": "2022-08-23T14:02:03.384332Z",
          "iopub.execute_input": "2022-08-23T14:02:03.384941Z",
          "iopub.status.idle": "2022-08-23T14:02:03.403265Z",
          "shell.execute_reply.started": "2022-08-23T14:02:03.384905Z",
          "shell.execute_reply": "2022-08-23T14:02:03.402019Z"
        },
        "trusted": true,
        "id": "gZwnO52dZMVG"
      },
      "outputs": [],
      "execution_count": null
    },
    {
      "cell_type": "code",
      "source": [
        "# General description of dataset.\n",
        "df.describe()"
      ],
      "metadata": {
        "execution": {
          "iopub.status.busy": "2022-08-23T14:02:03.404908Z",
          "iopub.execute_input": "2022-08-23T14:02:03.405287Z",
          "iopub.status.idle": "2022-08-23T14:02:03.448138Z",
          "shell.execute_reply.started": "2022-08-23T14:02:03.405254Z",
          "shell.execute_reply": "2022-08-23T14:02:03.447152Z"
        },
        "trusted": true,
        "id": "VDRWHgUtZMVG"
      },
      "outputs": [],
      "execution_count": null
    },
    {
      "cell_type": "code",
      "source": [],
      "metadata": {
        "id": "mpLRitHEZMVH"
      },
      "outputs": [],
      "execution_count": null
    },
    {
      "cell_type": "markdown",
      "source": [
        "<a id=\"content2\"></a>\n",
        "## 2. Creating DataFrame"
      ],
      "metadata": {
        "id": "wmZe3seLZMVH"
      }
    },
    {
      "cell_type": "code",
      "source": [
        "# empty data frame\n",
        "df_empty=pd.DataFrame()\n",
        "df_empty.head()  #;)"
      ],
      "metadata": {
        "execution": {
          "iopub.status.busy": "2022-08-23T14:02:03.45005Z",
          "iopub.execute_input": "2022-08-23T14:02:03.450573Z",
          "iopub.status.idle": "2022-08-23T14:02:03.461181Z",
          "shell.execute_reply.started": "2022-08-23T14:02:03.450524Z",
          "shell.execute_reply": "2022-08-23T14:02:03.459986Z"
        },
        "trusted": true,
        "id": "-ZRf6TvCZMVH"
      },
      "outputs": [],
      "execution_count": null
    },
    {
      "cell_type": "code",
      "source": [
        "# From dict\n",
        "student_dict={'Name':['A','B','C'],'Age':[24,18,17],'Roll':[1,2,3]}\n",
        "df_student=pd.DataFrame(student_dict).reset_index(drop=True) # without this adds an additional index column in df\n",
        "df_student.head()"
      ],
      "metadata": {
        "execution": {
          "iopub.status.busy": "2022-08-23T14:02:03.463016Z",
          "iopub.execute_input": "2022-08-23T14:02:03.463897Z",
          "iopub.status.idle": "2022-08-23T14:02:03.481137Z",
          "shell.execute_reply.started": "2022-08-23T14:02:03.463851Z",
          "shell.execute_reply": "2022-08-23T14:02:03.479769Z"
        },
        "trusted": true,
        "id": "341WTNolZMVH"
      },
      "outputs": [],
      "execution_count": null
    },
    {
      "cell_type": "code",
      "source": [],
      "metadata": {
        "id": "CtT2KjfhZMVH"
      },
      "outputs": [],
      "execution_count": null
    },
    {
      "cell_type": "markdown",
      "source": [
        "<a id=\"content3\"></a>\n",
        "## 3. Treating null values"
      ],
      "metadata": {
        "id": "x2CCclYPZMVH"
      }
    },
    {
      "cell_type": "code",
      "source": [
        "df.head()"
      ],
      "metadata": {
        "execution": {
          "iopub.status.busy": "2022-08-23T14:02:03.483373Z",
          "iopub.execute_input": "2022-08-23T14:02:03.484011Z",
          "iopub.status.idle": "2022-08-23T14:02:03.504981Z",
          "shell.execute_reply.started": "2022-08-23T14:02:03.483965Z",
          "shell.execute_reply": "2022-08-23T14:02:03.504116Z"
        },
        "trusted": true,
        "id": "iTSL3fbqZMVH"
      },
      "outputs": [],
      "execution_count": null
    },
    {
      "cell_type": "code",
      "source": [
        "# on whole df.\n",
        "df.isnull().sum()"
      ],
      "metadata": {
        "execution": {
          "iopub.status.busy": "2022-08-23T14:02:03.512118Z",
          "iopub.execute_input": "2022-08-23T14:02:03.513157Z",
          "iopub.status.idle": "2022-08-23T14:02:03.523445Z",
          "shell.execute_reply.started": "2022-08-23T14:02:03.513108Z",
          "shell.execute_reply": "2022-08-23T14:02:03.522353Z"
        },
        "trusted": true,
        "id": "eTLoHLKPZMVH"
      },
      "outputs": [],
      "execution_count": null
    },
    {
      "cell_type": "code",
      "source": [
        "# on a particular column\n",
        "df['Age'].isnull().sum()"
      ],
      "metadata": {
        "execution": {
          "iopub.status.busy": "2022-08-23T14:02:03.524727Z",
          "iopub.execute_input": "2022-08-23T14:02:03.525551Z",
          "iopub.status.idle": "2022-08-23T14:02:03.532111Z",
          "shell.execute_reply.started": "2022-08-23T14:02:03.525518Z",
          "shell.execute_reply": "2022-08-23T14:02:03.531185Z"
        },
        "trusted": true,
        "id": "gOEPO8ZFZMVH"
      },
      "outputs": [],
      "execution_count": null
    },
    {
      "cell_type": "markdown",
      "source": [
        "#### Impute null values"
      ],
      "metadata": {
        "id": "Bds5AftiZMVH"
      }
    },
    {
      "cell_type": "code",
      "source": [
        "df['Age'].fillna(df['Age'].mean(),inplace=True)\n",
        "df['Age'].isnull().sum()"
      ],
      "metadata": {
        "execution": {
          "iopub.status.busy": "2022-08-23T14:02:03.533772Z",
          "iopub.execute_input": "2022-08-23T14:02:03.534516Z",
          "iopub.status.idle": "2022-08-23T14:02:03.545857Z",
          "shell.execute_reply.started": "2022-08-23T14:02:03.534483Z",
          "shell.execute_reply": "2022-08-23T14:02:03.544641Z"
        },
        "trusted": true,
        "id": "eLfNbym8ZMVI"
      },
      "outputs": [],
      "execution_count": null
    },
    {
      "cell_type": "code",
      "source": [
        "df['Sex'].fillna(df['Sex'].mode(),inplace=True)\n",
        "df['Sex'].isnull().sum()"
      ],
      "metadata": {
        "execution": {
          "iopub.status.busy": "2022-08-23T14:02:03.548204Z",
          "iopub.execute_input": "2022-08-23T14:02:03.549259Z",
          "iopub.status.idle": "2022-08-23T14:02:03.560527Z",
          "shell.execute_reply.started": "2022-08-23T14:02:03.549204Z",
          "shell.execute_reply": "2022-08-23T14:02:03.559144Z"
        },
        "trusted": true,
        "id": "sdqBLbOBZMVI"
      },
      "outputs": [],
      "execution_count": null
    },
    {
      "cell_type": "code",
      "source": [],
      "metadata": {
        "id": "1LSDrTj1ZMVI"
      },
      "outputs": [],
      "execution_count": null
    },
    {
      "cell_type": "markdown",
      "source": [
        "<a id=\"content4\"></a>\n",
        "## 4. Modify/Add new column(s).\n",
        "Adding another column or modify a column."
      ],
      "metadata": {
        "id": "LkpEf2kAZMVI"
      }
    },
    {
      "cell_type": "code",
      "source": [
        "df.head()"
      ],
      "metadata": {
        "execution": {
          "iopub.status.busy": "2022-08-23T14:02:03.562988Z",
          "iopub.execute_input": "2022-08-23T14:02:03.56403Z",
          "iopub.status.idle": "2022-08-23T14:02:03.584566Z",
          "shell.execute_reply.started": "2022-08-23T14:02:03.563977Z",
          "shell.execute_reply": "2022-08-23T14:02:03.583261Z"
        },
        "trusted": true,
        "id": "iN8mEB4pZMVI"
      },
      "outputs": [],
      "execution_count": null
    },
    {
      "cell_type": "code",
      "source": [
        "df['Sex']=df['Sex'].map({\"male\":'0',\"female\":\"1\"})\n",
        "df.head()"
      ],
      "metadata": {
        "execution": {
          "iopub.status.busy": "2022-08-23T14:02:03.58677Z",
          "iopub.execute_input": "2022-08-23T14:02:03.587639Z",
          "iopub.status.idle": "2022-08-23T14:02:03.609752Z",
          "shell.execute_reply.started": "2022-08-23T14:02:03.587584Z",
          "shell.execute_reply": "2022-08-23T14:02:03.608167Z"
        },
        "trusted": true,
        "id": "mHGKRltrZMVI"
      },
      "outputs": [],
      "execution_count": null
    },
    {
      "cell_type": "code",
      "source": [
        "# Finding last name and first name from Name column.\n",
        "df['last_name']=df['Name'].apply(lambda x: x.split(',')[0])\n",
        "df['first_name']=df['Name'].apply(lambda x: ' '.join(x.split(',')[1:]))\n"
      ],
      "metadata": {
        "execution": {
          "iopub.status.busy": "2022-08-23T14:02:03.611661Z",
          "iopub.execute_input": "2022-08-23T14:02:03.612369Z",
          "iopub.status.idle": "2022-08-23T14:02:03.623886Z",
          "shell.execute_reply.started": "2022-08-23T14:02:03.612314Z",
          "shell.execute_reply": "2022-08-23T14:02:03.622613Z"
        },
        "trusted": true,
        "id": "C4ContMIZMVI"
      },
      "outputs": [],
      "execution_count": null
    },
    {
      "cell_type": "code",
      "source": [
        "df.head()"
      ],
      "metadata": {
        "execution": {
          "iopub.status.busy": "2022-08-23T14:02:03.625723Z",
          "iopub.execute_input": "2022-08-23T14:02:03.626496Z",
          "iopub.status.idle": "2022-08-23T14:02:03.65374Z",
          "shell.execute_reply.started": "2022-08-23T14:02:03.626449Z",
          "shell.execute_reply": "2022-08-23T14:02:03.652466Z"
        },
        "trusted": true,
        "id": "eHImcv2WZMVJ"
      },
      "outputs": [],
      "execution_count": null
    },
    {
      "cell_type": "code",
      "source": [
        "# Sets to 1 for men in 3rd class.\n",
        "df['Thrid&Men']=df.apply(lambda row: int(row['Pclass']==3 and row['Sex']==\"0\"),axis=1)\n",
        "df.head()"
      ],
      "metadata": {
        "execution": {
          "iopub.status.busy": "2022-08-23T14:02:03.655565Z",
          "iopub.execute_input": "2022-08-23T14:02:03.656362Z",
          "iopub.status.idle": "2022-08-23T14:02:03.691799Z",
          "shell.execute_reply.started": "2022-08-23T14:02:03.656312Z",
          "shell.execute_reply": "2022-08-23T14:02:03.690478Z"
        },
        "trusted": true,
        "id": "O0E7w9HQZMVJ"
      },
      "outputs": [],
      "execution_count": null
    },
    {
      "cell_type": "markdown",
      "source": [
        "##### Calling some custom function."
      ],
      "metadata": {
        "id": "KnXuTB9-ZMVJ"
      }
    },
    {
      "cell_type": "code",
      "source": [
        "def findAgeGroup(age):\n",
        "    if age<18:\n",
        "        return 1\n",
        "    elif age>=18 and age<40:\n",
        "        return 2\n",
        "    elif age>=40 and age<60:\n",
        "        return 3\n",
        "    else:\n",
        "        return 4\n",
        "df['Age_group']=df['Age'].apply(lambda x: findAgeGroup(x))\n",
        "# Calling a custom function."
      ],
      "metadata": {
        "execution": {
          "iopub.status.busy": "2022-08-23T14:02:03.69311Z",
          "iopub.execute_input": "2022-08-23T14:02:03.693462Z",
          "iopub.status.idle": "2022-08-23T14:02:03.702406Z",
          "shell.execute_reply.started": "2022-08-23T14:02:03.693431Z",
          "shell.execute_reply": "2022-08-23T14:02:03.701006Z"
        },
        "trusted": true,
        "id": "55JvMCB4ZMVM"
      },
      "outputs": [],
      "execution_count": null
    },
    {
      "cell_type": "code",
      "source": [
        "df.head()"
      ],
      "metadata": {
        "execution": {
          "iopub.status.busy": "2022-08-23T14:02:03.704001Z",
          "iopub.execute_input": "2022-08-23T14:02:03.705035Z",
          "iopub.status.idle": "2022-08-23T14:02:03.730299Z",
          "shell.execute_reply.started": "2022-08-23T14:02:03.704984Z",
          "shell.execute_reply": "2022-08-23T14:02:03.729252Z"
        },
        "trusted": true,
        "id": "ropPWPigZMVN"
      },
      "outputs": [],
      "execution_count": null
    },
    {
      "cell_type": "code",
      "source": [],
      "metadata": {
        "id": "0ECGcIxXZMVN"
      },
      "outputs": [],
      "execution_count": null
    },
    {
      "cell_type": "markdown",
      "source": [
        "<a id=\"content5\"></a>\n",
        "## 5. Deleting columns"
      ],
      "metadata": {
        "id": "sNUT3wGPZMVN"
      }
    },
    {
      "cell_type": "code",
      "source": [
        "df.head()"
      ],
      "metadata": {
        "execution": {
          "iopub.status.busy": "2022-08-23T14:02:03.731857Z",
          "iopub.execute_input": "2022-08-23T14:02:03.732238Z",
          "iopub.status.idle": "2022-08-23T14:02:03.756726Z",
          "shell.execute_reply.started": "2022-08-23T14:02:03.732203Z",
          "shell.execute_reply": "2022-08-23T14:02:03.755358Z"
        },
        "trusted": true,
        "id": "bibPbxt9ZMVN"
      },
      "outputs": [],
      "execution_count": null
    },
    {
      "cell_type": "code",
      "source": [
        "df=df.drop(['PassengerId'],axis=1)\n",
        "#df=df.drop(['PassengerId'],axis=1,inplace=True)\n",
        "df.head()"
      ],
      "metadata": {
        "execution": {
          "iopub.status.busy": "2022-08-23T14:02:03.758342Z",
          "iopub.execute_input": "2022-08-23T14:02:03.759309Z",
          "iopub.status.idle": "2022-08-23T14:02:03.783721Z",
          "shell.execute_reply.started": "2022-08-23T14:02:03.75926Z",
          "shell.execute_reply": "2022-08-23T14:02:03.782822Z"
        },
        "trusted": true,
        "id": "-TIuwwSCZMVN"
      },
      "outputs": [],
      "execution_count": null
    },
    {
      "cell_type": "code",
      "source": [],
      "metadata": {
        "id": "zU_PXkyCZMVN"
      },
      "outputs": [],
      "execution_count": null
    },
    {
      "cell_type": "markdown",
      "source": [
        "<a id=\"content6\"></a>\n",
        "## 6. Renaming columns"
      ],
      "metadata": {
        "id": "qsp0Ce2_ZMVN"
      }
    },
    {
      "cell_type": "code",
      "source": [
        "# Lets try to rename some columns.\n",
        "df=df.rename(columns={'Sex':'Gender','Name':'Full Name','last_name':'Surname','first_name':'Name'})\n",
        "df.head()"
      ],
      "metadata": {
        "execution": {
          "iopub.status.busy": "2022-08-23T14:02:03.7849Z",
          "iopub.execute_input": "2022-08-23T14:02:03.786072Z",
          "iopub.status.idle": "2022-08-23T14:02:03.805958Z",
          "shell.execute_reply.started": "2022-08-23T14:02:03.786033Z",
          "shell.execute_reply": "2022-08-23T14:02:03.804602Z"
        },
        "trusted": true,
        "id": "1usZBTb9ZMVN"
      },
      "outputs": [],
      "execution_count": null
    },
    {
      "cell_type": "markdown",
      "source": [
        "Similarly, we can do for whichever column we want."
      ],
      "metadata": {
        "id": "YrPZoX7mZMVN"
      }
    },
    {
      "cell_type": "code",
      "source": [],
      "metadata": {
        "id": "z4xTsCh_ZMVO"
      },
      "outputs": [],
      "execution_count": null
    },
    {
      "cell_type": "markdown",
      "source": [
        "<a id=\"content7\"></a>\n",
        "## 7.i Slicing DataFrame"
      ],
      "metadata": {
        "id": "JevuCVDEZMVO"
      }
    },
    {
      "cell_type": "code",
      "source": [
        "df.head()"
      ],
      "metadata": {
        "execution": {
          "iopub.status.busy": "2022-08-23T14:02:03.80775Z",
          "iopub.execute_input": "2022-08-23T14:02:03.808324Z",
          "iopub.status.idle": "2022-08-23T14:02:03.831553Z",
          "shell.execute_reply.started": "2022-08-23T14:02:03.808277Z",
          "shell.execute_reply": "2022-08-23T14:02:03.830183Z"
        },
        "trusted": true,
        "id": "IVAM2YjkZMVO"
      },
      "outputs": [],
      "execution_count": null
    },
    {
      "cell_type": "code",
      "source": [
        "# All rows with pclass==3\n",
        "df_third_class=df[df['Pclass']==3].reset_index(drop=True) # w/0 drop=True it actually adds a index column rather.\n",
        "df_third_class.head()"
      ],
      "metadata": {
        "execution": {
          "iopub.status.busy": "2022-08-23T14:02:03.833324Z",
          "iopub.execute_input": "2022-08-23T14:02:03.833682Z",
          "iopub.status.idle": "2022-08-23T14:02:03.855455Z",
          "shell.execute_reply.started": "2022-08-23T14:02:03.83365Z",
          "shell.execute_reply": "2022-08-23T14:02:03.854492Z"
        },
        "trusted": true,
        "id": "SRz_RYHlZMVO"
      },
      "outputs": [],
      "execution_count": null
    },
    {
      "cell_type": "code",
      "source": [
        "# Females with age > 60\n",
        "df_aged=df[(df['Age']>60) & (df['Gender']==\"1\")]\n",
        "df_aged.head()"
      ],
      "metadata": {
        "execution": {
          "iopub.status.busy": "2022-08-23T14:02:03.856734Z",
          "iopub.execute_input": "2022-08-23T14:02:03.857139Z",
          "iopub.status.idle": "2022-08-23T14:02:03.87876Z",
          "shell.execute_reply.started": "2022-08-23T14:02:03.857094Z",
          "shell.execute_reply": "2022-08-23T14:02:03.877507Z"
        },
        "trusted": true,
        "id": "n7RQPqq3ZMVO"
      },
      "outputs": [],
      "execution_count": null
    },
    {
      "cell_type": "markdown",
      "source": [
        "**Note that all these three ladies were saved as they were senior citizen and women so they may have been given priority.**"
      ],
      "metadata": {
        "id": "8JxChMQvZMVO"
      }
    },
    {
      "cell_type": "code",
      "source": [
        "# Selecting some columns.\n",
        "df1=df[['Age','Pclass','Gender']]\n",
        "df1.head()"
      ],
      "metadata": {
        "execution": {
          "iopub.status.busy": "2022-08-23T14:02:03.880646Z",
          "iopub.execute_input": "2022-08-23T14:02:03.881429Z",
          "iopub.status.idle": "2022-08-23T14:02:03.903452Z",
          "shell.execute_reply.started": "2022-08-23T14:02:03.881383Z",
          "shell.execute_reply": "2022-08-23T14:02:03.902467Z"
        },
        "trusted": true,
        "id": "5pGDeKDBZMVO"
      },
      "outputs": [],
      "execution_count": null
    },
    {
      "cell_type": "code",
      "source": [
        "# Select numerical columns only\n",
        "numerics = ['int16', 'int32', 'int64', 'float16', 'float32', 'float64']\n",
        "\n",
        "df_num = df.select_dtypes(include=numerics)\n",
        "df_num.head()"
      ],
      "metadata": {
        "execution": {
          "iopub.status.busy": "2022-08-23T14:02:03.904557Z",
          "iopub.execute_input": "2022-08-23T14:02:03.905532Z",
          "iopub.status.idle": "2022-08-23T14:02:03.921851Z",
          "shell.execute_reply.started": "2022-08-23T14:02:03.905497Z",
          "shell.execute_reply": "2022-08-23T14:02:03.920446Z"
        },
        "trusted": true,
        "id": "PlS2iv0qZMVO"
      },
      "outputs": [],
      "execution_count": null
    },
    {
      "cell_type": "code",
      "source": [
        "# categorical columns\n",
        "df_cat=df.select_dtypes(include=['object'])\n",
        "df_cat.head()"
      ],
      "metadata": {
        "execution": {
          "iopub.status.busy": "2022-08-23T14:02:03.923585Z",
          "iopub.execute_input": "2022-08-23T14:02:03.924217Z",
          "iopub.status.idle": "2022-08-23T14:02:03.944341Z",
          "shell.execute_reply.started": "2022-08-23T14:02:03.924181Z",
          "shell.execute_reply": "2022-08-23T14:02:03.943313Z"
        },
        "trusted": true,
        "id": "4IA8TfLTZMVO"
      },
      "outputs": [],
      "execution_count": null
    },
    {
      "cell_type": "code",
      "source": [],
      "metadata": {
        "id": "3SyySxFAZMVP"
      },
      "outputs": [],
      "execution_count": null
    },
    {
      "cell_type": "markdown",
      "source": [
        "<a id=\"content8\"></a>\n",
        "## 7.ii Slicing using iloc and loc"
      ],
      "metadata": {
        "id": "4jxOYnsxZMVP"
      }
    },
    {
      "cell_type": "markdown",
      "source": [
        "#### iloc"
      ],
      "metadata": {
        "id": "MNRT-El3ZMVP"
      }
    },
    {
      "cell_type": "code",
      "source": [
        "df.head()"
      ],
      "metadata": {
        "execution": {
          "iopub.status.busy": "2022-08-23T14:02:03.945615Z",
          "iopub.execute_input": "2022-08-23T14:02:03.946348Z",
          "iopub.status.idle": "2022-08-23T14:02:03.967985Z",
          "shell.execute_reply.started": "2022-08-23T14:02:03.946303Z",
          "shell.execute_reply": "2022-08-23T14:02:03.966837Z"
        },
        "trusted": true,
        "id": "ErY09xq0ZMVP"
      },
      "outputs": [],
      "execution_count": null
    },
    {
      "cell_type": "code",
      "source": [
        "# First 100 rows & all columns\n",
        "df_sub1=df.iloc[0:100,:]\n",
        "df_sub1.head()"
      ],
      "metadata": {
        "execution": {
          "iopub.status.busy": "2022-08-23T14:02:03.969999Z",
          "iopub.execute_input": "2022-08-23T14:02:03.970425Z",
          "iopub.status.idle": "2022-08-23T14:02:03.992353Z",
          "shell.execute_reply.started": "2022-08-23T14:02:03.970389Z",
          "shell.execute_reply": "2022-08-23T14:02:03.991488Z"
        },
        "trusted": true,
        "id": "rBgEThthZMVP"
      },
      "outputs": [],
      "execution_count": null
    },
    {
      "cell_type": "code",
      "source": [
        "#First 250 rows with a subset of columns\n",
        "\n",
        "#df_sub2=df.iloc[:250,['Age']]\n",
        "# This will throw an error as iloc only consumes integres as indices.\n",
        "\n",
        "df_sub2=df.iloc[:250,[1,8]]\n",
        "#Returns first 250 rows and columns at those indices in df.columns.\n",
        "df_sub2.head()"
      ],
      "metadata": {
        "execution": {
          "iopub.status.busy": "2022-08-23T14:02:03.993888Z",
          "iopub.execute_input": "2022-08-23T14:02:03.994538Z",
          "iopub.status.idle": "2022-08-23T14:02:04.010096Z",
          "shell.execute_reply.started": "2022-08-23T14:02:03.994499Z",
          "shell.execute_reply": "2022-08-23T14:02:04.008759Z"
        },
        "trusted": true,
        "id": "jZrHGIO0ZMVP"
      },
      "outputs": [],
      "execution_count": null
    },
    {
      "cell_type": "code",
      "source": [],
      "metadata": {
        "id": "Nf03k-YuZMVP"
      },
      "outputs": [],
      "execution_count": null
    },
    {
      "cell_type": "markdown",
      "source": [
        "#### loc"
      ],
      "metadata": {
        "id": "vhAzeeTOZMVP"
      }
    },
    {
      "cell_type": "code",
      "source": [
        "df.head()"
      ],
      "metadata": {
        "execution": {
          "iopub.status.busy": "2022-08-23T14:02:04.011549Z",
          "iopub.execute_input": "2022-08-23T14:02:04.01232Z",
          "iopub.status.idle": "2022-08-23T14:02:04.03281Z",
          "shell.execute_reply.started": "2022-08-23T14:02:04.012282Z",
          "shell.execute_reply": "2022-08-23T14:02:04.031454Z"
        },
        "trusted": true,
        "id": "q7IQha4MZMVP"
      },
      "outputs": [],
      "execution_count": null
    },
    {
      "cell_type": "code",
      "source": [
        "# First 500 rows.\n",
        "df_sub3=df.loc[:500,:]"
      ],
      "metadata": {
        "execution": {
          "iopub.status.busy": "2022-08-23T14:02:04.034503Z",
          "iopub.execute_input": "2022-08-23T14:02:04.034869Z",
          "iopub.status.idle": "2022-08-23T14:02:04.040289Z",
          "shell.execute_reply.started": "2022-08-23T14:02:04.034835Z",
          "shell.execute_reply": "2022-08-23T14:02:04.038939Z"
        },
        "trusted": true,
        "id": "Z4XHimKcZMVQ"
      },
      "outputs": [],
      "execution_count": null
    },
    {
      "cell_type": "code",
      "source": [
        "# Gender and age of age >50\n",
        "df_sub4=df.loc[(df['Age']>50),['Gender','Age']]\n",
        "df_sub4.head()"
      ],
      "metadata": {
        "execution": {
          "iopub.status.busy": "2022-08-23T14:02:04.042018Z",
          "iopub.execute_input": "2022-08-23T14:02:04.042988Z",
          "iopub.status.idle": "2022-08-23T14:02:04.060978Z",
          "shell.execute_reply.started": "2022-08-23T14:02:04.042947Z",
          "shell.execute_reply": "2022-08-23T14:02:04.059758Z"
        },
        "trusted": true,
        "id": "EO-GPoeAZMVQ"
      },
      "outputs": [],
      "execution_count": null
    },
    {
      "cell_type": "code",
      "source": [],
      "metadata": {
        "id": "VnTUCTadZMVQ"
      },
      "outputs": [],
      "execution_count": null
    },
    {
      "cell_type": "markdown",
      "source": [
        "<a id=\"content9\"></a>\n",
        "## 8. Adding a row"
      ],
      "metadata": {
        "id": "W2z9hbCqZMVQ"
      }
    },
    {
      "cell_type": "code",
      "source": [
        "df.head()"
      ],
      "metadata": {
        "execution": {
          "iopub.status.busy": "2022-08-23T14:02:04.062475Z",
          "iopub.execute_input": "2022-08-23T14:02:04.062841Z",
          "iopub.status.idle": "2022-08-23T14:02:04.08872Z",
          "shell.execute_reply.started": "2022-08-23T14:02:04.062808Z",
          "shell.execute_reply": "2022-08-23T14:02:04.087537Z"
        },
        "trusted": true,
        "id": "XFz5yk_LZMVQ"
      },
      "outputs": [],
      "execution_count": null
    },
    {
      "cell_type": "code",
      "source": [
        "# Adding row using 'append' function\n",
        "row=dict({'Age':24,'Full Name':'Peter','Survived':'Y'})\n",
        "df=df.append(row,ignore_index=True)\n",
        "# assumes Nan for absent keys(columns)\n",
        "df.tail()"
      ],
      "metadata": {
        "execution": {
          "iopub.status.busy": "2022-08-23T14:02:04.096777Z",
          "iopub.execute_input": "2022-08-23T14:02:04.097528Z",
          "iopub.status.idle": "2022-08-23T14:02:04.128274Z",
          "shell.execute_reply.started": "2022-08-23T14:02:04.097485Z",
          "shell.execute_reply": "2022-08-23T14:02:04.126869Z"
        },
        "trusted": true,
        "id": "ugCRrzLvZMVQ"
      },
      "outputs": [],
      "execution_count": null
    },
    {
      "cell_type": "code",
      "source": [],
      "metadata": {
        "id": "pZotfHj7ZMVQ"
      },
      "outputs": [],
      "execution_count": null
    },
    {
      "cell_type": "code",
      "source": [
        "# Adding new row using loc\n",
        "df.loc[len(df.index)]=row\n",
        "df.tail()"
      ],
      "metadata": {
        "execution": {
          "iopub.status.busy": "2022-08-23T14:02:04.129973Z",
          "iopub.execute_input": "2022-08-23T14:02:04.130379Z",
          "iopub.status.idle": "2022-08-23T14:02:04.160173Z",
          "shell.execute_reply.started": "2022-08-23T14:02:04.130344Z",
          "shell.execute_reply": "2022-08-23T14:02:04.158902Z"
        },
        "trusted": true,
        "id": "wkSQDiMRZMVQ"
      },
      "outputs": [],
      "execution_count": null
    },
    {
      "cell_type": "code",
      "source": [],
      "metadata": {
        "id": "Rv6e5d6lZMVQ"
      },
      "outputs": [],
      "execution_count": null
    },
    {
      "cell_type": "markdown",
      "source": [
        "<a id=\"content10\"></a>\n",
        "## 9. Dropping row(s)"
      ],
      "metadata": {
        "id": "XTtr1fYLZMVQ"
      }
    },
    {
      "cell_type": "code",
      "source": [
        "df=df.drop(df.index[-1],axis=0) # Deletes last row\n",
        "df.head()"
      ],
      "metadata": {
        "execution": {
          "iopub.status.busy": "2022-08-23T14:02:04.161607Z",
          "iopub.execute_input": "2022-08-23T14:02:04.162034Z",
          "iopub.status.idle": "2022-08-23T14:02:04.186558Z",
          "shell.execute_reply.started": "2022-08-23T14:02:04.161998Z",
          "shell.execute_reply": "2022-08-23T14:02:04.185178Z"
        },
        "trusted": true,
        "id": "CMb9kNb0ZMVR"
      },
      "outputs": [],
      "execution_count": null
    },
    {
      "cell_type": "code",
      "source": [],
      "metadata": {
        "id": "tHbNfbi1ZMVR"
      },
      "outputs": [],
      "execution_count": null
    },
    {
      "cell_type": "markdown",
      "source": [
        "<a id=\"content11\"></a>\n",
        "## 10. Sorting"
      ],
      "metadata": {
        "id": "2_vpH8SsZMVR"
      }
    },
    {
      "cell_type": "code",
      "source": [
        "df.head()"
      ],
      "metadata": {
        "execution": {
          "iopub.status.busy": "2022-08-23T14:02:04.188123Z",
          "iopub.execute_input": "2022-08-23T14:02:04.188564Z",
          "iopub.status.idle": "2022-08-23T14:02:04.211598Z",
          "shell.execute_reply.started": "2022-08-23T14:02:04.188529Z",
          "shell.execute_reply": "2022-08-23T14:02:04.210519Z"
        },
        "trusted": true,
        "id": "d2nFYYsOZMVR"
      },
      "outputs": [],
      "execution_count": null
    },
    {
      "cell_type": "code",
      "source": [
        "# sorting by age say in decreasing order.\n",
        "df=df.sort_values(by=['Age'],ascending=False) # can specify multiple columns in a list as well.\n",
        "df.head()"
      ],
      "metadata": {
        "execution": {
          "iopub.status.busy": "2022-08-23T14:02:04.213169Z",
          "iopub.execute_input": "2022-08-23T14:02:04.213601Z",
          "iopub.status.idle": "2022-08-23T14:02:04.241866Z",
          "shell.execute_reply.started": "2022-08-23T14:02:04.213554Z",
          "shell.execute_reply": "2022-08-23T14:02:04.240572Z"
        },
        "trusted": true,
        "id": "L_CbeppNZMVR"
      },
      "outputs": [],
      "execution_count": null
    },
    {
      "cell_type": "code",
      "source": [],
      "metadata": {
        "id": "JJd_aYHqZMVR"
      },
      "outputs": [],
      "execution_count": null
    },
    {
      "cell_type": "markdown",
      "source": [
        "<a id=\"content12\"></a>\n",
        "## 11. Joins"
      ],
      "metadata": {
        "id": "0d6kbyWVZMVR"
      }
    },
    {
      "cell_type": "markdown",
      "source": [
        "Let's create two separate data frames and try all 5 (Cross,Inner, Left, Right,and Outer Joins)."
      ],
      "metadata": {
        "id": "ORyu-HASZMVR"
      }
    },
    {
      "cell_type": "code",
      "source": [
        "sno=[i+1 for i in range(100)]\n",
        "marks=np.random.randint(100,size=100)\n",
        "print(len(marks))\n",
        "marks_df=pd.DataFrame({'Sno':sno,'Marks':marks})\n",
        "marks_df.head()"
      ],
      "metadata": {
        "execution": {
          "iopub.status.busy": "2022-08-23T14:02:04.24344Z",
          "iopub.execute_input": "2022-08-23T14:02:04.243793Z",
          "iopub.status.idle": "2022-08-23T14:02:04.260095Z",
          "shell.execute_reply.started": "2022-08-23T14:02:04.243762Z",
          "shell.execute_reply": "2022-08-23T14:02:04.258533Z"
        },
        "trusted": true,
        "id": "B0KsV8yAZMVR"
      },
      "outputs": [],
      "execution_count": null
    },
    {
      "cell_type": "code",
      "source": [
        "sno=[i+1 for i in range(100)]\n",
        "age=np.random.randint(100,size=100)\n",
        "print(len(marks))\n",
        "age_df=pd.DataFrame({'Sno':sno,'Age':age})\n",
        "age_df.head()"
      ],
      "metadata": {
        "execution": {
          "iopub.status.busy": "2022-08-23T14:02:04.261857Z",
          "iopub.execute_input": "2022-08-23T14:02:04.262684Z",
          "iopub.status.idle": "2022-08-23T14:02:04.280355Z",
          "shell.execute_reply.started": "2022-08-23T14:02:04.262629Z",
          "shell.execute_reply": "2022-08-23T14:02:04.27888Z"
        },
        "trusted": true,
        "id": "C-_YisgwZMVR"
      },
      "outputs": [],
      "execution_count": null
    },
    {
      "cell_type": "markdown",
      "source": [
        "#### Cross join"
      ],
      "metadata": {
        "id": "jXK6aKWpZMVS"
      }
    },
    {
      "cell_type": "code",
      "source": [
        "cross_join=pd.merge(marks_df,age_df,how='cross')\n",
        "print(cross_join.shape)\n",
        "cross_join.head()"
      ],
      "metadata": {
        "execution": {
          "iopub.status.busy": "2022-08-23T14:02:04.282421Z",
          "iopub.execute_input": "2022-08-23T14:02:04.282795Z",
          "iopub.status.idle": "2022-08-23T14:02:04.3084Z",
          "shell.execute_reply.started": "2022-08-23T14:02:04.282759Z",
          "shell.execute_reply": "2022-08-23T14:02:04.307278Z"
        },
        "trusted": true,
        "id": "r85AhDWSZMVS"
      },
      "outputs": [],
      "execution_count": null
    },
    {
      "cell_type": "markdown",
      "source": [
        "#### Inner Join"
      ],
      "metadata": {
        "id": "TFs35Kg3ZMVS"
      }
    },
    {
      "cell_type": "code",
      "source": [
        "inner_join=pd.merge(age_df,marks_df,how='inner',on='Sno') # 'how' defaults to 'inner' only.\n",
        "print(inner_join.shape)\n",
        "inner_join.head()"
      ],
      "metadata": {
        "execution": {
          "iopub.status.busy": "2022-08-23T14:02:04.3104Z",
          "iopub.execute_input": "2022-08-23T14:02:04.310856Z",
          "iopub.status.idle": "2022-08-23T14:02:04.327488Z",
          "shell.execute_reply.started": "2022-08-23T14:02:04.310803Z",
          "shell.execute_reply": "2022-08-23T14:02:04.326145Z"
        },
        "trusted": true,
        "id": "InZaKn4FZMVS"
      },
      "outputs": [],
      "execution_count": null
    },
    {
      "cell_type": "markdown",
      "source": [
        "#### Left and Right Outer Join(s)"
      ],
      "metadata": {
        "id": "G3GLfKxfZMVS"
      }
    },
    {
      "cell_type": "markdown",
      "source": [
        "Lets add some more rows to either frame so that left and right outer join makes sense"
      ],
      "metadata": {
        "id": "fW-s3SBQZMVS"
      }
    },
    {
      "cell_type": "code",
      "source": [
        "age_df.loc[len(age_df.index)]={'Sno':101,'Age':23}\n",
        "age_df.loc[len(age_df.index)]={'Sno':102,'Age':27}\n",
        "age_df.loc[len(age_df.index)]={'Sno':104,'Age':29}\n",
        "age_df.loc[len(age_df.index)]={'Sno':103,'Age':32}\n",
        "age_df.loc[len(age_df.index)]={'Sno':105,'Age':53}"
      ],
      "metadata": {
        "execution": {
          "iopub.status.busy": "2022-08-23T14:02:04.328864Z",
          "iopub.execute_input": "2022-08-23T14:02:04.329336Z",
          "iopub.status.idle": "2022-08-23T14:02:04.353528Z",
          "shell.execute_reply.started": "2022-08-23T14:02:04.329292Z",
          "shell.execute_reply": "2022-08-23T14:02:04.352354Z"
        },
        "trusted": true,
        "id": "LzmhJCNmZMVS"
      },
      "outputs": [],
      "execution_count": null
    },
    {
      "cell_type": "code",
      "source": [
        "#left join\n",
        "left_join=pd.merge(age_df,marks_df,how='left',on='Sno')\n",
        "print(left_join.shape)\n",
        "left_join.tail()"
      ],
      "metadata": {
        "execution": {
          "iopub.status.busy": "2022-08-23T14:02:04.355061Z",
          "iopub.execute_input": "2022-08-23T14:02:04.35556Z",
          "iopub.status.idle": "2022-08-23T14:02:04.381027Z",
          "shell.execute_reply.started": "2022-08-23T14:02:04.355524Z",
          "shell.execute_reply": "2022-08-23T14:02:04.38014Z"
        },
        "trusted": true,
        "id": "ejMeC8BZZMVS"
      },
      "outputs": [],
      "execution_count": null
    },
    {
      "cell_type": "markdown",
      "source": [
        " **Marks=Nan** confirms the left join."
      ],
      "metadata": {
        "id": "esPA6mpYZMVS"
      }
    },
    {
      "cell_type": "code",
      "source": [
        "#right join\n",
        "right_join=pd.merge(marks_df,age_df,how='right',on='Sno')\n",
        "print(right_join.shape)\n",
        "right_join.tail()"
      ],
      "metadata": {
        "execution": {
          "iopub.status.busy": "2022-08-23T14:02:04.382167Z",
          "iopub.execute_input": "2022-08-23T14:02:04.383257Z",
          "iopub.status.idle": "2022-08-23T14:02:04.399565Z",
          "shell.execute_reply.started": "2022-08-23T14:02:04.383216Z",
          "shell.execute_reply": "2022-08-23T14:02:04.39832Z"
        },
        "trusted": true,
        "id": "JVfFgzC5ZMVS"
      },
      "outputs": [],
      "execution_count": null
    },
    {
      "cell_type": "markdown",
      "source": [
        "**Marks=Nan** confirms the right join in this case as the order of input frames is also reversed."
      ],
      "metadata": {
        "id": "ExoMOwiNZMVT"
      }
    },
    {
      "cell_type": "code",
      "source": [],
      "metadata": {
        "id": "9NIzBlKgZMVT"
      },
      "outputs": [],
      "execution_count": null
    },
    {
      "cell_type": "markdown",
      "source": [
        "#### Full outer join\n",
        "One last time, lets modify the marks frame also to test **Full outer join.**"
      ],
      "metadata": {
        "id": "q3a2WwRdZMVT"
      }
    },
    {
      "cell_type": "code",
      "source": [
        "marks_df.loc[len(marks_df.index)]={'Sno':106,'Marks':79}\n",
        "marks_df.tail()"
      ],
      "metadata": {
        "execution": {
          "iopub.status.busy": "2022-08-23T14:02:04.401Z",
          "iopub.execute_input": "2022-08-23T14:02:04.402121Z",
          "iopub.status.idle": "2022-08-23T14:02:04.427246Z",
          "shell.execute_reply.started": "2022-08-23T14:02:04.402052Z",
          "shell.execute_reply": "2022-08-23T14:02:04.425897Z"
        },
        "trusted": true,
        "id": "HRqTArs9ZMVT"
      },
      "outputs": [],
      "execution_count": null
    },
    {
      "cell_type": "code",
      "source": [
        "#outer join\n",
        "out_join=pd.merge(marks_df,age_df,how='outer',on='Sno')\n",
        "print(out_join.shape)\n",
        "out_join.tail(10)"
      ],
      "metadata": {
        "execution": {
          "iopub.status.busy": "2022-08-23T14:02:04.429532Z",
          "iopub.execute_input": "2022-08-23T14:02:04.430476Z",
          "iopub.status.idle": "2022-08-23T14:02:04.452064Z",
          "shell.execute_reply.started": "2022-08-23T14:02:04.430428Z",
          "shell.execute_reply": "2022-08-23T14:02:04.450802Z"
        },
        "trusted": true,
        "id": "-xjAnvqjZMVT"
      },
      "outputs": [],
      "execution_count": null
    },
    {
      "cell_type": "markdown",
      "source": [
        "Row index **100** is added in putput which confirms the **full outer join**"
      ],
      "metadata": {
        "id": "zaOzkL69ZMVT"
      }
    },
    {
      "cell_type": "code",
      "source": [],
      "metadata": {
        "id": "o5HgCiloZMVT"
      },
      "outputs": [],
      "execution_count": null
    },
    {
      "cell_type": "markdown",
      "source": [
        "<a id=\"content13\"></a>\n",
        "## 12. Groupby\n",
        "\n",
        "Let's get back to our titanic dataset."
      ],
      "metadata": {
        "id": "bDtUzBqeZMVT"
      }
    },
    {
      "cell_type": "code",
      "source": [
        "df.head()"
      ],
      "metadata": {
        "execution": {
          "iopub.status.busy": "2022-08-23T14:02:04.454021Z",
          "iopub.execute_input": "2022-08-23T14:02:04.454932Z",
          "iopub.status.idle": "2022-08-23T14:02:04.480055Z",
          "shell.execute_reply.started": "2022-08-23T14:02:04.454883Z",
          "shell.execute_reply": "2022-08-23T14:02:04.478803Z"
        },
        "trusted": true,
        "id": "NMzb_F0mZMVT"
      },
      "outputs": [],
      "execution_count": null
    },
    {
      "cell_type": "code",
      "source": [],
      "metadata": {
        "id": "PzZgCCisZMVT"
      },
      "outputs": [],
      "execution_count": null
    },
    {
      "cell_type": "markdown",
      "source": [
        "#### Before, we move onto Groupby in pandas, lets recollect groupby from SQL. A SQL query, may contain hese parts (some might be optional like having etc...):\n",
        "\n",
        "\n",
        "1. Table name (**from**)\n",
        "2. Some condition to filter rows (**where clause**)\n",
        "3. Attribute to groupby on (**groupby attributes**)\n",
        "4. Filter rows after groupby (**having clause**)\n",
        "5. Display attributes in the final result. (**select**)\n",
        "\n",
        "\n",
        "##### Let's now see how to mimic this in Pandas ;)"
      ],
      "metadata": {
        "id": "cqyoh0nDZMVT"
      }
    },
    {
      "cell_type": "code",
      "source": [
        "df.head()"
      ],
      "metadata": {
        "execution": {
          "iopub.status.busy": "2022-08-23T14:02:04.481904Z",
          "iopub.execute_input": "2022-08-23T14:02:04.482439Z",
          "iopub.status.idle": "2022-08-23T14:02:04.509176Z",
          "shell.execute_reply.started": "2022-08-23T14:02:04.482392Z",
          "shell.execute_reply": "2022-08-23T14:02:04.508065Z"
        },
        "trusted": true,
        "id": "djy6-qpJZMVU"
      },
      "outputs": [],
      "execution_count": null
    },
    {
      "cell_type": "code",
      "source": [
        "groups=df.groupby(['Pclass'])\n",
        "# uncomment this:\n",
        "# groups.groups\n",
        "groups.get_group(1) # Give some another no say 2 or 3 for its Pclass."
      ],
      "metadata": {
        "execution": {
          "iopub.status.busy": "2022-08-23T14:02:04.510525Z",
          "iopub.execute_input": "2022-08-23T14:02:04.510887Z",
          "iopub.status.idle": "2022-08-23T14:02:04.550469Z",
          "shell.execute_reply.started": "2022-08-23T14:02:04.510853Z",
          "shell.execute_reply": "2022-08-23T14:02:04.549137Z"
        },
        "trusted": true,
        "id": "tVWCHIO4ZMVU"
      },
      "outputs": [],
      "execution_count": null
    },
    {
      "cell_type": "code",
      "source": [],
      "metadata": {
        "id": "eWmeiSPZZMVU"
      },
      "outputs": [],
      "execution_count": null
    },
    {
      "cell_type": "markdown",
      "source": [
        "#### Average Age per Pclass"
      ],
      "metadata": {
        "id": "cPefOUI6ZMVU"
      }
    },
    {
      "cell_type": "code",
      "source": [
        "df_grp1=df.groupby(['Pclass'])\n",
        "#df_grp1.head()"
      ],
      "metadata": {
        "execution": {
          "iopub.status.busy": "2022-08-23T14:02:04.552045Z",
          "iopub.execute_input": "2022-08-23T14:02:04.552417Z",
          "iopub.status.idle": "2022-08-23T14:02:04.557647Z",
          "shell.execute_reply.started": "2022-08-23T14:02:04.552386Z",
          "shell.execute_reply": "2022-08-23T14:02:04.55654Z"
        },
        "trusted": true,
        "id": "hKOvmw1bZMVU"
      },
      "outputs": [],
      "execution_count": null
    },
    {
      "cell_type": "code",
      "source": [
        "#Average Age per Pclass\n",
        "df_grp1['Age'].mean()"
      ],
      "metadata": {
        "execution": {
          "iopub.status.busy": "2022-08-23T14:02:04.559003Z",
          "iopub.execute_input": "2022-08-23T14:02:04.559987Z",
          "iopub.status.idle": "2022-08-23T14:02:04.578823Z",
          "shell.execute_reply.started": "2022-08-23T14:02:04.55995Z",
          "shell.execute_reply": "2022-08-23T14:02:04.577494Z"
        },
        "trusted": true,
        "id": "QNOgfQRhZMVU"
      },
      "outputs": [],
      "execution_count": null
    },
    {
      "cell_type": "code",
      "source": [
        "# Min/Max age per Pclass\n",
        "df_grp1['Age'].min() #max()"
      ],
      "metadata": {
        "execution": {
          "iopub.status.busy": "2022-08-23T14:02:04.58079Z",
          "iopub.execute_input": "2022-08-23T14:02:04.581608Z",
          "iopub.status.idle": "2022-08-23T14:02:04.593743Z",
          "shell.execute_reply.started": "2022-08-23T14:02:04.581557Z",
          "shell.execute_reply": "2022-08-23T14:02:04.592404Z"
        },
        "trusted": true,
        "id": "ByiywMoEZMVU"
      },
      "outputs": [],
      "execution_count": null
    },
    {
      "cell_type": "code",
      "source": [
        "# Count\n",
        "df_grp1['Age'].count()"
      ],
      "metadata": {
        "execution": {
          "iopub.status.busy": "2022-08-23T14:02:04.595375Z",
          "iopub.execute_input": "2022-08-23T14:02:04.59622Z",
          "iopub.status.idle": "2022-08-23T14:02:04.614157Z",
          "shell.execute_reply.started": "2022-08-23T14:02:04.596171Z",
          "shell.execute_reply": "2022-08-23T14:02:04.612604Z"
        },
        "trusted": true,
        "id": "u8PV3vyiZMVU"
      },
      "outputs": [],
      "execution_count": null
    },
    {
      "cell_type": "markdown",
      "source": [],
      "metadata": {
        "id": "b7R1chnQZMVU"
      }
    },
    {
      "cell_type": "markdown",
      "source": [
        "#### Using agg() function.\n",
        "We can use the aggregate fucntion to aggregate results based on some column  or our custom condition"
      ],
      "metadata": {
        "id": "SYRc5ce2ZMVU"
      }
    },
    {
      "cell_type": "code",
      "source": [
        "df=train.copy()\n",
        "df.head()"
      ],
      "metadata": {
        "execution": {
          "iopub.status.busy": "2022-08-23T14:02:04.616065Z",
          "iopub.execute_input": "2022-08-23T14:02:04.61702Z",
          "iopub.status.idle": "2022-08-23T14:02:04.636418Z",
          "shell.execute_reply.started": "2022-08-23T14:02:04.616971Z",
          "shell.execute_reply": "2022-08-23T14:02:04.635106Z"
        },
        "trusted": true,
        "id": "c-SdJ9z6ZMVV"
      },
      "outputs": [],
      "execution_count": null
    },
    {
      "cell_type": "code",
      "source": [
        "# Average per Pclass using 'agg' this time\n",
        "df_grp2=df.groupby(['Pclass']).agg({'Age':lambda x: np.mean(x)})\n",
        "df_grp2.head()"
      ],
      "metadata": {
        "execution": {
          "iopub.status.busy": "2022-08-23T14:02:04.637871Z",
          "iopub.execute_input": "2022-08-23T14:02:04.638268Z",
          "iopub.status.idle": "2022-08-23T14:02:04.652936Z",
          "shell.execute_reply.started": "2022-08-23T14:02:04.638224Z",
          "shell.execute_reply": "2022-08-23T14:02:04.651843Z"
        },
        "trusted": true,
        "id": "_CUM35yRZMVV"
      },
      "outputs": [],
      "execution_count": null
    },
    {
      "cell_type": "code",
      "source": [
        "# Min/Max,count,Sum for each Pclass usign agg function\n",
        "df_grp3=df.groupby(['Pclass']).agg({'Age':'min'}).rename(columns={'Age':'Min Age'})\n",
        "# Use 'max'/'sum' etc. for that operation. Note that this ignores 'nan' values.\n",
        "df_grp3.head()"
      ],
      "metadata": {
        "execution": {
          "iopub.status.busy": "2022-08-23T14:02:04.654551Z",
          "iopub.execute_input": "2022-08-23T14:02:04.655241Z",
          "iopub.status.idle": "2022-08-23T14:02:04.66948Z",
          "shell.execute_reply.started": "2022-08-23T14:02:04.6552Z",
          "shell.execute_reply": "2022-08-23T14:02:04.667938Z"
        },
        "trusted": true,
        "id": "6kXZmSV0ZMVV"
      },
      "outputs": [],
      "execution_count": null
    },
    {
      "cell_type": "code",
      "source": [
        "# Names of all the pasengers in that class.\n",
        "df_grp4=df.groupby(['Pclass']).agg({'Name':lambda x:', '.join(x)})\n",
        "df_grp4.head()"
      ],
      "metadata": {
        "execution": {
          "iopub.status.busy": "2022-08-23T14:02:04.671174Z",
          "iopub.execute_input": "2022-08-23T14:02:04.671897Z",
          "iopub.status.idle": "2022-08-23T14:02:04.684235Z",
          "shell.execute_reply.started": "2022-08-23T14:02:04.671862Z",
          "shell.execute_reply": "2022-08-23T14:02:04.683013Z"
        },
        "trusted": true,
        "id": "htzcn2njZMVV"
      },
      "outputs": [],
      "execution_count": null
    },
    {
      "cell_type": "code",
      "source": [
        "df.head()"
      ],
      "metadata": {
        "execution": {
          "iopub.status.busy": "2022-08-23T14:02:04.685385Z",
          "iopub.execute_input": "2022-08-23T14:02:04.685835Z",
          "iopub.status.idle": "2022-08-23T14:02:04.711424Z",
          "shell.execute_reply.started": "2022-08-23T14:02:04.6858Z",
          "shell.execute_reply": "2022-08-23T14:02:04.710146Z"
        },
        "trusted": true,
        "id": "HhS_4zPgZMVV"
      },
      "outputs": [],
      "execution_count": null
    },
    {
      "cell_type": "markdown",
      "source": [
        "##### Note one thing that we can use multile agg functions on a single attribute by providing list in value part."
      ],
      "metadata": {
        "id": "eKBZZ6SAZMVV"
      }
    },
    {
      "cell_type": "code",
      "source": [
        "df_grp5=df.groupby(['Pclass']).agg({'Age':['max','min']})\n",
        "df_grp5.head() # Creates a MultiOndex Dataframe"
      ],
      "metadata": {
        "execution": {
          "iopub.status.busy": "2022-08-23T14:02:04.712794Z",
          "iopub.execute_input": "2022-08-23T14:02:04.713664Z",
          "iopub.status.idle": "2022-08-23T14:02:04.734773Z",
          "shell.execute_reply.started": "2022-08-23T14:02:04.713611Z",
          "shell.execute_reply": "2022-08-23T14:02:04.733886Z"
        },
        "trusted": true,
        "id": "YcZBnPFHZMVV"
      },
      "outputs": [],
      "execution_count": null
    },
    {
      "cell_type": "code",
      "source": [],
      "metadata": {
        "id": "XMPw2ye2ZMVV"
      },
      "outputs": [],
      "execution_count": null
    },
    {
      "cell_type": "markdown",
      "source": [
        "## Bonus: Iterating over rows in dataframe"
      ],
      "metadata": {
        "id": "FmH9F346ZMVV"
      }
    },
    {
      "cell_type": "code",
      "source": [
        "df.head()"
      ],
      "metadata": {
        "execution": {
          "iopub.status.busy": "2022-08-23T14:02:04.736018Z",
          "iopub.execute_input": "2022-08-23T14:02:04.736588Z",
          "iopub.status.idle": "2022-08-23T14:02:04.75551Z",
          "shell.execute_reply.started": "2022-08-23T14:02:04.736553Z",
          "shell.execute_reply": "2022-08-23T14:02:04.754422Z"
        },
        "trusted": true,
        "id": "JJS3hS_-ZMVV"
      },
      "outputs": [],
      "execution_count": null
    },
    {
      "cell_type": "code",
      "source": [
        "for index,row in df.iterrows():\n",
        "    # do something with row, say:\n",
        "    #print(row)\n",
        "    pass"
      ],
      "metadata": {
        "execution": {
          "iopub.status.busy": "2022-08-23T14:02:04.756789Z",
          "iopub.execute_input": "2022-08-23T14:02:04.757303Z",
          "iopub.status.idle": "2022-08-23T14:02:04.802799Z",
          "shell.execute_reply.started": "2022-08-23T14:02:04.757272Z",
          "shell.execute_reply": "2022-08-23T14:02:04.801719Z"
        },
        "trusted": true,
        "id": "WvRlQkyxZMVW"
      },
      "outputs": [],
      "execution_count": null
    },
    {
      "cell_type": "markdown",
      "source": [
        "##### Ideally for this we can use 'apply' method also as we saw in adding/modifying the column section."
      ],
      "metadata": {
        "execution": {
          "iopub.status.busy": "2022-08-14T13:00:32.809019Z",
          "iopub.execute_input": "2022-08-14T13:00:32.809668Z",
          "iopub.status.idle": "2022-08-14T13:00:32.827407Z",
          "shell.execute_reply.started": "2022-08-14T13:00:32.809631Z",
          "shell.execute_reply": "2022-08-14T13:00:32.826006Z"
        },
        "id": "Lg9PJiVMZMVW"
      }
    },
    {
      "cell_type": "code",
      "source": [],
      "metadata": {
        "id": "LALAXVeqZMVW"
      },
      "outputs": [],
      "execution_count": null
    },
    {
      "cell_type": "code",
      "source": [],
      "metadata": {
        "id": "2FnVV3nAZMVW"
      },
      "outputs": [],
      "execution_count": null
    },
    {
      "cell_type": "markdown",
      "source": [
        "#### Hope you found it useful, and if you did, make sure to drop a 👍.\n",
        "\n",
        "#### Thanks, Bye!"
      ],
      "metadata": {
        "id": "F3yAODpMZMVW"
      }
    },
    {
      "cell_type": "code",
      "source": [],
      "metadata": {
        "id": "H_1-ssfjZMVW"
      },
      "outputs": [],
      "execution_count": null
    },
    {
      "cell_type": "markdown",
      "source": [
        "## Link to other kernels in this series:\n",
        "\n",
        "i. [Numpy: A Complete Guide to Numpy](https://www.kaggle.com/code/rajmehra03/a-complete-guide-to-numpy/) &\n",
        "\n",
        "ii. [Python for DSA interviews.](https://www.kaggle.com/rajmehra03/python-for-dsa-interviews/)"
      ],
      "metadata": {
        "id": "GTNFOKTnZMVW"
      }
    },
    {
      "cell_type": "raw",
      "source": [],
      "metadata": {
        "id": "R0LuUJCrZMVW"
      }
    },
    {
      "cell_type": "markdown",
      "source": [
        "## Rough"
      ],
      "metadata": {
        "id": "GUJ3r4mfZMVW"
      }
    },
    {
      "cell_type": "code",
      "source": [
        "arr1=np.random.randint(100,size=(100,1))\n",
        "arr2=np.random.randint(100,size=(100))\n",
        "arr1"
      ],
      "metadata": {
        "execution": {
          "iopub.status.busy": "2022-08-23T14:02:04.804146Z",
          "iopub.execute_input": "2022-08-23T14:02:04.804684Z",
          "iopub.status.idle": "2022-08-23T14:02:04.813827Z",
          "shell.execute_reply.started": "2022-08-23T14:02:04.804652Z",
          "shell.execute_reply": "2022-08-23T14:02:04.81239Z"
        },
        "trusted": true,
        "id": "wi-GHx-wZMVW"
      },
      "outputs": [],
      "execution_count": null
    },
    {
      "cell_type": "code",
      "source": [
        "arr2"
      ],
      "metadata": {
        "execution": {
          "iopub.status.busy": "2022-08-23T14:02:04.815758Z",
          "iopub.execute_input": "2022-08-23T14:02:04.816224Z",
          "iopub.status.idle": "2022-08-23T14:02:04.82801Z",
          "shell.execute_reply.started": "2022-08-23T14:02:04.816127Z",
          "shell.execute_reply": "2022-08-23T14:02:04.826685Z"
        },
        "trusted": true,
        "id": "dPDoLpMmZMVW"
      },
      "outputs": [],
      "execution_count": null
    },
    {
      "cell_type": "markdown",
      "source": [
        "#### Note the differnce in arr1 and arr2 above !"
      ],
      "metadata": {
        "id": "d8CJKzZjZMVX"
      }
    },
    {
      "cell_type": "code",
      "source": [],
      "metadata": {
        "id": "tU_ys9CbZMVX"
      },
      "outputs": [],
      "execution_count": null
    }
  ]
}